{
  "nbformat": 4,
  "nbformat_minor": 0,
  "metadata": {
    "colab": {
      "name": "Shakespeare_Generator.ipynb",
      "provenance": [],
      "collapsed_sections": [],
      "include_colab_link": true
    },
    "kernelspec": {
      "name": "python3",
      "display_name": "Python 3"
    },
    "accelerator": "GPU"
  },
  "cells": [
    {
      "cell_type": "markdown",
      "metadata": {
        "id": "view-in-github",
        "colab_type": "text"
      },
      "source": [
        "<a href=\"https://colab.research.google.com/github/mimithecoconut/machine-learning-projects-20-21/blob/main/Shakespeare_Generator.ipynb\" target=\"_parent\"><img src=\"https://colab.research.google.com/assets/colab-badge.svg\" alt=\"Open In Colab\"/></a>"
      ]
    },
    {
      "cell_type": "markdown",
      "metadata": {
        "id": "YHs_YM2_kBP5"
      },
      "source": [
        "## Team Smokey Bear\n",
        "Team Members: Hannah Chen, Alexandra Lai, Shenyi Li, Felianne Teng\n"
      ]
    },
    {
      "cell_type": "code",
      "metadata": {
        "id": "K4KPfngtZjhD"
      },
      "source": [
        "import re\n",
        "import random\n",
        "import urllib.request\n",
        "import numpy as np\n",
        "from tensorflow import keras\n",
        "from tensorflow.keras import layers"
      ],
      "execution_count": null,
      "outputs": []
    },
    {
      "cell_type": "markdown",
      "metadata": {
        "id": "1HeD_RBoJnil"
      },
      "source": [
        "We first retrieve the input data from github. "
      ]
    },
    {
      "cell_type": "code",
      "metadata": {
        "id": "tZJkVHbgPOeP"
      },
      "source": [
        "url = \"https://raw.githubusercontent.com/lakigigar/Caltech-CS155-2021/main/projects/project3/data/shakespeare.txt\"\n",
        "url_dict = \"https://raw.githubusercontent.com/lakigigar/Caltech-CS155-2021/main/projects/project3/data/Syllable_dictionary.txt\"\n",
        "url_spenser = \"https://raw.githubusercontent.com/lakigigar/Caltech-CS155-2021/main/projects/project3/data/spenser.txt\"\n",
        "file = urllib.request.urlopen(url)\n",
        "file_spenser = urllib.request.urlopen(url_spenser)\n",
        "file_dict = urllib.request.urlopen(url_dict)"
      ],
      "execution_count": null,
      "outputs": []
    },
    {
      "cell_type": "markdown",
      "metadata": {
        "id": "AdTnm208JzwC"
      },
      "source": [
        "For the Hidden Markov Model, we used the solution code from Problem Set 6. "
      ]
    },
    {
      "cell_type": "code",
      "metadata": {
        "id": "JcBzD5NItpkr"
      },
      "source": [
        "class HiddenMarkovModel:\n",
        "    '''\n",
        "    Class implementation of Hidden Markov Models.\n",
        "    '''\n",
        "\n",
        "    def __init__(self, A, O):\n",
        "        '''\n",
        "        Initializes an HMM. Assumes the following:\n",
        "            - States and observations are integers starting from 0. \n",
        "            - There is a start state (see notes on A_start below). There\n",
        "              is no integer associated with the start state, only\n",
        "              probabilities in the vector A_start.\n",
        "            - There is no end state. \n",
        "        Arguments:\n",
        "            A:          Transition matrix with dimensions L x L.\n",
        "                        The (i, j)^th element is the probability of\n",
        "                        transitioning from state i to state j. Note that\n",
        "                        this does not include the starting probabilities.\n",
        "            O:          Observation matrix with dimensions L x D.\n",
        "                        The (i, j)^th element is the probability of\n",
        "                        emitting observation j given state i.\n",
        "        Parameters:\n",
        "            L:          Number of states.\n",
        "            D:          Number of observations.\n",
        "            \n",
        "            A:          The transition matrix.\n",
        "            \n",
        "            O:          The observation matrix.\n",
        "            \n",
        "            A_start:    Starting transition probabilities. The i^th element\n",
        "                        is the probability of transitioning from the start\n",
        "                        state to state i. For simplicity, we assume that\n",
        "                        this distribution is uniform.\n",
        "        '''\n",
        "\n",
        "        self.L = len(A)\n",
        "        self.D = len(O[0])\n",
        "        self.A = A\n",
        "        self.O = O\n",
        "        self.A_start = [1. / self.L for _ in range(self.L)]\n",
        "\n",
        "\n",
        "    def viterbi(self, x):\n",
        "        '''\n",
        "        Uses the Viterbi algorithm to find the max probability state \n",
        "        sequence corresponding to a given input sequence.\n",
        "        Arguments:\n",
        "            x:          Input sequence in the form of a list of length M,\n",
        "                        consisting of integers ranging from 0 to D - 1.\n",
        "        Returns:\n",
        "            max_seq:    Output sequence corresponding to x with the highest\n",
        "                        probability.\n",
        "        '''\n",
        "\n",
        "        M = len(x)      # Length of sequence.\n",
        "\n",
        "        # The (i, j)^th elements of probs and seqs are the max probability\n",
        "        # of the prefix of length i ending in state j and the prefix\n",
        "        # that gives this probability, respectively.\n",
        "        #\n",
        "        # For instance, probs[1][0] is the probability of the prefix of\n",
        "        # length 1 ending in state 0.\n",
        "        probs = [[0. for _ in range(self.L)] for _ in range(M + 1)]\n",
        "        seqs = [['' for _ in range(self.L)] for _ in range(M + 1)]\n",
        "\n",
        "        # Calculate initial prefixes and probabilities.\n",
        "        for curr in range(self.L):\n",
        "            probs[1][curr] = self.A_start[curr] * self.O[curr][x[0]]\n",
        "            seqs[1][curr] = str(curr)\n",
        "\n",
        "        # Calculate best prefixes and probabilities throughout sequence.\n",
        "        for t in range(2, M + 1):\n",
        "            # Iterate over all possible current states.\n",
        "            for curr in range(self.L):\n",
        "                max_prob = float(\"-inf\")\n",
        "                max_prefix = ''\n",
        "\n",
        "                # Iterate over all possible previous states to find one\n",
        "                # that would maximize the probability of the current state.\n",
        "                for prev in range(self.L):\n",
        "                    curr_prob = probs[t - 1][prev] \\\n",
        "                                * self.A[prev][curr] \\\n",
        "                                * self.O[curr][x[t - 1]]\n",
        "\n",
        "                    # Continually update max probability and prefix.\n",
        "                    if curr_prob >= max_prob:\n",
        "                        max_prob = curr_prob\n",
        "                        max_prefix = seqs[t - 1][prev]\n",
        "\n",
        "                # Store the max probability and prefix.\n",
        "                probs[t][curr] = max_prob\n",
        "                seqs[t][curr] = max_prefix + str(curr)\n",
        "\n",
        "        # Find the index of the max probability of a sequence ending in x^M\n",
        "        # and the corresponding output sequence.\n",
        "        max_i = max(enumerate(probs[-1]), key=lambda x: x[1])[0]\n",
        "        max_seq = seqs[-1][max_i]\n",
        "\n",
        "        return max_seq\n",
        "\n",
        "\n",
        "    def forward(self, x, normalize=False):\n",
        "        '''\n",
        "        Uses the forward algorithm to calculate the alpha probability\n",
        "        vectors corresponding to a given input sequence.\n",
        "        Arguments:\n",
        "            x:          Input sequence in the form of a list of length M,\n",
        "                        consisting of integers ranging from 0 to D - 1.\n",
        "            normalize:  Whether to normalize each set of alpha_j(i) vectors\n",
        "                        at each i. This is useful to avoid underflow in\n",
        "                        unsupervised learning.\n",
        "        Returns:\n",
        "            alphas:     Vector of alphas.\n",
        "                        The (i, j)^th element of alphas is alpha_j(i),\n",
        "                        i.e. the probability of observing prefix x^1:i\n",
        "                        and state y^i = j.\n",
        "                        e.g. alphas[1][0] corresponds to the probability\n",
        "                        of observing x^1:1, i.e. the first observation,\n",
        "                        given that y^1 = 0, i.e. the first state is 0.\n",
        "        '''\n",
        "\n",
        "        M = len(x)      # Length of sequence.\n",
        "        alphas = [[0. for _ in range(self.L)] for _ in range(M + 1)]\n",
        "        # print(len(alphas))\n",
        "        # print(len(alphas[0]))\n",
        "        # print(len(self.O))\n",
        "        # print(len(self.O[0]))\n",
        "        # Note that alpha_j(0) is already correct for all j's.\n",
        "        # Calculate alpha_j(1) for all j's.\n",
        "        for curr in range(self.L):\n",
        "            alphas[1][curr] = self.A_start[curr] * self.O[curr][x[0]]\n",
        "\n",
        "        # Calculate alphas throughout sequence.\n",
        "        for t in range(1, M):\n",
        "            # Iterate over all possible current states.\n",
        "            for curr in range(self.L):\n",
        "                prob = 0\n",
        "\n",
        "                # Iterate over all possible previous states to accumulate\n",
        "                # the probabilities of all paths from the start state to\n",
        "                # the current state.\n",
        "                for prev in range(self.L):\n",
        "                    # print(str(t) +\" \" + str(prev) + \" \" + str(curr) + \" \" + str(x[t]))\n",
        "                  \n",
        "                \n",
        "                    prob += alphas[t][prev] \\\n",
        "                            * self.A[prev][curr] \\\n",
        "                            * self.O[curr][x[t]]\n",
        "\n",
        "                # Store the accumulated probability.\n",
        "                alphas[t + 1][curr] = prob\n",
        "\n",
        "            if normalize:\n",
        "                norm = sum(alphas[t + 1])\n",
        "                for curr in range(self.L):\n",
        "                    alphas[t + 1][curr] /= norm\n",
        "\n",
        "        return alphas\n",
        "\n",
        "\n",
        "    def backward(self, x, normalize=False):\n",
        "        '''\n",
        "        Uses the backward algorithm to calculate the beta probability\n",
        "        vectors corresponding to a given input sequence.\n",
        "        Arguments:\n",
        "            x:          Input sequence in the form of a list of length M,\n",
        "                        consisting of integers ranging from 0 to D - 1.\n",
        "            normalize:  Whether to normalize each set of alpha_j(i) vectors\n",
        "                        at each i. This is useful to avoid underflow in\n",
        "                        unsupervised learning.\n",
        "        Returns:\n",
        "            betas:      Vector of betas.\n",
        "                        The (i, j)^th element of betas is beta_j(i), i.e.\n",
        "                        the probability of observing prefix x^(i+1):M and\n",
        "                        state y^i = j.\n",
        "                        e.g. betas[M][0] corresponds to the probability\n",
        "                        of observing x^M+1:M, i.e. no observations,\n",
        "                        given that y^M = 0, i.e. the last state is 0.\n",
        "        '''\n",
        "\n",
        "        M = len(x)      # Length of sequence.\n",
        "        betas = [[0. for _ in range(self.L)] for _ in range(M + 1)]\n",
        "\n",
        "        # Initialize initial betas.\n",
        "        for curr in range(self.L):\n",
        "            betas[-1][curr] = 1\n",
        "\n",
        "        # Calculate betas throughout sequence.\n",
        "        for t in range(-1, -M - 1, -1):\n",
        "            # Iterate over all possible current states.\n",
        "            for curr in range(self.L):\n",
        "                prob = 0\n",
        "\n",
        "                # Iterate over all possible next states to accumulate\n",
        "                # the probabilities of all paths from the end state to\n",
        "                # the current state.\n",
        "                for nxt in range(self.L):\n",
        "                    if t == -M:\n",
        "                        prob += betas[t][nxt] \\\n",
        "                                * self.A_start[nxt] \\\n",
        "                                * self.O[nxt][x[t]]\n",
        "\n",
        "                    else:\n",
        "                        prob += betas[t][nxt] \\\n",
        "                                * self.A[curr][nxt] \\\n",
        "                                * self.O[nxt][x[t]]\n",
        "\n",
        "                # Store the accumulated probability.\n",
        "                betas[t - 1][curr] = prob\n",
        "\n",
        "            if normalize:\n",
        "                norm = sum(betas[t - 1])\n",
        "                for curr in range(self.L):\n",
        "                    betas[t - 1][curr] /= norm\n",
        "\n",
        "        return betas\n",
        "\n",
        "\n",
        "    def supervised_learning(self, X, Y):\n",
        "        '''\n",
        "        Trains the HMM using the Maximum Likelihood closed form solutions\n",
        "        for the transition and observation matrices on a labeled\n",
        "        datset (X, Y). Note that this method does not return anything, but\n",
        "        instead updates the attributes of the HMM object.\n",
        "        Arguments:\n",
        "            X:          A dataset consisting of input sequences in the form\n",
        "                        of lists of variable length, consisting of integers \n",
        "                        ranging from 0 to D - 1. In other words, a list of\n",
        "                        lists.\n",
        "            Y:          A dataset consisting of state sequences in the form\n",
        "                        of lists of variable length, consisting of integers \n",
        "                        ranging from 0 to L - 1. In other words, a list of\n",
        "                        lists.\n",
        "                        Note that the elements in X line up with those in Y.\n",
        "        '''\n",
        "\n",
        "        # Calculate each element of A using the M-step formulas.\n",
        "        for curr in range(self.L):\n",
        "            for nxt in range(self.L):\n",
        "                num = 0.\n",
        "                den = 0.\n",
        "\n",
        "                for i in range(len(X)):\n",
        "                    x = X[i]\n",
        "                    y = Y[i]\n",
        "                    M = len(x)\n",
        "        \n",
        "                    num += len([1 for i in range(M - 1) \\\n",
        "                                if y[i] == curr and y[i + 1] == nxt])\n",
        "                    den += len([1 for i in range(M - 1) if y[i] == curr])\n",
        "\n",
        "                self.A[curr][nxt] = num / den\n",
        "\n",
        "        # Calculate each element of O using the M-step formulas.\n",
        "        for curr in range(self.L):\n",
        "            for xt in range(self.D):\n",
        "                num = 0.\n",
        "                den = 0.\n",
        "\n",
        "                for i in range(len(X)):\n",
        "                    x = X[i]\n",
        "                    y = Y[i]\n",
        "                    M = len(x)\n",
        "        \n",
        "                    num += len([1 for i in range(M) \\\n",
        "                                if y[i] == curr and x[i] == xt])\n",
        "                    den += len([1 for i in range(M) if y[i] == curr])\n",
        "\n",
        "                self.O[curr][xt] = num / den\n",
        "\n",
        "\n",
        "    def unsupervised_learning(self, X, N_iters):\n",
        "        '''\n",
        "        Trains the HMM using the Baum-Welch algorithm on an unlabeled\n",
        "        datset X. Note that this method does not return anything, but\n",
        "        instead updates the attributes of the HMM object.\n",
        "        Arguments:\n",
        "            X:          A dataset consisting of input sequences in the form\n",
        "                        of lists of length M, consisting of integers ranging\n",
        "                        from 0 to D - 1. In other words, a list of lists.\n",
        "            N_iters:    The number of iterations to train on.\n",
        "        '''\n",
        "\n",
        "        # Note that a comment starting with 'E' refers to the fact that\n",
        "        # the code under the comment is part of the E-step.\n",
        "\n",
        "        # Similarly, a comment starting with 'M' refers to the fact that\n",
        "        # the code under the comment is part of the M-step.\n",
        "\n",
        "        for iteration in range(1, N_iters + 1):\n",
        "            if iteration % 10 == 0:\n",
        "                print(\"Iteration: \" + str(iteration))\n",
        "\n",
        "            # Numerator and denominator for the update terms of A and O.\n",
        "            A_num = [[0. for i in range(self.L)] for j in range(self.L)]\n",
        "            O_num = [[0. for i in range(self.D)] for j in range(self.L)]\n",
        "            A_den = [0. for i in range(self.L)]\n",
        "            O_den = [0. for i in range(self.L)]\n",
        "\n",
        "            # For each input sequence:\n",
        "            for x in X:\n",
        "                M = len(x)\n",
        "                # Compute the alpha and beta probability vectors.\n",
        "                alphas = self.forward(x, normalize=True)\n",
        "                betas = self.backward(x, normalize=True)\n",
        "\n",
        "                # E: Update the expected observation probabilities for a\n",
        "                # given (x, y).\n",
        "                # The i^th index is P(y^t = i, x).\n",
        "                for t in range(1, M + 1):\n",
        "                    P_curr = [0. for _ in range(self.L)]\n",
        "                    \n",
        "                    for curr in range(self.L):\n",
        "                        P_curr[curr] = alphas[t][curr] * betas[t][curr]\n",
        "\n",
        "                    # Normalize the probabilities.\n",
        "                    norm = sum(P_curr)\n",
        "                    for curr in range(len(P_curr)):\n",
        "                        P_curr[curr] /= norm\n",
        "\n",
        "                    for curr in range(self.L):\n",
        "                        if t != M:\n",
        "                            A_den[curr] += P_curr[curr]\n",
        "                        O_den[curr] += P_curr[curr]\n",
        "                        O_num[curr][x[t - 1]] += P_curr[curr]\n",
        "\n",
        "                # E: Update the expectedP(y^j = a, y^j+1 = b, x) for given (x, y)\n",
        "                for t in range(1, M):\n",
        "                    P_curr_nxt = [[0. for _ in range(self.L)] for _ in range(self.L)]\n",
        "\n",
        "                    for curr in range(self.L):\n",
        "                        for nxt in range(self.L):\n",
        "                            P_curr_nxt[curr][nxt] = alphas[t][curr] \\\n",
        "                                                    * self.A[curr][nxt] \\\n",
        "                                                    * self.O[nxt][x[t]] \\\n",
        "                                                    * betas[t + 1][nxt]\n",
        "\n",
        "                    # Normalize:\n",
        "                    norm = 0\n",
        "                    for lst in P_curr_nxt:\n",
        "                        norm += sum(lst)\n",
        "                    for curr in range(self.L):\n",
        "                        for nxt in range(self.L):\n",
        "                            P_curr_nxt[curr][nxt] /= norm\n",
        "\n",
        "                    # Update A_num\n",
        "                    for curr in range(self.L):\n",
        "                        for nxt in range(self.L):\n",
        "                            A_num[curr][nxt] += P_curr_nxt[curr][nxt]\n",
        "\n",
        "            for curr in range(self.L):\n",
        "                for nxt in range(self.L):\n",
        "                    self.A[curr][nxt] = A_num[curr][nxt] / A_den[curr]\n",
        "\n",
        "            for curr in range(self.L):\n",
        "                for xt in range(self.D):\n",
        "                    self.O[curr][xt] = O_num[curr][xt] / O_den[curr]\n",
        "\n",
        "    def generate_emission(self, M):\n",
        "        '''\n",
        "        Generates an emission of length M, assuming that the starting state\n",
        "        is chosen uniformly at random. \n",
        "        Arguments:\n",
        "            M:          Length of the emission to generate.\n",
        "        Returns:\n",
        "            emission:   The randomly generated emission as a list.\n",
        "            states:     The randomly generated states as a list.\n",
        "        '''\n",
        "\n",
        "        emission = []\n",
        "        state = random.choice(range(self.L))\n",
        "        states = []\n",
        "\n",
        "        for t in range(M):\n",
        "            # Append state.\n",
        "            states.append(state)\n",
        "\n",
        "            # Sample next observation.\n",
        "            rand_var = random.uniform(0, 1)\n",
        "            next_obs = 0\n",
        "\n",
        "            while rand_var > 0:\n",
        "                rand_var -= self.O[state][next_obs]\n",
        "                next_obs += 1\n",
        "\n",
        "            next_obs -= 1\n",
        "            emission.append(next_obs)\n",
        "\n",
        "            # Sample next state.\n",
        "            rand_var = random.uniform(0, 1)\n",
        "            next_state = 0\n",
        "\n",
        "            while rand_var > 0:\n",
        "                rand_var -= self.A[state][next_state]\n",
        "                next_state += 1\n",
        "\n",
        "            next_state -= 1\n",
        "            state = next_state\n",
        "\n",
        "        return emission, states\n",
        "\n",
        "\n",
        "    def probability_alphas(self, x):\n",
        "        '''\n",
        "        Finds the maximum probability of a given input sequence using\n",
        "        the forward algorithm.\n",
        "        Arguments:\n",
        "            x:          Input sequence in the form of a list of length M,\n",
        "                        consisting of integers ranging from 0 to D - 1.\n",
        "        Returns:\n",
        "            prob:       Total probability that x can occur.\n",
        "        '''\n",
        "\n",
        "        # Calculate alpha vectors.\n",
        "        alphas = self.forward(x)\n",
        "\n",
        "        # alpha_j(M) gives the probability that the output sequence ends\n",
        "        # in j. Summing this value over all possible states j gives the\n",
        "        # total probability of x paired with any output sequence, i.e. the\n",
        "        # probability of x.\n",
        "        prob = sum(alphas[-1])\n",
        "        return prob\n",
        "\n",
        "\n",
        "    def probability_betas(self, x):\n",
        "        '''\n",
        "        Finds the maximum probability of a given input sequence using\n",
        "        the backward algorithm.\n",
        "        Arguments:\n",
        "            x:          Input sequence in the form of a list of length M,\n",
        "                        consisting of integers ranging from 0 to D - 1.\n",
        "        Returns:\n",
        "            prob:       Total probability that x can occur.\n",
        "        '''\n",
        "\n",
        "        betas = self.backward(x)\n",
        "\n",
        "        # beta_j(0) gives the probability of the output sequence. Summing\n",
        "        # this over all states and then normalizing gives the total\n",
        "        # probability of x paired with any output sequence, i.e. the\n",
        "        # probability of x.\n",
        "        prob = sum([betas[1][k] * self.A_start[k] * self.O[k][x[0]] \\\n",
        "            for k in range(self.L)])\n",
        "\n",
        "        return prob\n",
        "\n",
        "\n",
        "def supervised_HMM(X, Y):\n",
        "    '''\n",
        "    Helper function to train a supervised HMM. The function determines the\n",
        "    number of unique states and observations in the given data, initializes\n",
        "    the transition and observation matrices, creates the HMM, and then runs\n",
        "    the training function for supervised learning.\n",
        "    Arguments:\n",
        "        X:          A dataset consisting of input sequences in the form\n",
        "                    of lists of variable length, consisting of integers \n",
        "                    ranging from 0 to D - 1. In other words, a list of lists.\n",
        "        Y:          A dataset consisting of state sequences in the form\n",
        "                    of lists of variable length, consisting of integers \n",
        "                    ranging from 0 to L - 1. In other words, a list of lists.\n",
        "                    Note that the elements in X line up with those in Y.\n",
        "    '''\n",
        "\n",
        "    # Make a set of observations.\n",
        "    observations = set()\n",
        "    for x in X:\n",
        "        observations |= set(x)\n",
        "\n",
        "    # Make a set of states.\n",
        "    states = set()\n",
        "    for y in Y:\n",
        "        states |= set(y)\n",
        "    \n",
        "    # Compute L and D.\n",
        "    L = len(states)\n",
        "    D = len(observations)\n",
        "\n",
        "    # Randomly initialize and normalize matrices A and O.\n",
        "    A = [[random.random() for i in range(L)] for j in range(L)]\n",
        "\n",
        "    for i in range(len(A)):\n",
        "        norm = sum(A[i])\n",
        "        for j in range(len(A[i])):\n",
        "            A[i][j] /= norm\n",
        "    \n",
        "    O = [[random.random() for i in range(D)] for j in range(L)]\n",
        "\n",
        "    for i in range(len(O)):\n",
        "        norm = sum(O[i])\n",
        "        for j in range(len(O[i])):\n",
        "            O[i][j] /= norm\n",
        "\n",
        "    # Train an HMM with labeled data.\n",
        "    HMM = HiddenMarkovModel(A, O)\n",
        "    HMM.supervised_learning(X, Y)\n",
        "\n",
        "    return HMM\n",
        "\n",
        "\n",
        "def unsupervised_HMM(X, n_states, N_iters,rng=np.random.RandomState(1)):\n",
        "    '''\n",
        "    Helper function to train an unsupervised HMM. The function determines the\n",
        "    number of unique observations in the given data, initializes\n",
        "    the transition and observation matrices, creates the HMM, and then runs\n",
        "    the training function for unsupervised learing.\n",
        "    Arguments:\n",
        "        X:          A dataset consisting of input sequences in the form\n",
        "                    of lists of variable length, consisting of integers \n",
        "                    ranging from 0 to D - 1. In other words, a list of lists.\n",
        "        n_states:   Number of hidden states to use in training.\n",
        "        \n",
        "        N_iters:    The number of iterations to train on.\n",
        "        rng:        The random number generator for reproducible result.\n",
        "                    Default to RandomState(1).\n",
        "    '''\n",
        "\n",
        "    # Make a set of observations.\n",
        "    observations = set()\n",
        "    for x in X:\n",
        "        observations |= set(x)\n",
        "    \n",
        "    # Compute L and D.\n",
        "    L = n_states\n",
        "    D = len(observations)\n",
        "\n",
        "    # Randomly initialize and normalize matrices A.\n",
        "    A = [[rng.random() for i in range(L)] for j in range(L)]\n",
        "\n",
        "    for i in range(len(A)):\n",
        "        norm = sum(A[i])\n",
        "        for j in range(len(A[i])):\n",
        "            A[i][j] /= norm\n",
        "    \n",
        "    # Randomly initialize and normalize matrix O.\n",
        "    O = [[rng.random() for i in range(D)] for j in range(L)]\n",
        "\n",
        "    for i in range(len(O)):\n",
        "        norm = sum(O[i])\n",
        "        for j in range(len(O[i])):\n",
        "            O[i][j] /= norm\n",
        "\n",
        "    # Train an HMM with unlabeled data.\n",
        "    HMM = HiddenMarkovModel(A, O)\n",
        "    HMM.unsupervised_learning(X, N_iters)\n",
        "\n",
        "    return HMM"
      ],
      "execution_count": null,
      "outputs": []
    },
    {
      "cell_type": "markdown",
      "metadata": {
        "id": "U1Adl7855rep"
      },
      "source": [
        "## HMM without Rhyme "
      ]
    },
    {
      "cell_type": "markdown",
      "metadata": {
        "id": "GuTwALkVMUfw"
      },
      "source": [
        "We created a dictionary that corresponded each word with the number of syllables in the word. "
      ]
    },
    {
      "cell_type": "code",
      "metadata": {
        "id": "ZFlCedzoeyVd"
      },
      "source": [
        "syllable_dict = {}\n",
        "id_dict = {}\n",
        "for line in file_dict:\n",
        "  line = line.decode(\"utf-8\").strip()\n",
        "  line = line.split(\" \")\n",
        " \n",
        "  # Handle the words with E denotation \n",
        "  if len(line) == 3:\n",
        "    if ('E' in line[1]):\n",
        "      syllable_dict[line[0]] = int(line[2])\n",
        "    else:\n",
        "      syllable_dict[line[0]] = int(line[1])\n",
        "  if len(line) == 2:\n",
        "    syllable_dict[line[0]] = int(line[1])"
      ],
      "execution_count": null,
      "outputs": []
    },
    {
      "cell_type": "code",
      "metadata": {
        "id": "vbt0DTd7f6_v"
      },
      "source": [
        "word_ids = {}\n",
        "ids_lst = []\n",
        "id_count = 0\n",
        "reverse_word_ids = {}"
      ],
      "execution_count": null,
      "outputs": []
    },
    {
      "cell_type": "markdown",
      "metadata": {
        "id": "2wQ3EXh5KBSI"
      },
      "source": [
        "First, we read in the words from Shakespeare's sonnets and pre-processed the data. "
      ]
    },
    {
      "cell_type": "code",
      "metadata": {
        "id": "kDDNRCYsZTuu"
      },
      "source": [
        "for line in file:\n",
        "  line = line.decode(\"utf-8\").strip()\n",
        "  # Ignore the lines that denote the number sonnet\n",
        "  if len(line) > 3:\n",
        "    # Remove all punctuation and convert everything to lowercase\n",
        "    line = re.sub(r\"[^\\w\\d'\\s\\-]+\",'', line).lower()\n",
        "    word_lst = line.split(\" \")\n",
        "    id_lst = []\n",
        "\n",
        "    # Assign IDs to each word \n",
        "    for i in range(len(word_lst)):\n",
        "      word = word_lst[i].lower()\n",
        "      if word not in word_ids:\n",
        "        word_ids[word] = id_count\n",
        "        reverse_word_ids[id_count] = word\n",
        "        id_count += 1\n",
        "      id_lst.append(word_ids[word])\n",
        "    ids_lst.append(id_lst)\n",
        "print(ids_lst)\n",
        "print(word_ids)"
      ],
      "execution_count": null,
      "outputs": []
    },
    {
      "cell_type": "markdown",
      "metadata": {
        "id": "Bj6rN0OKHiKE"
      },
      "source": [
        "We also read in the words found in Spenser's poems and pass them to the HMM. "
      ]
    },
    {
      "cell_type": "code",
      "metadata": {
        "id": "fDcemxX3G2Ip"
      },
      "source": [
        "for line in file_spenser:\n",
        "  line = line.decode(\"utf-8\").strip()\n",
        "  # Ignore the lines that denote the number sonnet\n",
        "  if len(line) > 3:\n",
        "    # Remove all punctuation and convert everything to lowercase\n",
        "    line = re.sub(r\"[^\\w\\d'\\s\\-]+\",'', line).lower()\n",
        "    word_lst = line.split(\" \")\n",
        "    id_lst = []\n",
        "\n",
        "    # Assign IDs to each word \n",
        "    for i in range(len(word_lst)):\n",
        "      word = word_lst[i].lower()\n",
        "      if word not in word_ids:\n",
        "        word_ids[word] = id_count\n",
        "        reverse_word_ids[id_count] = word\n",
        "        id_count += 1\n",
        "      id_lst.append(word_ids[word])\n",
        "    ids_lst.append(id_lst)\n",
        "print(ids_lst)\n",
        "print(word_ids)"
      ],
      "execution_count": null,
      "outputs": []
    },
    {
      "cell_type": "code",
      "metadata": {
        "id": "VNBKzpEXbaSD",
        "colab": {
          "base_uri": "https://localhost:8080/"
        },
        "outputId": "374abbff-70f9-428a-e250-34c82a0df8f4"
      },
      "source": [
        "HMM = unsupervised_HMM(ids_lst, 10, 100)\n",
        "emissions, states = HMM.generate_emission(200)\n"
      ],
      "execution_count": null,
      "outputs": [
        {
          "output_type": "stream",
          "text": [
            "Iteration: 10\n",
            "Iteration: 20\n",
            "Iteration: 30\n",
            "Iteration: 40\n",
            "Iteration: 50\n",
            "Iteration: 60\n",
            "Iteration: 70\n",
            "Iteration: 80\n",
            "Iteration: 90\n",
            "Iteration: 100\n"
          ],
          "name": "stdout"
        }
      ]
    },
    {
      "cell_type": "code",
      "metadata": {
        "id": "hQxrLO8duvRT",
        "colab": {
          "base_uri": "https://localhost:8080/"
        },
        "outputId": "558db4a7-e1b5-48ff-8cc4-5e3c86a76427"
      },
      "source": [
        "# print(HMM.generate_emission(10))\n",
        "\n",
        "line_count = 10\n",
        "line_string = \"\"\n",
        "num_lines = 0\n",
        "capitalize_words = [\"i\", \"o\"]\n",
        "for e in emissions: \n",
        "  word = reverse_word_ids[e]\n",
        "  if word in syllable_dict:\n",
        "    syllable = syllable_dict[word]\n",
        "    if word in capitalize_words:\n",
        "      word =word.capitalize()\n",
        "    if line_count - syllable == 0:\n",
        "      line_string += word\n",
        "      num_lines += 1\n",
        "      if (num_lines % 4 == 0 or num_lines == 14): \n",
        "        print(line_string + \".\" )\n",
        "        print()\n",
        "      else:\n",
        "        print(line_string + \",\")\n",
        "      line_string = \"\"\n",
        "      line_count = 10\n",
        "    elif line_count - syllable > 0:\n",
        "      if line_count == 10:\n",
        "        word = word.capitalize()\n",
        "      line_count -= syllable\n",
        "      line_string += word + \" \"\n",
        "      # print(line_string)\n",
        "    \n",
        "  if num_lines == 14:\n",
        "    break\n",
        "   \n",
        "  \n",
        "\n"
      ],
      "execution_count": null,
      "outputs": [
        {
          "output_type": "stream",
          "text": [
            "Me and can do thy rest and so not like,\n",
            "Respects endure my one or know which head,\n",
            "Doth his mak'st babe my meditation thy,\n",
            "Him do thou thou was term for delayed the.\n",
            "\n",
            "Horse one summer's and quicker was that own,\n",
            "Fire do that self since motion great progress,\n",
            "Can my the to to of are none love thou,\n",
            "Thy thunder her in canst beshrew subsist.\n",
            "\n",
            "Will triumph appeal praise young thy show make,\n",
            "Wing love was a self rearward doth your a,\n",
            "Glass greater beauty wit one my self-loving,\n",
            "No to most of I unrespected is.\n",
            "\n",
            "Thy soft evil then her not and in the,\n",
            "Up straight to my censures tresses the a.\n",
            "\n"
          ],
          "name": "stdout"
        }
      ]
    },
    {
      "cell_type": "markdown",
      "metadata": {
        "id": "MneW4k8U5kXm"
      },
      "source": [
        "## HMM with Rhyme"
      ]
    },
    {
      "cell_type": "code",
      "metadata": {
        "id": "je53IRTovjvX"
      },
      "source": [
        "sonnets = []\n",
        "sonnet = []\n",
        "file = urllib.request.urlopen(url)  \n",
        "for line in file:\n",
        "  line = line.decode(\"utf-8\").strip()\n",
        "  line = re.sub(r\"[^\\w\\d'\\s\\-]+\",'', line).lower()\n",
        "  if len(line) <= 3:\n",
        "    if len(sonnet) == 14:\n",
        "      sonnets.append(sonnet)\n",
        "    sonnet = []\n",
        "    continue\n",
        "  sonnet.append(line)\n",
        "print(sonnets)"
      ],
      "execution_count": null,
      "outputs": []
    },
    {
      "cell_type": "markdown",
      "metadata": {
        "id": "wfygxJB4N8TT"
      },
      "source": [
        "We create a function add_rhyming that takes in two words, first and second, and by default, found_set = None. The function adds two words to a set in the rhyming dictionary and creates a new set if necessary. "
      ]
    },
    {
      "cell_type": "code",
      "metadata": {
        "id": "2XOz_3Vyvrx_"
      },
      "source": [
        "rhyming_dict = []\n",
        "def add_rhyming(first, second, found_set):\n",
        "  for rhyming_set in rhyming_dict:\n",
        "    if first in rhyming_set:\n",
        "      if found_set == None:\n",
        "        rhyming_set.add(second)\n",
        "        found_set = rhyming_set\n",
        "      else:\n",
        "        rhyming_dict.remove(rhyming_set)\n",
        "        found_set.update(rhyming_set)\n",
        "        break\n",
        "    elif second in rhyming_set:\n",
        "      if found_set == None:\n",
        "        rhyming_set.add(first)\n",
        "        found_set = rhyming_set\n",
        "      else:\n",
        "        rhyming_dict.remove(rhyming_set)\n",
        "        found_set.update(rhyming_set)\n",
        "        break\n",
        "  if found_set == None:\n",
        "    rhyming_dict.append({first, second})"
      ],
      "execution_count": null,
      "outputs": []
    },
    {
      "cell_type": "markdown",
      "metadata": {
        "id": "j9VxDC6NbAiW"
      },
      "source": [
        "The first_lines array contains the lines of the sonnet that have a corresponding rhyming line after. We remove sets in the rhyming dictionary that have only 1 rhyming element (i.e. the word does not have a word that rhymes with it). "
      ]
    },
    {
      "cell_type": "code",
      "metadata": {
        "id": "BeaCQPz6vvmI"
      },
      "source": [
        "first_lines = [0, 1, 4, 5, 8, 9]\n",
        "for sonnet in sonnets:\n",
        "  for i in first_lines:\n",
        "    first = sonnet[i].split(\" \")[-1]\n",
        "    second = sonnet[i + 2].split(\" \")[-1]\n",
        "    add_rhyming(first, second, None)\n",
        "  add_rhyming(sonnet[12].split(\" \")[-1], sonnet[13].split(\" \")[-1], None)\n",
        "\n",
        "for rhyming_set in rhyming_dict:\n",
        "  if len(rhyming_set) == 1:\n",
        "    rhyming_dict.remove(rhyming_set)\n",
        "\n",
        "for word in rhyming_dict[0].copy():\n",
        "    if len(word) == 1:\n",
        "      rhyming_dict[0].remove(word)\n",
        "\n"
      ],
      "execution_count": null,
      "outputs": []
    },
    {
      "cell_type": "markdown",
      "metadata": {
        "id": "iN2PGX1-blVn"
      },
      "source": [
        "We also have some helper functions for generating the rhyming scheme. generate_rhyming_word takes in a word and a line of the poem, and modifies the last word of the line to rhyme with the provided word. has_rhyming_word checks if the word is in the rhyming dictionary. update_rhyming_word takes in the last_word and modifies the last word if the last word is not initially in the rhyming dictionary."
      ]
    },
    {
      "cell_type": "code",
      "metadata": {
        "id": "LDsa1X1NvzMU"
      },
      "source": [
        "# rhyming helper functions\n",
        "\n",
        "def generate_rhyming_word(word, line_string):\n",
        "  line_string_split = line_string.split(\" \")\n",
        "  for rhyming_set in rhyming_dict:\n",
        "    result = word\n",
        "    if word in rhyming_set:\n",
        "      while (result == word):\n",
        "        result = random.choice(tuple(rhyming_set))\n",
        "      line_string_split[-1] = result\n",
        "      # print(line_string_split)\n",
        "      return ' '.join(word for word in line_string_split)\n",
        "\n",
        "def has_rhyming_word(word):\n",
        "  for rhyming_set in rhyming_dict:\n",
        "    if word in rhyming_set:\n",
        "      return True\n",
        "  return False\n",
        "\n",
        "def update_last_word(line_string):\n",
        "  line_string_split = line_string.split(\" \")\n",
        "  rhyming_set = random.choice(rhyming_dict)\n",
        "  rhyming_word = random.choice(tuple(rhyming_set))\n",
        "  line_string_split[-1] = rhyming_word\n",
        "  return ' '.join(word for word in line_string_split)"
      ],
      "execution_count": null,
      "outputs": []
    },
    {
      "cell_type": "code",
      "metadata": {
        "id": "wMhBJq_lwebm"
      },
      "source": [
        "emissions, states = HMM.generate_emission(200)"
      ],
      "execution_count": null,
      "outputs": []
    },
    {
      "cell_type": "code",
      "metadata": {
        "colab": {
          "base_uri": "https://localhost:8080/"
        },
        "id": "rc21uVnWwI_P",
        "outputId": "18cbea22-c46f-4532-b7f4-ca9367b8553a"
      },
      "source": [
        "# generate poem with rhyme\n",
        "\n",
        "last_words = []\n",
        "line_count = 10\n",
        "line_string = \"\"\n",
        "num_lines = 0\n",
        "capitalize_words = [\"i\", \"o\"]\n",
        "for e in emissions: \n",
        "  word = reverse_word_ids[e]\n",
        "  if word in syllable_dict:\n",
        "    syllable = syllable_dict[word]\n",
        "    if word in capitalize_words:\n",
        "      word =word.capitalize()\n",
        "    if line_count - syllable == 0:\n",
        "      line_string += word\n",
        "      num_lines += 1\n",
        "      if (num_lines % 4 == 0 or num_lines == 14): \n",
        "        if num_lines % 4 == 0:\n",
        "          line_string = generate_rhyming_word(last_words[-2], line_string)\n",
        "        if num_lines == 14:\n",
        "          line_string = generate_rhyming_word(last_words[-1], line_string)\n",
        "        print(line_string + \".\" )\n",
        "        print()\n",
        "        last_words.append(line_string.split(\" \")[-1])\n",
        "      else:\n",
        "        # print(num_lines)\n",
        "        if num_lines % 4 != 3:\n",
        "          if not has_rhyming_word(line_string.split(\" \")[-1]):\n",
        "            line_string = update_last_word(line_string)\n",
        "        if num_lines % 4 == 3:\n",
        "          line_string = generate_rhyming_word(last_words[-2], line_string)\n",
        "        # print(num_lines)\n",
        "        print(line_string + \",\")\n",
        "        last_words.append(line_string.split(\" \")[-1])\n",
        "      line_string = \"\"\n",
        "      line_count = 10\n",
        "    elif line_count - syllable > 0:\n",
        "      if line_count == 10:\n",
        "        word = word.capitalize()\n",
        "      line_count -= syllable\n",
        "      line_string += word + \" \"\n",
        "      # print(line_string)\n",
        "    \n",
        "  if num_lines == 14:\n",
        "    break\n",
        "\n"
      ],
      "execution_count": null,
      "outputs": [
        {
          "output_type": "stream",
          "text": [
            "And divine the gently in set the prime,\n",
            "Course heavy mourners your thee and is write,\n",
            "The welcome thee and day can which wrong time,\n",
            "Fire pluck hanging know is I by fight.\n",
            "\n",
            "With because part thy rest of increase extreme,\n",
            "Must my glory worth not be son and by,\n",
            "Then releasing thy sins to her face dream,\n",
            "We yet hath pride love's may would batt'ring die.\n",
            "\n",
            "Attaint with sour thoughts for my memory,\n",
            "The mine own for her nor so doth his bright,\n",
            "Mark plead with resemble I with and decree,\n",
            "Looks in frame own is bereft that you write.\n",
            "\n",
            "More thee vile other wilt should the stars more,\n",
            "Queen 'greeing complain annoy lord shore.\n",
            "\n"
          ],
          "name": "stdout"
        }
      ]
    },
    {
      "cell_type": "markdown",
      "metadata": {
        "id": "kw7ml_DzA3iK"
      },
      "source": [
        "## Haiku"
      ]
    },
    {
      "cell_type": "code",
      "metadata": {
        "id": "BAy4XqSBGTkk"
      },
      "source": [
        "emissions, states = HMM.generate_emission(25)"
      ],
      "execution_count": null,
      "outputs": []
    },
    {
      "cell_type": "code",
      "metadata": {
        "colab": {
          "base_uri": "https://localhost:8080/"
        },
        "id": "D5JVUO0-A2z-",
        "outputId": "1b47243c-bf52-4f15-a37e-b48aadaab51a"
      },
      "source": [
        "# stores the syllable for each line\n",
        "line_counts = [5, 7, 5] \n",
        "line_string = \"\"\n",
        "num_lines = 0\n",
        "capitalize_words = [\"i\", \"o\"]\n",
        "for e in emissions: \n",
        "  word = reverse_word_ids[e]\n",
        "  if word in syllable_dict:\n",
        "    syllable = syllable_dict[word]\n",
        "    if word in capitalize_words:\n",
        "      word =word.capitalize()\n",
        " \n",
        "    if line_counts[num_lines] - syllable == 0:\n",
        "      line_string += word\n",
        "      print(line_string)\n",
        "      print()\n",
        "      num_lines += 1\n",
        "      line_string = \"\"\n",
        "      if num_lines == 2:\n",
        "        line_count = 7\n",
        "      elif num_lines == 3:\n",
        "        line_count = 5\n",
        "    elif line_count - syllable > 0:\n",
        "      num = line_counts[num_lines] - syllable\n",
        "      line_counts[num_lines] = num\n",
        "      line_string += word + \" \"\n",
        "\n",
        "  if num_lines == 3:\n",
        "    break"
      ],
      "execution_count": null,
      "outputs": [
        {
          "output_type": "stream",
          "text": [
            "life when not king hast\n",
            "\n",
            "when play nor bosom devised\n",
            "\n",
            "decayed the saint by\n",
            "\n"
          ],
          "name": "stdout"
        }
      ]
    },
    {
      "cell_type": "markdown",
      "metadata": {
        "id": "FZ-lct_GGAXy"
      },
      "source": [
        "## Petrarchan Sonnet "
      ]
    },
    {
      "cell_type": "code",
      "metadata": {
        "id": "zCXTy5FVGX-V"
      },
      "source": [
        "emissions, states = HMM.generate_emission(1000)"
      ],
      "execution_count": null,
      "outputs": []
    },
    {
      "cell_type": "code",
      "metadata": {
        "id": "5T0nIbXfQPgi"
      },
      "source": [
        "# check to see that word has at least 4 rhyming words\n",
        "def has_rhyming_word_4(word):\n",
        "  for rhyming_set in rhyming_dict:\n",
        "    if word in rhyming_set and len(rhyming_set) >= 4:\n",
        "      return True\n",
        "  return False"
      ],
      "execution_count": null,
      "outputs": []
    },
    {
      "cell_type": "code",
      "metadata": {
        "id": "_122-maDFlu0",
        "colab": {
          "base_uri": "https://localhost:8080/"
        },
        "outputId": "3e19ae1b-2ba5-45e3-eb55-f36779cd1685"
      },
      "source": [
        "last_words = []\n",
        "line_count = 10\n",
        "# store the line numbers for the rhymes \n",
        "a_lines = [4, 5, 8]\n",
        "b_lines = [3, 6, 7]\n",
        "c_lines = [11, 13]\n",
        "d_lines = [12, 14]\n",
        "line_string = \"\"\n",
        "num_lines = 0\n",
        "capitalize_words = [\"i\", \"o\"]\n",
        "for e in emissions: \n",
        "  word = reverse_word_ids[e]\n",
        "  # make sure word has corresponding syllable and at least 4 rhyming words \n",
        "  if word in syllable_dict and has_rhyming_word_4(word):\n",
        "    syllable = syllable_dict[word]\n",
        "    if word in capitalize_words:\n",
        "      word =word.capitalize()\n",
        "    if line_count - syllable == 0:\n",
        "      line_string += word\n",
        "      num_lines += 1\n",
        "      if num_lines in a_lines:\n",
        "          line_string = generate_rhyming_word(last_words[0], line_string)\n",
        "      if num_lines in b_lines:\n",
        "        line_string = generate_rhyming_word(last_words[1], line_string)\n",
        "      if num_lines in c_lines:\n",
        "        line_string = generate_rhyming_word(last_words[2], line_string)\n",
        "      if num_lines in d_lines:\n",
        "        line_string = generate_rhyming_word(last_words[3], line_string)\n",
        "      if (num_lines % 4 == 0 or num_lines == 14): \n",
        "        print(line_string + \".\")\n",
        "        if (num_lines % 8 == 0):\n",
        "          print()\n",
        "      else:\n",
        "        print(line_string + \",\")\n",
        "      if (num_lines == 1 or num_lines == 2 or num_lines == 9 or num_lines == 10):\n",
        "        last_words.append(line_string.split(\" \")[-1])\n",
        "      line_string = \"\"\n",
        "      line_count = 10\n",
        "    elif line_count - syllable > 0:\n",
        "      if line_count == 10:\n",
        "        word = word.capitalize()\n",
        "      line_count -= syllable\n",
        "      line_string += word + \" \"\n",
        "    \n",
        "  if num_lines == 14:\n",
        "    break"
      ],
      "execution_count": null,
      "outputs": [
        {
          "output_type": "stream",
          "text": [
            "Fair thee light will are sing lost age it thee,\n",
            "Upon see fight I by away fair by,\n",
            "It one fiend day by knife why love it lie,\n",
            "It pain it true prove are eyes bright lost fortify.\n",
            "Me I made upon upon shame love majesty,\n",
            "Best time say love thine ye show his love idolatry,\n",
            "Were everywhere it is bold last are alchemy,\n",
            "Bide sight love I me art go case me i.\n",
            "\n",
            "Me be see prove is I rent I days not,\n",
            "Day hold crime is by find time is his thee,\n",
            "Part pen no guest this fight say fair fire forgot,\n",
            "Book make you appear I on leisure free.\n",
            "Again fly me will friend due gay rare plot,\n",
            "Pain look wide make pen then those I on why.\n"
          ],
          "name": "stdout"
        }
      ]
    },
    {
      "cell_type": "markdown",
      "metadata": {
        "id": "RuGEMViCcuoi"
      },
      "source": [
        "## Limerick"
      ]
    },
    {
      "cell_type": "code",
      "metadata": {
        "id": "dPhJRU57cuEK"
      },
      "source": [
        "rhyming_dict2 = rhyming_dict.copy()\n",
        "for rhyming_set in rhyming_dict2.copy():\n",
        "  if len(rhyming_set) == 2:\n",
        "    rhyming_dict2.remove(rhyming_set)"
      ],
      "execution_count": null,
      "outputs": []
    },
    {
      "cell_type": "code",
      "metadata": {
        "id": "58n80caTc9L9"
      },
      "source": [
        "# modified rhyming helper functions\n",
        "def generate_rhyming_word2(word1, word2, line_string):\n",
        "  line_string_split = line_string.split(\" \")\n",
        "  for rhyming_set in rhyming_dict2:\n",
        "    result = word1\n",
        "    if word1 in rhyming_set:\n",
        "      while (result == word1 or result == word2):\n",
        "        result = random.choice(tuple(rhyming_set))\n",
        "      line_string_split[-1] = result\n",
        "      # print(line_string_split)\n",
        "      return ' '.join(word for word in line_string_split)\n",
        "\n",
        "def has_rhyming_word2(word):\n",
        "  for rhyming_set in rhyming_dict2:\n",
        "    if word in rhyming_set:\n",
        "      return True\n",
        "  return False\n",
        "\n",
        "def update_last_word2(line_string):\n",
        "  line_string_split = line_string.split(\" \")\n",
        "  rhyming_set = random.choice(rhyming_dict2)\n",
        "  rhyming_word = random.choice(tuple(rhyming_set))\n",
        "  line_string_split[-1] = rhyming_word\n",
        "  return ' '.join(word for word in line_string_split)"
      ],
      "execution_count": null,
      "outputs": []
    },
    {
      "cell_type": "code",
      "metadata": {
        "colab": {
          "base_uri": "https://localhost:8080/"
        },
        "id": "Shkyxe4Hc9e6",
        "outputId": "5f16c745-e078-411e-879d-196511d99f1a"
      },
      "source": [
        "# HMM = unsupervised_HMM(ids_lst, 10, 50)"
      ],
      "execution_count": null,
      "outputs": [
        {
          "output_type": "stream",
          "text": [
            "Iteration: 10\n",
            "Iteration: 20\n",
            "Iteration: 30\n",
            "Iteration: 40\n",
            "Iteration: 50\n"
          ],
          "name": "stdout"
        }
      ]
    },
    {
      "cell_type": "code",
      "metadata": {
        "colab": {
          "base_uri": "https://localhost:8080/"
        },
        "id": "SM-G32uLc9wk",
        "outputId": "872f4573-78d2-41b8-bb7c-3cc2cad52d4d"
      },
      "source": [
        "last_words = []\n",
        "line_count = 10\n",
        "line_string = \"\"\n",
        "num_lines = 0\n",
        "capitalize_words = [\"i\", \"o\"]\n",
        "for e in emissions: \n",
        "  word = reverse_word_ids[e]\n",
        "  if word in syllable_dict:\n",
        "    syllable = syllable_dict[word]\n",
        "    if word in capitalize_words:\n",
        "      word =word.capitalize()\n",
        "    if line_count - syllable == 0:\n",
        "      line_string += word\n",
        "      num_lines += 1\n",
        "      if (num_lines == 5 or num_lines == 2): \n",
        "        if num_lines == 2:\n",
        "          line_string = generate_rhyming_word(last_words[0], line_string)\n",
        "        if num_lines == 5:\n",
        "          line_string = generate_rhyming_word2(last_words[0], last_words[1], line_string)\n",
        "        print(line_string + \".\" )\n",
        "        print()\n",
        "        last_words.append(line_string.split(\" \")[-1])\n",
        "      else:\n",
        "        # print(num_lines)\n",
        "        if num_lines == 1 or num_lines == 3:\n",
        "          if not has_rhyming_word2(line_string.split(\" \")[-1]):\n",
        "            line_string = update_last_word2(line_string)\n",
        "        if num_lines == 4:\n",
        "          line_string = generate_rhyming_word(last_words[-1], line_string)\n",
        "        # print(num_lines)\n",
        "        print(line_string + \",\")\n",
        "        last_words.append(line_string.split(\" \")[-1])\n",
        "      line_string = \"\"\n",
        "      line_count = 10\n",
        "    elif line_count - syllable > 0:\n",
        "      if line_count == 10:\n",
        "        word = word.capitalize()\n",
        "      line_count -= syllable\n",
        "      line_string += word + \" \"\n",
        "      # print(line_string)\n",
        "    \n",
        "  if num_lines == 5:\n",
        "    break"
      ],
      "execution_count": null,
      "outputs": [
        {
          "output_type": "stream",
          "text": [
            "Doth my dearest fair in things female none,\n",
            "The slave than soon as their physic of on.\n",
            "\n",
            "Light all of we golden will with and brow,\n",
            "Cruel are and sing at thy constant mow,\n",
            "Of lost my devised of to sweet age stone.\n",
            "\n"
          ],
          "name": "stdout"
        }
      ]
    },
    {
      "cell_type": "markdown",
      "metadata": {
        "id": "n7QM58T8fI3l"
      },
      "source": [
        "## Recurrent Neural Network\n",
        "\n"
      ]
    },
    {
      "cell_type": "markdown",
      "metadata": {
        "id": "E96-M79hfqqw"
      },
      "source": [
        "Here, we divide the training data into sequences of length 40. "
      ]
    },
    {
      "cell_type": "code",
      "metadata": {
        "id": "7j93QsflfUOu"
      },
      "source": [
        "file = urllib.request.urlopen(url)\n",
        "sequences = []\n",
        "next_char = []\n",
        "seq_len = 40\n",
        "text_block = \"\"\n",
        "\n",
        "# Concatenate lines of file into one string\n",
        "for line in file: \n",
        "  line = line.decode(\"utf-8\").strip().lower()\n",
        "  if len(line) > 3:\n",
        "    text_block += line + \"\\n\"\n",
        "\n",
        "# Divides string into sequences of length seq_len\n",
        "for ind in range(0, len(text_block) - seq_len):\n",
        "  sequences.append(text_block[ind:ind+seq_len])\n",
        "  next_char.append(text_block[ind+seq_len])"
      ],
      "execution_count": null,
      "outputs": []
    },
    {
      "cell_type": "markdown",
      "metadata": {
        "id": "jH2_cI4mhlRq"
      },
      "source": [
        "Next, we assign each unique character present in the dataset an ID, which corresponds to the index of the character in the prediction numpy array. We process each sequence such that the neural network is able to train on it. Each sequence is converted to a numpy array that has indices corresponding to the character indices. Each of these indices contains the frequency of the character in the sequence."
      ]
    },
    {
      "cell_type": "code",
      "metadata": {
        "id": "sZ5RwoECfY7L"
      },
      "source": [
        "# Finds unique characters present in data \n",
        "characters = set()\n",
        "for seq in sequences:\n",
        "    characters |= set(seq)\n",
        "characters = sorted(list(characters))\n",
        "char_id = {}\n",
        "id = 0\n",
        "\n",
        "# Assign each character an id\n",
        "for c in characters: \n",
        "  char_id[c] = id\n",
        "  id += 1\n",
        "rev_char_id = {}\n",
        "for key in char_id: \n",
        "  rev_char_id[char_id[key]] = key\n",
        "\n",
        "# Converts the character sequences into numpy array\n",
        "x = np.zeros((len(sequences), 40, len(characters)))\n",
        "y = np.zeros((len(sequences), len(characters)))\n",
        "for i in range(len(sequences)):\n",
        "  seq = sequences[i]\n",
        "  for j in range(len(sequences[i])):\n",
        "    x[i, j, char_id[seq[j]]] += 1\n",
        "  y[i, char_id[next_char[i]]] += 1"
      ],
      "execution_count": null,
      "outputs": []
    },
    {
      "cell_type": "markdown",
      "metadata": {
        "id": "7JrGsN6Vh9kS"
      },
      "source": [
        "For the neural network model, we use a single LSTM layer with 200 units followed by a Softmax output layer. We use categorical cross entropy to measure loss. The model is trained over 20 epochs with a batch size of 128. "
      ]
    },
    {
      "cell_type": "code",
      "metadata": {
        "id": "xNqJFAtdfbeV"
      },
      "source": [
        "# Sets up the model\n",
        "model = keras.Sequential(\n",
        "    [\n",
        "        keras.Input(shape=(seq_len, len(characters))),\n",
        "        layers.LSTM(200),\n",
        "        layers.Dense(len(characters), activation=\"softmax\"),\n",
        "    ]\n",
        ")\n",
        "optimizer = keras.optimizers.RMSprop(learning_rate=0.01)\n",
        "model.compile(loss=\"categorical_crossentropy\", optimizer=optimizer)"
      ],
      "execution_count": null,
      "outputs": []
    },
    {
      "cell_type": "code",
      "metadata": {
        "colab": {
          "base_uri": "https://localhost:8080/"
        },
        "id": "OyxtRPCEfdoi",
        "outputId": "66eb5d84-1e7b-4258-f3a3-36de67471ad7"
      },
      "source": [
        "# Trains the model\n",
        "epochs = 20\n",
        "batch_size = 128\n",
        "\n",
        "for epoch in range(epochs):\n",
        "    model.fit(x, y, batch_size=batch_size, epochs=1)"
      ],
      "execution_count": null,
      "outputs": [
        {
          "output_type": "stream",
          "text": [
            "732/732 [==============================] - 8s 6ms/step - loss: 2.4182\n",
            "732/732 [==============================] - 5s 6ms/step - loss: 1.6184\n",
            "732/732 [==============================] - 5s 6ms/step - loss: 1.4977\n",
            "732/732 [==============================] - 4s 6ms/step - loss: 1.4227\n",
            "732/732 [==============================] - 4s 6ms/step - loss: 1.3696\n",
            "732/732 [==============================] - 4s 6ms/step - loss: 1.3257\n",
            "732/732 [==============================] - 5s 6ms/step - loss: 1.2941\n",
            "732/732 [==============================] - 4s 6ms/step - loss: 1.2641\n",
            "732/732 [==============================] - 5s 7ms/step - loss: 1.2386\n",
            "732/732 [==============================] - 5s 6ms/step - loss: 1.2157\n",
            "732/732 [==============================] - 5s 6ms/step - loss: 1.1989\n",
            "732/732 [==============================] - 4s 6ms/step - loss: 1.1821\n",
            "732/732 [==============================] - 5s 6ms/step - loss: 1.1693\n",
            "732/732 [==============================] - 5s 6ms/step - loss: 1.1534\n",
            "732/732 [==============================] - 5s 6ms/step - loss: 1.1412\n",
            "732/732 [==============================] - 5s 6ms/step - loss: 1.1295\n",
            "732/732 [==============================] - 5s 6ms/step - loss: 1.1155\n",
            "732/732 [==============================] - 5s 6ms/step - loss: 1.1040\n",
            "732/732 [==============================] - 5s 6ms/step - loss: 1.0929\n",
            "732/732 [==============================] - 5s 6ms/step - loss: 1.0825\n"
          ],
          "name": "stdout"
        }
      ]
    },
    {
      "cell_type": "markdown",
      "metadata": {
        "id": "FS2ohKKhi21U"
      },
      "source": [
        "The following functions are used to generate a sonnet. The `sample` function takes in the temperature to control the variance of the prediction. The `generate_sonnet_nn` function uses the trained model to produce a poem with the given number of lines. The `format_sonnet` function takes in the sequence generated by `generate_sonnet_nn` and returns a formatted version of it, by adding proper spacing and capitalization."
      ]
    },
    {
      "cell_type": "code",
      "metadata": {
        "id": "4YPW_qyafgtb"
      },
      "source": [
        "def sample(preds, temperature=1.0):\n",
        "    # helper function to sample an index from a probability array \n",
        "    # source: https://keras.io/examples/generative/lstm_character_level_text_generation/\n",
        "    preds = np.asarray(preds).astype(\"float64\")\n",
        "    preds = np.log(preds) / temperature\n",
        "    exp_preds = np.exp(preds)\n",
        "    preds = exp_preds / np.sum(exp_preds)\n",
        "    probas = np.random.multinomial(1, preds, 1)\n",
        "    return np.argmax(probas)"
      ],
      "execution_count": null,
      "outputs": []
    },
    {
      "cell_type": "code",
      "metadata": {
        "id": "Dqdz5hbhfjMJ"
      },
      "source": [
        "def generate_sonnet_nn(seed, temp, num_lines):\n",
        "  n_seed = seed[:]\n",
        "  generated = \"\"\n",
        "  curr_lines = 0\n",
        "  while curr_lines < num_lines:\n",
        "      # Converts current seed into prediction array \n",
        "      x_pred = np.zeros((1, 40, len(characters)))\n",
        "      for i in range(len(n_seed)):\n",
        "        x_pred[0, i, char_id[n_seed[i]]] += 1\n",
        "      \n",
        "      # Use model to predict next character in sequence\n",
        "      preds = model.predict(x_pred, verbose=0)[0]\n",
        "      next_index = sample(preds, temp)\n",
        "      next_char = rev_char_id[next_index]\n",
        "\n",
        "      # Increment the number of lines \n",
        "      if next_char == '\\n':\n",
        "        curr_lines += 1\n",
        "\n",
        "      # Update next sequence to use for prediction \n",
        "      n_seed = n_seed[1:] + next_char\n",
        "      generated += next_char\n",
        "  return generated"
      ],
      "execution_count": null,
      "outputs": []
    },
    {
      "cell_type": "code",
      "metadata": {
        "id": "LpDyp7F_flAY"
      },
      "source": [
        "def format_sonnet(seq):\n",
        "  # Divide sequence based on lines\n",
        "  lines = seq.split(\"\\n\")\n",
        "  capitalize_words = [\"i\", \"o\"]\n",
        "  for i in range(len(lines)):\n",
        "    # Capitalize first word in each line\n",
        "    lines[i] = lines[i].capitalize()\n",
        "\n",
        "    # Add spacing between quatrains\n",
        "    if (i + 1) % 4 == 0 or i + 1 == 14:\n",
        "      lines[i] += \"\\n\"\n",
        "\n",
        "    # Divide each line by words\n",
        "    words = lines[i].split(\" \")\n",
        "    for j in range(len(words)):\n",
        "      # Capitalize word if it is in the list of words to capitalize\n",
        "      if words[j] in capitalize_words: \n",
        "        words[j] = words[j].upper()\n",
        "    lines[i] = \" \".join(words)\n",
        "  return \"\\n\".join(lines)"
      ],
      "execution_count": null,
      "outputs": []
    },
    {
      "cell_type": "markdown",
      "metadata": {
        "id": "jls6fRmRkDBJ"
      },
      "source": [
        "The following code prints the generated sonnets for temperature levels of 0.25, 0.75, and 1.5. "
      ]
    },
    {
      "cell_type": "code",
      "metadata": {
        "colab": {
          "base_uri": "https://localhost:8080/"
        },
        "id": "kqWoYIJxfnKM",
        "outputId": "2f688ee3-ddb4-4551-b5a0-468b9cdbe59a"
      },
      "source": [
        "init = \"shall i compare thee to a summer's day?\\n\"\n",
        "for temp in [0.25, 0.75, 1.5]:\n",
        "  print(\"Temperature: \" + str(temp))\n",
        "  seq = generate_sonnet_nn(init, temp, 14)\n",
        "  print(format_sonnet(seq))"
      ],
      "execution_count": null,
      "outputs": [
        {
          "output_type": "stream",
          "text": [
            "Temperature: 0.25\n",
            "Who hath beauty of the world's eye and me,\n",
            "That thou art the bounteous beauty shall bear,\n",
            "And that thou art all thou that the thought,\n",
            "Which have that which it was not beauty best,\n",
            "\n",
            "The book of the dear love that thou art form and thee,\n",
            "And that thou shalt be thy progured thy name:\n",
            "But thou art as the world's field may still,\n",
            "To make him the world's argument the fire,\n",
            "\n",
            "And then the world with thee that which you\n",
            "Doth my heart thou art brightness worth be still,\n",
            "To make him the world with thee that thou dost love,\n",
            "That thou art that shall for the world,\n",
            "\n",
            "And then the strong her thought I see thee,\n",
            "Who heaven thee that thou art that love thee,\n",
            "\n",
            "\n",
            "Temperature: 0.75\n",
            "Or whether shall not thou pride the pain.\n",
            "You or me as a leagh an eansware thence.\n",
            "Then delf remain of contraly,\n",
            "And thou there both randows as his proove,\n",
            "\n",
            "That that live to breeds to mine own still,\n",
            "But that you desired fience of thine, here\n",
            "Where I have I pride, when thou that all see,\n",
            "Nam they did prove thee to thee, that enough thee,\n",
            "\n",
            "I till thy love say say spend'ry kind,\n",
            "The one didrongs with that leaves and sight.\n",
            "My self bressed of many a throur'st come,\n",
            "Nor no fair for eyes and thence, thy sight,\n",
            "\n",
            "And sconts of thee, wiso then the had eyes apoving troumh,\n",
            "And wear their chargely still with my due.\n",
            "\n",
            "\n",
            "Temperature: 1.5\n",
            "Afregeflation heighurgs fhave tteif m-riy,\n",
            "Thine of thine wasy being  loy o'er prays,\n",
            "Against thehivall hath powerfulns wanch'st my might:\n",
            "Ilongs you ?ebutluespjoks in you, that keep's youpooties might?\n",
            "\n",
            "Ti'ial 'ti ti?led the book to despised,\n",
            "Give the prouter youth, and truly mayst mine gast,\n",
            "Yut even still not yet, yet reived shalling agite,\n",
            "(to time, scinal enhorh namb lamptre-day?\n",
            "\n",
            "Whom kiscon yisly chroffy?,\n",
            "But bir-lovangy drankles know of brow,\n",
            "Before the ruition efpepirappiperse.\n",
            "Let your thaluste encus: alargeothers give,\n",
            "\n",
            "To fadking heat tovenan's 'tisty, jluds,\n",
            "For you withhed, iuldqquir tponame timebly,\n",
            "\n",
            "\n"
          ],
          "name": "stdout"
        }
      ]
    },
    {
      "cell_type": "code",
      "metadata": {
        "id": "JxoCjmi4JDXr"
      },
      "source": [
        "# Visualization\n",
        "\n",
        "########################################\n",
        "# CS/CNS/EE 155 2018\n",
        "# Problem Set 6\n",
        "#\n",
        "# Author:       Andrew Kang\n",
        "# Description:  Set 6 HMM helper\n",
        "########################################\n",
        "\n",
        "import re\n",
        "import numpy as np\n",
        "import matplotlib.pyplot as plt\n",
        "from wordcloud import WordCloud\n",
        "from matplotlib import animation\n",
        "from matplotlib.animation import FuncAnimation\n",
        "\n",
        "\n",
        "####################\n",
        "# WORDCLOUD FUNCTIONS\n",
        "####################\n",
        "\n",
        "def mask():\n",
        "    # Parameters.\n",
        "    r = 128\n",
        "    d = 2 * r + 1\n",
        "\n",
        "    # Get points in a circle.\n",
        "    y, x = np.ogrid[-r:d-r, -r:d-r]\n",
        "    circle = (x**2 + y**2 <= r**2)\n",
        "\n",
        "    # Create mask.\n",
        "    mask = 255 * np.ones((d, d), dtype=np.uint8)\n",
        "    mask[circle] = 0\n",
        "\n",
        "    return mask\n",
        "\n",
        "def text_to_wordcloud(text, max_words=50, title='', show=True):\n",
        "    plt.close('all')\n",
        "\n",
        "    # Generate a wordcloud image.\n",
        "    wordcloud = WordCloud(random_state=0,\n",
        "                          max_words=max_words,\n",
        "                          background_color='white',\n",
        "                          mask=mask()).generate(text)\n",
        "\n",
        "    # Show the image.\n",
        "    if show:\n",
        "        plt.imshow(wordcloud, interpolation='bilinear')\n",
        "        plt.axis('off')\n",
        "        plt.title(title, fontsize=24)\n",
        "        plt.show()\n",
        "\n",
        "    return wordcloud\n",
        "\n",
        "def states_to_wordclouds(hmm, obs_map, max_words=50, show=True):\n",
        "    # Initialize.\n",
        "    M = 100000\n",
        "    n_states = len(hmm.A)\n",
        "    obs_map_r = obs_map_reverser(obs_map)\n",
        "    wordclouds = []\n",
        "\n",
        "    # Generate a large emission.\n",
        "    emission, states = hmm.generate_emission(M)\n",
        "\n",
        "    # For each state, get a list of observations that have been emitted\n",
        "    # from that state.\n",
        "    obs_count = []\n",
        "    for i in range(n_states):\n",
        "        obs_lst = np.array(emission)[np.where(np.array(states) == i)[0]]\n",
        "        obs_count.append(obs_lst)\n",
        "\n",
        "    # For each state, convert it into a wordcloud.\n",
        "    for i in range(n_states):\n",
        "        obs_lst = obs_count[i]\n",
        "        sentence = [obs_map_r[j] for j in obs_lst]\n",
        "        sentence_str = ' '.join(sentence)\n",
        "\n",
        "        wordclouds.append(text_to_wordcloud(sentence_str, max_words=max_words, title='State %d' % i, show=show))\n",
        "\n",
        "    return wordclouds\n",
        "\n",
        "\n",
        "####################\n",
        "# HMM FUNCTIONS\n",
        "####################\n",
        "\n",
        "def parse_observations(text):\n",
        "    # Convert text to dataset.\n",
        "    lines = [line.split() for line in text.split('\\n') if line.split()]\n",
        "\n",
        "    obs_counter = 0\n",
        "    obs = []\n",
        "    obs_map = {}\n",
        "\n",
        "    for line in lines:\n",
        "        obs_elem = []\n",
        "        \n",
        "        for word in line:\n",
        "            word = re.sub(r'[^\\w]', '', word).lower()\n",
        "            if word not in obs_map:\n",
        "                # Add unique words to the observations map.\n",
        "                obs_map[word] = obs_counter\n",
        "                obs_counter += 1\n",
        "            \n",
        "            # Add the encoded word.\n",
        "            obs_elem.append(obs_map[word])\n",
        "        \n",
        "        # Add the encoded sequence.\n",
        "        obs.append(obs_elem)\n",
        "\n",
        "    return obs, obs_map\n",
        "\n",
        "def obs_map_reverser(obs_map):\n",
        "    obs_map_r = {}\n",
        "\n",
        "    for key in obs_map:\n",
        "        obs_map_r[obs_map[key]] = key\n",
        "\n",
        "    return obs_map_r\n",
        "\n",
        "def sample_sentence(hmm, obs_map, n_words=100):\n",
        "    # Get reverse map.\n",
        "    obs_map_r = obs_map_reverser(obs_map)\n",
        "\n",
        "    # Sample and convert sentence.\n",
        "    emission, states = hmm.generate_emission(n_words)\n",
        "    sentence = [obs_map_r[i] for i in emission]\n",
        "\n",
        "    return ' '.join(sentence).capitalize() + '...'\n",
        "\n",
        "\n",
        "####################\n",
        "# HMM VISUALIZATION FUNCTIONS\n",
        "####################\n",
        "\n",
        "def visualize_sparsities(hmm, O_max_cols=50, O_vmax=0.1):\n",
        "    plt.close('all')\n",
        "    plt.set_cmap('viridis')\n",
        "\n",
        "    # Visualize sparsity of A.\n",
        "    plt.imshow(hmm.A, vmax=1.0)\n",
        "    plt.colorbar()\n",
        "    plt.title('Sparsity of A matrix')\n",
        "    plt.show()\n",
        "\n",
        "    # Visualize sparsity of O.\n",
        "    plt.imshow(np.array(hmm.O)[:, :O_max_cols], vmax=O_vmax, aspect='auto')\n",
        "    plt.colorbar()\n",
        "    plt.title('Sparsity of O matrix')\n",
        "    plt.show()\n",
        "\n"
      ],
      "execution_count": null,
      "outputs": []
    },
    {
      "cell_type": "code",
      "metadata": {
        "id": "k9Cw2FXoKDmg",
        "colab": {
          "base_uri": "https://localhost:8080/",
          "height": 545
        },
        "outputId": "16aadee0-01f2-4e70-cf18-905232351a04"
      },
      "source": [
        "visualize_sparsities(HMM, O_max_cols=50)"
      ],
      "execution_count": null,
      "outputs": [
        {
          "output_type": "display_data",
          "data": {
            "image/png": "[encoded data removed]",
            "text/plain": [
              "<Figure size 432x288 with 2 Axes>"
            ]
          },
          "metadata": {
            "tags": [],
            "needs_background": "light"
          }
        },
        {
          "output_type": "display_data",
          "data": {
            "image/png": "[encoded data removed]",
            "text/plain": [
              "<Figure size 432x288 with 2 Axes>"
            ]
          },
          "metadata": {
            "tags": [],
            "needs_background": "light"
          }
        }
      ]
    },
    {
      "cell_type": "code",
      "metadata": {
        "id": "oNY087ET4Uf0",
        "colab": {
          "base_uri": "https://localhost:8080/"
        },
        "outputId": "b03cf20d-92c3-46f6-8d46-4af1da72291a"
      },
      "source": [
        "for n in range(0, 10):\n",
        "  O_matrix = np.array(HMM.O[n])\n",
        "  ind = np.argpartition(O_matrix, -10)[-10:]\n",
        "  words = \"\"\n",
        "  print(\"State \" + str(n) + \":\")\n",
        "  for i in ind:\n",
        "    words += reverse_word_ids[i] + \" \"\n",
        "  print(words)"
      ],
      "execution_count": null,
      "outputs": [
        {
          "output_type": "stream",
          "text": [
            "State 0:\n",
            "for to when she that is in i all thou \n",
            "State 1:\n",
            "not your in my their be i thy it the \n",
            "State 2:\n",
            "what so when or and as that but do which \n",
            "State 3:\n",
            "him no her you love to thee me a the \n",
            "State 4:\n",
            "so yet when o but for then if that and \n",
            "State 5:\n",
            "in thou will heart and that i or is were \n",
            "State 6:\n",
            "your that so his of my thy with her mine \n",
            "State 7:\n",
            "sweet that doth is but to for in and with \n",
            "State 8:\n",
            "fair it self own eyes which love her heart the \n",
            "State 9:\n",
            "will from of do on not doth can in to \n"
          ],
          "name": "stdout"
        }
      ]
    },
    {
      "cell_type": "code",
      "metadata": {
        "id": "eCcBsgg4hWxs"
      },
      "source": [
        "states_to_wordclouds(HMM, word_ids)"
      ],
      "execution_count": null,
      "outputs": []
    }
  ]
}