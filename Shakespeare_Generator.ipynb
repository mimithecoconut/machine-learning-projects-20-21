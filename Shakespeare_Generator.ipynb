{
  "nbformat": 4,
  "nbformat_minor": 0,
  "metadata": {
    "colab": {
      "name": "Shakespeare_Generator.ipynb",
      "provenance": [],
      "collapsed_sections": [],
      "include_colab_link": true
    },
    "kernelspec": {
      "name": "python3",
      "display_name": "Python 3"
    },
    "accelerator": "GPU"
  },
  "cells": [
    {
      "cell_type": "markdown",
      "metadata": {
        "id": "view-in-github",
        "colab_type": "text"
      },
      "source": [
        "<a href=\"https://colab.research.google.com/github/mimithecoconut/machine-learning-projects-20-21/blob/main/Shakespeare_Generator.ipynb\" target=\"_parent\"><img src=\"https://colab.research.google.com/assets/colab-badge.svg\" alt=\"Open In Colab\"/></a>"
      ]
    },
    {
      "cell_type": "markdown",
      "metadata": {
        "id": "YHs_YM2_kBP5"
      },
      "source": [
        "## Team Smokey Bear\n",
        "Team Members: Hannah Chen, Alexandra Lai, Shenyi Li, Felianne Teng\n"
      ]
    },
    {
      "cell_type": "code",
      "metadata": {
        "id": "K4KPfngtZjhD"
      },
      "source": [
        "import re\n",
        "import random\n",
        "import urllib.request\n",
        "import numpy as np\n",
        "from tensorflow import keras\n",
        "from tensorflow.keras import layers"
      ],
      "execution_count": null,
      "outputs": []
    },
    {
      "cell_type": "markdown",
      "metadata": {
        "id": "1HeD_RBoJnil"
      },
      "source": [
        "We first retrieve the input data from github. "
      ]
    },
    {
      "cell_type": "code",
      "metadata": {
        "id": "tZJkVHbgPOeP"
      },
      "source": [
        "url = \"https://raw.githubusercontent.com/lakigigar/Caltech-CS155-2021/main/projects/project3/data/shakespeare.txt\"\n",
        "url_dict = \"https://raw.githubusercontent.com/lakigigar/Caltech-CS155-2021/main/projects/project3/data/Syllable_dictionary.txt\"\n",
        "url_spenser = \"https://raw.githubusercontent.com/lakigigar/Caltech-CS155-2021/main/projects/project3/data/spenser.txt\"\n",
        "file = urllib.request.urlopen(url)\n",
        "file_spenser = urllib.request.urlopen(url_spenser)\n",
        "file_dict = urllib.request.urlopen(url_dict)"
      ],
      "execution_count": null,
      "outputs": []
    },
    {
      "cell_type": "markdown",
      "metadata": {
        "id": "AdTnm208JzwC"
      },
      "source": [
        "For the Hidden Markov Model, we used the solution code from Problem Set 6. "
      ]
    },
    {
      "cell_type": "code",
      "metadata": {
        "id": "JcBzD5NItpkr"
      },
      "source": [
        "class HiddenMarkovModel:\n",
        "    '''\n",
        "    Class implementation of Hidden Markov Models.\n",
        "    '''\n",
        "\n",
        "    def __init__(self, A, O):\n",
        "        '''\n",
        "        Initializes an HMM. Assumes the following:\n",
        "            - States and observations are integers starting from 0. \n",
        "            - There is a start state (see notes on A_start below). There\n",
        "              is no integer associated with the start state, only\n",
        "              probabilities in the vector A_start.\n",
        "            - There is no end state. \n",
        "        Arguments:\n",
        "            A:          Transition matrix with dimensions L x L.\n",
        "                        The (i, j)^th element is the probability of\n",
        "                        transitioning from state i to state j. Note that\n",
        "                        this does not include the starting probabilities.\n",
        "            O:          Observation matrix with dimensions L x D.\n",
        "                        The (i, j)^th element is the probability of\n",
        "                        emitting observation j given state i.\n",
        "        Parameters:\n",
        "            L:          Number of states.\n",
        "            D:          Number of observations.\n",
        "            \n",
        "            A:          The transition matrix.\n",
        "            \n",
        "            O:          The observation matrix.\n",
        "            \n",
        "            A_start:    Starting transition probabilities. The i^th element\n",
        "                        is the probability of transitioning from the start\n",
        "                        state to state i. For simplicity, we assume that\n",
        "                        this distribution is uniform.\n",
        "        '''\n",
        "\n",
        "        self.L = len(A)\n",
        "        self.D = len(O[0])\n",
        "        self.A = A\n",
        "        self.O = O\n",
        "        self.A_start = [1. / self.L for _ in range(self.L)]\n",
        "\n",
        "\n",
        "    def viterbi(self, x):\n",
        "        '''\n",
        "        Uses the Viterbi algorithm to find the max probability state \n",
        "        sequence corresponding to a given input sequence.\n",
        "        Arguments:\n",
        "            x:          Input sequence in the form of a list of length M,\n",
        "                        consisting of integers ranging from 0 to D - 1.\n",
        "        Returns:\n",
        "            max_seq:    Output sequence corresponding to x with the highest\n",
        "                        probability.\n",
        "        '''\n",
        "\n",
        "        M = len(x)      # Length of sequence.\n",
        "\n",
        "        # The (i, j)^th elements of probs and seqs are the max probability\n",
        "        # of the prefix of length i ending in state j and the prefix\n",
        "        # that gives this probability, respectively.\n",
        "        #\n",
        "        # For instance, probs[1][0] is the probability of the prefix of\n",
        "        # length 1 ending in state 0.\n",
        "        probs = [[0. for _ in range(self.L)] for _ in range(M + 1)]\n",
        "        seqs = [['' for _ in range(self.L)] for _ in range(M + 1)]\n",
        "\n",
        "        # Calculate initial prefixes and probabilities.\n",
        "        for curr in range(self.L):\n",
        "            probs[1][curr] = self.A_start[curr] * self.O[curr][x[0]]\n",
        "            seqs[1][curr] = str(curr)\n",
        "\n",
        "        # Calculate best prefixes and probabilities throughout sequence.\n",
        "        for t in range(2, M + 1):\n",
        "            # Iterate over all possible current states.\n",
        "            for curr in range(self.L):\n",
        "                max_prob = float(\"-inf\")\n",
        "                max_prefix = ''\n",
        "\n",
        "                # Iterate over all possible previous states to find one\n",
        "                # that would maximize the probability of the current state.\n",
        "                for prev in range(self.L):\n",
        "                    curr_prob = probs[t - 1][prev] \\\n",
        "                                * self.A[prev][curr] \\\n",
        "                                * self.O[curr][x[t - 1]]\n",
        "\n",
        "                    # Continually update max probability and prefix.\n",
        "                    if curr_prob >= max_prob:\n",
        "                        max_prob = curr_prob\n",
        "                        max_prefix = seqs[t - 1][prev]\n",
        "\n",
        "                # Store the max probability and prefix.\n",
        "                probs[t][curr] = max_prob\n",
        "                seqs[t][curr] = max_prefix + str(curr)\n",
        "\n",
        "        # Find the index of the max probability of a sequence ending in x^M\n",
        "        # and the corresponding output sequence.\n",
        "        max_i = max(enumerate(probs[-1]), key=lambda x: x[1])[0]\n",
        "        max_seq = seqs[-1][max_i]\n",
        "\n",
        "        return max_seq\n",
        "\n",
        "\n",
        "    def forward(self, x, normalize=False):\n",
        "        '''\n",
        "        Uses the forward algorithm to calculate the alpha probability\n",
        "        vectors corresponding to a given input sequence.\n",
        "        Arguments:\n",
        "            x:          Input sequence in the form of a list of length M,\n",
        "                        consisting of integers ranging from 0 to D - 1.\n",
        "            normalize:  Whether to normalize each set of alpha_j(i) vectors\n",
        "                        at each i. This is useful to avoid underflow in\n",
        "                        unsupervised learning.\n",
        "        Returns:\n",
        "            alphas:     Vector of alphas.\n",
        "                        The (i, j)^th element of alphas is alpha_j(i),\n",
        "                        i.e. the probability of observing prefix x^1:i\n",
        "                        and state y^i = j.\n",
        "                        e.g. alphas[1][0] corresponds to the probability\n",
        "                        of observing x^1:1, i.e. the first observation,\n",
        "                        given that y^1 = 0, i.e. the first state is 0.\n",
        "        '''\n",
        "\n",
        "        M = len(x)      # Length of sequence.\n",
        "        alphas = [[0. for _ in range(self.L)] for _ in range(M + 1)]\n",
        "        # print(len(alphas))\n",
        "        # print(len(alphas[0]))\n",
        "        # print(len(self.O))\n",
        "        # print(len(self.O[0]))\n",
        "        # Note that alpha_j(0) is already correct for all j's.\n",
        "        # Calculate alpha_j(1) for all j's.\n",
        "        for curr in range(self.L):\n",
        "            alphas[1][curr] = self.A_start[curr] * self.O[curr][x[0]]\n",
        "\n",
        "        # Calculate alphas throughout sequence.\n",
        "        for t in range(1, M):\n",
        "            # Iterate over all possible current states.\n",
        "            for curr in range(self.L):\n",
        "                prob = 0\n",
        "\n",
        "                # Iterate over all possible previous states to accumulate\n",
        "                # the probabilities of all paths from the start state to\n",
        "                # the current state.\n",
        "                for prev in range(self.L):\n",
        "                    # print(str(t) +\" \" + str(prev) + \" \" + str(curr) + \" \" + str(x[t]))\n",
        "                  \n",
        "                \n",
        "                    prob += alphas[t][prev] \\\n",
        "                            * self.A[prev][curr] \\\n",
        "                            * self.O[curr][x[t]]\n",
        "\n",
        "                # Store the accumulated probability.\n",
        "                alphas[t + 1][curr] = prob\n",
        "\n",
        "            if normalize:\n",
        "                norm = sum(alphas[t + 1])\n",
        "                for curr in range(self.L):\n",
        "                    alphas[t + 1][curr] /= norm\n",
        "\n",
        "        return alphas\n",
        "\n",
        "\n",
        "    def backward(self, x, normalize=False):\n",
        "        '''\n",
        "        Uses the backward algorithm to calculate the beta probability\n",
        "        vectors corresponding to a given input sequence.\n",
        "        Arguments:\n",
        "            x:          Input sequence in the form of a list of length M,\n",
        "                        consisting of integers ranging from 0 to D - 1.\n",
        "            normalize:  Whether to normalize each set of alpha_j(i) vectors\n",
        "                        at each i. This is useful to avoid underflow in\n",
        "                        unsupervised learning.\n",
        "        Returns:\n",
        "            betas:      Vector of betas.\n",
        "                        The (i, j)^th element of betas is beta_j(i), i.e.\n",
        "                        the probability of observing prefix x^(i+1):M and\n",
        "                        state y^i = j.\n",
        "                        e.g. betas[M][0] corresponds to the probability\n",
        "                        of observing x^M+1:M, i.e. no observations,\n",
        "                        given that y^M = 0, i.e. the last state is 0.\n",
        "        '''\n",
        "\n",
        "        M = len(x)      # Length of sequence.\n",
        "        betas = [[0. for _ in range(self.L)] for _ in range(M + 1)]\n",
        "\n",
        "        # Initialize initial betas.\n",
        "        for curr in range(self.L):\n",
        "            betas[-1][curr] = 1\n",
        "\n",
        "        # Calculate betas throughout sequence.\n",
        "        for t in range(-1, -M - 1, -1):\n",
        "            # Iterate over all possible current states.\n",
        "            for curr in range(self.L):\n",
        "                prob = 0\n",
        "\n",
        "                # Iterate over all possible next states to accumulate\n",
        "                # the probabilities of all paths from the end state to\n",
        "                # the current state.\n",
        "                for nxt in range(self.L):\n",
        "                    if t == -M:\n",
        "                        prob += betas[t][nxt] \\\n",
        "                                * self.A_start[nxt] \\\n",
        "                                * self.O[nxt][x[t]]\n",
        "\n",
        "                    else:\n",
        "                        prob += betas[t][nxt] \\\n",
        "                                * self.A[curr][nxt] \\\n",
        "                                * self.O[nxt][x[t]]\n",
        "\n",
        "                # Store the accumulated probability.\n",
        "                betas[t - 1][curr] = prob\n",
        "\n",
        "            if normalize:\n",
        "                norm = sum(betas[t - 1])\n",
        "                for curr in range(self.L):\n",
        "                    betas[t - 1][curr] /= norm\n",
        "\n",
        "        return betas\n",
        "\n",
        "\n",
        "    def supervised_learning(self, X, Y):\n",
        "        '''\n",
        "        Trains the HMM using the Maximum Likelihood closed form solutions\n",
        "        for the transition and observation matrices on a labeled\n",
        "        datset (X, Y). Note that this method does not return anything, but\n",
        "        instead updates the attributes of the HMM object.\n",
        "        Arguments:\n",
        "            X:          A dataset consisting of input sequences in the form\n",
        "                        of lists of variable length, consisting of integers \n",
        "                        ranging from 0 to D - 1. In other words, a list of\n",
        "                        lists.\n",
        "            Y:          A dataset consisting of state sequences in the form\n",
        "                        of lists of variable length, consisting of integers \n",
        "                        ranging from 0 to L - 1. In other words, a list of\n",
        "                        lists.\n",
        "                        Note that the elements in X line up with those in Y.\n",
        "        '''\n",
        "\n",
        "        # Calculate each element of A using the M-step formulas.\n",
        "        for curr in range(self.L):\n",
        "            for nxt in range(self.L):\n",
        "                num = 0.\n",
        "                den = 0.\n",
        "\n",
        "                for i in range(len(X)):\n",
        "                    x = X[i]\n",
        "                    y = Y[i]\n",
        "                    M = len(x)\n",
        "        \n",
        "                    num += len([1 for i in range(M - 1) \\\n",
        "                                if y[i] == curr and y[i + 1] == nxt])\n",
        "                    den += len([1 for i in range(M - 1) if y[i] == curr])\n",
        "\n",
        "                self.A[curr][nxt] = num / den\n",
        "\n",
        "        # Calculate each element of O using the M-step formulas.\n",
        "        for curr in range(self.L):\n",
        "            for xt in range(self.D):\n",
        "                num = 0.\n",
        "                den = 0.\n",
        "\n",
        "                for i in range(len(X)):\n",
        "                    x = X[i]\n",
        "                    y = Y[i]\n",
        "                    M = len(x)\n",
        "        \n",
        "                    num += len([1 for i in range(M) \\\n",
        "                                if y[i] == curr and x[i] == xt])\n",
        "                    den += len([1 for i in range(M) if y[i] == curr])\n",
        "\n",
        "                self.O[curr][xt] = num / den\n",
        "\n",
        "\n",
        "    def unsupervised_learning(self, X, N_iters):\n",
        "        '''\n",
        "        Trains the HMM using the Baum-Welch algorithm on an unlabeled\n",
        "        datset X. Note that this method does not return anything, but\n",
        "        instead updates the attributes of the HMM object.\n",
        "        Arguments:\n",
        "            X:          A dataset consisting of input sequences in the form\n",
        "                        of lists of length M, consisting of integers ranging\n",
        "                        from 0 to D - 1. In other words, a list of lists.\n",
        "            N_iters:    The number of iterations to train on.\n",
        "        '''\n",
        "\n",
        "        # Note that a comment starting with 'E' refers to the fact that\n",
        "        # the code under the comment is part of the E-step.\n",
        "\n",
        "        # Similarly, a comment starting with 'M' refers to the fact that\n",
        "        # the code under the comment is part of the M-step.\n",
        "\n",
        "        for iteration in range(1, N_iters + 1):\n",
        "            if iteration % 10 == 0:\n",
        "                print(\"Iteration: \" + str(iteration))\n",
        "\n",
        "            # Numerator and denominator for the update terms of A and O.\n",
        "            A_num = [[0. for i in range(self.L)] for j in range(self.L)]\n",
        "            O_num = [[0. for i in range(self.D)] for j in range(self.L)]\n",
        "            A_den = [0. for i in range(self.L)]\n",
        "            O_den = [0. for i in range(self.L)]\n",
        "\n",
        "            # For each input sequence:\n",
        "            for x in X:\n",
        "                M = len(x)\n",
        "                # Compute the alpha and beta probability vectors.\n",
        "                alphas = self.forward(x, normalize=True)\n",
        "                betas = self.backward(x, normalize=True)\n",
        "\n",
        "                # E: Update the expected observation probabilities for a\n",
        "                # given (x, y).\n",
        "                # The i^th index is P(y^t = i, x).\n",
        "                for t in range(1, M + 1):\n",
        "                    P_curr = [0. for _ in range(self.L)]\n",
        "                    \n",
        "                    for curr in range(self.L):\n",
        "                        P_curr[curr] = alphas[t][curr] * betas[t][curr]\n",
        "\n",
        "                    # Normalize the probabilities.\n",
        "                    norm = sum(P_curr)\n",
        "                    for curr in range(len(P_curr)):\n",
        "                        P_curr[curr] /= norm\n",
        "\n",
        "                    for curr in range(self.L):\n",
        "                        if t != M:\n",
        "                            A_den[curr] += P_curr[curr]\n",
        "                        O_den[curr] += P_curr[curr]\n",
        "                        O_num[curr][x[t - 1]] += P_curr[curr]\n",
        "\n",
        "                # E: Update the expectedP(y^j = a, y^j+1 = b, x) for given (x, y)\n",
        "                for t in range(1, M):\n",
        "                    P_curr_nxt = [[0. for _ in range(self.L)] for _ in range(self.L)]\n",
        "\n",
        "                    for curr in range(self.L):\n",
        "                        for nxt in range(self.L):\n",
        "                            P_curr_nxt[curr][nxt] = alphas[t][curr] \\\n",
        "                                                    * self.A[curr][nxt] \\\n",
        "                                                    * self.O[nxt][x[t]] \\\n",
        "                                                    * betas[t + 1][nxt]\n",
        "\n",
        "                    # Normalize:\n",
        "                    norm = 0\n",
        "                    for lst in P_curr_nxt:\n",
        "                        norm += sum(lst)\n",
        "                    for curr in range(self.L):\n",
        "                        for nxt in range(self.L):\n",
        "                            P_curr_nxt[curr][nxt] /= norm\n",
        "\n",
        "                    # Update A_num\n",
        "                    for curr in range(self.L):\n",
        "                        for nxt in range(self.L):\n",
        "                            A_num[curr][nxt] += P_curr_nxt[curr][nxt]\n",
        "\n",
        "            for curr in range(self.L):\n",
        "                for nxt in range(self.L):\n",
        "                    self.A[curr][nxt] = A_num[curr][nxt] / A_den[curr]\n",
        "\n",
        "            for curr in range(self.L):\n",
        "                for xt in range(self.D):\n",
        "                    self.O[curr][xt] = O_num[curr][xt] / O_den[curr]\n",
        "\n",
        "    def generate_emission(self, M):\n",
        "        '''\n",
        "        Generates an emission of length M, assuming that the starting state\n",
        "        is chosen uniformly at random. \n",
        "        Arguments:\n",
        "            M:          Length of the emission to generate.\n",
        "        Returns:\n",
        "            emission:   The randomly generated emission as a list.\n",
        "            states:     The randomly generated states as a list.\n",
        "        '''\n",
        "\n",
        "        emission = []\n",
        "        state = random.choice(range(self.L))\n",
        "        states = []\n",
        "\n",
        "        for t in range(M):\n",
        "            # Append state.\n",
        "            states.append(state)\n",
        "\n",
        "            # Sample next observation.\n",
        "            rand_var = random.uniform(0, 1)\n",
        "            next_obs = 0\n",
        "\n",
        "            while rand_var > 0:\n",
        "                rand_var -= self.O[state][next_obs]\n",
        "                next_obs += 1\n",
        "\n",
        "            next_obs -= 1\n",
        "            emission.append(next_obs)\n",
        "\n",
        "            # Sample next state.\n",
        "            rand_var = random.uniform(0, 1)\n",
        "            next_state = 0\n",
        "\n",
        "            while rand_var > 0:\n",
        "                rand_var -= self.A[state][next_state]\n",
        "                next_state += 1\n",
        "\n",
        "            next_state -= 1\n",
        "            state = next_state\n",
        "\n",
        "        return emission, states\n",
        "\n",
        "\n",
        "    def probability_alphas(self, x):\n",
        "        '''\n",
        "        Finds the maximum probability of a given input sequence using\n",
        "        the forward algorithm.\n",
        "        Arguments:\n",
        "            x:          Input sequence in the form of a list of length M,\n",
        "                        consisting of integers ranging from 0 to D - 1.\n",
        "        Returns:\n",
        "            prob:       Total probability that x can occur.\n",
        "        '''\n",
        "\n",
        "        # Calculate alpha vectors.\n",
        "        alphas = self.forward(x)\n",
        "\n",
        "        # alpha_j(M) gives the probability that the output sequence ends\n",
        "        # in j. Summing this value over all possible states j gives the\n",
        "        # total probability of x paired with any output sequence, i.e. the\n",
        "        # probability of x.\n",
        "        prob = sum(alphas[-1])\n",
        "        return prob\n",
        "\n",
        "\n",
        "    def probability_betas(self, x):\n",
        "        '''\n",
        "        Finds the maximum probability of a given input sequence using\n",
        "        the backward algorithm.\n",
        "        Arguments:\n",
        "            x:          Input sequence in the form of a list of length M,\n",
        "                        consisting of integers ranging from 0 to D - 1.\n",
        "        Returns:\n",
        "            prob:       Total probability that x can occur.\n",
        "        '''\n",
        "\n",
        "        betas = self.backward(x)\n",
        "\n",
        "        # beta_j(0) gives the probability of the output sequence. Summing\n",
        "        # this over all states and then normalizing gives the total\n",
        "        # probability of x paired with any output sequence, i.e. the\n",
        "        # probability of x.\n",
        "        prob = sum([betas[1][k] * self.A_start[k] * self.O[k][x[0]] \\\n",
        "            for k in range(self.L)])\n",
        "\n",
        "        return prob\n",
        "\n",
        "\n",
        "def supervised_HMM(X, Y):\n",
        "    '''\n",
        "    Helper function to train a supervised HMM. The function determines the\n",
        "    number of unique states and observations in the given data, initializes\n",
        "    the transition and observation matrices, creates the HMM, and then runs\n",
        "    the training function for supervised learning.\n",
        "    Arguments:\n",
        "        X:          A dataset consisting of input sequences in the form\n",
        "                    of lists of variable length, consisting of integers \n",
        "                    ranging from 0 to D - 1. In other words, a list of lists.\n",
        "        Y:          A dataset consisting of state sequences in the form\n",
        "                    of lists of variable length, consisting of integers \n",
        "                    ranging from 0 to L - 1. In other words, a list of lists.\n",
        "                    Note that the elements in X line up with those in Y.\n",
        "    '''\n",
        "\n",
        "    # Make a set of observations.\n",
        "    observations = set()\n",
        "    for x in X:\n",
        "        observations |= set(x)\n",
        "\n",
        "    # Make a set of states.\n",
        "    states = set()\n",
        "    for y in Y:\n",
        "        states |= set(y)\n",
        "    \n",
        "    # Compute L and D.\n",
        "    L = len(states)\n",
        "    D = len(observations)\n",
        "\n",
        "    # Randomly initialize and normalize matrices A and O.\n",
        "    A = [[random.random() for i in range(L)] for j in range(L)]\n",
        "\n",
        "    for i in range(len(A)):\n",
        "        norm = sum(A[i])\n",
        "        for j in range(len(A[i])):\n",
        "            A[i][j] /= norm\n",
        "    \n",
        "    O = [[random.random() for i in range(D)] for j in range(L)]\n",
        "\n",
        "    for i in range(len(O)):\n",
        "        norm = sum(O[i])\n",
        "        for j in range(len(O[i])):\n",
        "            O[i][j] /= norm\n",
        "\n",
        "    # Train an HMM with labeled data.\n",
        "    HMM = HiddenMarkovModel(A, O)\n",
        "    HMM.supervised_learning(X, Y)\n",
        "\n",
        "    return HMM\n",
        "\n",
        "\n",
        "def unsupervised_HMM(X, n_states, N_iters,rng=np.random.RandomState(1)):\n",
        "    '''\n",
        "    Helper function to train an unsupervised HMM. The function determines the\n",
        "    number of unique observations in the given data, initializes\n",
        "    the transition and observation matrices, creates the HMM, and then runs\n",
        "    the training function for unsupervised learing.\n",
        "    Arguments:\n",
        "        X:          A dataset consisting of input sequences in the form\n",
        "                    of lists of variable length, consisting of integers \n",
        "                    ranging from 0 to D - 1. In other words, a list of lists.\n",
        "        n_states:   Number of hidden states to use in training.\n",
        "        \n",
        "        N_iters:    The number of iterations to train on.\n",
        "        rng:        The random number generator for reproducible result.\n",
        "                    Default to RandomState(1).\n",
        "    '''\n",
        "\n",
        "    # Make a set of observations.\n",
        "    observations = set()\n",
        "    for x in X:\n",
        "        observations |= set(x)\n",
        "    \n",
        "    # Compute L and D.\n",
        "    L = n_states\n",
        "    D = len(observations)\n",
        "\n",
        "    # Randomly initialize and normalize matrices A.\n",
        "    A = [[rng.random() for i in range(L)] for j in range(L)]\n",
        "\n",
        "    for i in range(len(A)):\n",
        "        norm = sum(A[i])\n",
        "        for j in range(len(A[i])):\n",
        "            A[i][j] /= norm\n",
        "    \n",
        "    # Randomly initialize and normalize matrix O.\n",
        "    O = [[rng.random() for i in range(D)] for j in range(L)]\n",
        "\n",
        "    for i in range(len(O)):\n",
        "        norm = sum(O[i])\n",
        "        for j in range(len(O[i])):\n",
        "            O[i][j] /= norm\n",
        "\n",
        "    # Train an HMM with unlabeled data.\n",
        "    HMM = HiddenMarkovModel(A, O)\n",
        "    HMM.unsupervised_learning(X, N_iters)\n",
        "\n",
        "    return HMM"
      ],
      "execution_count": null,
      "outputs": []
    },
    {
      "cell_type": "markdown",
      "metadata": {
        "id": "U1Adl7855rep"
      },
      "source": [
        "## HMM without Rhyme "
      ]
    },
    {
      "cell_type": "markdown",
      "metadata": {
        "id": "GuTwALkVMUfw"
      },
      "source": [
        "We created a dictionary that corresponded each word with the number of syllables in the word. "
      ]
    },
    {
      "cell_type": "code",
      "metadata": {
        "id": "ZFlCedzoeyVd"
      },
      "source": [
        "syllable_dict = {}\n",
        "id_dict = {}\n",
        "for line in file_dict:\n",
        "  line = line.decode(\"utf-8\").strip()\n",
        "  line = line.split(\" \")\n",
        " \n",
        "  # Handle the words with E denotation \n",
        "  if len(line) == 3:\n",
        "    if ('E' in line[1]):\n",
        "      syllable_dict[line[0]] = int(line[2])\n",
        "    else:\n",
        "      syllable_dict[line[0]] = int(line[1])\n",
        "  if len(line) == 2:\n",
        "    syllable_dict[line[0]] = int(line[1])"
      ],
      "execution_count": null,
      "outputs": []
    },
    {
      "cell_type": "code",
      "metadata": {
        "id": "vbt0DTd7f6_v"
      },
      "source": [
        "word_ids = {}\n",
        "ids_lst = []\n",
        "id_count = 0\n",
        "reverse_word_ids = {}"
      ],
      "execution_count": null,
      "outputs": []
    },
    {
      "cell_type": "markdown",
      "metadata": {
        "id": "2wQ3EXh5KBSI"
      },
      "source": [
        "First, we read in the words from Shakespeare's sonnets and pre-processed the data. "
      ]
    },
    {
      "cell_type": "code",
      "metadata": {
        "id": "kDDNRCYsZTuu"
      },
      "source": [
        "for line in file:\n",
        "  line = line.decode(\"utf-8\").strip()\n",
        "  # Ignore the lines that denote the number sonnet\n",
        "  if len(line) > 3:\n",
        "    # Remove all punctuation and convert everything to lowercase\n",
        "    line = re.sub(r\"[^\\w\\d'\\s\\-]+\",'', line).lower()\n",
        "    word_lst = line.split(\" \")\n",
        "    id_lst = []\n",
        "\n",
        "    # Assign IDs to each word \n",
        "    for i in range(len(word_lst)):\n",
        "      word = word_lst[i].lower()\n",
        "      if word not in word_ids:\n",
        "        word_ids[word] = id_count\n",
        "        reverse_word_ids[id_count] = word\n",
        "        id_count += 1\n",
        "      id_lst.append(word_ids[word])\n",
        "    ids_lst.append(id_lst)\n",
        "print(ids_lst)\n",
        "print(word_ids)"
      ],
      "execution_count": null,
      "outputs": []
    },
    {
      "cell_type": "markdown",
      "metadata": {
        "id": "Bj6rN0OKHiKE"
      },
      "source": [
        "We also read in the words found in Spenser's poems and pass them to the HMM. "
      ]
    },
    {
      "cell_type": "code",
      "metadata": {
        "colab": {
          "base_uri": "https://localhost:8080/"
        },
        "id": "fDcemxX3G2Ip",
        "outputId": "32e12f0b-318b-4638-88d1-6bfb4a8d6b6f"
      },
      "source": [
        "for line in file_spenser:\n",
        "  line = line.decode(\"utf-8\").strip()\n",
        "  # Ignore the lines that denote the number sonnet\n",
        "  if len(line) > 3:\n",
        "    # Remove all punctuation and convert everything to lowercase\n",
        "    line = re.sub(r\"[^\\w\\d'\\s\\-]+\",'', line).lower()\n",
        "    word_lst = line.split(\" \")\n",
        "    id_lst = []\n",
        "\n",
        "    # Assign IDs to each word \n",
        "    for i in range(len(word_lst)):\n",
        "      word = word_lst[i].lower()\n",
        "      if word not in word_ids:\n",
        "        word_ids[word] = id_count\n",
        "        reverse_word_ids[id_count] = word\n",
        "        id_count += 1\n",
        "      id_lst.append(word_ids[word])\n",
        "    ids_lst.append(id_lst)\n",
        "print(ids_lst)\n",
        "print(word_ids)"
      ],
      "execution_count": null,
      "outputs": [
        {
          "output_type": "stream",
          "text": [
            "[[0, 1, 2, 3, 4, 5], [6, 7, 8, 9, 10, 11, 12], [13, 14, 15, 16, 17, 18, 19, 20], [21, 22, 23, 10, 24, 21, 25], [13, 26, 27, 28, 29, 30, 31, 32], [33, 34, 35, 36, 37, 38, 39], [40, 41, 42, 43, 44, 45], [34, 46, 34, 47, 28, 34, 48, 46, 49, 50], [26, 6, 51, 52, 15, 53, 54, 55], [56, 57, 58, 28, 15, 59, 60], [61, 29, 30, 62, 63, 34, 64], [56, 22, 65, 66, 67, 68, 69], [70, 15, 71, 72, 73, 74, 75, 76], [28, 77, 15, 53, 78, 18, 15, 79, 56, 80], [81, 82, 83, 84, 85, 34, 86], [56, 87, 88, 89, 68, 34, 8, 90], [34, 91, 92, 93, 94, 95, 96, 52], [97, 76, 41, 98, 99, 100, 101, 102, 103], [104, 105, 106, 43, 107, 34, 108, 45], [43, 107, 15, 109, 100, 34, 110, 111], [28, 112, 61, 29, 30, 88, 113, 32], [114, 115, 116, 117, 56, 118, 119], [120, 121, 122, 119, 123, 34, 8, 124], [125, 26, 126, 127, 128, 129, 130, 100, 131], [84, 132, 133, 134, 56, 135, 133, 136, 137], [138, 21, 108, 18, 139, 29], [74, 114, 28, 76, 140, 141, 81, 26, 51, 136], [56, 142, 34, 143, 144, 81, 26, 145, 146, 147], [148, 68, 34, 149, 56, 150, 15, 151, 26, 152], [52, 153, 15, 19, 6, 151, 17, 154, 155], [156, 54, 157, 125, 52, 26, 158, 159], [26, 160, 161, 15, 71, 162, 163, 164], [165, 43, 153, 166, 94, 129, 156, 167, 168], [169, 15, 170, 100, 34, 171], [72, 172, 153, 173, 94, 174, 97, 76, 15, 175], [100, 21, 176, 28, 177, 178], [26, 51, 34, 179, 149, 56, 166, 68, 80], [180, 181, 15, 182, 183, 100, 184, 185], [94, 26, 186, 187, 100, 29, 188, 189, 142], [190, 100, 191, 74, 34, 192, 19], [13, 125, 26, 193, 194, 158, 28, 76], [12, 195, 56, 29, 196, 197, 37, 80], [198, 199, 200, 160, 26, 201], [202, 34, 46, 34, 8, 203], [204, 205, 206, 207, 13, 208, 209], [56, 105, 210, 166, 211, 28, 212, 213, 214], [104, 215, 216, 200, 160, 26, 217], [15, 218, 219, 220, 80, 28, 221], [222, 223, 200, 160, 26, 124], [94, 224, 41, 132, 100, 225, 226, 227, 158, 193], [165, 228, 229, 37, 34, 46, 230], [26, 100, 34, 46, 34, 48, 46, 160, 231], [104, 120, 81, 232, 180, 80, 28, 76, 233], [234, 235, 236, 227, 26, 237], [34, 238, 108, 239, 76, 240, 37, 80], [241, 242, 243, 244, 245, 28, 76], [212, 246, 6, 37, 247, 248, 249, 250], [15, 182, 251, 43, 252, 253, 208, 254], [97, 255, 15, 256, 28, 15, 257, 258], [56, 6, 259, 241, 260, 208, 261], [165, 262, 19, 263, 264, 96], [28, 265, 266, 56, 267, 268, 269], [270, 271, 37, 272, 56, 110, 273, 274, 233], [108, 275, 56, 276, 252, 43], [104, 114, 158, 277, 278, 279], [41, 280, 281, 282, 68, 283, 100, 149], [8, 284, 37, 108, 114, 285], [286, 146, 286, 287, 288, 234, 146, 289], [13, 290, 291, 292, 293, 37, 266, 294], [295, 13, 296, 297, 296, 298, 299, 243, 48], [104, 300, 158, 301, 302, 303, 304], [68, 80, 34, 264, 305, 26, 76, 291], [135, 48, 163, 306, 109, 26, 163, 307], [37, 8, 109, 305, 146, 76, 308], [6, 124, 153, 158, 309, 310], [241, 311, 212, 6, 312, 15, 313, 314], [315, 165, 34, 46, 28, 316, 155, 80], [72, 317, 318, 319, 76, 146, 317, 165, 320], [317, 318, 34, 46, 114, 319, 321, 26, 51], [125, 317, 100, 29, 317, 318, 322, 80], [104, 234, 323, 324, 325, 125, 26, 326, 327], [328, 80, 329, 68, 178], [76, 158, 330, 165, 26, 51, 121, 49, 129], [28, 76, 331, 332, 56, 135, 333, 29, 23], [334, 68, 15, 335, 81, 15, 336, 337], [338, 339, 21, 340, 341, 342, 343, 253], [208, 344, 28, 21, 345, 346], [347, 37, 348, 21, 349, 350], [56, 228, 351, 15, 352, 353, 354], [355, 356, 357, 68, 21, 358, 188], [226, 359, 348, 360, 21, 108, 299], [361, 96, 21, 192, 362], [13, 81, 0, 363, 364, 37, 365, 366], [367, 368, 188, 173, 369, 0, 15, 370], [15, 32, 371, 372, 52, 373, 213], [0, 21, 374, 375, 56, 148, 155, 376], [94, 26, 34, 46, 377, 68, 34, 378], [379, 96, 380, 381, 26, 382, 41, 383], [384, 28, 385, 200, 386, 26, 384, 387], [388, 37, 388, 389, 158, 390, 391, 68, 390], [200, 392, 26, 6, 241, 26, 393, 158, 394], [72, 73, 393, 37, 395, 29, 396], [125, 15, 397, 398, 100, 399, 400], [18, 401, 402, 325, 403, 29, 404], [293, 325, 13, 405, 406, 80, 172, 267], [68, 407, 15, 408, 6, 26, 326, 24], [409, 120, 320, 410, 48, 411, 28, 155], [412, 342, 68, 342, 18, 413, 414], [355, 415, 56, 130, 56, 416, 164], [172, 107, 68, 320, 320, 417, 418, 325, 419], [156, 420, 421, 105, 422, 423, 320], [424, 74, 28, 80, 425, 195, 426, 427, 428], [153, 146, 165, 429, 28, 430, 41, 431, 253], [6, 26, 432, 34, 46, 68, 195, 433], [434, 125, 26, 435, 189, 436, 28, 12], [15, 71, 97, 437, 80, 367, 41, 438, 439], [15, 71, 97, 76, 34, 440, 56, 299, 441], [6, 26, 287, 154, 100, 80, 442, 279, 443], [81, 252, 444, 440, 445, 446, 447], [18, 448, 32, 184, 449, 450, 68, 451], [148, 234, 115, 452, 68, 15, 71, 208, 201], [453, 13, 21, 307, 165, 299, 15, 71, 454, 146], [13, 8, 67, 455, 68, 15, 71, 115, 456], [56, 457, 238, 15, 458, 94, 459, 146], [287, 460, 461, 462, 68, 6, 463, 464], [6, 96, 465, 466, 467, 117, 468], [165, 117, 469, 6, 26, 470, 460, 28, 471], [172, 165, 34, 46, 51, 94, 472], [473, 125, 26, 426, 26, 51, 474, 100, 422], [13, 6, 26, 475, 392, 153, 476, 477], [165, 26, 51, 94, 478, 37, 467, 479], [6, 480, 34, 46, 26, 481, 158, 28, 482], [483, 6, 215, 484, 28, 485], [241, 28, 157, 17, 76, 34, 486, 4], [487, 488, 34, 489, 6, 490, 446, 488, 133, 451], [84, 479, 76, 491, 492, 321, 247, 460], [76, 14, 34, 493, 153, 336, 56, 494], [72, 28, 34, 46, 495, 496, 497, 427], [135, 80, 155, 46, 165, 460, 100, 498], [6, 108, 299, 446, 193, 68, 29, 72, 80], [14, 499, 14, 26, 189, 500, 94, 499, 26, 501], [68, 320, 100, 29, 0, 6, 241, 26, 502], [56, 6, 54, 143, 241, 503, 26, 504], [26, 505, 506, 29, 81, 26, 0, 357, 507], [508, 243, 509, 108, 56, 5], [510, 74, 511, 188, 56, 147, 512], [125, 107, 114, 513, 94, 15, 318, 17, 514], [56, 515, 516, 517, 135, 15, 71, 518], [300, 212, 519, 232, 455, 158, 141, 165, 520], [521, 522, 56, 523, 524, 525], [148, 519, 166, 526, 527, 166, 528, 80, 122], [241, 218, 529, 26, 326, 68, 530, 531], [166, 532, 80, 165, 184, 533, 56, 534, 7], [26, 326, 535, 122, 158, 300, 6, 536, 12], [81, 490, 325, 134, 15, 537, 6, 538, 15, 19], [56, 142, 15, 539, 370, 540, 68, 265, 541], [81, 490, 542, 15, 543, 544, 185], [56, 545, 546, 107, 547, 548, 37, 549], [81, 550, 551, 490, 142, 552, 100, 273], [241, 553, 0, 554, 249, 555, 15, 556], [56, 277, 557, 107, 558, 339, 68, 559], [560, 96, 15, 561, 37, 549, 56, 562, 563], [104, 100, 34, 108, 325, 490, 564, 135], [6, 26, 565, 15, 566, 100, 19, 239, 567], [568, 388, 56, 569, 325, 570, 571], [56, 12, 14, 499, 14, 293, 142, 462, 572], [56, 207, 480, 573, 574, 575, 135, 576], [577, 316, 28, 539, 268, 81, 173, 578, 80, 579], [487, 6, 580, 114, 581, 46, 13, 460, 580, 213], [287, 582, 583, 321, 580, 581, 46, 584, 193], [585, 74, 586, 456, 580, 17, 587], [56, 581, 48, 588, 28, 163, 589, 221], [94, 17, 6, 108, 241, 580, 590, 68, 591], [592, 287, 593, 104, 580, 114], [581, 46, 594, 595, 581, 596, 20], [81, 581, 48, 597, 581, 48, 154, 17, 24], [172, 598, 94, 129, 41, 599, 600, 28, 512], [241, 171, 68, 601, 10, 602], [585, 15, 603, 604, 100, 301, 370], [56, 552, 605, 100, 331, 606, 147], [487, 475, 13, 607, 608, 133, 460, 580, 609], [580, 610, 41, 611, 300, 581, 383, 112, 94], [158, 0, 15, 612, 325, 490, 133, 613, 614], [56, 226, 615, 490, 616, 617], [13, 158, 28, 150, 100, 618, 72, 619, 620], [100, 621, 100, 622, 72, 623, 624], [286, 575, 490, 625, 28, 626, 627, 150], [628, 28, 342, 21, 629, 630, 56, 631], [72, 112, 37, 632, 125, 146, 84, 567, 445], [18, 633, 634, 6, 490, 68, 635, 592], [13, 0, 29, 32, 133, 636, 490, 637], [56, 638, 612, 68, 639, 490, 640, 466, 51], [14, 641, 56, 108, 84, 642, 643], [125, 0, 34, 46, 28, 520, 26, 644, 645], [72, 73, 100, 80, 74, 490, 646], [34, 456, 153, 647, 56, 8, 648, 56, 649], [81, 490, 650, 252, 651, 6, 652], [653, 68, 654, 13, 41, 655, 656], [6, 74, 657, 658, 659, 660, 13, 661], [662, 15, 612, 68, 663, 664, 665], [81, 490, 666, 6, 667, 14, 668, 5], [669, 56, 271, 670, 18, 15, 671, 672], [673, 68, 296, 674, 270, 495, 675, 676], [56, 677, 296, 539, 678, 679, 100, 25], [104, 15, 680, 100, 74, 681, 682], [683, 580, 476, 684, 68, 357, 685, 133, 346], [43, 686, 19, 687, 37, 512], [28, 488, 581, 370, 100, 357, 28, 688, 541], [56, 107, 68, 389, 37, 19, 165, 460, 100, 580], [14, 173, 578, 0, 580, 490, 689, 580, 140], [13, 690, 325, 158, 580, 41, 691, 376], [135, 389, 202, 74, 692, 693, 19], [56, 694, 581, 46, 68, 581, 512], [37, 695, 122, 696, 321, 133, 552, 697], [52, 698, 580, 96, 15, 699, 100, 416, 246], [56, 422, 700, 701, 226, 702], [37, 703, 704, 517, 24, 580, 329, 290], [121, 705, 321, 581, 706, 707], [94, 17, 15, 708, 100, 433, 6, 433, 157], [241, 74, 573, 709, 72, 133, 710, 711], [712, 68, 713, 102, 286, 714, 129], [575, 135, 580, 193, 581, 46, 68, 32, 100, 667], [28, 221, 518, 581, 46, 715, 581, 46, 299], [56, 580, 239, 193, 716, 18, 581, 30, 48, 717], [172, 97, 718, 133, 719, 68, 19, 28, 720], [125, 146, 114, 721, 37, 581, 476, 722, 723], [292, 226, 635, 724, 146, 153, 13, 14, 41, 175], [241, 725, 581, 433, 56, 661, 158, 726, 581, 408], [125, 490, 323, 727, 15, 108, 100, 581, 32], [56, 68, 54, 728, 729, 107, 581, 730], [15, 188, 28, 720, 517, 112, 74, 731, 45], [466, 353, 732, 733, 734, 735, 736], [94, 17, 133, 737, 738, 37, 296, 188], [76, 739, 367, 136, 667, 100, 740, 641, 321, 741], [56, 581, 397, 742, 76, 743, 41, 744, 605], [56, 745, 746, 100, 115, 747, 421], [13, 114, 163, 130, 100, 583, 748, 6, 19], [580, 17, 193, 749, 68, 146, 56, 68, 133, 697], [84, 490, 750, 80, 28, 41, 277, 370], [26, 51, 122, 182, 56, 122, 751], [752, 753, 325, 754, 15, 755, 756, 100, 446], [56, 277, 591, 455, 107, 49, 757, 41, 649], [758, 49, 759, 15, 253, 100, 635, 760], [56, 761, 153, 21, 762, 763, 764], [56, 252, 129, 0, 129, 758, 765], [18, 766, 72, 204, 767, 768, 769], [13, 34, 606, 264, 84, 158, 770], [286, 771, 772, 100, 6, 129, 26, 773], [286, 84, 324, 774, 26, 775, 68, 21, 776], [81, 68, 606, 708, 28, 19, 26, 501], [94, 777, 14, 667, 575, 778, 72, 32, 575, 142], [94, 777, 243, 74, 56, 74, 206, 433, 28, 80], [779, 19, 780, 26, 15, 781, 782], [56, 135, 15, 783, 784, 184, 30, 48, 785], [614, 15, 786, 787, 0, 15, 788, 789, 790], [56, 791, 15, 792, 793, 68, 184, 143], [135, 794, 56, 795, 796, 14, 26, 797], [56, 325, 798, 26, 426, 799, 19], [28, 15, 800, 71, 56, 107, 184, 801, 388], [13, 490, 802, 80, 320, 476, 803, 804], [487, 805, 158, 37, 34, 246, 133, 806, 129, 86], [286, 807, 287, 708, 269, 37, 29, 747, 711], [268, 68, 34, 768, 808, 325, 809], [165, 8, 810, 28, 811, 667], [226, 325, 34, 812, 136, 19, 190, 34, 813], [133, 460, 84, 68, 133, 719, 814, 193, 815], [41, 816, 151, 37, 204, 30, 303, 706], [442, 26, 15, 817, 818, 100, 133, 819], [41, 816, 247, 820, 13, 158, 821], [37, 822, 488, 14, 153, 823, 824, 825], [115, 253, 122, 31, 321, 826, 740, 823, 68, 827], [828, 15, 829, 830, 146, 831], [41, 832, 68, 833, 107, 834, 68, 21, 835], [241, 836, 837, 32, 56, 824, 838, 839], [56, 165, 41, 840, 841, 26, 842, 843], [844, 232, 14, 166, 845, 80, 846, 847], [56, 18, 848, 498, 100, 80, 849], [18, 850, 320, 651, 28, 133, 851, 207], [13, 568, 166, 852, 80, 679, 165, 824, 395], [131, 76, 34, 460, 56, 34, 806, 124, 296, 109], [94, 153, 146, 158, 37, 498, 14, 37, 6, 853], [854, 18, 41, 706, 108, 28, 21, 719], [172, 635, 146, 46, 165, 55, 208, 124], [56, 252, 129, 37, 21, 129, 208, 855], [40, 41, 856, 100, 92, 750], [37, 857, 56, 858, 37, 783, 56, 859, 684, 860], [37, 861, 862, 290, 56, 107, 863, 864], [6, 865, 866, 68, 74, 657, 867, 868], [487, 300, 498, 397, 68, 460, 13, 869, 727], [56, 104, 718, 498, 133, 460, 153, 14, 129], [14, 471, 179, 130, 292, 158, 94, 31], [14, 212, 762, 870, 871, 68, 865, 866], [300, 639, 112, 122, 6, 367, 100, 872, 445], [490, 97, 158, 119, 6, 851, 158, 28, 873], [133, 149, 84, 158, 874, 498, 490, 875, 136], [94, 777, 14, 357, 56, 26, 213, 100, 320, 649], [13, 81, 68, 80, 573, 876, 490, 542], [104, 148, 490, 324, 133, 111, 17, 877], [165, 107, 6, 108, 6, 208, 878, 80], [153, 13, 15, 879, 880, 100, 133, 820], [241, 68, 34, 881, 208, 193, 14, 29, 68, 498], [120, 575, 490, 104, 76, 882, 321, 26, 51], [487, 883, 460, 76, 100, 884, 94, 885], [14, 490, 158, 165, 133, 46, 13, 165, 80, 97], [886, 34, 820, 241, 490, 97, 447, 94, 887], [14, 22, 888, 184, 889, 0, 890, 891], [892, 158, 96, 34, 820, 81, 131, 153, 893], [26, 894, 498, 29, 158, 28, 221, 181, 594], [14, 115, 895, 896, 96, 15, 658], [172, 37, 21, 429, 153, 897, 898, 21, 899], [72, 163, 788, 651, 900, 37, 49, 121, 605], [156, 901, 44, 902, 21, 30, 820], [94, 490, 165, 429, 100, 903, 904, 28, 112], [15, 905, 906, 100, 806, 907], [56, 68, 131, 30, 806, 908, 909, 28, 512], [910, 37, 911, 100, 131, 30, 806, 10], [487, 300, 133, 348, 76, 104, 15, 912], [56, 913, 914, 100, 133, 915, 881], [172, 916, 165, 460, 56, 148, 165, 917], [122, 321, 6, 741, 6, 122, 455, 122, 918], [487, 919, 28, 640, 234, 920, 460, 455, 921], [28, 385, 37, 32, 922, 28, 806, 923, 924], [131, 253, 455, 925, 15, 926, 56, 455, 927], [34, 8, 154, 68, 928, 100, 133, 820], [133, 929, 153, 15, 250, 930, 931, 103], [56, 932, 146, 153, 526, 933, 51], [165, 186, 15, 926, 239, 580, 142, 21, 717], [28, 592, 43, 581, 397, 196, 934, 45], [241, 68, 133, 935, 936, 153, 937, 299], [6, 455, 21, 187, 938, 37, 29, 32], [52, 142, 234, 618, 939, 32, 165, 32, 616, 940], [131, 32, 616, 716, 34, 450, 56, 29, 165, 498], [213, 187, 28, 133, 881, 941, 15, 857], [391, 28, 942, 28, 251, 943, 96, 80], [226, 32, 74, 944, 945, 28, 946, 296, 51], [293, 807, 13, 234, 293, 142, 609, 158, 15, 820], [300, 212, 172, 213, 68, 947, 37, 296, 612], [100, 948, 601, 56, 92, 949, 950], [951, 490, 519, 625, 100, 466, 952, 953], [379, 165, 390, 68, 6, 490, 601, 476], [224, 954, 955, 296, 129, 273, 956], [13, 14, 15, 957, 495, 15, 958, 253], [56, 68, 570, 296, 959, 45, 960], [165, 495, 41, 961, 293, 68, 296, 962, 12], [15, 963, 964, 965, 165, 966], [595, 41, 967, 968, 969, 970], [153, 0, 15, 971, 100, 601, 972, 274], [56, 107, 15, 973, 974, 165, 241, 173, 975], [104, 416, 490, 6, 460, 56, 875, 474], [43, 490, 446, 158, 976, 286, 76, 977], [978, 100, 133, 460, 28, 519, 68, 979], [34, 980, 455, 133, 981, 982, 983], [28, 80, 490, 984, 74, 985, 986], [28, 987, 981, 158, 28, 297, 133, 924], [981, 94, 224, 241, 924, 94, 988, 14, 131], [446, 135, 909, 989, 68, 990, 991, 28, 297, 146], [13, 6, 490, 992, 163, 618, 680, 100, 29], [68, 34, 993, 489, 107, 994, 97, 995, 146], [844, 996, 997, 6, 998, 133, 999], [1000, 96, 498, 1001, 37, 129, 1002], [56, 1003, 1004, 96, 133, 98, 1005], [28, 297, 498, 1006, 100, 34, 48, 1007], [104, 446, 490, 1008, 28, 950, 120, 490, 325, 460, 80], [844, 104, 158, 297, 133, 341, 43, 26, 505, 427, 498], [365, 37, 1009, 490, 1010, 498, 28, 133, 1011], [15, 608, 1012, 165, 1013, 37, 1014, 1015], [13, 104, 1016, 41, 1017, 68, 133, 341], [28, 248, 133, 451, 81, 1018, 1019, 1020], [165, 104, 133, 1021, 0, 1022, 43, 490, 1023], [1024, 41, 1025, 362, 28, 80], [56, 447, 133, 1026, 1027, 1028, 800], [1029, 96, 1030, 241, 15, 1031, 325, 142], [577, 6, 133, 993, 1032, 346], [1033, 34, 1034, 28, 133, 1035, 1036], [241, 367, 41, 1037, 1038, 68, 1039, 541], [1040, 1041, 541, 215, 56, 184, 136, 151, 140], [334, 1042, 18, 370, 133, 1013, 18, 541, 133, 451], [165, 80, 56, 165, 133, 46, 287, 1043, 592], [120, 575, 490, 104, 1044, 68, 416, 1045], [6, 875, 1046, 15, 1047, 100, 973], [81, 1048, 1049, 153, 158, 1050, 18, 541], [13, 370, 18, 541, 56, 541, 18, 370, 1051], [56, 342, 292, 1052, 28, 1053, 1054], [325, 68, 1055, 754, 1056, 28, 1057, 498], [15, 320, 18, 1009, 15, 589, 28, 1058], [120, 1022, 490, 1009, 299, 1059, 1060, 0, 80], [490, 150, 15, 370, 28, 1061, 268, 26, 51, 31], [56, 160, 268, 946, 81, 1062, 325, 1063, 15, 635], [94, 1064, 490, 15, 1065, 541], [81, 1066, 612, 1067, 158, 26, 1068, 15, 670], [13, 370, 208, 1069, 807, 133, 1070, 582], [56, 541, 208, 1071, 135, 1072, 1073, 909, 1074], [81, 68, 1075, 37, 625, 56, 837, 32], [490, 107, 230, 1076, 133, 1077, 678], [56, 1078, 1079, 635, 37, 133, 1080, 1081], [56, 148, 202, 133, 46, 56, 1082, 133, 1083], [1084, 498, 367, 28, 320, 122, 684, 68, 992], [1085, 367, 268, 367, 268, 37, 1086, 478], [1087, 74, 1088, 51, 56, 6, 1088, 1089], [37, 234, 490, 476, 1090, 1091, 496], [226, 68, 1092, 1021, 133, 46, 1093, 1094], [1095, 490, 1096, 96, 80, 56, 104, 133, 678], [367, 28, 15, 1097, 495, 1098, 100, 370, 1099], [0, 1100, 783, 424, 1101, 495, 865, 1102], [165, 34, 48, 460, 194, 466, 1103, 1104], [6, 104, 490, 1105, 28, 488, 133, 678, 37, 1106], [81, 28, 15, 1107, 100, 48, 920, 489], [490, 1108, 339, 288, 100, 863, 544], [490, 1109, 15, 1110, 100, 422, 41, 651, 490, 1111], [56, 37, 136, 1112, 140, 437, 133, 608, 573, 67], [104, 575, 490, 1113, 115, 253, 238, 28, 1114], [165, 1115, 1086, 1116, 68, 331, 1117, 541], [56, 441, 1118, 806, 777, 568, 1119, 1120], [56, 1121, 244, 1122, 100, 422, 41, 1123, 346], [104, 575, 490, 1124, 495, 1125, 1126], [56, 1127, 0, 1120, 28, 1120, 150, 548], [15, 1128, 1129, 100, 1130, 1121], [241, 490, 140, 312, 14, 125, 158, 1131, 685], [13, 125, 15, 1132, 490, 1096, 96, 80, 608, 1133], [107, 1134, 213, 1135, 56, 1070, 456], [34, 463, 153, 1136, 37, 107, 1137], [241, 490, 18, 1138, 616, 1139, 1140], [56, 269, 1141, 460, 56, 107, 806, 1005, 408], [56, 107, 212, 1086, 241, 490, 489, 960], [120, 422, 41, 1142, 56, 1143, 1144], [455, 608, 1145, 460, 1146, 0, 131, 253], [14, 1147, 100, 15, 1140, 241, 52, 1148], [13, 863, 977, 6, 1149, 68, 80, 1150], [26, 51, 15, 79, 43, 960, 460, 208, 193], [1038, 37, 15, 1151, 100, 133, 1152, 233], [172, 107, 296, 408, 100, 498, 28, 80, 249, 221], [6, 78, 100, 422, 52, 153, 29, 230], [296, 1153, 490, 1154, 490, 1036, 68, 80], [56, 26, 107, 293, 442, 107, 15, 107, 100, 498], [125, 26, 1155, 133, 1156, 370], [81, 6, 65, 324, 133, 1157, 37, 1158, 84, 878], [56, 189, 18, 625, 969, 122, 1159], [1092, 988, 523, 708, 100, 34, 1160, 1161], [750, 639, 37, 15, 1162, 100, 15, 19], [56, 292, 293, 76, 1163, 18, 252, 711], [1164, 639, 165, 133, 460, 158, 165, 296, 697], [1165, 18, 15, 675, 100, 319, 667], [487, 104, 1166, 498, 13, 74, 1005, 489], [1167, 133, 1168, 853, 1169, 37, 74, 1170, 188], [41, 1171, 1172, 321, 74, 21, 460, 610, 1173], [28, 1174, 68, 1175, 100, 1176, 1177], [13, 568, 173, 1178, 56, 1179, 1176, 427], [826, 165, 296, 1180, 1181, 640, 21, 165, 21, 1182], [1183, 422, 41, 1184, 1185, 616, 490, 1186], [1064, 15, 1187, 1188, 37, 1189, 253], [1190, 37, 192, 151, 15, 1191, 557], [828, 1192, 1193, 37, 353, 1194], [1195, 1196, 15, 1197, 1062, 28, 1198], [37, 1199, 1200, 96, 21, 1201, 151], [56, 0, 15, 1202, 71, 21, 1203, 1204], [1205, 1206, 28, 1207, 37, 74, 1075], [670, 94, 133, 857, 320, 1208, 1209, 249, 1210], [37, 107, 1211, 1212, 96, 133, 86], [13, 679, 1213, 173, 289, 13, 320, 1214, 131], [15, 1215, 1216, 455, 1217, 268, 0, 498, 52], [226, 268, 165, 74, 133, 460, 287, 1218, 1219], [1220, 100, 15, 71, 446, 1221, 81, 865, 857, 1222], [200, 1223, 26, 1224, 466, 41, 215, 370], [56, 135, 498, 1014, 1225, 510, 133, 1226], [28, 300, 1227, 1062, 1228, 498, 68, 133, 376], [1229, 34, 1230, 68, 296, 1231, 1232], [931, 158, 1233, 6, 186, 15, 1216, 26, 1098], [28, 1234, 15, 630, 96, 133, 1235, 151], [165, 287, 832, 445, 100, 466, 41, 1236, 575, 1237], [6, 1238, 15, 1239, 56, 1240, 158, 15, 1075], [286, 575, 34, 117, 221, 1241, 28, 133, 1242], [292, 26, 1243, 226, 490, 616, 299, 15, 1244], [244, 1245, 1246, 211, 13, 1247, 1248], [28, 268, 6, 1249, 15, 356, 1250, 1251], [434, 13, 212, 1252, 213, 1253, 241, 34, 460, 1254], [56, 293, 213, 684, 56, 1255, 107, 891, 1256], [287, 122, 76, 1257, 495, 6, 241, 26, 442, 940], [1258, 616, 1259, 56, 1260, 1261, 1262], [1062, 56, 1263, 1221, 1264, 858, 56, 857], [56, 1265, 1266, 243, 68, 1267, 62], [107, 667, 135, 1268, 56, 670, 490, 68, 74], [1269, 34, 1270, 37, 750], [133, 46, 1271, 1272, 34, 1273], [1274, 34, 1275, 122, 321, 34, 1275, 213], [165, 28, 34, 1276, 1277, 490, 1278, 68, 1279], [34, 1280, 1281, 153, 34, 1282], [56, 480, 133, 46, 41, 1283, 1284, 1285], [466, 1286, 389, 153, 68, 133, 460, 56, 479], [6, 490, 115, 1287, 1288, 239, 76], [28, 6, 48, 1289, 241, 1290, 1291, 0, 498], [300, 498, 1292, 6, 3, 1293, 239, 76, 1294], [1295, 1296, 1297, 1298, 213, 320], [94, 84, 212, 1299, 6, 325, 37, 498, 1300], [510, 34, 1301, 18, 498, 76, 560, 230], [68, 1296, 1293, 1298, 269, 153, 13, 320, 1007], [292, 68, 1296, 243, 41, 1302, 1303], [241, 292, 146, 1304, 158, 806, 1305, 284], [226, 208, 146, 1306, 48, 246, 0, 806, 1307], [490, 446, 158, 1308, 1309, 80], [1310, 133, 1311, 1312, 17, 325, 80, 117], [286, 26, 37, 948, 1313, 601, 498], [381, 26, 1314, 6, 601, 0, 34, 1315], [13, 325, 158, 94, 490, 460, 80, 68, 466, 1316], [14, 26, 105, 131, 131, 153, 34, 618, 1317], [14, 41, 1318, 611, 578, 1307], [28, 142, 21, 1319, 130, 325, 1256, 100, 357], [94, 490, 141, 1320, 18, 1321, 1322, 1303], [1314, 107, 133, 1323, 100, 34, 102, 56, 641], [165, 1324, 108, 1172, 72, 1103, 72, 924], [72, 471, 100, 1092, 107, 72, 107, 72, 122], [1325, 68, 34, 408, 325, 1326, 1327], [490, 135, 133, 460, 1328, 28, 74, 520], [94, 104, 490, 875, 158, 1320, 988, 286, 1329], [951, 6, 74, 1034, 208, 466, 298, 221], [6, 490, 68, 34, 44, 875, 1330], [56, 18, 41, 899, 100, 107, 34, 962, 193], [148, 234, 153, 526, 6, 526, 490, 704, 68, 80], [74, 704, 490, 616, 104, 317, 318, 416, 498], [120, 575, 133, 853, 945, 1331, 28, 1332], [1132, 26, 160, 778, 6, 1333, 1334, 133, 719], [29, 30, 48, 1335, 49, 1336], [165, 252, 1337, 1338, 28, 855], [487, 221, 34, 46, 15, 1339, 125, 1340, 68, 498], [1006, 1341, 698, 585, 34, 346], [165, 1342, 94, 913, 6, 1343, 727, 28, 80], [81, 26, 34, 46, 160, 221, 1344, 337], [76, 26, 15, 1345, 853, 317, 318, 122, 68, 102], [321, 212, 136, 1346, 241, 1347, 1348], [56, 173, 6, 180, 96, 80, 300, 268, 1278, 1225], [606, 728, 28, 1349, 777, 649], [125, 133, 1350, 853, 325, 1061, 1092, 1351, 111], [15, 1352, 76, 131, 13, 29, 84, 76, 15, 119], [487, 120, 34, 102, 37, 1353, 446, 490, 419], [81, 26, 51, 107, 15, 1176, 899, 100, 498], [234, 575, 131, 30, 119, 28, 131, 30, 46, 1278], [56, 234, 1354, 13, 131, 30, 81, 490, 119, 80], [670, 165, 74, 300, 1355, 1356, 193], [56, 1296, 608, 460, 771, 1315, 100, 195, 320], [6, 18, 74, 1357, 490, 446, 221], [6, 78, 28, 80, 241, 26, 1358, 230], [487, 1359, 234, 41, 1360, 644, 26, 427], [114, 146, 158, 34, 1361, 1362, 528, 48, 237], [28, 1363, 15, 19, 37, 1021, 100, 460], [241, 19, 56, 1021, 94, 405, 208, 231], [56, 6, 26, 1364, 120, 28, 135, 320, 1294], [18, 1365, 268, 584, 172, 208, 579, 1300], [1314, 107, 133, 1298, 133, 460, 1366, 1314, 639, 107], [234, 442, 26, 104, 122, 321, 26, 1367, 685], [287, 460, 133, 460, 6, 26, 505, 397, 460, 506], [107, 131, 289, 29, 685, 26, 1367, 74, 122], [104, 125, 165, 133, 460, 26, 133, 460, 1368], [490, 1343, 1369, 80, 165, 133, 460, 26, 1370], [13, 226, 76, 1371, 125, 26, 34, 46, 1372], [18, 1373, 1374, 100, 234, 34, 46, 1375], [490, 325, 1376, 34, 1377, 247, 1289], [1295, 26, 1306, 80, 107, 133, 1378], [56, 226, 460, 724, 146, 153, 41, 1379, 1242], [28, 24, 1379, 813, 321, 1380, 1381, 1382], [1383, 946, 68, 519, 107, 891, 445, 661], [1384, 498, 37, 1385, 226, 3, 239, 158, 76, 1386], [212, 1387, 1388, 6, 1389, 468], [81, 490, 875, 758, 1390, 0, 34, 820], [34, 108, 56, 34, 1391, 1183, 445, 1392], [165, 299, 1393, 1394, 43, 26, 51], [247, 26, 51, 56, 883, 28, 76, 1395], [215, 26, 51, 883, 28, 76, 1396], [56, 81, 41, 840, 1397, 234, 816, 383], [97, 1290, 237, 184, 844, 173, 616, 1398], [1399, 498, 13, 226, 26, 1400, 133, 1401, 1402], [56, 406, 34, 108, 56, 34, 1403, 357], [172, 1404, 80, 68, 296, 1405, 670, 269], [43, 26, 51, 1406, 28, 1098, 41, 1407, 641], [1408, 18, 34, 108, 1409, 184, 28, 80], [29, 18, 34, 108, 105, 823, 28, 498], [6, 26, 442, 184, 146, 153, 158, 107, 133, 1242], [56, 226, 146, 446, 76, 1410, 490, 1154, 184, 1411], [6, 166, 455, 80, 153, 100, 133, 1412, 486], [41, 1244, 68, 460, 6, 732, 498, 122, 1413], [1005, 1414, 1042, 490, 97, 1415, 1416], [26, 160, 460, 184, 1417, 26, 1418, 490, 460, 184], [56, 165, 133, 1419, 670, 94, 208, 166, 217, 498], [1420, 133, 1133, 165, 133, 1419, 28, 1421, 184], [125, 490, 771, 80, 133, 1244, 153, 133, 806, 1422], [56, 1423, 184, 133, 1133, 455, 1424, 6, 1244], [1264, 592, 342, 589, 56, 490, 771, 1264, 1294], [56, 1264, 165, 133, 1419, 1425, 96, 498, 74, 1251], [13, 1426, 15, 390, 133, 1133, 56, 490, 213, 320], [48, 1427, 104, 166, 1298, 13, 498, 230], [81, 476, 490, 1428, 104, 325, 131, 32, 526, 142], [165, 107, 15, 370, 293, 1036, 863, 1429], [13, 81, 490, 1430, 68, 1431, 293, 148, 96, 80], [56, 1432, 31, 213, 31, 68, 1433, 1434], [104, 26, 156, 1034, 1435, 208, 135, 31], [120, 517, 34, 1436, 154, 154, 416, 297], [28, 15, 1437, 370, 37, 34, 121, 1438, 337], [81, 28, 1439, 32, 34, 776, 760, 94], [120, 517, 490, 112, 131, 32, 76, 696, 141], [18, 1029, 96, 80, 68, 15, 329, 370], [81, 68, 1140, 541, 34, 129, 1440, 776], [186, 1441, 1430, 96, 1035, 32, 208, 682], [107, 111, 213, 1442, 28, 142, 844, 490, 142, 80], [56, 1442, 31, 111, 81, 1431, 325, 297, 80, 498], [125, 15, 1443, 298, 100, 133, 1444, 114, 489], [1445, 1446, 17, 158, 177, 133, 376], [165, 104, 190, 100, 1447, 490, 517, 76, 1173], [0, 1448, 1022, 1449, 43, 26, 160, 682], [287, 1450, 104, 1295, 133, 1451, 249, 698], [202, 15, 1452, 783, 977, 0, 80], [165, 1453, 489, 575, 1454, 1264, 1455, 56, 1456], [14, 1457, 14, 1096, 15, 307, 43, 173, 517, 76], [13, 434, 489, 1458, 498, 6, 490, 875, 158, 489], [28, 1459, 1460, 1461, 100, 1462, 81, 26, 51, 233], [13, 6, 94, 121, 100, 783, 56, 1463, 845], [490, 239, 1464, 573, 1362, 37, 133, 1121], [1465, 660, 18, 1466, 94, 1467], [13, 1441, 1252, 1468, 100, 1053, 1120], [15, 589, 1293, 1350, 866, 56, 1469, 1470], [213, 1264, 37, 80, 1471, 490, 1023], [15, 842, 133, 489, 15, 589, 133, 4], [1092, 1472, 37, 1473, 1474, 1475], [165, 81, 1092, 1476, 1466, 213, 233], [68, 22, 1477, 100, 460, 28, 80], [133, 433, 105, 141, 100, 1478, 37, 1293, 230], [1479, 1480, 28, 324, 1051, 37, 1481], [1482, 1483, 1484, 76, 1485], [18, 212, 1473, 1486, 1487, 0, 80], [172, 670, 13, 52, 720, 181, 594, 1488], [100, 34, 129, 1489, 1490, 146, 28, 498], [74, 1491, 490, 390, 13, 104, 287, 582, 794], [490, 984, 639, 181, 594, 56, 1492, 572, 1128], [131, 253, 56, 820, 213, 495, 41, 359, 389], [120, 28, 1493, 15, 332, 100, 34, 346], [131, 253, 133, 820, 34, 1494, 346, 517, 1495], [133, 820, 131, 253, 15, 1496, 100, 6, 1497], [133, 820, 208, 916, 6, 26, 68, 268, 160, 1150], [41, 1498, 11, 1499, 37, 1500, 32], [13, 15, 1501, 208, 6, 1284, 469], [56, 1502, 68, 268, 34, 129, 1503, 45], [28, 1504, 74, 1505, 153, 1506], [41, 1507, 100, 1021, 107, 1508, 28, 15, 820], [56, 18, 296, 1509, 153, 1510], [15, 1437, 1511, 1512, 56, 15, 608, 1513, 899], [14, 1042, 131, 1511, 78, 153, 34, 714, 899], [56, 133, 1513, 1497, 34, 713, 460, 100, 820], [1514, 131, 253, 56, 820, 41, 1515, 153, 1516], [56, 342, 208, 618, 939, 52, 1517, 15, 589], [81, 6, 131, 253, 153, 1518, 165, 41, 148], [72, 820, 68, 460, 37, 1519, 465, 208, 1520], [37, 133, 806, 1521, 104, 133, 253, 208, 1522], [56, 28, 15, 706, 1523, 1524, 133, 820], [155, 19, 131, 253, 153, 133, 1513, 1525], [56, 68, 21, 1021, 100, 460, 208, 1526, 41, 899], [94, 1527, 18, 34, 1521, 72, 133, 460], [34, 46, 518, 51, 1528, 299, 37, 498], [165, 26, 158, 1059, 321, 133, 1021, 227, 1529], [56, 490, 875, 299, 37, 639, 56, 293, 37, 80], [72, 125, 293, 1430, 34, 1521, 68, 133, 346], [1530, 133, 820, 28, 1513, 56, 1511, 1307], [120, 1531, 289, 490, 81, 490, 1516, 133, 376], [342, 1532, 343, 1533, 953, 28, 1534], [6, 28, 133, 124, 146, 10, 238, 682], [0, 1056, 100, 1535, 68, 1536, 1537, 100, 903], [13, 26, 28, 519, 133, 1538, 1539, 213], [476, 1006, 1323, 52, 133, 1540, 1242], [26, 526, 100, 1322, 56, 131, 57, 1541], [51, 279, 15, 1542, 100, 252, 1337, 1289], [80, 616, 490, 158, 1543, 339, 68, 471, 1544], [577, 43, 26, 51, 158, 292, 490, 1545, 26, 51], [61, 15, 247, 1546, 100, 133, 881], [0, 1547, 495, 395, 26, 505, 720, 56, 899], [56, 670, 1548, 26, 426, 76, 1146, 490, 429], [165, 641, 1549, 1550, 165, 41, 1551, 94, 608], [585, 6, 19, 125, 814, 6, 19, 720], [81, 490, 84, 142, 80, 961, 96, 133, 1552], [81, 14, 34, 460, 455, 1553, 21, 1554, 132], [1555, 28, 6, 236, 18, 1556, 1557], [585, 6, 19, 81, 26, 189, 1558, 1559], [56, 1560, 1561, 498, 37, 6, 857, 29, 253], [81, 460, 373, 0, 15, 651, 146, 289], [84, 1562, 592, 100, 1563, 1564], [585, 6, 19, 325, 490, 1565, 498, 584], [61, 15, 636, 100, 131, 30, 1566], [56, 74, 133, 303, 585, 133, 46, 1567], [28, 1568, 15, 1283, 1562, 96, 34, 899], [28, 237, 988, 498, 26, 442, 15, 908, 100, 1569], [568, 200, 28, 460, 490, 575, 1570, 287, 1571], [120, 1441, 325, 490, 1017, 96, 15, 376], [81, 234, 490, 1572, 133, 365, 1573, 456], [208, 1574, 6, 1575, 56, 6, 1576, 28, 112], [1577, 1022, 15, 1462, 213, 1578, 0, 34, 1579], [15, 1580, 6, 1249, 498, 1015, 37, 133, 1120], [1581, 1582, 96, 28, 24, 6, 1583, 68, 498], [14, 125, 18, 163, 1584, 15, 1585, 249, 609], [21, 1586, 1154, 158, 1587, 105, 141, 0, 80], [15, 692, 1588, 1343, 1589, 268, 96], [6, 1590, 1591, 1592, 1334, 21, 1204], [241, 1127, 173, 1593, 37, 41, 1594], [122, 1595, 28, 498, 321, 1596, 28, 21, 1504], [165, 6, 258, 1594, 208, 897, 74, 68, 133, 451], [133, 1242, 45, 1597, 56, 133, 390, 443], [1042, 575, 133, 460, 1415, 15, 1467, 1598], [100, 133, 1443, 1599, 81, 0, 80, 490, 1587], [0, 43, 26, 51, 200, 17, 490, 1010, 498, 1548], [844, 490, 1044, 100, 1600, 153, 287, 1601], [487, 234, 1415, 97, 133, 988, 1580, 104, 592], [81, 1473, 1602, 575, 909, 13, 1467], [104, 17, 490, 1588, 292, 1603, 96, 15, 631], [68, 1604, 1587, 287, 1474, 84, 490, 609], [104, 575, 287, 1605, 37, 133, 4, 447, 1606], [883, 4, 100, 1607, 460, 105, 141], [84, 1608, 287, 1443, 1444, 68, 21, 1609, 1610], [13, 460, 165, 460, 1042, 84, 1415, 133, 1611], [568, 0, 80, 1612, 173, 1613, 1614], [1615, 80, 1181, 1616, 56, 221, 268, 237, 28, 567], [94, 875, 490, 14, 15, 684, 156, 696, 1617], [575, 1278, 268, 28, 21, 48, 1618, 109], [15, 241, 173, 97, 158, 252, 1214, 1619], [165, 1620, 15, 923, 1621, 100, 1622, 395], [883, 213, 1623, 94, 1624, 56, 94, 864], [568, 1622, 586, 68, 6, 777, 516, 1625], [367, 1626, 100, 102, 293, 1627, 1628, 213], [72, 1629, 1538, 68, 15, 1630], [94, 153, 15, 19, 6, 715, 580, 14, 133, 1544], [72, 14, 15, 1631, 241, 15, 1632, 208, 1204], [28, 135, 163, 1633, 1634, 1635], [18, 140, 1636, 21, 1637, 959], [696, 213, 580, 156, 1638, 206, 1089], [105, 610, 28, 952, 105, 1639, 28, 992], [234, 153, 581, 298, 1640, 213, 580, 141], [6, 1641, 100, 1642, 1435, 96, 580, 1643], [568, 252, 320, 455, 252, 320, 320, 776], [56, 580, 13, 320, 575, 252, 1034, 209], [1644, 1645, 56, 15, 707], [153, 1646, 1647, 595, 580], [96, 1648, 1649, 107, 51, 100, 108, 1625], [56, 580, 68, 1650, 1651, 213, 706, 140], [1237, 100, 15, 60, 56, 1652, 100, 15, 516], [15, 320, 208, 1034, 100, 581, 108, 297], [15, 589, 14, 581, 530, 208, 1148], [56, 580, 68, 252, 696, 450, 3, 609], [68, 107, 1653, 946, 580, 616, 163, 899], [13, 580, 367, 475, 475, 580, 165, 638, 820], [487, 120, 121, 122, 208, 108, 215, 909], [18, 6, 48, 55, 241, 641, 208, 221], [15, 9, 348, 129, 13, 491, 3, 146, 1654], [165, 6, 48, 1655, 241, 208, 68, 146, 193], [15, 1266, 1656, 616, 1183, 14, 88, 41, 1657], [14, 15, 1658, 1659, 100, 15, 1258], [1660, 96, 466, 1259, 56, 255, 14, 1661], [81, 277, 1662, 296, 1217, 756, 1663], [13, 165, 296, 1664, 57, 153, 296, 297], [293, 193, 1665, 56, 1429, 770], [12, 28, 570, 48, 1258, 325, 158, 94], [100, 296, 48, 1666, 213, 1267, 1667, 141], [56, 94, 100, 580, 215, 56, 182, 357], [81, 6, 84, 770, 133, 719, 1668, 581, 641], [158, 1669, 286, 15, 1670, 1671], [100, 632, 84, 1349, 74, 1672, 697], [13, 580, 84, 1210, 122, 31, 68, 1092, 1673], [321, 1674, 1675, 1676, 37, 1677, 19], [81, 686, 389, 84, 1678, 1679], [56, 1680, 1681, 679, 15, 248, 100, 1682], [286, 1683, 21, 1684, 286, 1685, 1686, 1470, 84, 791], [15, 329, 1687, 100, 581, 25], [480, 324, 56, 1688, 1689], [84, 580, 1606, 1225, 581, 119, 84, 299, 592, 1690], [670, 68, 15, 32, 100, 107, 178], [6, 677, 74, 71, 679, 28, 15, 1691, 648], [94, 844, 15, 1692, 6, 581, 46, 1693], [580, 193, 68, 74, 56, 254, 68, 1694, 32], [48, 460, 1695, 34, 1696, 76, 146, 158, 1410], [34, 1697, 17, 1698, 76, 321, 1699], [241, 13, 1700, 18, 1701, 153, 1702], [1703, 1704, 68, 21, 1705, 10], [94, 460, 76, 26, 1295, 1700, 26, 1706], [34, 1707, 32, 670, 844, 293, 1428, 37, 1708], [1703, 142, 594, 56, 325, 158, 1384], [15, 1709, 100, 460, 37, 41, 1710, 1711], [300, 74, 1128, 1712, 367, 15, 1713, 76], [241, 408, 15, 1714, 43, 1293, 27, 140], [720, 1069, 28, 15, 1715, 6, 81, 293, 142], [1044, 100, 460, 122, 1716, 446, 76, 15, 1036], [72, 506, 146, 266, 241, 105, 1183, 100, 1541], [1040, 277, 1717, 1718, 122, 1719, 122, 864], [105, 581, 1720, 234, 17, 490, 325, 13, 1643], [202, 15, 246, 56, 318, 100, 581, 4], [490, 616, 287, 1115, 19, 495, 107, 28, 201], [286, 1721, 28, 325, 844, 580, 1722], [286, 1008, 490, 406, 15, 1723, 1214], [951, 490, 133, 1189, 1724, 15, 537, 165, 580], [286, 1096, 15, 1725, 100, 1359, 1361], [81, 580, 616, 1726, 581, 1727, 969, 1728], [286, 1008, 490, 564, 37, 133, 1729, 489], [43, 580, 446, 76, 72, 581, 1730, 1731], [13, 367, 41, 1128, 1720, 682, 56, 1096, 100, 660], [577, 43, 580, 213, 120, 416, 580, 135, 212], [94, 397, 41, 1732, 153, 460, 6, 68, 581, 97], [292, 580, 325, 471, 651, 173, 1733, 287, 891], [6, 1734, 802, 6, 141, 498, 842, 581, 1720], [490, 17, 68, 489, 1735, 581, 318, 100, 395], [72, 495, 581, 303, 244, 1129, 100, 246, 28, 1736], [105, 581, 1737, 1738, 28, 682, 581, 1362], [487, 300, 498, 1739, 105, 495, 581, 1740], [244, 1637, 1359, 100, 581, 1389], [56, 1741, 1742, 28, 1743, 1744, 342, 1745], [510, 1746, 580, 100, 1382], [76, 43, 580, 1747, 581, 1748, 153, 94, 356], [6, 580, 581, 46, 446, 1749, 581, 19], [28, 234, 580, 97, 28, 580, 146, 208, 1750], [581, 46, 28, 1751, 100, 1752, 804], [490, 875, 28, 1753, 292, 1754, 94, 76, 1755], [158, 1369, 581, 395, 76, 146, 891, 72, 445], [125, 269, 76, 207, 140, 13, 6, 241, 153], [455, 1756, 685, 120, 213, 1296, 1757, 1758], [241, 1759, 165, 1344, 24, 1760], [15, 1761, 911, 100, 41, 1705, 130], [487, 6, 1687, 323, 37, 41, 1762, 148], [670, 100, 1763, 1764, 1765, 100, 15, 857], [297, 498, 581, 196, 68, 163, 747, 971], [568, 451, 495, 842, 68, 1766, 289, 940], [6, 490, 10, 142, 234, 15, 136, 71, 323, 112], [28, 74, 1767, 1768, 100, 581, 250], [1324, 3, 213, 1769, 72, 1324, 1176, 293], [72, 1324, 1770, 76, 15, 258], [487, 1536, 490, 875, 15, 1771, 100, 1705, 111], [28, 1772, 1773, 616, 220, 1774, 119], [367, 14, 15, 1775, 135, 1615, 15, 1776, 1714], [94, 325, 1296, 627, 1777, 28, 296, 456], [342, 767, 307, 37, 6, 241, 1778, 685], [68, 1779, 1009, 107, 1780, 325, 1781], [1782, 969, 68, 15, 1783, 100, 337], [1784, 28, 1785, 1786, 105, 1326], [1787, 1263, 480, 21, 962, 966], [56, 19, 6, 528, 208, 52, 21, 529, 1788], [19, 208, 1789, 15, 1790, 1625, 96, 357], [56, 1791, 15, 1792, 68, 8, 86], [1793, 96, 15, 1794, 100, 204, 641], [56, 207, 1795, 13, 165, 21, 574, 28, 1796], [56, 226, 28, 318, 68, 992, 133, 719, 84, 698], [1365, 34, 102, 190, 21, 50, 303], [153, 146, 34, 97, 34, 196, 17, 447, 1028], [133, 1441, 1027, 28, 15, 365, 541], [160, 26, 4, 133, 1797, 17, 76, 1798], [1132, 1435, 367, 28, 80, 325, 1799, 133, 346], [153, 146, 34, 1709, 6, 26, 1800, 0, 80], [94, 1022, 0, 1801, 1334, 133, 1256, 28, 1802], [28, 592, 679, 1803, 56, 1804, 246, 68, 498], [15, 1089, 56, 1805, 100, 34, 1806], [487, 287, 34, 460, 292, 121, 153, 158, 94, 224], [146, 153, 133, 460, 6, 715, 131, 253, 1807], [131, 30, 397, 460, 6, 208, 133, 973, 1808], [28, 255, 15, 1809, 814, 165, 34, 1419], [165, 80, 1724, 490, 951, 26, 160, 1810, 1811], [0, 498, 1022, 1060, 37, 462, 107, 49, 1812], [1813, 100, 176, 1814, 107, 131, 253], [56, 107, 133, 1815, 56, 107, 133, 252, 899], [56, 165, 74, 1813, 269, 153, 287, 1816], [146, 153, 94, 1817, 713, 68, 133, 820], [615, 287, 151, 94, 336, 153, 14, 131], [287, 450, 94, 397, 287, 641, 100, 466, 1129], [56, 165, 133, 46, 131, 30, 102, 325, 1818], [14, 490, 107, 589, 68, 107, 1819, 1820], [13, 81, 133, 149, 661, 498, 133, 46, 1821], [1822, 56, 1823, 37, 1824, 1825], [131, 30, 176, 274, 1826, 490, 640], [46, 94, 1827, 114, 1828], [931, 80, 133, 46, 6, 165, 133, 46, 490, 119], [1829, 133, 188, 37, 108, 100, 34, 111], [585, 133, 460, 84, 76, 14, 490, 875, 52], [37, 573, 1445, 303, 1830, 56, 1831], [81, 246, 616, 1832, 21, 143, 56, 721, 21, 86], [37, 708, 56, 191, 81, 21, 674, 1209], [455, 1833, 96, 28, 1834, 1835, 541], [56, 107, 212, 569, 1640, 52, 1836, 1837], [213, 1838, 72, 1123, 679, 100, 346], [1205, 518, 15, 109, 100, 21, 60], [165, 466, 41, 19, 325, 490, 52, 694], [585, 1839, 1834, 50, 1840], [6, 173, 84, 11, 1841, 0, 25], [133, 48, 806, 108, 292, 133, 1842, 433], [21, 108, 84, 68, 1092, 1041, 708, 76, 1186], [56, 293, 84, 193, 56, 173, 68, 639, 299, 557], [81, 490, 616, 1186, 18, 573, 846, 303, 1843], [15, 1844, 1845, 100, 1846, 960, 188], [81, 758, 550, 1847, 490, 142, 1848], [56, 1849, 606, 1720, 28, 359, 605], [81, 490, 616, 1186, 15, 1707, 1713, 1422], [1850, 96, 15, 1851, 100, 15, 1714], [56, 15, 1852, 1853, 1854, 100, 15, 1855, 1783], [1856, 520, 37, 1244, 56, 1244, 37, 520], [81, 490, 616, 1186, 466, 1857, 100, 678], [72, 678, 146, 46, 1858, 28, 512], [1859, 455, 1860, 498, 1042, 28, 1861], [6, 19, 97, 720, 56, 1314, 133, 460, 518], [74, 489, 153, 14, 41, 324, 241, 1343, 1862], [13, 441, 28, 616, 6, 241, 146, 1863, 28, 771], [568, 1849, 286, 1675, 286, 783, 286, 1864, 1455], [13, 1128, 1865, 1866, 296, 1867], [120, 37, 74, 605, 84, 108, 590, 41, 1284], [156, 1868, 153, 287, 1074, 321, 41, 1869], [487, 120, 84, 277, 1870, 1662, 590, 679], [585, 15, 1871, 1872, 100, 1873, 111], [81, 1874, 1875, 213, 158, 94, 1876], [286, 1877, 100, 1878, 94, 356, 13, 19, 1879], [487, 1880, 1881, 43, 1213], [84, 573, 526, 1037, 0, 573, 1544, 1150, 1116], [72, 234, 356, 303, 575, 590, 21, 1473, 1451, 181], [72, 172, 21, 1882, 100, 108, 575, 802], [487, 475, 381, 74, 1883, 616, 10], [6, 68, 1041, 1884, 133, 460, 446, 299, 1210, 31], [1015, 37, 107, 1092, 165, 1885, 324, 490, 1886], [14, 28, 542, 1566, 41, 1887, 1888], [56, 1889, 207, 1890, 68, 1891], [56, 1892, 1893, 1894, 1895], [56, 1670, 601, 1896, 1897], [56, 700, 1664, 1898, 1899], [56, 1497, 654, 1900, 1901], [56, 908, 18, 1902, 1903, 1904], [56, 51, 141, 1905, 18, 1906], [56, 511, 1907, 835, 717], [56, 1908, 641, 1909, 1910], [56, 1911, 618, 361, 1629, 891], [1015, 37, 107, 1092, 0, 1092, 517, 490, 76, 233], [577, 6, 28, 12, 490, 237, 133, 460, 230], [434, 690, 37, 1912, 17, 173, 193], [56, 37, 21, 493, 946, 1913], [6, 1813, 18, 268, 1850, 17, 1914], [56, 1915, 146, 46, 37, 21, 1916], [200, 17, 823, 1829, 1917, 21, 1649], [56, 1306, 1140, 423, 100, 21, 329, 833], [200, 17, 988, 108, 1918, 1572], [1258, 100, 1034, 568, 21, 9, 153, 397], [200, 17, 173, 193, 52, 232, 1919, 153], [1920, 100, 143, 28, 1921, 186, 1922, 1923], [165, 166, 455, 287, 1924, 52, 13, 21], [56, 92, 100, 422, 243, 202, 21, 1925], [487, 268, 166, 1926, 28, 297, 234, 1103, 166, 610], [68, 111, 777, 568, 685, 1092, 1927, 94, 1928], [1042, 153, 21, 1649, 15, 1929, 100, 111, 1846], [81, 108, 1930, 56, 1178, 14, 290, 325, 52], [685, 1092, 1931, 1932, 100, 129, 114, 1888], [72, 1933, 1934, 96, 41, 329, 86], [685, 15, 192, 1935, 100, 15, 1140], [15, 1497, 100, 1936, 114, 1937, 518], [28, 193, 41, 1761, 433, 96, 1761, 341], [305, 8, 1140, 1938, 141, 155, 1939], [68, 268, 212, 1142, 747, 246, 213, 1186], [510, 107, 55, 146, 46, 56, 397], [40, 287, 264, 100, 1940, 557], [1941, 287, 136, 28, 1942, 21, 108, 140], [56, 268, 14, 165, 41, 1929, 208, 232, 520], [28, 297, 823, 51, 234, 108, 289, 100, 1943], [212, 408, 100, 80, 6, 15, 53, 253, 208, 1036], [945, 207, 6, 15, 489, 100, 1137, 575, 1944], [107, 1945, 15, 1946, 100, 838, 221, 80, 6, 78], [1947, 989, 641, 670, 94, 14, 1386, 1948], [34, 714, 1042, 37, 714, 119, 153, 1326], [13, 212, 258, 1945, 6, 221, 80, 94, 29, 30], [68, 589, 1949, 325, 74, 119, 1788], [18, 1950, 1059, 321, 15, 253, 455, 1951], [293, 148, 1334, 15, 108, 100, 34, 451], [56, 6, 68, 1952, 293, 1953, 18, 34, 1256], [104, 1954, 296, 1021, 1295, 296, 32, 114, 494], [28, 34, 129, 1869, 1955, 15, 1956, 1957, 100, 1958], [13, 200, 34, 1655, 1959, 158, 34, 297], [15, 1853, 153, 74, 6, 26, 160, 1960, 572], [6, 26, 51, 1371, 84, 158, 76, 34, 1961], [165, 1962, 409, 289, 814, 226, 15, 129], [15, 55, 100, 108, 153, 1963], [41, 1964, 6, 1965, 68, 865, 1267, 866], [94, 26, 76, 618, 1966, 208, 13, 1421], [34, 102, 15, 1379, 105, 1967, 100, 19], [165, 1266, 1968, 15, 1267, 756, 208, 460], [56, 26, 1969, 41, 1970, 1971, 185], [26, 442, 1972, 18, 15, 1973, 100, 815, 111], [1527, 158, 1396, 72, 1974, 105, 1975], [226, 74, 34, 119, 1343, 76, 94, 34, 119], [28, 1976, 339, 1977, 1308, 1978], [125, 163, 1963, 100, 891, 1217, 158, 34, 297], [104, 26, 230, 1979, 100, 1137, 326, 1980], [287, 582, 1981, 165, 498, 81, 490, 875, 1140], [321, 580, 84, 385, 15, 1982, 1100, 1983], [221, 1984, 28, 15, 71, 6, 490, 875, 1985], [0, 74, 1986, 71, 37, 1987, 333, 28, 254], [1988, 125, 580, 640, 74, 1989, 1990, 158], [15, 303, 6, 921, 146, 165, 490, 460, 580, 94], [6, 490, 68, 581, 48, 1021, 517, 76, 974], [125, 1991, 96, 498, 104, 17, 135, 580, 1120], [487, 125, 490, 112, 580, 148, 202, 74, 719], [81, 490, 1992, 1993, 875, 37, 1994], [325, 158, 94, 121, 14, 133, 988, 1315, 855], [13, 300, 581, 460, 670, 37, 133, 433, 512], [1310, 15, 1995, 71, 17, 148, 1334, 581, 1121], [56, 1799, 580, 37, 498, 595, 490, 875, 233], [487, 1310, 15, 71, 17, 1996, 580, 28, 1997], [234, 980, 1930, 68, 498, 6, 580, 17, 460], [595, 133, 324, 608, 460, 904, 498, 274], [165, 580, 68, 498, 575, 207, 1006, 427], [381, 580, 517, 1998, 163, 703, 1150], [28, 325, 122, 165, 498, 321, 131, 30, 1566], [56, 1660, 122, 119, 202, 1160, 490], [321, 216, 641, 517, 1999, 2000], [487, 1310, 581, 397, 460, 446, 909, 823, 68, 74], [6, 580, 165, 460, 1237, 445, 100, 498, 2001], [133, 1315, 76, 960, 43, 133, 929, 153], [56, 193, 287, 122, 28, 117, 286, 498, 286, 580], [165, 490, 875, 2002, 18, 6, 241, 490, 1278, 1225], [56, 94, 17, 580, 28, 460, 863, 207, 102], [6, 19, 100, 516, 26, 505, 68, 498, 542], [81, 2003, 273, 72, 475, 72, 2004, 325, 1660], [202, 212, 2005, 241, 754, 585, 15, 147], [989, 2006, 2007, 43, 2008, 15, 48, 2009, 2010], [68, 498, 26, 2011, 15, 2012, 100, 466, 370], [14, 595, 2013, 2014, 68, 15, 1207], [241, 18, 56, 18, 1041, 541, 208, 1314, 518], [331, 1761, 46, 6, 2015, 339, 107, 68, 973], [68, 498, 26, 2011, 15, 2016, 100, 466, 1470], [6, 96, 15, 2017, 100, 21, 357, 208, 1150], [14, 15, 2018, 662, 146, 239, 2019], [2020, 37, 6, 241, 146, 289, 2021, 18], [74, 26, 2022, 241, 1040, 34, 460, 122, 356], [28, 460, 6, 445, 241, 26, 239, 237, 305, 777], [13, 76, 1091, 81, 6, 846, 2023], [510, 107, 2024, 84, 2025, 498, 518], [133, 433, 455, 68, 74, 1989, 163, 1147], [241, 165, 2026, 299, 37, 80, 84, 682], [81, 26, 2027, 74, 26, 160, 2028], [15, 257, 899, 289, 2029, 28, 80], [15, 783, 575, 616, 13, 783, 241, 153, 21, 78], [133, 1709, 153, 29, 15, 1176, 899, 100, 498], [94, 104, 26, 442, 13, 2030, 15, 2031, 100, 433], [15, 1542, 100, 333, 133, 929, 105, 1140], [15, 2032, 332, 100, 41, 2033, 1840], [49, 1227, 100, 80, 28, 76, 194], [15, 102, 100, 6, 153, 6, 241, 146, 2034], [56, 6, 153, 74, 56, 74, 37, 80, 2035], [94, 213, 580, 28, 133, 1021, 14, 2036, 28, 433], [72, 14, 2037, 2038, 213, 28, 15, 2039], [56, 165, 15, 2040, 100, 580, 490, 590, 466, 2041], [14, 2042, 41, 2043, 56, 21, 1103, 153, 1424], [52, 92, 14, 115, 2044, 56, 1195], [2045, 15, 2046, 188, 97, 1306, 21, 109], [52, 2047, 526, 28, 76, 37, 580, 230], [104, 2048, 6, 15, 71, 446, 142, 133, 395], [758, 107, 1183, 37, 2049, 96, 581, 346], [56, 18, 56, 18, 2050, 2051, 165, 41, 148], [2052, 72, 2053, 287, 1307], [577, 234, 153, 610, 72, 239, 0, 580, 76, 1516], [1042, 325, 490, 2054, 56, 2055, 370, 18, 370], [72, 2056, 96, 107, 72, 107, 518], [200, 153, 133, 719, 94, 552, 100, 140, 959], [94, 1022, 0, 2057, 72, 1686, 488], [200, 37, 15, 19, 325, 490, 158, 2058, 2059], [28, 2060, 2061, 56, 28, 2062, 1642], [200, 727, 490, 299, 107, 320, 814, 15, 258], [56, 447, 1344, 68, 41, 2063, 99], [6, 252, 2064, 208, 1093, 150, 133, 1315], [2065, 296, 1172, 56, 43, 293, 249, 2066], [487, 609, 48, 460, 490, 2067, 727, 100, 580], [56, 580, 56, 460, 213, 299, 133, 1335], [94, 107, 133, 526, 153, 2068, 136, 991, 140], [2069, 594, 234, 153, 2070, 2071], [165, 14, 15, 857, 153, 1069, 140, 56, 136], [94, 153, 133, 460, 299, 2072, 234, 153, 1491], [34, 149, 97, 297, 80, 120, 34, 569, 677], [34, 2073, 120, 34, 1115, 627, 67], [1092, 2074, 273, 34, 2075, 2076, 97, 24], [56, 100, 74, 971, 74, 2077, 505, 26, 1374], [15, 191, 241, 34, 149, 97, 869, 297], [100, 2078, 2079, 97, 221, 80, 25], [26, 18, 34, 2080, 2081, 2082, 505, 609], [573, 1550, 2083, 28, 2084], [148, 234, 34, 25, 1343, 2085], [2086, 28, 1092, 67, 2087, 56, 26, 189, 592], [212, 2088, 2089, 2090, 0, 34, 2091], [28, 1314, 41, 140, 2092, 100, 34, 451], [1092, 2093, 94, 633, 14, 26, 426, 148], [84, 2094, 80, 56, 121, 2095, 34, 971], [94, 633, 616, 490, 2096, 80, 165, 133, 853], [56, 1424, 466, 129, 2097, 68, 133, 719], [14, 252, 2098, 711, 455, 2099, 133, 124], [56, 343, 80, 296, 2100, 2101], [29, 32, 6, 1860, 15, 913, 96, 722, 28, 419], [56, 1441, 2102, 2103, 28, 2104], [616, 2105, 2106, 28, 15, 2107, 2108], [56, 220, 946, 41, 2109, 350], [226, 76, 476, 92, 100, 6, 241, 490, 2110], [156, 664, 153, 29, 56, 1888, 100, 80], [68, 2111, 2112, 26, 160, 13, 1944, 15, 1180], [56, 2113, 37, 34, 48, 730, 2114, 76], [13, 26, 51, 107, 133, 51, 56, 160, 2115], [14, 722, 14, 2077, 133, 523, 2102], [951, 490, 230, 249, 506, 202, 34, 2116], [133, 719, 230, 610, 107, 34, 247, 946], [13, 52, 133, 336, 728, 213, 2117], [56, 133, 2118, 853, 208, 221, 115, 589, 307], [490, 473, 48, 460, 34, 182, 1335], [2119, 15, 2120, 100, 41, 2121, 711], [226, 234, 100, 80, 34, 731, 208, 1332], [173, 1291, 80, 100, 56, 2122, 146, 80, 594], [173, 211, 80, 1664, 56, 173, 2123, 6, 2064], [0, 34, 2124, 108, 208, 173, 221], [56, 1424, 146, 68, 34, 1649, 173, 575, 2125], [287, 119, 28, 80, 13, 234, 68, 80, 208, 193], [104, 2126, 268, 158, 165, 6, 241, 173, 208, 112], [568, 234, 173, 2127, 80, 26, 34, 46, 160, 312], [487, 120, 490, 2128, 81, 490, 100, 580, 325, 727], [2129, 41, 1176, 1709, 208, 124, 581, 1315], [56, 68, 15, 119, 2130, 2131, 107, 21, 10], [28, 135, 498, 1905, 915, 100, 581, 2132], [13, 568, 581, 102, 800, 14, 15, 1713, 153], [15, 2133, 14, 15, 2134, 2135, 208, 24], [133, 2136, 2137, 2138, 1022, 28, 21], [96, 581, 2139, 1783, 208, 2140, 1148], [581, 2141, 1301, 97, 590, 498, 339, 2142], [951, 173, 202, 581, 2143, 88, 208, 1198], [72, 105, 2144, 490, 875, 41, 2145, 2146], [173, 100, 2147, 2148, 56, 100, 2149, 959], [104, 125, 173, 643, 56, 490, 76, 1553, 518], [15, 812, 289, 74, 133, 460, 289, 133, 512], [72, 490, 84, 193, 581, 2150, 28, 135], [72, 580, 1155, 81, 490, 68, 783, 875, 1231], [0, 579, 581, 25, 324, 1343, 1314], [1295, 68, 498, 342, 899, 97, 76, 2151], [581, 1315, 0, 579, 2152, 433, 84, 616], [292, 490, 969, 233, 28, 107, 15, 71, 239, 12], [15, 783, 575, 2153, 498, 13, 41, 1960, 79], [81, 580, 2154, 68, 837, 32, 84, 1150], [581, 2155, 84, 76, 133, 247, 719], [241, 32, 158, 226, 843, 84, 2156], [56, 1945, 28, 76, 581, 105, 84, 855], [81, 107, 15, 2157, 100, 74, 71, 213, 1140], [580, 299, 84, 193, 466, 1664, 455, 133, 711], [43, 1662, 476, 2158, 670, 68, 15, 2159, 100, 667], [490, 473, 26, 841, 158, 402, 28, 133, 853], [56, 883, 505, 510, 2160, 2161], [15, 2162, 991, 241, 2163, 124], [100, 296, 129, 1331, 2164, 252, 971], [26, 51, 14, 129, 68, 636, 14, 68, 833], [2165, 34, 102, 41, 2166, 544, 133, 119], [56, 883, 51, 2167, 28, 1572, 2168], [163, 2169, 2170, 100, 15, 2171, 111], [56, 325, 94, 460, 226, 81, 293, 616, 2172], [234, 2173, 732, 2174, 575, 209], [26, 869, 129, 841, 869, 2175], [68, 397, 2176, 991, 18, 34, 2177, 1133], [56, 296, 2178, 1829, 10, 76, 1176, 242], [43, 2179, 1601, 143, 68, 80, 146, 153, 2180], [490, 11, 2181, 6, 580, 249, 1829, 1601], [56, 883, 28, 581, 129, 287, 1829, 1625], [490, 1424, 72, 489, 490, 1424, 580, 249, 2182], [6, 552, 22, 100, 41, 744, 2183], [56, 883, 616, 490, 2184, 68, 581, 1317], [6, 580, 581, 46, 105, 2185, 445, 10, 297], [120, 1022, 41, 2186, 2187, 208, 720, 49, 757], [915, 100, 102, 234, 102, 68, 580, 208, 572], [74, 2188, 165, 133, 1813, 580, 249, 2189], [241, 84, 76, 476, 133, 962, 105, 913], [165, 490, 2190, 158, 108, 105, 2191], [81, 462, 517, 221, 433, 56, 1278, 41, 175], [269, 243, 122, 433, 68, 320, 100, 581, 129, 32], [321, 1264, 581, 1179, 575, 68, 119, 1998], [172, 153, 146, 6, 1502, 476, 241, 575, 112, 122], [321, 74, 684, 119, 6, 580, 230, 213, 580], [68, 156, 2192, 2193, 153, 15, 520], [241, 17, 2194, 43, 581, 2195, 2196], [2197, 2198, 61, 6, 711, 208, 254], [6, 28, 21, 1331, 211, 158, 163, 101, 962], [13, 173, 6, 2199, 100, 580, 125, 173, 575, 150], [6, 580, 213, 580, 94, 2200, 21, 2201], [300, 268, 13, 536, 234, 68, 580, 153, 921], [158, 40, 1773, 234, 232, 141, 94, 1437], [56, 466, 41, 2202, 84, 2132, 21, 924], [40, 21, 1180, 2203, 252, 43], [580, 28, 581, 215, 2204, 1955, 41, 1082], [105, 174, 96, 119, 241, 1040, 581, 2205, 1773], [133, 1905, 853, 68, 1353, 653, 184, 299], [1132, 2206, 100, 581, 119, 2207, 2208], [1164, 296, 1766, 37, 192, 2187], [56, 1115, 2209, 18, 107, 15, 2210, 2211], [490, 1096, 618, 1021, 951, 589, 727, 618, 991], [56, 367, 2212, 2213, 299, 1886, 2214], [28, 252, 2215, 6, 2216, 1709, 2217], [68, 2218, 154, 100, 445, 2219, 711], [2220, 580, 2221, 490, 112, 931, 94, 931, 397], [56, 28, 15, 476, 100, 119, 1955, 2222, 122], [13, 6, 153, 68, 133, 489, 156, 460, 28, 580], [292, 991, 720, 2223, 653, 21, 1956, 685], [104, 462, 165, 15, 1662, 100, 991, 1007], [498, 165, 133, 913, 1021, 915, 68, 284], [289, 146, 15, 92, 1183, 2135, 100, 21, 224, 719], [1738, 165, 15, 1551, 100, 107, 49, 1115, 580], [6, 249, 133, 2224, 1021, 68, 133, 2091, 2225], [40, 296, 175, 15, 168, 930, 293, 2196], [289, 146, 21, 1709, 18, 2226, 1860, 28, 727], [2227, 41, 359, 364, 6, 2228, 498, 1140], [287, 712, 173, 286, 21, 2229, 18, 541], [2230, 268, 2116, 133, 719, 2231], [173, 286, 6, 2232, 2233, 2234], [241, 1071, 2235, 268, 37, 2236], [14, 2237, 100, 133, 2188, 1343, 950], [490, 289, 158, 2118, 100, 471, 429, 0, 1548], [13, 81, 581, 2238, 721, 339, 21, 1989], [104, 1639, 490, 1450, 6, 2239, 131], [2240, 26, 51, 49, 608, 165, 133, 2052], [56, 367, 1233, 26, 1418, 34, 2241], [15, 1748, 100, 34, 102, 206, 80, 2242], [133, 2243, 68, 80, 213, 107, 2244], [165, 120, 325, 490, 590, 80, 13, 18, 34, 2245], [56, 165, 6, 2246, 43, 153, 133, 2247], [15, 1571, 100, 74, 129, 529, 68, 498, 153, 990], [56, 94, 133, 2248, 181, 594, 153, 2249], [34, 46, 26, 894, 34, 30, 102, 104, 158, 2129], [72, 498, 28, 519, 26, 894, 146, 73, 2250], [94, 34, 224, 529, 202, 2251, 1170], [2252, 1801, 594, 96, 1176, 613, 40], [1042, 616, 490, 610, 80, 14, 41, 2253, 208, 1064], [68, 1430, 41, 1837, 13, 2254, 287, 466, 1450], [81, 26, 189, 76, 2255, 28, 1625, 498, 337], [56, 307, 133, 980, 68, 15, 253, 100, 1105], [202, 34, 1504, 585, 133, 46, 1181, 966], [56, 427, 80, 703, 292, 26, 51, 1895], [37, 131, 30, 2256, 105, 526, 821], [202, 34, 899, 490, 575, 1625, 1480, 41, 2201], [100, 1268, 2257, 930, 490, 875, 2258], [6, 26, 68, 1423, 498, 189, 1854, 121, 962], [56, 490, 18, 74, 97, 76, 41, 2259, 49], [165, 2260, 107, 133, 1005, 1021, 96, 80], [15, 2261, 6, 28, 133, 46, 490, 325], [2262, 80, 2263, 2264, 498], [466, 153, 133, 460, 28, 80, 490, 94, 1750], [6, 165, 34, 1497, 133, 46, 97, 24, 107, 813], [112, 6, 26, 1223, 571, 498, 165, 163, 1277], [56, 490, 97, 665, 202, 6, 1598], [1237, 100, 133, 2265, 56, 490, 1492, 97, 2266], [585, 34, 1562, 40, 287, 576], [26, 227, 158, 460, 1075, 498, 726, 94, 891], [28, 1625, 41, 154, 202, 2267, 488], [14, 1181, 133, 46, 1075, 2129, 34, 97], [490, 97, 2092, 2268, 56, 148, 1642], [76, 1390, 0, 34, 2269, 56, 68, 133, 741], [34, 48, 474, 1315, 287, 122, 84, 254], [1310, 490, 49, 121, 2270, 17, 325, 146, 2271], [56, 1095, 100, 1296, 136, 2092, 150], [165, 80, 585, 133, 46, 1181, 2272, 2273], [165, 490, 239, 733, 460, 268, 519, 26, 160, 479], [104, 479, 498, 81, 26, 426, 125, 814, 52], [52, 1132, 15, 71, 153, 2274, 133, 1256, 28, 1251], [2275, 37, 15, 1303, 100, 625, 135, 498, 2276], [56, 325, 158, 2277, 68, 165, 115, 2278], [434, 325, 158, 81, 133, 820, 455, 2279, 74, 1246], [720, 68, 15, 2280, 100, 41, 2281, 1120], [221, 158, 41, 2282, 541, 41, 2283, 2284], [28, 2285, 679, 41, 2286, 2287], [125, 26, 426, 237, 498, 325, 158, 237, 498, 1927], [81, 589, 2288, 2289, 616, 940, 296, 1303], [13, 68, 15, 2290, 720, 94, 84, 490, 1374], [495, 842, 15, 257, 812, 100, 1321, 10], [56, 589, 2291, 100, 1120, 241, 52, 909, 1120], [2292, 37, 1244, 100, 80, 97, 158, 909, 94], [163, 962, 68, 296, 1172, 163, 68, 296, 717], [163, 68, 296, 1103, 163, 68, 296, 1018, 1696], [163, 68, 296, 2293, 292, 2294, 891], [163, 68, 296, 2295, 56, 2296, 163, 68, 296, 1605], [56, 252, 2297, 455, 21, 2298, 395], [930, 146, 2299, 41, 390, 2227, 15, 973], [13, 1092, 2300, 213, 158, 133, 1953], [107, 1092, 490, 1176, 68, 320, 2301, 526], [34, 460, 153, 1176, 321, 722, 1172, 28, 498], [2302, 321, 1103, 2303, 321, 2304, 2305], [100, 122, 1307, 321, 2295, 56, 2306, 76], [56, 228, 80, 100, 107, 837, 959, 490, 950], [2307, 68, 74, 230, 6, 26, 505, 1314], [107, 74, 518, 56, 498, 476, 2307, 135], [13, 325, 34, 812, 28, 1306, 34, 46, 518], [165, 2308, 100, 433, 26, 51, 1488, 131], [56, 433, 287, 582, 321, 34, 460, 97, 682], [165, 146, 2309, 202, 6, 460, 100, 29], [104, 1601, 490, 158, 28, 429, 15, 812, 100, 1388], [81, 68, 15, 496, 100, 639, 133, 433, 455, 456], [490, 142, 41, 1176, 678, 28, 498, 922], [321, 6, 241, 96, 34, 2297, 208, 2310], [26, 227, 158, 2311, 498, 37, 681, 451], [568, 6, 133, 433, 96, 34, 2312, 208, 1150], [487, 234, 41, 416, 1505, 325, 490, 592], [416, 28, 616, 34, 460, 416, 28, 12], [13, 2313, 94, 2314, 6, 1863, 287, 1063], [26, 505, 76, 823, 56, 226, 490, 609, 146, 158], [94, 84, 490, 193, 2315, 26, 51, 397], [367, 41, 2316, 411, 94, 806, 151], [446, 299, 909, 460, 28, 498, 292, 2317, 140], [34, 348, 37, 498, 34, 820, 68, 589, 307], [165, 269, 575, 193, 287, 2318, 68, 29, 253], [883, 68, 6, 490, 1343, 609, 34, 488], [68, 2319, 348, 15, 823, 1513, 2320], [153, 921, 68, 2321, 56, 2322, 56, 191, 1642], [13, 635, 68, 34, 2323, 249, 2324], [6, 68, 34, 151, 48, 460, 17, 814, 254], [798, 34, 1021, 72, 34, 1513, 2325, 76], [34, 348, 17, 207, 1548, 13, 2326, 150], [120, 367, 2327, 2328, 208, 34, 108, 572], [125, 34, 48, 1664, 127, 158, 34, 297], [293, 6, 616, 1867, 28, 2329, 56, 97, 325, 475], [6, 325, 158, 325, 15, 651, 293, 476, 325, 297], [172, 999, 462, 213, 570, 14, 1675], [2330, 147, 56, 28, 1393, 1467], [293, 2331, 325, 2332, 865, 730], [56, 411, 204, 2246, 0, 1122], [2333, 213, 15, 2334, 56, 2335, 100, 296, 736], [462, 13, 2336, 100, 296, 2337], [15, 277, 1869, 153, 28, 15, 264, 48], [292, 28, 146, 46, 146, 57, 193, 56, 12], [13, 125, 6, 1869, 37, 1227, 1912, 294], [15, 1197, 99, 2338, 21, 2339], [165, 1267, 863, 2340, 2341, 18, 296, 1256], [2342, 6, 2343, 1957, 1022, 1773, 321, 1958], [120, 48, 56, 182, 160, 26, 135, 15, 117], [241, 367, 41, 1266, 68, 15, 2344, 9], [208, 2345, 15, 108, 100, 34, 2346, 1315], [487, 68, 234, 388, 160, 26, 34, 1275, 2347], [6, 741, 6, 538, 15, 2201, 100, 34, 111], [40, 1383, 2206, 96, 34, 2348], [1343, 2349, 13, 68, 41, 494, 100, 119], [2350, 34, 1315, 2351, 115, 891, 1317], [487, 234, 41, 2352, 616, 212, 2353, 2099], [241, 165, 296, 2354, 2355, 679, 80], [43, 8, 2356, 208, 878, 252, 1063], [56, 107, 863, 939, 28, 129, 6, 32, 575, 142], [1314, 2357, 608, 820, 100, 74, 1460, 2358], [15, 2359, 1840, 2360, 208, 771, 21, 1697], [163, 112, 34, 1277, 153, 357, 163, 2361], [163, 112, 34, 946, 153, 357, 56, 247, 2348], [1264, 946, 56, 1268, 213, 1154, 100, 122, 56, 740], [26, 66, 1268, 730, 6, 28, 80, 2362], [14, 96, 15, 2363, 100, 41, 2364, 2365], [15, 1197, 1037, 97, 76, 445, 2366], [94, 213, 212, 2367, 6, 68, 80, 213, 1186], [28, 2368, 2369, 56, 165, 397, 863, 2370], [120, 422, 2371, 10, 15, 2372, 2373, 2374], [125, 367, 41, 2375, 173, 323, 21, 348, 2376], [120, 422, 2377, 1400, 26, 1404, 518], [125, 26, 644, 124, 15, 908, 100, 107, 34, 678], [13, 325, 158, 94, 490, 460, 80, 68, 466, 1316], [14, 26, 105, 131, 131, 153, 34, 618, 1317], [120, 367, 41, 266, 455, 133, 1359, 1756], [0, 80, 15, 395, 100, 15, 2378, 516], [234, 2379, 616, 490, 2380, 234, 1433, 111, 1186], [234, 136, 2381, 276, 2382], [56, 226, 74, 19, 977, 289, 277, 19], [15, 2383, 2384, 2385, 37, 684, 5], [886, 15, 2386, 2387, 100, 15, 185], [367, 2388, 2389, 595, 296, 2390, 20], [226, 74, 2391, 597, 2392, 28, 498], [13, 992, 100, 2393, 56, 2394, 2395], [165, 264, 56, 21, 2396, 1753, 96, 80], [56, 26, 518, 15, 257, 2009, 213, 2191], [72, 125, 293, 419, 931, 37, 94, 1443, 41, 2397], [6, 273, 148, 1192, 2398, 15, 301, 1812], [0, 580, 616, 490, 1756, 1390, 68, 15, 60], [81, 2399, 183, 2400, 68, 107, 21, 2401], [455, 897, 41, 1709, 100, 357, 68, 252, 651], [6, 1441, 2402, 2403, 56, 2404, 37, 268], [226, 286, 15, 2405, 100, 2009, 286, 15, 48, 1957], [100, 2406, 290, 68, 1655, 56, 68, 833], [323, 135, 498, 471, 277, 2201, 150], [72, 0, 296, 92, 2407, 614, 639, 43, 293, 2196], [286, 249, 490, 1768, 495, 15, 2408, 549], [286, 119, 15, 88, 2409, 68, 15, 9], [293, 114, 13, 48, 13, 2410, 100, 1307], [716, 595, 580, 580, 810, 100, 107, 212], [226, 2392, 146, 266, 299, 56, 580, 518], [14, 37, 581, 1034, 490, 37, 1092, 249, 255], [15, 2411, 543, 1042, 249, 490, 406], [48, 1289, 1547, 1223, 26, 1306, 34, 48, 6, 2412], [125, 158, 0, 133, 806, 1662, 15, 2413, 959], [241, 96, 34, 2414, 1745, 165, 763, 2415], [68, 133, 806, 1923, 26, 442, 49, 2416, 2417], [15, 2418, 490, 2419, 165, 34, 303], [56, 756, 100, 2420, 610, 1146, 34, 2421], [15, 1258, 2422, 96, 1259, 249, 698], [320, 2423, 117, 155, 549, 2424], [41, 2425, 286, 2426, 286, 549, 610, 1146, 100, 1264], [56, 28, 21, 1377, 610, 2427, 34, 1662], [13, 165, 21, 2428, 68, 959, 100, 107, 21, 2429], [41, 2430, 1266, 77, 268, 339, 28, 324], [122, 290, 490, 2063, 226, 490, 475, 323, 142], [13, 48, 72, 2431, 146, 610, 1146, 0, 80], [43, 51, 26, 853, 6, 26, 2432, 94, 777], [28, 1237, 100, 6, 241, 206, 80, 107, 34, 10], [2433, 26, 34, 2434, 96, 163, 2145, 421], [2435, 34, 1867, 28, 209, 1227, 1772, 337], [1044, 2436, 853, 56, 1492, 2437], [68, 247, 728, 19, 94, 2438, 2071], [419, 28, 15, 404, 6, 208, 34, 2405, 2439], [56, 206, 34, 711, 1264, 717, 56, 1335], [2440, 2441, 853, 133, 806, 48, 151, 1619], [125, 19, 616, 471, 2442, 2443, 269], [125, 471, 76, 41, 2444, 28, 512], [56, 135, 573, 2445, 1329, 2382], [221, 133, 460, 2132, 2446, 321, 19, 566, 433], [94, 26, 2447, 21, 574, 56, 1787, 1840], [487, 2448, 853, 234, 84, 76, 34, 2449], [165, 34, 2450, 100, 641, 68, 108, 2417], [1264, 641, 56, 108, 96, 133, 460, 2309], [94, 160, 26, 49, 56, 943, 2451], [135, 127, 853, 426, 26, 158, 1095, 112], [2452, 1288, 287, 2431, 37, 21, 2431, 871], [108, 287, 709, 8, 641, 28, 1425], [13, 526, 153, 526, 125, 11, 2453], [1417, 173, 1288, 287, 119, 426, 26, 76, 913], [1415, 158, 2188, 94, 2454, 45, 68, 80], [28, 135, 268, 121, 1349, 41, 1670, 175], [56, 28, 76, 2221, 100, 2455, 226, 28, 76], [104, 325, 34, 2456, 853, 490, 1574, 80, 120], [28, 135, 268, 909, 777, 579, 14, 173, 661, 52], [133, 460, 153, 2457, 292, 122, 1247, 68, 423], [490, 460, 158, 740, 292, 740, 15, 297, 1148], [6, 460, 153, 2458, 156, 684, 2459], [15, 2460, 741, 208, 2461, 252, 43], [1296, 460, 289, 140, 56, 104, 13, 68, 15, 60], [81, 490, 289, 2462, 28, 1561, 146, 37, 133, 2405], [14, 2463, 68, 277, 2464, 208, 419], [56, 2465, 184, 2466, 68, 2429, 100, 16, 111], [158, 6, 15, 264, 153, 740, 2467, 52], [321, 81, 184, 2468, 1101, 249, 2469, 15, 541], [13, 6, 2470, 384, 2471, 252, 2472], [56, 388, 1169, 1960, 771, 296, 608, 1307], [883, 367, 184, 490, 758, 590, 133, 741], [1417, 490, 517, 158, 1443, 580, 37, 133, 421], [1213, 234, 1378, 133, 853, 1104, 1225], [6, 228, 466, 41, 1089, 28, 297, 184, 959], [15, 1335, 107, 989, 153, 100, 122, 102], [321, 81, 146, 455, 133, 2105, 119, 898], [487, 1369, 498, 158, 125, 490, 287, 122, 575, 727], [148, 68, 581, 149, 56, 269, 2473, 41, 151], [6, 2474, 133, 780, 1344, 274], [2475, 133, 708, 56, 2262, 498, 1075], [114, 146, 158, 2476, 104, 2477, 28, 1944], [28, 2478, 15, 1331, 6, 685, 289, 445], [165, 28, 287, 589, 1559, 133, 2479, 1643], [321, 100, 581, 730, 56, 581, 2480, 28, 150], [56, 122, 121, 122, 321, 68, 133, 719, 575, 1327], [581, 30, 149, 661, 580, 81, 580, 148, 68, 146], [28, 498, 129, 1133, 580, 11, 575, 76, 136], [165, 14, 580, 114, 81, 842, 581, 253, 490, 2481], [466, 2482, 581, 108, 299, 2483, 83, 147], [616, 0, 15, 2484, 2485, 2483, 2486, 959], [2483, 215, 2487, 28, 2003, 2384, 2488], [68, 2489, 100, 15, 796, 616, 490, 1186], [2483, 183, 2490, 68, 2483, 759, 2491, 2492], [568, 842, 490, 2181, 580, 54, 241, 226, 213, 557], [434, 226, 208, 108, 367, 41, 2073, 303], [1306, 0, 21, 2493, 56, 287, 1606, 2494], [94, 581, 48, 833, 241, 615, 299, 208, 698], [455, 1474, 56, 131, 253, 446, 76, 2316], [165, 429, 100, 241, 385, 74, 26, 188, 2495], [305, 580, 114, 1888, 289, 8, 264, 1140], [300, 158, 133, 460, 76, 1555, 2496], [286, 133, 474, 14, 115, 2497, 297], [568, 107, 2498, 133, 2499, 56, 2205, 76], [28, 320, 100, 320, 299, 466, 56, 814, 94], [494, 153, 133, 460, 1700, 1703, 494], [299, 638, 68, 41, 2500, 2337], [883, 133, 719, 28, 2501, 2502], [320, 651, 2503, 273, 679, 2504], [129, 494, 56, 397, 153, 107, 133, 1335], [129, 494, 56, 397, 2505, 28, 589, 991], [56, 68, 74, 488, 153, 133, 1344, 2071], [2483, 2506, 68, 320, 241, 2500, 1089, 2217], [129, 494, 56, 397, 616, 761, 1930, 230], [241, 2483, 844, 52, 11, 457, 1401, 68, 320], [81, 68, 15, 2507, 100, 2508, 19], [490, 142, 2509, 100, 15, 1, 2510], [56, 108, 40, 2511, 136, 697], [68, 119, 100, 2512, 1140, 56, 182, 2513], [104, 68, 15, 2514, 100, 48, 8, 526], [100, 303, 100, 1451, 100, 2515, 100, 253, 100, 86], [490, 142, 296, 747, 711, 517, 616, 918], [670, 466, 41, 108, 14, 580, 817, 52], [94, 107, 296, 2205, 213, 13, 2516], [100, 74, 1296, 19, 107, 580, 2517], [56, 165, 293, 2518, 13, 37, 2519, 32], [293, 610, 158, 717, 1233, 581, 102, 28, 419], [165, 3, 241, 52, 542, 1092, 1528, 111], [616, 32, 28, 1768, 13, 1110, 1945, 28, 119], [158, 131, 30, 1863, 286, 15, 2520, 1815], [100, 15, 800, 71, 2521, 96, 863, 28, 720], [575, 226, 15, 591, 100, 133, 397, 460, 1735], [1139, 14, 2522, 28, 41, 2502, 648], [15, 359, 858, 455, 184, 2523, 2524], [56, 15, 1128, 2525, 1799, 296, 30, 2526], [2527, 52, 2528, 570, 1488], [56, 2040, 2529, 2530, 100, 2531, 188], [52, 37, 15, 2532, 100, 74, 476, 2533, 19], [133, 460, 348, 54, 56, 324, 28, 498, 2534], [568, 1303, 100, 268, 1181, 193, 68, 74, 988, 697], [1132, 173, 2535, 548, 1443, 56, 420, 2536], [56, 26, 68, 74, 189, 592, 34, 2155], [81, 2537, 2538, 56, 2539, 100, 1849, 213, 2071], [2313, 68, 15, 2091, 6, 1884, 446, 1766], [241, 455, 158, 2540, 28, 80, 133, 397, 1709], [2313, 140, 28, 1237, 234, 52, 28, 2541], [6, 446, 2542, 133, 460, 72, 34, 608, 980], [207, 48, 2543, 13, 226, 367, 2544, 2545], [490, 239, 342, 370, 112, 548, 15, 257, 258], [2047, 287, 136, 651, 136, 26, 131, 490, 29], [670, 14, 81, 842, 490, 2546, 34, 129, 1315], [94, 6, 606, 460, 68, 806, 54, 1575], [2547, 158, 15, 1158, 56, 1382, 100, 188], [286, 206, 28, 2548, 191, 307], [13, 1040, 1825, 165, 2549, 21, 2550], [2165, 15, 842, 680, 100, 460, 269, 2551], [43, 19, 56, 714, 154, 517, 297, 146, 1140], [487, 11, 112, 6, 490, 289, 823, 100, 820], [292, 1359, 2392, 133, 36, 28, 2552], [14, 2553, 10, 490, 0, 133, 46, 327], [14, 0, 133, 1815, 241, 68, 34, 881, 208, 1150], [6, 153, 133, 1801, 100, 460, 125, 490, 616, 2554], [367, 268, 6, 2555, 490, 1044, 594], [2556, 28, 15, 19, 158, 37, 15, 19, 2557], [94, 6, 133, 46, 1278, 1463, 165, 133, 1221], [11, 718, 292, 68, 133, 232, 2558], [107, 2559, 6, 85, 107, 2560, 100, 143], [6, 146, 323, 94, 2561, 76, 2562], [28, 237, 165, 207, 107, 34, 132, 100, 618], [165, 207, 74, 800, 2563, 490, 506], [577, 26, 133, 9, 68, 146, 26, 51, 133, 107], [2564, 931, 397, 490, 616, 233, 584, 56, 269], [56, 141, 133, 46, 41, 2565, 28, 15, 1036], [2566, 131, 30, 1021, 2567, 2568, 234, 153, 476, 608], [141, 136, 2569, 100, 2570, 140], [476, 397, 146, 153, 6, 490, 616, 2518, 96, 641], [2571, 56, 1558, 13, 18, 107, 2227], [1092, 2572, 528, 133, 820, 155, 357], [56, 1773, 2573, 2574, 80, 133, 526, 100, 460], [52, 107, 153, 940, 616, 234, 84, 616, 287, 456], [131, 1699, 490, 11, 122, 97, 2575], [96, 2576, 2577, 28, 2578, 115, 2579, 1133], [41, 1734, 68, 460, 28, 519, 490, 875, 2502], [104, 221, 498, 1717, 2580, 133, 635, 15, 526], [670, 28, 34, 1970, 56, 476, 476, 1005, 881], [487, 165, 133, 1419, 325, 580, 37, 625, 406], [15, 2581, 2582, 100, 133, 2583, 1256], [6, 249, 158, 1176, 165, 133, 433, 2584], [321, 948, 695, 241, 948, 1353, 2585], [1548, 2252, 146, 6, 133, 1315, 2586, 41, 2587], [56, 1093, 1548, 133, 232, 153, 2588], [28, 234, 146, 2112, 68, 367, 15, 2589, 303], [70, 498, 104, 56, 704, 490, 114, 2590], [951, 367, 41, 313, 2591, 490, 97, 2592], [2593, 100, 2594, 480, 133, 356, 1912], [287, 1725, 6, 490, 97, 2595, 1096], [286, 2109, 2596, 28, 2597, 2598], [70, 498, 104, 608, 1133, 56, 490, 2599, 1416], [670, 6, 581, 70, 153, 1233, 28, 2600, 498], [581, 460, 56, 70, 208, 244, 2601, 1706], [241, 1337, 2602, 2603, 202, 133, 86], [165, 234, 1541, 490, 172, 180, 498, 445, 72, 891], [94, 580, 2604, 133, 1928, 133, 618, 809], [580, 213, 133, 107, 15, 71, 56, 490, 239, 2605], [28, 609, 133, 1803, 56, 2205, 0, 581, 741], [475, 73, 28, 498, 286, 490, 28, 475, 748], [6, 133, 2606, 1279, 72, 2607, 1497, 72, 813], [68, 94, 2608, 2609, 490, 2610, 107, 1541], [100, 2111, 2611, 6, 133, 2612, 1279], [28, 2613, 56, 28, 2614, 2615, 213], [409, 120, 37, 133, 2450, 490, 325, 2616], [580, 213, 94, 982, 68, 133, 851, 2551], [6, 107, 15, 71, 2617, 615, 213, 1140], [568, 490, 279, 580, 131, 253, 153, 68, 133, 451], [56, 6, 241, 2618, 498, 28, 567, 2619], [208, 899, 21, 2620, 56, 153, 2621, 1031], [2482, 1950, 13, 2622, 153, 679], [165, 146, 287, 154, 2623, 28, 15, 820], [100, 2624, 100, 1869, 72, 450, 241, 146, 208, 2625], [100, 21, 1686, 2626, 455, 15, 451, 287, 899], [286, 21, 30, 2627, 653, 234, 146, 208, 2628], [165, 125, 146, 142, 15, 2629, 72, 2630, 346], [15, 476, 48, 947, 72, 2631, 2632], [15, 1187, 72, 15, 1455, 15, 370, 72, 541], [15, 1964, 72, 2633, 146, 2634, 639, 28, 581, 2635], [2636, 100, 122, 900, 37, 580], [133, 476, 397, 451, 1042, 2637, 131, 2001], [72, 1324, 208, 133, 451, 105, 1326, 37, 580], [2592, 339, 15, 2638, 2639, 74, 1427], [72, 1324, 84, 490, 112, 131, 253, 2640, 397], [56, 6, 581, 460, 1860, 146, 74, 1194], [28, 135, 100, 2641, 56, 863, 2642], [466, 2643, 14, 581, 48, 46, 2644], [2645, 252, 1928, 41, 905, 526], [14, 499, 14, 2626, 28, 21, 2646, 2647], [487, 931, 15, 842, 931, 1427, 68, 133, 1950], [56, 133, 224, 451, 476, 2648, 2649, 146, 339], [131, 253, 445, 724, 234, 37, 21, 2650, 153, 2651], [56, 28, 21, 2652, 208, 587, 15, 2653], [125, 146, 76, 2654, 931, 15, 2655, 1813], [6, 131, 253, 1298, 146, 56, 208, 842, 2656], [212, 708, 6, 490, 685, 616, 921, 325, 1150], [670, 212, 6, 1410, 490, 323, 158, 460, 580, 1171], [226, 104, 133, 1692, 2657, 287, 2658, 200], [133, 476, 1183, 36, 17, 2659, 791, 1438], [13, 2660, 19, 156, 2661, 2662], [2663, 68, 2042, 2664, 56, 488, 2665, 100, 1106], [2666, 349, 108, 780, 15, 2667, 2668], [2669, 356, 2670, 28, 15, 768, 100, 2671, 863], [2564, 200, 2672, 100, 573, 2673], [10, 490, 158, 104, 112, 2674, 490, 460, 580, 2675], [81, 490, 289, 2676, 548, 2677], [2678, 15, 1528, 2045, 100, 15, 973], [460, 153, 41, 889, 104, 10, 490, 158, 112, 94], [28, 221, 1183, 2429, 28, 6, 241, 299, 208, 572], [300, 498, 158, 28, 15, 2679, 100, 397, 2670], [2680, 2681, 460, 153, 158, 460], [241, 2682, 81, 146, 2683, 2299], [72, 2684, 37, 15, 2685, 28, 976], [487, 287, 146, 153, 115, 2686, 409], [6, 348, 96, 2687, 56, 153, 11, 2688], [146, 153, 15, 997, 28, 252, 2689, 2137], [156, 2690, 2691, 1295, 21, 675, 76, 2692], [806, 158, 573, 1732, 292, 2693, 2694, 56, 2179], [61, 21, 2260, 2695, 2696, 720], [460, 2682, 158, 37, 21, 626, 246, 56, 2697], [13, 1249, 146, 679, 670, 28, 15, 1697, 100, 648], [125, 74, 76, 2698, 56, 202, 498, 2574], [490, 11, 921, 286, 287, 832, 814, 1154], [2699, 498, 1042, 6, 490, 616, 2700, 107], [930, 490, 17, 581, 224, 723, 2701], [974, 202, 581, 1322, 460, 28, 506], [2702, 107, 2243, 325, 1976, 498, 370, 18, 370], [6, 490, 616, 2703, 1756, 37, 2691, 2670], [56, 220, 28, 19, 581, 30, 2704, 1497], [6, 490, 616, 2705, 2135, 28, 107, 15, 753], [241, 17, 2706, 498, 1452, 0, 581, 346], [971, 1264, 133, 2707, 56, 2367, 1480], [56, 96, 2556, 2577, 2708, 2709], [1278, 498, 61, 15, 2710, 100, 581, 961], [13, 2711, 158, 495, 498, 68, 581, 2712, 479], [568, 133, 2713, 1502, 490, 249, 2605, 28, 427], [15, 2501, 56, 1664, 100, 581, 460], [367, 14, 28, 135, 1296, 1699, 122, 786], [37, 2714, 2062, 3, 1296, 2652, 2715], [14, 28, 2716, 1296, 2717, 1206], [3, 2718, 28, 2719, 2720, 81, 3, 2721], [670, 94, 105, 1183, 100, 581, 2722, 2326], [28, 2595, 2723, 249, 490, 250, 133, 1701], [56, 2118, 100, 2724, 1424, 41, 494, 100, 2725], [28, 76, 2726, 305, 6, 269, 289, 397, 2727], [1042, 2728, 68, 460, 2729, 2730], [15, 2731, 6, 114, 158, 2196, 28, 1268, 1488], [56, 1173, 28, 2732, 41, 2733, 678], [241, 1956, 100, 2734, 517, 18, 891, 76, 2735], [13, 1548, 490, 919, 56, 592, 15, 2736, 397], [2737, 2738, 268, 6, 94, 2739, 2118, 100, 580], [234, 2593, 616, 490, 2740, 100, 2741, 1252], [291, 0, 2742, 2743, 14, 1755, 61], [2744, 1863, 28, 2745, 56, 2745, 28, 1863], [299, 1423, 81, 490, 2181, 133, 46, 28, 1854], [234, 2307, 2367, 455, 133, 820, 2746], [951, 146, 455, 489, 146, 46, 94, 696, 11], [120, 616, 131, 32, 679, 100, 296, 2747, 1756, 2748], [68, 15, 2749, 100, 74, 2750, 2751], [487, 1047, 100, 891, 52, 490, 592, 397], [6, 1176, 153, 18, 619, 299, 141, 1176], [56, 2006, 460, 81, 146, 153, 2752, 2168], [652, 491, 321, 495, 842, 122, 356, 1022, 1379], [94, 490, 1044, 2753, 28, 133, 64], [56, 1422, 18, 2731, 1718, 122, 321, 490, 616, 2071], [6, 580, 114, 969, 2754, 2755, 498, 52], [56, 165, 6, 1246, 241, 490, 104, 249, 1545], [1288, 239, 490, 343, 133, 2756, 2276], [381, 133, 2757, 114, 1849, 72, 2758, 1878], [165, 125, 580, 114, 18, 133, 2759, 2688], [14, 490, 18, 583, 2760, 1972, 41, 1755, 100, 19], [56, 490, 41, 693, 616, 287, 1362, 2692], [28, 2761, 120, 969, 490, 2762, 68, 581, 804], [487, 6, 1296, 541, 100, 1120, 10, 616, 194], [133, 2763, 1279, 120, 2764, 397, 1246, 2765], [56, 1457, 28, 580, 14, 580, 28, 498, 104, 2766], [15, 2133, 1236, 241, 2767, 2768, 2769], [13, 6, 581, 1270, 52, 2770, 41, 2771], [131, 2772, 583, 56, 583, 239, 1255, 498], [931, 1176, 28, 76, 1986, 321, 1986, 2366], [81, 158, 28, 76, 2586, 2773, 100, 105], [56, 15, 2556, 395, 2030, 241, 153, 94, 2370], [158, 18, 1296, 2774, 13, 18, 2111, 1950], [165, 200, 17, 2111, 823, 2775, 32], [221, 2776, 28, 133, 2777, 143], [72, 96, 133, 2559, 200, 213, 2778, 2779], [241, 68, 296, 2780, 134, 1928, 234, 490, 1096, 618], [287, 490, 875, 6, 490, 875, 56, 293, 6, 2710], [495, 133, 2781, 2782, 339, 296, 30], [490, 446, 76, 1492, 292, 293, 570, 76, 2783], [18, 296, 1956, 1021, 133, 1256, 239, 158, 76, 1951], [381, 74, 2301, 619, 293, 2784], [107, 667, 213, 1928, 56, 68, 296, 2785, 1054], [34, 529, 34, 2786, 213, 61, 133, 2091], [1183, 2787, 37, 2788, 25], [241, 84, 2227, 6, 1804, 1956, 1300], [2789, 107, 649, 670, 28, 2084], [72, 495, 15, 496, 94, 777, 14, 2091, 56, 820], [616, 2790, 18, 232, 28, 2791], [844, 342, 28, 972, 2792, 2153, 21, 899], [100, 80, 34, 1687, 11, 575, 76, 2793], [6, 988, 2794, 323, 158, 94, 121, 590], [286, 1601, 490, 2795, 34, 608, 460, 28, 2796], [883, 28, 221, 639, 0, 498, 289, 490, 2797], [28, 903, 212, 2786, 6, 2798, 80, 122], [28, 447, 115, 2298, 28, 1990, 80], [114, 28, 2799, 2800, 68, 498], [287, 19, 26, 189, 158, 950, 6, 490, 325, 488], [34, 2801, 2752, 339, 37, 2576, 10], [28, 498, 213, 207, 2802, 207, 1642], [293, 213, 13, 2803, 100, 41, 1705, 346], [1296, 2804, 213, 626, 56, 883, 3, 2805], [234, 26, 160, 2806, 202, 1355, 6, 153, 136], [56, 2807, 135, 639, 1888, 28, 1296, 4], [321, 1096, 6, 3, 685, 616, 2808, 639, 1491], [34, 2809, 56, 80, 490, 1264, 2810], [158, 2811, 495, 15, 1528, 286, 15, 544], [165, 34, 2812, 56, 234, 3, 142, 208, 1150], [141, 122, 72, 740, 18, 34, 2813, 1010], [74, 490, 325, 2272, 56, 74, 84, 814, 76], [490, 97, 76, 397, 190, 34, 574, 56, 80], [125, 133, 608, 460, 114, 13, 15, 130, 100, 678], [146, 10, 165, 1321, 1931, 76, 2394], [14, 1331, 28, 573, 460, 72, 28, 573, 479], [1958, 565, 1958, 72, 290, 37, 290, 2814], [287, 146, 289, 2815, 1022, 0, 2816], [146, 2817, 158, 68, 2818, 2819, 286, 2820], [343, 15, 2821, 100, 2822, 2823], [2702, 244, 2824, 19, 1296, 825, 180], [146, 1863, 158, 2728, 6, 2825], [241, 2112, 96, 2826, 100, 2827, 246], [13, 107, 230, 1795, 2828, 2829], [6, 146, 286, 652, 37, 554, 286, 2830, 37, 2038], [28, 74, 490, 987, 506, 15, 2831, 100, 19], [241, 12, 165, 2734, 172, 616, 1930, 165, 804], [2832, 1340, 28, 498, 490, 2833, 15, 555], [37, 133, 2834, 15, 714, 2835], [72, 2836, 224, 2837, 165, 2084], [241, 1549, 122, 757, 321, 67, 72, 2838], [616, 490, 158, 1186, 2839, 96, 154, 56, 947], [771, 107, 56, 122, 18, 2840, 49, 121, 2841], [165, 2842, 48, 2843, 1908, 2844], [2845, 2846, 68, 296, 2847, 2071], [287, 300, 498, 76, 1143, 68, 34, 820], [56, 1314, 26, 133, 2848, 988, 13, 214], [241, 153, 158, 2849, 37, 2850, 724, 287, 51], [13, 413, 2851, 57, 498, 165, 80], [579, 26, 2852, 2853, 41, 397, 1815], [81, 476, 2854, 1795, 496, 68, 34, 1735], [487, 26, 133, 182, 2543, 172, 68, 34, 1867], [160, 590, 573, 2855, 149, 21, 2855, 1214], [172, 442, 18, 2856, 1169, 56, 943, 2857], [34, 1152, 2858, 14, 34, 48, 46, 501], [125, 232, 1189, 818, 2859, 2860], [14, 26, 2861, 2862, 299, 97, 614, 80, 181], [166, 715, 80, 28, 74, 851, 6, 184, 717], [446, 19, 1075, 56, 2307, 627, 1384], [226, 429, 184, 487, 26, 2863, 100, 184, 395], [166, 446, 2864, 13, 158, 299, 447, 184, 109], [184, 236, 292, 2865, 2866, 239, 76], [56, 184, 2867, 153, 28, 2851, 80], [68, 15, 136, 188, 1041, 289, 158, 2868, 129], [72, 125, 146, 114, 146, 2833, 158, 8, 1315], [13, 52, 153, 1041, 8, 2869, 23], [56, 108, 2870, 37, 41, 1931, 117], [165, 568, 342, 303, 455, 897, 96, 204, 1867], [2871, 15, 2743, 37, 2872, 823, 2873, 151], [48, 108, 455, 287, 1315, 287, 1142, 2874], [13, 153, 2875, 125, 158, 243, 68, 1075], [883, 133, 2876, 32, 213, 2877, 1041], [184, 32, 94, 2878, 56, 293, 2879, 909], [495, 466, 172, 158, 1888, 129, 287, 108, 1110], [2880, 2323, 37, 41, 823, 2439], [226, 94, 293, 1981, 2881, 100, 296, 1120], [6, 252, 741, 1502, 108, 17, 148, 94], [120, 633, 81, 26, 133, 384, 384, 2882], [202, 6, 696, 2883, 156, 1474, 400], [37, 34, 48, 2884, 81, 26, 2885, 2886], [15, 2887, 398, 6, 131, 404, 267], [325, 490, 1977, 212, 2888, 6, 1453, 1459], [28, 2889, 15, 22, 713, 100, 34, 303], [951, 133, 988, 2694, 241, 17, 6, 2890, 2891], [495, 15, 2892, 2893, 18, 80, 2423, 698], [28, 76, 94, 2894, 293, 517, 488, 296, 678], [56, 2895, 37, 212, 2896, 2897], [548, 519, 34, 2884, 2898, 37, 247, 2899], [40, 1140, 2883, 122, 1716, 321, 329, 2694], [568, 2136, 2888, 94, 416, 213, 68, 74], [221, 639, 34, 2884, 498, 34, 2694, 28, 2889], [244, 1122, 100, 1709, 68, 41, 67, 100, 117], [153, 2900, 68, 1868, 56, 844, 1868, 2900], [153, 2901, 467, 692, 1183, 100, 1369], [2902, 2903, 523, 50, 158, 28, 903], [2904, 287, 2905, 13, 1329, 1492], [544, 2658, 2906, 56, 287, 2905, 610], [544, 2658, 2907, 14, 41, 2908, 2909], [96, 851, 2836, 28, 135, 15, 2910, 2911], [2911, 68, 2912, 56, 68, 772, 94], [610, 228, 56, 68, 1507, 28, 616, 2903], [41, 2913, 68, 2577, 56, 2574, 41, 257, 1120], [685, 41, 390, 2914, 443, 41, 2253], [107, 74, 15, 71, 445, 724, 226, 475, 724, 445], [28, 2719, 15, 635, 6, 263, 667, 28, 74, 1755], [133, 2876, 32, 213, 207, 367, 15, 857], [2915, 153, 1022, 122, 2426, 321, 184, 2694, 2426], [125, 2916, 76, 549, 200, 104, 184, 2917, 213, 2918], [125, 2919, 76, 2920, 1041, 2920, 572, 96, 184, 341], [490, 616, 1186, 1258, 2921, 2426, 56, 549], [13, 287, 466, 1258, 142, 490, 68, 184, 2179], [56, 68, 163, 2490, 153, 269, 122, 1307], [321, 68, 15, 1662, 6, 0, 133, 818, 2922], [490, 460, 28, 385, 184, 1237, 226, 445, 490, 609], [6, 384, 455, 41, 1022, 122, 417, 2923], [490, 473, 490, 11, 2181, 41, 2582, 567], [133, 818, 81, 166, 2269, 2924, 96, 15, 2039], [56, 226, 18, 635, 490, 1096, 133, 460, 14, 864], [14, 471, 166, 2925, 37, 823, 750], [26, 51, 14, 2926, 94, 14, 26, 51], [14, 212, 156, 569, 2927, 135, 639, 50], [165, 445, 26, 1418, 28, 133, 608, 2928, 820], [26, 51, 15, 1, 56, 476, 1115, 1037], [226, 68, 618, 1893, 163, 112, 6, 80, 542], [34, 151, 455, 158, 15, 1867, 28, 135, 460, 1594], [28, 112, 293, 2929, 490, 1008, 158, 76, 94, 2797], [1295, 490, 2930, 146, 28, 133, 46, 230], [56, 28, 76, 1536, 6, 153, 158, 823, 490, 2930], [41, 967, 2931, 13, 1991, 96, 34, 151], [320, 96, 1940, 2932, 325, 987, 24], [34, 1041, 153, 1, 68, 133, 2933, 307], [68, 207, 51, 26, 1041, 577, 68, 34, 1256], [56, 1548, 74, 1966, 14, 490, 1096, 2934], [29, 32, 490, 460, 56, 293, 14, 2935, 498], [2129, 34, 820, 1360, 498, 37, 2936], [616, 897, 96, 1041, 56, 1005, 2879, 76], [1029, 37, 1387, 2937, 202, 133, 1352], [56, 869, 158, 15, 1185, 857, 100, 635], [1176, 2770, 15, 2938, 2179, 100, 15, 2939], [286, 6, 1183, 997, 6, 2940, 68, 15, 670], [208, 726, 6, 962, 28, 15, 2941, 1207], [14, 212, 1293, 2942, 32, 2943, 34, 151], [487, 300, 146, 104, 14, 445, 2944, 34, 820], [28, 1981, 165, 498, 568, 2942, 208, 80, 946], [56, 2945, 34, 70, 367, 68, 252, 899], [104, 97, 490, 2930, 108, 2946, 153, 1041], [56, 107, 293, 2743, 6, 34, 763, 1110], [2947, 6, 820, 6, 1040, 133, 820, 28, 1594], [165, 6, 88, 1239, 146, 206, 133, 1133, 56, 498], [1354, 158, 1233, 28, 1057, 498, 230], [13, 1720, 28, 2948, 133, 2949, 1133, 239, 76], [498, 0, 133, 46, 34, 50, 253, 455, 2692], [56, 133, 2580, 46, 26, 2950, 442, 2951], [100, 268, 133, 46, 56, 80, 490, 875, 2952], [41, 1360, 1718, 2953, 1042, 28, 76, 2954], [2955, 133, 820, 68, 34, 1878, 935, 2956], [13, 104, 133, 1168, 820, 300, 133, 988, 820, 2024], [2957, 715, 498, 300, 133, 820, 76, 21, 1568], [26, 227, 158, 104, 124, 2958, 68, 133, 2959], [56, 226, 26, 426, 165, 490, 105, 282, 68, 80], [2960, 875, 29, 56, 107, 6, 153, 68, 498], [94, 52, 490, 616, 2961, 6, 173, 153, 29], [56, 490, 133, 46, 875, 2962, 28, 34, 97], [133, 46, 1181, 2522, 94, 6, 589, 131], [26, 426, 2963, 28, 76, 133, 1323, 299], [13, 26, 426, 158, 286, 173, 97, 158, 76, 214], [165, 26, 51, 2964, 56, 173, 153, 494], [173, 2965, 13, 2966, 28, 727, 165, 498], [343, 6, 2967, 6, 268, 14, 2968, 208, 2969], [15, 2970, 100, 34, 108, 26, 426, 1314], [26, 223, 6, 2971, 1225, 107, 28, 124], [56, 2972, 41, 1133, 2973, 2974, 165, 133, 1419], [94, 268, 490, 771, 186, 133, 2754, 217], [268, 616, 490, 2030, 26, 442, 1264, 268, 56, 498], [173, 2122, 15, 2975, 56, 226, 875, 490, 158, 214], [2976, 455, 184, 704, 26, 442, 34, 97], [56, 2977, 28, 2978, 56, 2977, 68, 2979], [122, 321, 1233, 875, 490, 6, 2311, 80, 299], [28, 34, 48, 97, 40, 848, 1042], [426, 26, 156, 97, 153, 1460, 56, 2980], [158, 969, 1166, 28, 1204, 133, 97, 68, 29], [84, 97, 68, 462, 909, 1497, 336], [56, 68, 133, 97, 287, 129, 2981, 1210], [15, 1455, 107, 1463, 226, 2586, 630, 299], [56, 68, 44, 2982, 28, 21, 520], [94, 26, 105, 684, 68, 97, 1955, 28, 34, 97], [320, 97, 100, 131, 28, 135, 34, 1460, 97, 122], [300, 287, 2754, 287, 129, 2983, 1384], [1096, 107, 13, 320, 56, 498, 68, 6, 320, 2977], [125, 34, 1815, 1745, 80, 6, 490, 720, 94, 1812], [2930, 28, 34, 1031, 1815, 6, 490, 289, 34, 2977], [56, 97, 34, 1815, 724, 153, 2984, 269], [1042, 1022, 165, 460, 133, 2985, 48, 2986], [2977, 97, 2986, 15, 109, 100, 34, 460], [1399, 1706, 146, 1183, 37, 2780, 56, 133, 97, 320], [68, 863, 100, 224, 2987, 37, 1575, 3, 427], [565, 41, 729, 320, 153, 2988, 475], [104, 68, 15, 729, 300, 498, 1559, 2989], [292, 68, 34, 2990, 1129, 490, 320, 239, 76], [165, 207, 590, 498, 94, 146, 1061, 80, 590], [6, 207, 498, 41, 2222, 48, 28, 80], [135, 13, 133, 1315, 34, 460, 56, 460, 6, 299], [56, 104, 26, 392, 498, 165, 133, 1315, 153, 97], [26, 1031, 1732, 460, 234, 160, 26, 28, 131, 32], [6, 293, 542, 56, 142, 158, 234, 293, 142], [293, 609, 234, 108, 153, 142, 43, 146, 45], [226, 234, 15, 526, 153, 1314, 15, 812, 28, 76], [125, 32, 2991, 18, 2992, 348], [76, 2993, 68, 15, 2994, 43, 107, 667, 1198], [200, 100, 2995, 1535, 442, 26, 2996, 2997], [2702, 15, 1692, 100, 133, 820, 153, 2998], [200, 17, 133, 820, 1096, 6, 41, 2999, 3000], [241, 133, 820, 724, 15, 800, 53, 1960, 307], [72, 131, 32, 1950, 74, 112, 74, 153, 158], [28, 897, 129, 641, 202, 94, 2743, 41, 151], [68, 863, 1497, 397, 133, 820, 56, 32, 616, 3001], [56, 28, 74, 823, 2639, 213, 293, 52, 3002], [81, 133, 460, 3003, 6, 166, 153, 141, 100, 641], [490, 325, 718, 184, 292, 490, 609, 166, 45], [6, 166, 10, 1096, 498, 163, 3004, 357], [3005, 68, 15, 53, 823, 3006], [1042, 3007, 1991, 6, 166, 1733, 498, 815], [1295, 166, 724, 133, 111, 213, 544, 15, 526], [3008, 490, 3009, 184, 3010, 741], [96, 1264, 3011, 1042, 153, 1908, 641, 3012], [13, 690, 1502, 166, 158, 166, 153, 3013], [56, 690, 112, 158, 490, 6, 490, 875, 136], [487, 806, 526, 3014, 153, 68, 423, 903], [56, 188, 68, 460, 1298, 158, 28, 616, 1391, 1491], [883, 490, 1150, 37, 184, 56, 166, 37, 498], [56, 68, 1296, 1268, 18, 45, 3, 3015, 76], [487, 506, 158, 498, 28, 3016, 15, 813], [6, 34, 2759, 2405, 202, 133, 820], [1239, 498, 158, 37, 29, 253, 13, 37, 34, 741], [124, 1867, 37, 1867, 56, 3017, 498, 158, 18, 51], [150, 498, 26, 392, 1811, 13, 68, 133, 346], [608, 820, 1402, 28, 2058, 29, 253, 2059], [234, 3018, 26, 1239, 37, 944, 81, 34, 10], [153, 122, 321, 133, 3019, 576, 575, 1744], [300, 498, 1415, 80, 434, 133, 460, 445, 724], [184, 1387, 348, 616, 1756, 131, 1052], [56, 883, 0, 133, 151, 166, 939, 133, 1386], [6, 293, 1811, 10, 3020, 296, 2261], [226, 325, 158, 94, 13, 568, 490, 875, 1812, 893], [1384, 498, 3021, 37, 348, 56, 3022, 133, 1352], [76, 1995, 14, 26, 51, 50, 325, 158, 3023], [133, 1905, 1741, 37, 49, 121, 2936], [1310, 1246, 209, 498, 991, 56, 991, 2542], [15, 3024, 100, 133, 3025, 1352], [125, 490, 10, 1574, 80, 924, 1176, 146, 114], [292, 158, 28, 460, 226, 460, 28, 150, 498, 94], [14, 3026, 2118, 667, 81, 296, 1666, 76, 1812], [287, 3027, 13, 1489, 0, 296, 3028, 609], [165, 125, 490, 17, 2424, 490, 17, 572, 2911], [56, 68, 133, 3029, 10, 1237, 891, 100, 80], [52, 74, 3030, 71, 153, 1169, 94, 1928], [2911, 3031, 18, 2911, 3032, 3033, 76], [6, 490, 446, 158, 76, 94, 286, 26, 2925], [24, 29, 32, 1492, 292, 34, 92, 820, 567, 800], [68, 1893, 490, 325, 158, 460, 80, 37, 131, 32], [165, 293, 68, 80, 41, 967, 2367, 418], [13, 931, 133, 820, 6, 1298, 234, 293, 3034], [172, 68, 190, 100, 1036, 153, 3035, 28, 3036], [286, 213, 131, 3037, 37, 34, 3038, 3039, 3040], [286, 22, 2774, 28, 1227, 732, 3041], [286, 1374, 286, 1957, 4, 28, 76, 3042], [28, 471, 1276, 1522, 37, 80, 230], [13, 133, 1763, 1771, 286, 133, 1763, 3043, 575], [3044, 320, 3045, 820, 0, 347, 80], [172, 273, 3046, 15, 3047, 100, 41, 832], [34, 92, 1513, 1720, 56, 1737, 1585, 28, 76], [57, 133, 2639, 1042, 1022, 490, 134, 133, 1422], [6, 166, 6, 1040, 498, 1813, 3048, 498, 1352], [460, 153, 133, 1813, 56, 34, 608, 1664, 479], [479, 100, 133, 1813, 1817, 96, 2476, 1005], [487, 13, 37, 131, 750, 26, 29, 30, 678], [56, 26, 189, 592, 146, 3049, 158, 3050], [72, 125, 146, 325, 158, 0, 212, 2694, 100, 29], [6, 616, 2875, 296, 3051, 3052], [56, 3053, 823, 2243, 100, 460, 14, 633, 14, 131], [3054, 2111, 3055, 3056, 100, 296, 3057], [76, 146, 1283, 490, 460, 80, 14, 26, 392, 212], [519, 29, 32, 3058, 14, 131, 3059, 80], [1681, 70, 68, 34, 820, 6, 81, 146, 652], [34, 70, 446, 3060, 28, 3061, 76], [125, 26, 160, 1572, 28, 616, 234, 26, 160, 1204], [18, 3062, 505, 26, 76, 3063], [334, 14, 41, 1531, 3064, 3065, 28, 2628], [320, 100, 184, 3066, 2, 3067, 518], [683, 1480, 184, 889, 56, 1040, 107, 1473, 3068], [68, 2912, 100, 15, 651, 166, 517, 616, 682], [951, 184, 3069, 130, 653, 184, 68, 3070], [1081, 28, 2628, 184, 156, 3071, 1541, 153, 2274], [28, 3072, 6, 241, 1965, 685, 184, 151], [158, 3073, 184, 988, 3074, 2823], [94, 3075, 26, 595, 6, 241, 1965, 0, 80], [951, 490, 34, 889, 3070, 80, 3076, 443], [13, 125, 26, 2628, 34, 992, 2340, 181, 28, 498], [56, 255, 15, 179, 899, 2889, 498, 76, 494], [94, 97, 490, 3077, 6, 26, 505, 616, 34, 97], [125, 26, 2340, 181, 56, 133, 3078, 3079, 299], [1293, 1298, 490, 616, 100, 1323, 56, 2424], [241, 367, 1293, 2226, 325, 3080, 498, 299], [15, 1176, 3081, 153, 41, 832, 1497, 129], [15, 3082, 1709, 41, 840, 3083, 891], [28, 1854, 498, 1457, 28, 1755, 133, 3084, 619], [3085, 133, 1176, 3081, 0, 133, 1504], [56, 517, 2991, 133, 3086, 28, 76, 41, 3087], [3088, 21, 3089, 37, 184, 2743, 959], [56, 1324, 6, 133, 3081, 76, 2488, 3090], [1963, 490, 446, 226, 158, 3091, 150], [13, 105, 1264, 0, 498, 1264, 28, 342, 1133], [490, 1952, 320, 3081, 68, 1940, 1755], [226, 74, 84, 490, 733, 609, 13, 193, 68, 3092], [844, 133, 1928, 3081, 1470, 133, 618, 320, 679], [212, 2694, 6, 806, 30, 303, 249, 135], [3093, 1225, 15, 2923, 6, 1410, 3094, 3095], [28, 498, 6, 3096, 165, 184, 1419], [13, 81, 166, 2181, 133, 3097, 678], [1492, 68, 184, 820, 249, 3098, 720], [3099, 6, 741, 6, 814, 48], [289, 242, 68, 2230, 247, 648], [56, 1860, 146, 1042, 2168, 28, 1561], [3094, 3095, 166, 2317, 37, 115, 456], [6, 3100, 146, 14, 247, 370], [208, 3072, 541, 172, 367, 41, 3090], [0, 635, 28, 1755, 153, 3101, 518], [3094, 3095, 0, 479, 518, 166, 3102], [56, 3103, 133, 433, 3104, 3105, 3106], [988, 1815, 15, 3107, 100, 133, 2476, 783], [133, 2476, 783, 1092, 3108, 3109, 3110], [200, 160, 26, 2054, 61, 56, 1739, 3111], [1829, 34, 714, 283, 94, 3112, 1939], [200, 94, 1460, 1845, 228, 94, 757, 41, 591], [160, 26, 202, 34, 801, 2352, 201], [84, 333, 3113, 100, 74, 3114], [77, 339, 34, 3115, 153, 74, 34, 1018, 456], [104, 1815, 193, 26, 202, 34, 3116, 1244], [56, 300, 6, 2054, 28, 3117, 34, 520], [3118, 3119, 2545, 68, 3120, 246, 100, 3121], [61, 76, 3122, 510, 76, 684, 287, 122], [94, 84, 26, 3123, 96, 324, 6, 1793, 96, 667], [56, 324, 969, 1140, 3124, 287, 122, 3125, 104], [133, 460, 153, 14, 41, 2751, 3126, 299], [165, 6, 241, 582, 3127, 15, 3128], [1701, 96, 6, 241, 208, 3129, 15, 891], [244, 3130, 3131, 1699, 28, 1061], [133, 2658, 15, 3132, 28, 133, 460], [3133, 6, 21, 3134, 213, 158, 457], [455, 279, 498, 56, 490, 3135, 52, 1421], [4, 153, 324, 241, 1241, 249, 3136], [544, 2600, 490, 875, 52, 2658, 153, 544, 1541], [56, 3137, 37, 1308, 3138], [133, 1021, 56, 133, 3139, 14, 2911, 837, 213], [495, 3140, 0, 15, 641, 3007, 918], [165, 490, 616, 3141, 80, 129, 56, 489, 80, 31], [172, 51, 14, 1041, 14, 1755, 14, 1433, 14, 541], [487, 498, 234, 32, 455, 460, 897, 68, 133, 341], [241, 616, 287, 3142, 37, 397, 346], [72, 125, 293, 616, 43, 153, 133, 1692, 1985], [6, 3143, 3144, 234, 293, 142, 3145], [125, 6, 76, 129, 662, 133, 823, 32, 3036], [234, 695, 15, 71, 28, 112, 146, 153, 158, 94], [125, 146, 76, 158, 104, 460, 208, 445, 3146], [806, 253, 153, 158, 94, 397, 14, 107, 837, 287], [120, 575, 146, 487, 120, 575, 806, 253, 76, 397], [6, 153, 94, 3147, 37, 3148, 56, 37, 1252], [287, 3149, 104, 292, 490, 3150, 133, 1036], [15, 857, 146, 46, 3151, 158, 844, 635, 3152], [487, 944, 460, 37, 1252, 26, 3153, 498, 1031], [1310, 32, 3154, 34, 2743, 1268, 17, 592], [227, 26, 487, 50, 112, 490, 460, 80, 158], [81, 490, 585, 133, 46, 37, 80, 3155], [325, 490, 158, 1096, 96, 80, 81, 490, 974], [875, 100, 133, 46, 3156, 165, 34, 1419], [172, 3157, 80, 6, 490, 325, 506, 133, 1133], [96, 519, 3158, 26, 6, 490, 325, 3159, 202], [1988, 125, 26, 3160, 96, 498, 325, 490, 158, 201], [3161, 202, 133, 46, 37, 1528, 1121], [234, 980, 325, 490, 68, 133, 46, 1007], [6, 153, 94, 92, 34, 3162, 28, 3034], [81, 107, 133, 526, 208, 3163, 34, 1961], [3164, 18, 15, 1474, 100, 29, 32], [13, 460, 479, 96, 165, 52, 490, 609, 34, 451], [212, 6, 575, 142, 26, 392, 56, 490, 875, 1031], [487, 0, 234, 1867, 442, 26, 74, 1672, 10], [37, 3165, 133, 820, 28, 1903], [28, 135, 498, 221, 15, 1150, 28, 133, 397, 346], [56, 2930, 6, 3166, 208, 158, 946, 15, 370], [1547, 442, 26, 74, 2881, 100, 863, 891], [6, 68, 15, 257, 3167, 100, 34, 1256], [269, 153, 466, 908, 56, 3168, 100, 717], [6, 68, 133, 451, 34, 812, 107, 526, 3169], [172, 1860, 80, 120, 28, 135, 498, 460, 80, 122], [15, 122, 490, 385, 56, 142, 2556, 1571, 100, 479], [487, 292, 490, 460, 234, 462, 325, 3170], [37, 462, 26, 326, 158, 3170, 133, 678], [125, 34, 3171, 3172, 460, 68, 498], [122, 1006, 490, 28, 76, 474, 100, 80], [460, 153, 49, 815, 28, 609, 234, 3173, 153], [226, 172, 724, 158, 3173, 153, 1888, 100, 460], [104, 247, 3174, 2715, 158, 133, 1273], [1310, 2581, 100, 133, 1268, 34, 48, 46, 427], [165, 26, 3175, 498, 490, 325, 2374], [133, 3176, 899, 28, 133, 2178, 1018, 3177], [133, 1815, 208, 150, 133, 929, 6, 173, 446], [952, 68, 460, 1444, 3178, 287, 1059, 2658], [13, 3179, 495, 34, 1315, 208, 1621, 679, 80], [14, 21, 1211, 1551, 92, 100, 74, 959], [173, 153, 1091, 34, 988, 3180, 28, 76], [28, 698, 68, 34, 1730, 600, 18, 34, 1504], [287, 945, 100, 3173, 590, 146, 6, 490, 506], [184, 460, 165, 156, 608, 460, 490, 2440, 56, 600], [68, 1005, 80, 26, 1418, 490, 875, 1895], [13, 26, 51, 749, 1895, 28, 498, 460, 3181], [68, 3182, 34, 3183, 3067, 56, 140, 1893, 3184], [68, 3185, 140, 479, 595, 140, 460, 886], [13, 200, 100, 1293, 3186, 3187, 325, 490, 2699, 80], [81, 490, 1098, 3188, 490, 875, 2901, 476], [165, 107, 133, 2664, 213, 3189, 13, 28, 3190, 80], [56, 107, 133, 3191, 1893, 68, 80, 153, 2030], [165, 490, 616, 3141, 88, 3189, 100, 34, 88, 1313], [3189, 100, 34, 460, 34, 641, 34, 2501], [56, 28, 3192, 80, 528, 32, 28, 3193], [72, 141, 639, 2930, 585, 15, 651, 293, 142], [165, 490, 616, 3141, 80, 129, 122, 2901, 490], [28, 2930, 585, 15, 641, 94, 2743, 41, 76], [3194, 2836, 18, 21, 2587, 56, 846, 3195], [41, 3196, 100, 3197, 74, 1850, 1424], [56, 21, 3198, 1470, 249, 3199, 3200], [68, 41, 147, 3201, 100, 6, 2039], [241, 2873, 0, 74, 1142, 1470, 100, 460], [41, 1117, 1922, 554, 299, 28, 3202], [56, 2196, 41, 3203, 3204, 241, 226, 667, 427], [585, 1642, 2717, 41, 1189, 2600], [13, 495, 133, 2876, 253, 806, 2587, 3205], [15, 2543, 165, 3206, 1288, 517, 3207, 133, 881], [490, 2118, 3208, 15, 1301, 100, 3204, 2267], [56, 3209, 3210, 41, 1128, 3211, 1525], [13, 1424, 287, 2600, 15, 3204, 165, 133, 1301, 45], [43, 3194, 2099, 140, 1470, 133, 2876, 32], [15, 655, 3212, 3213, 969, 3195], [2836, 18, 21, 1504, 21, 3214, 2587], [951, 422, 3215, 6, 3216, 3217, 433, 28, 447], [2973, 3218, 18, 13, 68, 184, 700, 303], [15, 1, 3219, 1516, 339, 6, 1470], [241, 422, 3220, 100, 397, 1137, 610, 3221], [56, 94, 15, 2301, 100, 759, 4], [289, 3222, 18, 41, 3223, 303, 3224], [74, 2587, 166, 3225, 68, 41, 3226, 445, 18], [241, 0, 806, 1470, 1516, 554, 1710], [1170, 41, 3204, 56, 2733, 1816], [165, 667, 3227, 13, 490, 133, 2876, 3228], [2973, 269, 165, 2600, 56, 74, 18, 6, 490, 427], [806, 1470, 3229, 1463, 1463, 3230, 158, 460], [416, 1416, 273, 81, 14, 212, 2418, 1056], [241, 590, 133, 433, 68, 296, 3231, 10], [84, 3232, 580, 56, 590, 68, 806, 2414, 3233], [367, 3234, 3235, 495, 15, 3236, 346], [56, 416, 708, 96, 241, 37, 3237, 337], [212, 3238, 32, 97, 3239, 1590, 28, 148], [56, 640, 15, 1070, 100, 133, 3125, 3240], [985, 37, 1252, 68, 1513, 3241, 971], [56, 416, 3242, 3243, 68, 15, 349, 3244], [100, 3245, 1547, 166, 3246, 153], [81, 1416, 542, 6, 3247, 696, 148], [133, 993, 3248, 2036, 133, 865, 2913], [273, 708, 56, 3242, 1572, 184, 28, 1061, 230], [519, 125, 1416, 1061, 490, 1541, 165, 589, 475], [3249, 489, 519, 495, 15, 842, 490, 2551], [100, 244, 713, 3250, 100, 133, 3251, 820], [56, 3252, 616, 37, 1519, 56, 1070, 3122], [844, 1379, 104, 133, 168, 26, 3253, 51], [1098, 1225, 495, 1073, 679, 100, 15, 3254, 899], [68, 241, 26, 3255, 367, 28, 3256, 785], [56, 1572, 163, 3257, 1264, 28, 3258, 133, 3259], [56, 3260, 28, 3261, 34, 46, 37, 2036], [13, 125, 68, 493, 100, 6, 1, 92], [26, 766, 28, 720, 600, 3262, 495, 184, 3263], [56, 37, 3264, 3265, 56, 3266, 3267], [1751, 165, 80, 56, 946, 165, 498, 3268], [241, 125, 166, 473, 104, 193, 56, 133, 460, 531], [125, 158, 12, 1457, 56, 490, 37, 80, 97, 525], [26, 1189, 108, 241, 490, 325, 2805], [987, 15, 71, 120, 1006, 28, 76, 2221], [15, 337, 1640, 455, 3269, 353, 1470], [68, 133, 3270, 1709, 18, 184, 0, 3271, 3172], [6, 105, 52, 37, 184, 657, 3166, 3272], [1227, 863, 490, 575, 287, 122, 3202, 28, 1036], [13, 1029, 299, 96, 184, 490, 698, 3273], [495, 2500, 346, 100, 94, 1201, 3274], [94, 81, 133, 741, 517, 1237, 184, 2205, 78], [146, 2615, 153, 37, 3275, 3276], [56, 81, 133, 711, 517, 727, 184, 949, 397], [146, 3277, 153, 37, 3278, 3279], [226, 68, 133, 820, 490, 104, 1264, 1237, 56, 727], [15, 1768, 6, 133, 924, 1343, 3280], [140, 516, 1225, 1029, 679, 100, 3281, 1102], [208, 909, 28, 1224, 992, 100, 140, 1307], [56, 3282, 244, 136, 1728, 21, 1972, 649], [1524, 107, 136, 1021, 28, 12, 68, 3283, 3240], [56, 3284, 1225, 679, 100, 1128, 301, 541], [54, 460, 6, 777, 455, 2184, 68, 3285, 2874], [2780, 268, 1807, 56, 1457, 2619, 268, 3286], [21, 2386, 3287, 56, 3288, 100, 3289, 1867], [165, 110, 60, 52, 68, 21, 3290, 1214], [153, 3291, 28, 720, 1225, 268, 28, 2798], [56, 3292, 15, 783, 37, 3293, 3294, 1869], [28, 3295, 2946, 56, 184, 129, 3296, 3297], [104, 580, 129, 1869, 68, 519, 54, 357, 208, 630], [587, 3298, 140, 460, 28, 1363], [1898, 26, 3299, 133, 608, 1513, 4], [68, 2165, 1277, 37, 184, 49, 3300, 959], [15, 651, 241, 490, 325, 476, 68, 184, 2805], [153, 100, 15, 71, 3301, 476, 3302], [165, 68, 212, 550, 348, 153, 3303, 3304], [1105, 100, 1227, 863, 56, 3305, 100, 2743, 3306], [3307, 3308, 32, 241, 251, 96, 184, 94, 800], [6, 3309, 293, 3310, 1008, 28, 148, 202, 184], [466, 959, 153, 119, 466, 3311, 153, 3312], [6, 3313, 3314, 1249, 68, 184, 32], [56, 184, 129, 2238, 367, 41, 2149, 3315], [3316, 68, 3317, 100, 107, 1052], [289, 11, 68, 74, 71, 3318, 1006, 3319], [510, 163, 3320, 100, 466, 3321, 959], [76, 158, 3322, 6, 184, 2330, 451], [208, 299, 3323, 68, 184, 3324, 959], [56, 460, 158, 367, 28, 3325, 100, 3326, 494], [15, 2950, 1395, 15, 3327, 97, 1023], [15, 3328, 3329, 156, 270, 153, 158, 226, 3330], [153, 777, 305, 146, 3331, 15, 3332, 1470], [13, 81, 146, 969, 208, 791, 146, 208, 1493], [224, 554, 56, 1040, 21, 3333, 28, 635, 3334], [94, 2764, 146, 153, 28, 3335, 140, 4], [68, 247, 881, 6, 84, 3202, 165, 814], [88, 153, 15, 1239, 6, 3336, 15, 408, 3337], [37, 3217, 3338, 6, 3339, 13, 324, 575, 3340], [104, 1096, 158, 777, 68, 3341, 655, 1352], [28, 983, 15, 3342, 6, 814, 84, 1300], [129, 32, 15, 3343, 100, 133, 3344, 820], [234, 2500, 1664, 153, 3345, 68, 580], [15, 241, 1264, 433, 56, 324, 1225, 0, 580, 3020], [1334, 15, 829, 100, 581, 3346, 1036], [165, 81, 1416, 3347, 148, 37, 182, 3274], [104, 153, 133, 1815, 37, 433, 56, 460, 3348], [13, 81, 1416, 3349, 72, 148, 96, 498, 3350], [104, 325, 490, 12, 14, 320, 37, 3351, 3352], [13, 568, 6, 433, 153, 122, 321, 324, 2267], [148, 814, 182, 14, 2770, 580, 526], [6, 581, 31, 2646, 100, 133, 1247, 32, 2203], [446, 3335, 329, 1470, 61, 133, 881], [466, 433, 17, 76, 15, 3312, 100, 581, 337], [466, 324, 15, 1128, 3353, 100, 581, 10], [3354], [122, 321, 476, 129, 1183, 100, 15, 329, 1470], [3269, 2227, 1517, 15, 3355, 1812], [287, 32, 13, 3356, 68, 241, 107, 3109, 482], [6, 28, 15, 71, 3339, 73, 76, 2868, 608], [186, 581, 31, 2646, 208, 158, 15, 3357, 1525], [2711, 679, 21, 3288, 28, 1227, 2570, 1239], [13, 3358, 720, 28, 1404, 3270, 2670, 28, 973], [68, 3217, 3359, 96, 353, 108, 1738], [580, 250, 133, 1021, 56, 825, 498, 61], [580, 177, 133, 741, 56, 1574, 133, 820, 28, 1237], [580, 3360, 15, 3361, 6, 819, 249, 2656], [356, 186, 581, 1571, 13, 18, 581, 1664, 1247], [1433, 153, 15, 71, 43, 581, 337, 3362, 11], [445, 153, 173, 1888, 6, 446, 542, 580, 814], [3363, 490, 1111, 28, 234, 490, 10, 750], [212, 1672, 32, 241, 3364, 133, 1433, 3240], [226, 592, 490, 660, 96, 783, 28, 241, 490, 1008], [2644, 3365, 100, 296, 2149, 337], [158, 28, 15, 857, 165, 293, 325, 1210, 18, 541], [286, 28, 15, 858, 165, 293, 213, 3366, 11], [286, 28, 15, 612, 165, 293, 616, 3367, 346], [286, 28, 15, 1470, 165, 293, 3368, 158, 814], [286, 28, 15, 3369, 165, 293, 299, 3370], [286, 28, 15, 3371, 165, 293, 213, 122, 22], [286, 1517, 1500, 165, 660, 446, 639, 3340], [286, 1517, 149, 466, 3271, 3372, 403, 184], [104, 28, 15, 3355, 46, 293, 3373, 76], [156, 337, 208, 3364, 107, 6, 584, 3, 142], [3374, 978, 100, 460, 234, 3375, 153, 74], [6, 498, 26, 3376, 1042, 3377, 76], [15, 3378, 166, 3379, 68, 3380, 2913], [100, 184, 3381, 3382, 1264, 80, 56, 498], [142, 120, 15, 3383, 208, 390, 28, 142], [15, 657, 3384, 241, 184, 32, 325, 135], [56, 3385, 1137, 1104, 3234, 1517, 80], [6, 26, 100, 639, 505, 3346, 3386, 1314], [13, 184, 92, 820, 325, 26, 41, 655, 754], [56, 6, 722, 148, 37, 241, 166, 208, 3387], [107, 74, 53, 959, 2276, 28, 41, 3326, 135], [56, 107, 184, 1268, 68, 34, 1041, 971, 3388], [6, 490, 446, 3389, 495, 184, 68, 2195, 1316], [14, 166, 208, 3389, 495, 498, 56, 1040, 133, 1352, 184, 2348], [1069, 81, 490, 325, 1572, 56, 3390, 165, 2040], [56, 3391, 325, 3392, 165, 133, 641], [166, 50, 964, 208, 2946, 3393], [28, 3394, 56, 15, 365, 389, 3395], [286, 97, 76, 3396, 37, 2658, 72, 37, 2937], [28, 473, 101, 3397, 28, 133, 3398, 1009], [13, 3399, 184, 846, 3400, 3401], [100, 133, 988, 433, 28, 135, 3402, 1882], [226, 133, 988, 433, 107, 1070, 28, 3403], [490, 517, 184, 2153, 184, 3404, 28, 3405], [13, 104, 166, 3406, 37, 1360, 56, 3407], [28, 1696, 498, 193, 56, 97, 158, 300, 498, 12], [107, 1352, 455, 456, 56, 252, 389, 455, 2040], [13, 131, 287, 3408, 286, 3409, 446, 3410], [320, 370, 490, 1111, 37, 184, 3411, 32], [28, 135, 41, 3412, 56, 3119, 28, 1363], [107, 3413, 104, 100, 94, 823, 1052], [241, 1111, 498, 28, 3414, 68, 3415, 3416], [94, 14, 490, 104, 3224, 249, 1300], [41, 3417, 1973, 241, 1425, 1149, 777], [68, 15, 3303, 3418, 100, 184, 3419, 3420], [1548, 3421, 1225, 249, 3422, 2619, 498, 3423], [49, 368, 490, 3424, 15, 3425, 94, 356], [289, 1406, 28, 2153, 3426, 1334, 296, 1056], [172, 498, 3427, 1492, 37, 3428, 813], [616, 814, 568, 498, 457, 68, 50, 3233], [94, 3429, 52, 28, 580, 490, 325, 1058], [585, 581, 32, 6, 3430, 490, 446, 1422], [3431], [68, 6, 92, 3432, 241, 184, 94, 2149, 3433], [3378, 184, 129, 151, 166, 3434, 339, 28, 15, 672], [56, 28, 15, 2039, 184, 1027, 374, 3435], [476, 2149, 3436, 1416, 446, 3437], [3438, 3265, 2849, 37, 3439, 350], [165, 1029, 96, 15, 783, 1547, 166, 289, 1888], [184, 451, 3440, 184, 1865], [234, 94, 153, 1, 84, 28, 783, 1044], [13, 6, 258, 550, 2238, 2482, 28, 1105], [1227, 651, 56, 1096, 120, 166, 28, 635, 446, 3441], [3442, 1480, 783, 14, 3443, 56, 1202], [6, 3444, 353, 1021, 37, 3445, 3446], [226, 3262, 299, 1166, 28, 148, 96, 498], [466, 3447, 84, 135, 580, 550, 76], [1044, 594, 133, 3448, 2008, 3322], [1517, 15, 1872, 18, 580, 3449, 274], [224, 117, 146, 153, 28, 237, 367, 320, 3450], [94, 129, 41, 2040, 165, 320, 3451, 94, 337], [480, 466, 356, 3452, 3453, 1379, 10], [321, 212, 101, 3454, 241, 1416, 114, 2462, 3455], [466, 3456, 2670, 3457, 28, 3458, 966], [2936, 28, 2153, 1517, 15, 842, 3459], [1278, 883, 107, 15, 3448, 6, 1416, 446], [56, 1425, 3460, 3461, 28, 184, 820], [3462, 2544, 2664, 2937, 1246, 56, 3463], [212, 3464, 575, 15, 2134, 460, 645], [56, 125, 212, 3465, 600, 1480, 56, 12, 685, 184], [94, 3125, 193, 56, 329, 325, 360, 184], [1416, 3466, 3467, 6, 37, 365, 1009], [325, 1572, 476, 1115, 863, 28, 135, 581, 1422], [56, 1264, 15, 3468, 100, 296, 3469, 1882], [234, 3453, 580, 28, 1572, 94, 1022, 68, 3470], [165, 334, 133, 460, 208, 68, 184, 46, 2085], [107, 74, 53, 2246, 6, 446, 1022, 76, 1424], [125, 3471, 334, 184, 32, 76, 3471, 2176], [125, 3472, 334, 184, 2694, 76, 3472, 2923], [125, 3473, 184, 787, 76, 3473, 1264, 1970, 56, 3474], [125, 3475, 184, 3476, 3475, 3477], [125, 762, 184, 3478, 213, 3479, 762, 96, 2039], [125, 1260, 184, 129, 1056, 213, 1260, 3480], [13, 6, 241, 1, 153, 13, 2004, 542], [184, 451, 3481, 37, 3482, 3483], [320, 370, 14, 490, 3484, 249, 251], [96, 212, 129, 32, 133, 806, 2152, 337], [15, 3378, 133, 3485, 820, 3486, 68, 3487], [186, 48, 3488, 100, 184, 3489, 1307], [490, 3490, 666, 120, 68, 184, 3491, 346], [3220, 100, 1298, 37, 655, 3287, 249, 2104], [3492, 296, 3289, 3493, 1609, 31], [495, 252, 3308, 3494, 3495, 18], [320, 100, 212, 3496, 3497, 490, 249, 3498], [3499, 21, 3500, 495, 133, 257, 820], [81, 3501, 37, 3502, 100, 184, 253], [15, 3503, 3067, 21, 3504, 3020], [610, 166, 158, 94, 940, 1536, 490, 610, 1756, 893], [226, 14, 146, 289, 490, 3505, 2279, 37, 1352], [3506], [15, 1184, 3507, 100, 6, 3247, 151], [141, 28, 3487, 1247, 837, 3508, 717], [56, 74, 53, 2145, 962, 28, 3509], [234, 711, 234, 709, 575, 2542, 184, 1706], [165, 292, 173, 3510, 323, 1998, 495, 97], [56, 3511, 21, 2965, 303, 495, 395, 3512], [496, 3235, 146, 21, 3513, 17, 3514], [226, 422, 2500, 863, 269, 213, 898], [15, 48, 3515, 6, 367, 3493, 3516], [15, 3517, 3518, 6, 3519, 1279, 0, 15, 820], [15, 182, 3520, 56, 15, 550, 959], [1343, 918, 76, 18, 471, 51], [41, 1379, 3521, 303, 3522, 208, 1601], [6, 575, 2542, 15, 433, 100, 863, 1821], [3523], [15, 827, 3524, 6, 3525, 761, 3474], [15, 2359, 1878, 68, 375, 100, 19, 208, 1144], [56, 3526, 2532, 6, 761, 325, 3527], [15, 3528, 3529, 208, 68, 3530, 677], [226, 1343, 490, 37, 422, 41, 3531, 1144], [56, 777, 3532, 3533, 184, 2764, 820], [6, 166, 97, 969, 1166, 133, 3534, 28, 385], [72, 148, 37, 70, 96, 133, 963, 3259], [13, 81, 490, 916, 166, 1524, 498, 255, 133, 899], [56, 81, 490, 441, 166, 1502, 1252, 213, 13, 1463], [56, 81, 490, 1109, 166, 1502, 490, 609, 15, 51], [56, 81, 490, 437, 166, 939, 2946, 28, 3535], [94, 325, 490, 441, 56, 437, 56, 916, 68, 3470], [3378, 166, 14, 1878, 56, 3529, 208, 299, 1300], [15, 3536, 3537, 3538, 100, 60], [21, 3539, 3540, 455, 1718, 2070, 3541], [6, 3292, 107, 1152, 1753, 202, 296, 1837], [172, 52, 153, 586, 1225, 37, 3542, 1326], [37, 3543, 1640, 15, 3544, 100, 2009, 3545], [296, 3546, 48, 2172, 100, 806, 119], [6, 107, 15, 3547, 296, 3548, 181, 3549], [14, 125, 293, 2657, 15, 3550, 100, 296, 2405], [13, 3551, 639, 107, 241, 249, 806, 3312, 3552], [287, 2064, 289, 2808, 100, 184, 6, 476, 146, 3318], [13, 166, 21, 3553, 2927, 3554], [56, 208, 21, 1804, 3555, 1625, 495, 660], [883, 487, 460, 381, 166, 2340, 28, 80], [305, 3537, 456, 300, 184, 41, 3108, 76], [68, 3470, 490, 1572, 56, 2972, 28, 184, 165, 946], [56, 325, 131, 3385, 820, 685, 184, 3556], [15, 3378, 184, 1451, 166, 68, 133, 2932, 208, 307], [56, 3557, 133, 433, 1480, 68, 15, 3262, 3558], [56, 226, 15, 3559, 6, 153, 978, 100, 1867], [56, 3560, 2859, 252, 1580, 68, 90], [68, 21, 476, 959, 1219, 28, 784], [15, 3561, 2375, 6, 28, 21, 10, 208, 2153], [13, 166, 122, 50, 56, 122, 2902, 2470], [104, 1527, 3559, 72, 3562], [1803, 158, 28, 76, 37, 3563, 143, 3564], [13, 3565, 962, 68, 184, 3566], [491, 321, 1, 300, 475, 814, 112], [6, 1416, 114, 3567, 68, 41, 3568, 1542], [289, 146, 15, 248, 100, 232, 72, 100, 51], [241, 3569, 94, 15, 2635, 100, 184, 151], [6, 959, 56, 3570, 2849, 18, 2195, 899], [325, 1264, 1148, 3571, 184, 8, 946], [165, 37, 3438, 3520, 241, 208, 959, 3572], [166, 28, 184, 460, 208, 3573, 32, 3574], [56, 37, 2372, 2238, 181, 594, 208, 3070], [296, 3575, 348, 6, 3576, 339, 3325, 3577], [37, 466, 1642, 3119, 184, 32, 166, 208, 3578], [6, 37, 320, 148, 166, 208, 133, 433, 3463], [56, 37, 155, 208, 146, 1492, 3579], [184, 3580, 498, 3581, 184, 961, 498, 3582, 518], [1042, 208, 166, 3416, 56, 1574, 498, 37, 184, 348], [466, 51, 100, 32, 490, 11, 640, 68, 3583], [3584], [74, 1142, 3585, 3586, 28, 499, 56, 3077], [667, 28, 3587, 3318, 28, 76, 3588], [883, 490, 3589, 96, 94, 1142, 370], [165, 133, 48, 3086, 163, 3162, 3586, 97, 592], [184, 3590, 129, 153, 2752, 61, 133, 451], [68, 241, 184, 1184, 196, 1628, 153], [96, 241, 133, 1021, 325, 370, 56, 541, 1464], [367, 349, 3591, 6, 11, 1096, 1273], [269, 490, 28, 184, 14, 3592, 100, 133, 2913], [97, 3593, 115, 3594, 28, 3595, 184, 3596], [56, 96, 15, 258, 133, 820, 97, 3597], [340, 68, 3333, 100, 1970, 56, 3217, 4], [15, 241, 1166, 487, 3598, 28, 3599], [3600, 34, 1322, 3601, 28, 76, 457], [3602], [3603, 165, 184, 3604, 1419], [2172, 41, 3605, 184, 3606, 28, 231], [68, 241, 15, 248, 6, 166, 107, 370, 249, 135], [15, 258, 495, 541, 166, 249, 594, 3607], [466, 3608, 3609, 133, 3503, 208, 3331], [3610, 2945, 100, 133, 4, 28, 2719], [165, 107, 6, 490, 68, 422, 111, 325, 3297], [68, 320, 757, 1214, 490, 592, 18, 184, 3611], [94, 81, 490, 1096, 28, 456, 6, 490, 3612], [490, 239, 2656, 56, 11, 1278, 28, 456], [165, 37, 320, 148, 166, 3613, 6, 777, 490, 3614], [56, 37, 320, 2064, 133, 2975, 3615, 248, 208, 3616], [466, 3617, 367, 15, 3618, 3605, 490, 592], [156, 3619, 248, 153, 1798, 37, 496, 631], [3620], [81, 490, 542, 6, 8, 3279], [56, 864, 654, 100, 342, 2149, 899], [100, 204, 717, 15, 57, 3621], [490, 3312, 56, 2805, 15, 3622, 51], [13, 81, 490, 1545, 15, 2595, 3623, 3259], [241, 184, 129, 32, 3624, 325, 248, 68, 498], [6, 324, 679, 100, 296, 3625, 2646, 325, 3020], [490, 1096, 6, 490, 41, 140, 3626, 142], [519, 107, 15, 3627, 68, 3628, 249, 3629], [1334, 74, 2476, 71, 0, 635, 28, 984], [6, 166, 28, 3417, 667, 41, 3630, 17, 76], [165, 107, 296, 1268, 37, 241, 293, 249, 403], [13, 568, 1416, 213, 133, 3630, 490, 97, 3631], [6, 165, 133, 1268, 1416, 97, 498, 2885, 3632], [120, 777, 84, 74, 367, 3125, 433, 3202], [56, 609, 287, 456, 100, 184, 30, 3633], [13, 67, 56, 677, 518, 68, 3119, 3634], [2042, 429, 56, 992, 3635, 3636], [226, 1176, 114, 495, 969, 28, 300, 498, 12], [56, 297, 15, 1927, 3353, 100, 581, 959], [321, 28, 1360, 498, 1042, 37, 3637], [28, 427, 581, 1867, 241, 490, 49, 445, 616, 3319], [13, 226, 125, 68, 581, 3638, 881, 1416, 1204], [41, 3303, 3400, 495, 1927, 28, 297, 498, 946], [104, 107, 15, 1112, 56, 3639, 241, 490, 1023], [14, 695, 100, 2913, 490, 394, 97, 3640], [56, 704, 6, 122, 56, 1379, 293, 10, 76], [6, 1379, 3641, 495, 1927, 446, 2340, 28, 498], [3642], [48, 153, 15, 9, 13, 652, 202, 41, 3643], [48, 68, 15, 3644, 13, 1595, 21, 2472], [48, 153, 15, 3645, 13, 3646, 1812], [48, 153, 15, 3647, 13, 21, 3648, 752], [48, 153, 15, 3649, 13, 21, 3650, 153, 3651], [48, 153, 15, 3652, 13, 2595, 153, 21, 3653], [48, 153, 15, 3654, 13, 226, 1361, 1233], [56, 48, 153, 3655, 13, 21, 1681, 153, 891], [94, 252, 48, 37, 1361, 153, 3569, 299], [6, 2637, 146, 76, 3656, 15, 122], [165, 2553, 863, 6, 446, 76, 2099, 495, 97], [476, 3657, 100, 667, 325, 1625, 13, 655, 520], [200, 104, 17, 490, 1129, 100, 655, 1352], [6, 2531, 395, 84, 1517, 498, 1422], [3658], [129, 92, 52, 150, 498, 200, 17, 129, 76, 92], [3659, 107, 53, 962, 153, 13, 3121, 3660], [56, 68, 15, 776, 100, 324, 3661, 84, 3662], [13, 814, 52, 2130, 1416, 655, 3477], [6, 2149, 2497, 52, 94, 1939, 3663], [84, 3664, 184, 3665, 2873, 129, 3666], [56, 76, 974, 14, 146, 610, 11, 1756], [6, 422, 52, 121, 3163, 56, 2805], [3310, 471, 104, 84, 595, 146, 3667], [3310, 471, 3668, 84, 2130, 1300], [13, 234, 74, 719, 6, 11, 84, 2019], [84, 28, 580, 3669, 37, 184, 3670, 1352], [129, 76, 287, 582, 92, 100, 6, 84, 525], [13, 6, 241, 84, 580, 135, 2152, 531], [3671], [15, 3672, 3673, 241, 580, 74, 370, 325, 677], [206, 498, 224, 992, 100, 581, 3674, 451], [165, 568, 146, 153, 15, 3675, 241, 490, 325, 24], [1416, 3676, 146, 325, 909, 28, 498, 3588], [15, 1867, 2130, 241, 100, 68, 498, 490, 592], [300, 68, 3589, 581, 247, 881, 3677], [37, 48, 3678, 56, 897, 580, 68, 451], [100, 6, 92, 3196, 519, 52, 212, 237, 3666], [92, 3679, 3382, 3680, 182, 1470], [96, 15, 3681, 1714, 0, 268, 249, 2104], [165, 241, 15, 3627, 68, 296, 3682, 3596], [249, 184, 3683, 1334, 41, 3672, 3684], [104, 2104, 287, 122, 129, 460, 0, 3680, 3685], [13, 68, 581, 881, 21, 3673, 56, 460, 3640], [3686], [142, 120, 15, 3687, 3503, 208, 3688], [133, 1908, 3550, 37, 3689, 1105], [56, 18, 15, 2994, 241, 490, 1517, 184, 528], [3690, 3426, 184, 1911, 274, 1202], [15, 2994, 3691, 166, 153, 100, 15, 2237, 560], [3568, 639, 18, 15, 3692, 14, 296, 3693], [56, 293, 3694, 325, 3695, 3696, 3697], [28, 419, 15, 962, 100, 296, 3698, 1256], [13, 3659, 166, 97, 15, 332, 3699, 1288], [300, 184, 3599, 498, 14, 184, 3700, 3228], [6, 184, 224, 952, 241, 133, 717, 3169], [490, 446, 68, 3701, 100, 2132, 3702, 2859, 107], [104, 517, 490, 3295, 184, 341, 37, 1184, 3703], [56, 1706, 15, 71, 37, 184, 3704, 119], [133, 460, 153, 367, 28, 3705, 56, 490, 28, 1470], [120, 2252, 146, 104, 6, 74, 184, 147, 94, 224], [153, 158, 3706, 186, 133, 3707, 4], [13, 2950, 652, 15, 122, 490, 184, 3631], [72, 120, 2252, 146, 6, 133, 3708, 554], [153, 158, 2865, 18, 184, 820, 3709, 147], [13, 6, 490, 791, 121, 122, 68, 3710, 3711], [56, 1545, 133, 3333, 3712, 3483], [234, 122, 3713, 651, 446, 76, 1491], [6, 1470, 241, 107, 863, 3714, 17, 3715, 3705], [56, 3705, 241, 153, 3716, 37, 3717, 147], [17, 3335, 1470, 18, 3718, 3719], [466, 153, 15, 1867, 100, 460, 68, 247, 451], [6, 146, 575, 1304, 107, 15, 768, 100, 494], [3720], [434, 200, 455, 232, 28, 94, 2764, 41, 820], [220, 94, 2149, 2480, 100, 8, 946], [156, 959, 3721, 342, 589, 1176, 899], [56, 107, 212, 1387, 3052, 304], [3659, 28, 107, 589, 3722, 100, 692, 1610], [41, 3723, 2238, 166, 220, 455], [6, 37, 296, 3724, 107, 15, 973, 446, 3070], [56, 3725, 28, 2719, 15, 3726, 100, 296, 3404], [13, 133, 92, 320, 208, 248, 15, 1379, 3727], [186, 48, 3728, 100, 184, 182, 833], [6, 166, 15, 1176, 446, 68, 692, 3204], [100, 466, 988, 3729, 184, 50, 1056, 3730], [13, 249, 166, 609, 120, 891, 1092, 1293, 3731], [466, 3637, 166, 517, 616, 1457, 3732], [3733], [15, 963, 3734, 37, 1696, 100, 3735, 554], [15, 2359, 3736, 1457, 208, 3737], [6, 37, 21, 1441, 3738, 173, 575, 146, 3632], [56, 825, 28, 234, 173, 146, 1747, 3739], [226, 1343, 107, 1092, 3333, 68, 241, 490, 3740], [184, 820, 122, 2764, 321, 3736, 2414, 41, 1218], [3310, 107, 15, 3462, 56, 2544, 37, 241, 490], [325, 3632, 96, 3741, 100, 184, 3687, 924], [13, 299, 15, 122, 166, 3735, 3151, 133, 3586], [15, 122, 166, 3742, 68, 184, 3743, 959], [56, 2950, 652, 15, 2950, 166, 153, 3744], [37, 107, 15, 3462, 241, 28, 184, 76, 3745], [234, 104, 2035, 13, 490, 28, 2017, 791], [56, 166, 28, 1626, 495, 1073, 107, 3709, 2340], [3746], [224, 813, 490, 325, 490, 575, 146, 158, 469], [28, 6, 476, 349, 3747, 133, 608, 3748], [158, 3749, 184, 2365, 100, 3750], [6, 3490, 3751, 184, 329, 2205, 1140], [13, 3752, 74, 100, 946, 28, 498, 3753], [325, 1416, 158, 1096, 3754, 100, 146], [3755, 248, 165, 320, 1088, 1908, 341], [107, 114, 146, 14, 15, 973, 13, 1898, 921], [120, 104, 17, 490, 510, 155, 924], [1096, 814, 28, 3202, 94, 3756, 1009], [1275, 6, 74, 320, 153, 3757, 37, 3758, 3586], [100, 41, 92, 460, 6, 1264, 133, 1709, 1882], [514, 104, 844, 166, 1166, 28, 473, 498, 973], [72, 209, 580, 498, 155, 1005, 881], [3759], [367, 41, 3760, 6, 186, 15, 1713, 800], [18, 3761, 100, 163, 997, 208, 135, 184, 376], [3762, 41, 3361, 455, 764, 184, 3763, 3512], [679, 100, 184, 768, 208, 3764, 1022, 3765], [94, 490, 156, 997, 6, 2462, 37, 184, 31, 3766], [498, 28, 3767, 37, 1062, 153, 3768], [325, 3764, 52, 68, 1030, 56, 3463], [186, 1149, 3769, 3474, 2619, 498, 3770], [226, 992, 490, 445, 6, 81, 74, 3361, 153, 544], [133, 3771, 15, 3772, 100, 133, 433], [97, 1210, 594, 56, 148, 96, 498, 495, 1927], [37, 182, 337, 28, 1437, 133, 3773, 1242], [844, 104, 490, 3764, 3774, 3775], [68, 663, 1246, 56, 1128, 3776], [3777], [133, 1707, 32, 186, 3778, 3779], [299, 28, 542, 15, 829, 100, 296, 1352], [37, 287, 3780, 575, 570, 3781], [13, 228, 2054, 56, 228, 158, 1058], [165, 1138, 146, 293, 1343, 433, 3261], [56, 228, 146, 293, 251, 96, 146, 15, 122], [68, 296, 3782, 367, 3783, 3470], [156, 32, 268, 3784, 94, 3785, 1040, 498, 988], [226, 213, 131, 32, 94, 721, 37, 15, 520], [100, 6, 129, 346, 6, 207, 73, 293, 3244], [13, 3786, 15, 863, 241, 293, 249, 367, 685], [56, 575, 287, 122, 3202, 96, 639, 28, 148], [107, 74, 53, 962, 3787, 3470, 28, 498], [56, 107, 296, 661, 13, 1435, 3788, 166], [3789], [150, 498, 81, 84, 1092, 365, 1112, 616, 456], [72, 84, 296, 3790, 1360, 11, 514], [13, 107, 133, 111, 68, 3791, 3792, 201], [510, 992, 100, 3793, 72, 3794], [153, 269, 287, 695, 165, 498, 28, 3669, 2040], [72, 135, 3795, 37, 184, 3796, 32], [13, 6, 296, 3637, 208, 299, 5], [56, 1069, 122, 3797, 133, 3798], [13, 81, 1416, 616, 3799, 107, 3800], [104, 1096, 120, 655, 962, 1416, 616, 3801], [18, 3802, 268, 156, 433, 292, 1416, 3803], [3490, 616, 581, 433, 68, 601, 777, 3804], [13, 18, 21, 324, 241, 163, 1992, 97, 1121], [1416, 84, 2419, 76, 100, 422, 41, 320], [3805], [234, 3806, 153, 74, 6, 212, 184, 192, 1935], [166, 208, 3666, 343, 41, 3807, 100, 762], [56, 37, 3808, 717, 94, 3809, 639, 3810], [6, 241, 153, 762, 72, 2421, 446, 3811, 76, 1491], [153, 146, 6, 837, 3270, 32, 241, 251, 49, 2797], [166, 446, 3812, 68, 6, 192, 3813], [56, 105, 3814, 446, 3815, 3816], [296, 3817, 1137, 241, 213, 158, 445, 3818], [1314, 2357, 883, 131, 32, 120, 1416, 325, 3819], [3820, 49, 3821, 96, 6, 3419, 3807], [68, 241, 125, 814, 1416, 3822, 213], [679, 100, 184, 3233, 1416, 18, 287, 695, 84, 382], [3823, 146, 114, 165, 471, 105, 214], [28, 3824, 3825, 292, 293, 192, 76], [3826], [3827, 81, 186, 3828, 50, 2860], [173, 1225, 289, 3829, 1334, 15, 3778, 3830], [186, 15, 48, 384, 241, 21, 3831, 249, 135], [3832, 41, 3833, 268, 0, 324, 28, 3258], [13, 133, 523, 384, 241, 289, 2462, 28, 1061], [163, 3834, 3032, 1343, 37, 471, 717], [15, 3723, 3835, 100, 184, 3404, 3595], [286, 1529, 15, 3833, 0, 184, 3687, 97], [13, 68, 184, 959, 166, 208, 3370, 299], [107, 3836, 120, 133, 433, 165, 184, 1879], [226, 37, 320, 2064, 166, 575, 68, 577, 72, 3514], [28, 3514, 114, 3837, 13, 28, 577, 114, 119], [1862, 2807, 28, 76, 2221, 165, 2262, 618], [321, 28, 76, 3838, 165, 3839, 3563, 143], [3840], [48, 3580, 15, 3841, 100, 15, 2365, 100, 460], [2503, 107, 34, 179, 1672, 51], [37, 241, 166, 3842, 28, 3843, 3133, 3844], [81, 107, 15, 3627, 173, 3845, 37, 3846, 3020], [48, 153, 34, 1664, 14, 34, 46, 48, 51], [165, 81, 96, 498, 26, 3847, 2008, 68, 3848], [41, 3849, 3520, 3850, 186, 252, 899], [56, 498, 3851, 37, 820, 1941, 3852], [3853, 3854, 37, 390, 355, 353, 3029], [133, 1815, 289, 3277, 274, 14, 68, 41, 3855], [56, 2774, 1548, 287, 122, 184, 3856, 3848], [3122, 96, 15, 3857, 100, 6, 3858, 2058], [122, 48, 321, 3859, 72, 3860, 3861], [2392, 252, 3862, 241, 3863, 490, 249, 77], [409, 81, 166, 3518, 37, 3864, 2397], [56, 150, 498, 2702, 575, 1416, 3865, 146], [81, 96, 342, 3866, 405, 325, 1148], [115, 1764, 730, 14, 68, 776, 28, 1327], [3373, 146, 3787, 68, 133, 1908, 924], [1517, 15, 129, 3867, 68, 277, 370], [6, 81, 41, 3723, 3361, 518, 153, 3868], [186, 15, 2139, 71, 208, 956, 21, 2149, 3766], [495, 346, 1640, 342, 2624, 6, 464, 96, 3869], [56, 252, 1580, 6, 28, 21, 3870, 289, 1985], [2252, 1225, 1118, 679, 100, 296, 2008, 3463], [56, 28, 15, 337, 3871, 339, 296, 1026, 341], [94, 133, 1235, 820, 3589, 153, 669], [37, 6, 3867, 81, 3773, 348, 213, 3872], [153, 146, 184, 232, 72, 153, 146, 184, 97], [28, 76, 94, 50, 28, 115, 3385, 47], [125, 232, 104, 166, 446, 146, 1944, 37, 717], [125, 97, 104, 166, 495, 97, 446, 97, 3873], [13, 125, 184, 232, 56, 184, 97, 76, 94], [6, 166, 97, 2639, 15, 832, 6, 1298, 184, 476], [56, 1314, 1307, 3874, 41, 2033, 1120], [104, 107, 184, 204, 2149, 2480, 213, 2030], [56, 6, 258, 1184, 8, 1804, 950], [153, 13, 41, 2909, 466, 3875, 28, 161], [14, 105, 777, 68, 184, 806, 3835, 3757], [166, 695, 495, 1927, 28, 135, 184, 3876, 1882], [100, 1, 129, 300, 11, 146, 76, 3877], [6, 94, 129, 108, 289, 94, 3878, 2002], [3879], [15, 460, 241, 498, 94, 3880, 3881], [94, 417, 153, 68, 133, 3882, 1352], [6, 107, 15, 122, 133, 1246, 146, 3883], [15, 122, 490, 460, 56, 325, 3640, 133, 3884], [3310, 325, 490, 704, 165, 1084, 114, 13, 3470], [28, 76, 3885, 0, 133, 2813, 3259], [13, 390, 184, 3228, 165, 814, 28, 1300], [56, 2153, 165, 3886, 133, 988, 3887, 820], [15, 241, 6, 146, 0, 184, 446, 11, 3888], [300, 184, 125, 1061, 184, 2969, 37, 3889, 3890], [56, 0, 107, 3891, 1298, 241, 3490, 3892], [21, 3893, 3894, 982, 146, 3895], [57, 300, 184, 3896, 0, 3637], [56, 325, 498, 158, 685, 133, 19, 28, 12], [3897], [84, 490, 104, 920, 76, 72, 84, 490, 1237], [56, 125, 490, 1237, 184, 3404, 1695, 490, 84], [56, 125, 490, 920, 76, 133, 820, 97, 1098], [72, 3898, 76, 37, 3899, 3900], [234, 2673, 153, 74, 1264, 133, 820, 28, 3228], [56, 3511, 133, 741, 37, 92, 3901, 28, 1976], [6, 712, 490, 446, 1237, 286, 1096, 495, 107], [13, 367, 41, 3902, 3903, 68, 2188, 12], [226, 490, 133, 820, 37, 2188, 3904], [97, 1574, 28, 1237, 56, 133, 2556, 1571, 28, 916], [56, 3511, 131, 32, 37, 3264, 3905], [3906, 3907, 28, 184, 32, 28, 640], [241, 184, 88, 924, 6, 397, 3908, 489, 575, 3909], [97, 1457, 3331, 56, 919, 28, 3910, 445], [3911], [81, 212, 3912, 3913, 3914, 100, 3915], [186, 3687, 959, 3600, 570, 249, 389], [2436, 100, 15, 3698, 192, 1938], [104, 3916, 37, 21, 3831, 296, 2041, 249, 1495], [13, 74, 2813, 50, 1286, 389], [15, 241, 3426, 585, 3426, 325, 135], [3917, 133, 1247, 3109, 100, 3918, 3919, 213], [287, 717, 575, 3920, 286, 2658, 575, 3921], [13, 81, 68, 303, 133, 3922, 3831, 490, 1314], [104, 325, 490, 122, 3797, 133, 3923, 3924], [56, 1242, 1695, 56, 3918, 325, 1807], [28, 3394, 54, 585, 3426, 28, 966], [3551, 519, 15, 122, 490, 1572, 28, 3925, 2040], [15, 122, 490, 592, 296, 3926, 28, 5], [237, 3429, 68, 581, 149, 100, 1500, 2050], [581, 2149, 46, 165, 1308, 28, 1036], [56, 68, 3426, 133, 713, 46, 490, 3927], [476, 1922, 367, 542, 581, 588, 397], [61, 133, 820, 292, 3505, 146, 575, 3928], [651, 94, 2545, 28, 1036, 100, 735, 253], [15, 129, 3929, 100, 581, 1201, 833], [56, 252, 899, 2035, 3930], [56, 114, 146, 158, 6, 186, 581, 3637], [37, 1246, 764, 56, 3931, 146, 114], [15, 2149, 196, 100, 581, 3932], [1171, 321, 1500, 517, 943, 1148], [13, 125, 3298, 68, 498, 1416, 2176, 97, 142], [976, 15, 1571, 18, 241, 581, 129, 2646, 3933, 76], [3934], [81, 133, 3935, 3936, 19, 153, 2071], [133, 50, 129, 1492, 1524, 498, 3937, 133, 376], [13, 104, 0, 635, 476, 265, 3938, 213, 3939], [14, 313, 498, 585, 184, 97, 28, 682], [519, 104, 84, 490, 72, 635, 72, 184, 3940], [15, 3941, 609, 526, 234, 153, 15, 526, 154], [13, 14, 166, 97, 156, 97, 133, 433, 208, 1903], [133, 3942, 635, 94, 146, 2960, 239, 76], [13, 1416, 722, 3941, 6, 107, 74, 1246, 142], [3659, 107, 581, 2687, 1343, 590, 498, 181], [3943, 581, 3938, 72, 73, 1264, 580, 56, 166], [97, 1264, 642, 498, 49, 3944, 2860], [1233, 146, 153, 165, 320, 832, 28, 3261], [15, 3938, 241, 166, 230, 96, 498, 208, 630], [3945], [903, 158, 15, 3177, 100, 212, 2818, 348], [1482, 1416, 616, 296, 3946, 3947, 445, 3319], [165, 293, 213, 367, 13, 1517, 192, 2997], [6, 0, 15, 3045, 3948, 296, 3949, 325, 1204], [94, 166, 37, 3950, 3518, 1247, 1137, 208, 3512], [1517, 184, 460, 56, 3951, 28, 296, 512], [519, 105, 3814, 166, 1458, 37, 50, 959], [56, 1793, 495, 395, 96, 15, 2307, 3077], [226, 670, 951, 184, 692, 1056, 639, 3017], [184, 32, 148, 182, 56, 202, 639, 3580], [6, 293, 1314, 395, 68, 184, 50, 255], [56, 3125, 325, 570, 100, 1352, 161], [487, 3346, 3952, 241, 1040, 667, 460, 296, 3884], [56, 1096, 293, 12, 37, 395, 193, 37, 1352], [3953], [3954, 1338, 519, 49, 50, 303], [249, 135, 15, 1450, 28, 3955, 184, 3596], [56, 305, 166, 323, 34, 1571, 445, 3956], [249, 3597, 1517, 15, 3778, 1470], [445, 1006, 26, 28, 616, 1424, 1176, 3957], [104, 94, 1928, 456, 165, 3958, 3959], [226, 3960, 286, 3177, 1223, 482], [13, 916, 34, 3961, 1571, 3962, 3963], [519, 166, 107, 3836, 100, 21, 1242, 3964], [28, 3965, 1225, 15, 3966, 100, 21, 820], [56, 517, 158, 385, 81, 173, 28, 184, 3967], [15, 3876, 819, 100, 21, 3125, 3259], [226, 193, 165, 814, 292, 585, 184, 97], [56, 1237, 184, 618, 292, 166, 3968, 146, 891], [3969], [129, 50, 200, 213, 580, 94, 788, 56, 50], [153, 146, 1417, 581, 32, 616, 1867, 28, 1384], [104, 609, 6, 3098, 153, 15, 3970, 1037], [56, 1379, 962, 1096, 28, 577, 321, 3514], [13, 125, 146, 76, 581, 395, 56, 92, 97], [28, 297, 15, 1867, 100, 581, 3971, 32], [104, 158, 96, 268, 6, 11, 489, 580, 891], [13, 3972, 581, 1696, 585, 581, 1052], [300, 639, 1545, 3973, 100, 581, 3974], [56, 1384, 37, 348, 14, 3975, 325], [13, 268, 6, 495, 581, 3976, 3385, 45], [37, 3977, 3978, 221, 3098, 28], [466, 3098, 84, 580, 135, 2203, 28, 76], [94, 84, 580, 193, 18, 2230, 433, 28, 498], [777, 3979, 68, 2109, 3980], [100, 133, 1513, 1239, 56, 100, 133, 1018, 1242], [269, 2973, 28, 498, 41, 3981, 6, 517, 3739], [3586, 3982, 165, 133, 1018, 526, 1248], [3470, 832, 3691, 490, 6, 442, 13, 655, 3983], [68, 88, 3984, 100, 15, 2075, 3128], [153, 158, 15, 820, 100, 107, 15, 929, 486], [56, 3985, 15, 3986, 14, 3661, 208, 1061], [104, 37, 163, 3987, 1572, 842, 28, 3595], [15, 713, 3988, 100, 133, 2767, 820], [56, 104, 133, 929, 84, 616, 3989, 3258], [13, 466, 48, 3987, 1559, 3990, 51], [104, 133, 1483, 3981, 325, 580, 581, 717, 3991], [56, 37, 320, 1236, 1264, 820, 56, 929, 3992], [325, 490, 158, 142, 6, 1, 1153], [100, 2359, 1669, 213, 100, 851, 141], [165, 6, 293, 17, 3202, 186, 422, 2455], [3310, 300, 296, 3698, 1671, 28, 770], [200, 104, 325, 490, 3993, 68, 1694, 3994], [184, 3995, 1369, 241, 490, 17, 122, 1948], [3659, 11, 1340, 289, 3996, 3997], [241, 289, 158, 2764, 3998, 56, 1278, 28, 456], [3310, 1340, 94, 2764, 13, 173, 6, 517, 1464], [3490, 3533, 146, 56, 28, 21, 97, 3574], [94, 325, 490, 992, 184, 3687, 820, 28, 3972], [56, 6, 146, 104, 122, 3999, 97, 3202], [57, 133, 4000, 97, 76, 15, 122, 28, 382, 184], [13, 228, 184, 133, 390, 97, 76, 15, 1379], [94, 633, 14, 4001, 490, 0, 184, 327], [490, 567, 367, 320, 6, 228, 2030, 15, 90], [153, 281, 4002, 518, 37, 1441, 820], [4003, 100, 4004, 4005, 56, 4006, 4007], [94, 325, 490, 52, 3426, 41, 281, 2153], [28, 1246, 56, 28, 4008, 1352], [0, 493, 100, 133, 1322, 608, 4009], [4010, 230, 68, 4011, 28, 1300], [269, 300, 287, 489, 100, 390, 72, 395, 3470], [1008, 28, 4012, 6, 446, 133, 4013, 316], [13, 4014, 4015, 56, 4016, 1128, 2936], [100, 107, 4017, 3852, 122, 133, 1360, 3123], [94, 490, 184, 1359, 97, 133, 2596, 135], [6, 100, 184, 493, 490, 133, 4018, 446, 1314], [4019], [15, 4020, 2129, 6, 21, 4021, 1204], [208, 1061, 107, 3722, 13, 6, 21, 348, 639, 4022], [61, 41, 4023, 21, 3723, 341, 208, 1204], [28, 300, 4024, 251, 951, 173, 96, 639, 446, 1542], [1497, 94, 133, 50, 129, 37, 498, 208, 255], [165, 37, 15, 2149, 588, 100, 184, 833], [166, 208, 3574, 498, 28, 131, 30, 512], [56, 104, 287, 3098, 97, 1517, 498, 3928], [224, 117, 146, 153, 651, 94, 2545, 68, 1036], [141, 165, 28, 76, 15, 53, 476, 55], [28, 135, 15, 2909, 184, 2377, 28, 4025], [618, 1803, 28, 76, 49, 891, 115, 4026], [13, 3098, 208, 37, 108, 526, 3629], [14, 68, 296, 3355, 1416, 639, 526, 446, 142], [100, 74, 53, 4027, 68, 241, 3, 682], [133, 460, 367, 15, 4028, 2438, 464], [4029, 498, 6, 107, 15, 4030, 255], [4031, 4032, 133, 4033, 1771], [1590, 490, 390, 81, 794, 4034, 2769], [56, 4035, 68, 4036, 367, 28, 41, 4037], [1457, 595, 81, 133, 390, 28, 1246, 4038], [490, 437, 56, 135, 133, 1112, 41, 4039], [226, 166, 4029, 498, 37, 638, 253], [391, 158, 68, 133, 4036, 286, 4040, 133, 3259], [13, 81, 490, 3389, 166, 4041, 56, 81, 490, 1886], [166, 4042, 56, 4043, 1308, 184, 820], [234, 104, 575, 1529, 184, 125, 158, 4036, 286, 1121], [166, 153, 287, 840, 13, 3717, 1675], [94, 633, 14, 490, 184, 108, 325, 542], [56, 3694, 325, 184, 3637, 750], [490, 3149, 100, 234, 298, 289, 15, 4044], [15, 241, 184, 141, 495, 969, 94, 50, 129], [158, 783, 165, 184, 722, 1021, 122, 353, 213], [158, 1463, 165, 184, 460, 208, 791, 367, 1470], [158, 866, 165, 166, 153, 158, 94, 337, 72, 864], [158, 1470, 165, 166, 208, 4045, 37, 2128, 4], [104, 1288, 155, 4046, 3667], [1640, 166, 3490, 76, 141, 6, 153, 15, 672], [165, 28, 15, 635, 184, 3456, 348, 3334], [56, 3511, 184, 451, 153, 1970, 2152, 722], [104, 3659, 28, 635, 1416, 4047, 213, 15, 526], [76, 367, 68, 3098, 14, 68, 107, 15, 973], [129, 1416, 76, 1536, 13, 50, 56, 2754], [14, 153, 15, 4048, 6, 37, 4049], [4050, 595, 143, 81, 173, 18, 766, 208, 592], [41, 368, 1580, 208, 4051, 268, 4052], [129, 76, 1416, 1536, 13, 92, 56, 4053], [14, 153, 41, 3361, 6, 107, 863, 208, 4054], [2165, 41, 3684, 230, 107, 3775], [4055, 96, 146, 982, 146, 28, 485], [129, 76, 1416, 1536, 13, 2764, 56, 4056], [14, 153, 41, 4057, 4058, 15, 4059, 4060], [480, 241, 41, 3760, 100, 3257, 4061], [208, 1739, 4062, 1264, 100, 2946, 56, 4063], [6, 3760, 6, 3684, 56, 6, 258, 1580, 875, 490], [519, 1416, 325, 4062, 325, 1859, 56, 4064], [4065], [48, 964, 81, 84, 490, 616, 2040, 37, 580], [722, 19, 146, 153, 74, 389, 52, 4066, 114], [241, 490, 287, 582, 575, 3202, 28, 2972], [3310, 581, 3460, 3461, 122, 28, 24], [94, 1247, 133, 3109, 94, 4067, 133, 4068, 1148], [6, 1768, 153, 120, 490, 17, 193, 41, 4069], [1950, 133, 820, 186, 4070, 2382], [37, 967, 3493, 241, 581, 32, 616, 4071], [226, 2711, 1416, 4072, 299, 56, 4073, 498, 158], [13, 962, 1096, 28, 135, 1092, 50, 4074], [1416, 50, 320, 234, 962, 575, 76, 2099], [68, 3802, 268, 6, 517, 193, 394, 583], [135, 2040, 883, 56, 473, 498, 3290, 946], [6, 107, 133, 4075, 97, 3992, 68, 655, 1447], [4076, 18, 184, 6, 153, 476, 1488, 28, 2946], [1247, 153, 4077, 6, 1247, 1444, 4078], [68, 184, 30, 1867, 56, 4079, 2111, 2116], [6, 4080, 2820, 81, 14, 166, 476, 4081], [2946, 1488, 56, 153, 100, 660, 3450], [107, 1444, 153, 3270, 56, 107, 184, 908, 4082], [367, 41, 3470, 4083, 4084, 339, 37, 866], [779, 19, 56, 4085, 766, 616, 4086], [184, 4087, 959, 6, 475, 446, 146, 157], [3310, 475, 94, 684, 72, 1995, 94, 356, 72, 129], [13, 4088, 4089, 96, 21, 30, 3894], [56, 173, 6, 4090, 96, 15, 4091, 4092], [2820, 4093, 165, 96, 783, 660, 455, 4094], [200, 104, 325, 1416, 92, 129, 4095, 94, 1022], [6, 28, 3298, 1416, 476, 1488, 213], [1718, 416, 166, 6, 153, 94, 445, 1488], [1517, 2946, 56, 1563, 94, 68, 820], [6, 712, 97, 165, 1176, 76, 3832], [3310, 4096, 37, 1773, 28, 471, 766, 3888], [13, 367, 41, 4097, 3760, 208, 982, 899], [15, 4059, 1775, 56, 715, 184, 768, 3145], [3310, 1340, 165, 3835, 208, 0, 146, 327], [3310, 1340, 165, 491, 4098, 823, 1307], [466, 46, 3894, 1601, 158, 429, 15, 1303], [100, 4099, 1386, 3310, 4100, 1572, 100, 1086], [13, 68, 15, 682, 100, 184, 30, 3999, 10], [712, 28, 320, 2946, 286, 155, 2684], [476, 416, 166, 6, 476, 1488, 208, 973], [13, 173, 476, 416, 172, 466, 320, 1298, 526], [293, 6, 68, 768, 100, 353, 2747, 213, 4101], [28, 252, 4102, 1621, 21, 4103, 516], [68, 241, 184, 4104, 4105, 153, 4106], [14, 1683, 68, 4107, 1391, 208, 1616, 21, 4108], [94, 568, 15, 1604, 1734, 21, 4102, 1437], [4109, 68, 498, 28, 1529, 320, 516, 153, 2071], [15, 241, 208, 582, 1517, 498, 1148], [321, 107, 212, 82, 241, 133, 433, 4110], [104, 18, 6, 134, 241, 1694, 3583, 1332], [15, 4108, 100, 3194, 82, 1391, 2034], [241, 490, 616, 2508, 68, 777, 4111], [6, 2392, 15, 582, 165, 133, 1379, 4000], [13, 300, 133, 806, 129, 4102, 757, 184, 4112], [74, 516, 4113, 72, 73, 757, 133, 111], [15, 1184, 196, 100, 15, 3622, 108], [133, 1189, 3086, 15, 2497, 100, 133, 489], [1008, 158, 3820, 2227, 15, 4114, 100, 981], [4115, 100, 959, 72, 3821, 1369, 165, 1340], [165, 105, 14, 166, 153, 4116, 845], [56, 100, 15, 785, 100, 3358, 353, 1888], [56, 37, 15, 4117, 100, 696, 4118, 4119], [342, 100, 241, 249, 184, 37, 296, 2480, 3697], [15, 62, 100, 390, 15, 4120, 100, 15, 1209], [15, 4121, 100, 337, 519, 359, 32, 2805], [234, 2658, 153, 146, 104, 13, 166, 17, 1105], [1227, 863, 6, 28, 184, 460, 49, 2797, 3334], [466, 353, 4122, 3318, 2807, 4123, 76], [321, 1008, 76, 4124, 18, 667, 100, 3927, 4125], [4126], [15, 365, 516, 21, 1610, 52, 228, 1616], [15, 140, 1016, 21, 4127, 768, 2168], [37, 3928, 100, 1185, 3438, 173, 455, 3612], [4128, 2040, 56, 3785, 28, 4129], [94, 300, 1355, 241, 74, 488, 100, 4098, 1036], [488, 342, 1296, 2670, 56, 1705, 243, 4130], [15, 136, 3615, 1275, 4131, 300, 1355, 4132], [56, 2104, 15, 1268, 37, 241, 3, 249, 403], [104, 84, 15, 140, 3615, 390, 1225, 4133, 984], [1334, 15, 4134, 71, 21, 4135, 3766], [56, 107, 1092, 3938, 241, 52, 21, 108, 4136], [84, 2340, 28, 4137, 56, 3290, 1437, 518], [94, 3589, 460, 2397, 580, 56, 581, 1441, 3240], [56, 488, 136, 3615, 396, 28, 140, 1307], [4138], [4139], [595, 777, 3938, 56, 3828, 1128, 3459], [241, 3505, 490, 2524, 4140], [68, 3748, 100, 324, 56, 4141, 3463], [37, 241, 133, 3561, 2137, 289, 3757, 4067], [490, 325, 495, 1073, 3437, 15, 416, 1714], [68, 241, 490, 992, 305, 777, 165, 28, 4142], [129, 1853, 146, 2482, 0, 1022, 56, 4143, 37, 520], [100, 107, 6, 608, 56, 3834, 153, 748], [476, 416, 173, 6, 575, 495, 1927, 1914], [15, 4144, 4145, 100, 94, 48, 41, 973], [156, 496, 1307, 4146, 28, 4147], [288, 100, 107, 4000, 241, 268, 1051], [107, 4000, 213, 207, 68, 1007, 28, 74], [107, 1070, 757, 6, 1422, 606, 2913], [4148], [586, 28, 2889, 184, 2694, 466, 946, 490, 1424], [498, 2392, 490, 4149, 41, 4150, 100, 48, 290], [6, 3834, 4151, 0, 639, 3102, 4152], [165, 4153, 3586, 28, 3295, 296, 1694, 4154], [184, 2694, 249, 1957, 367, 1517, 4155], [184, 4156, 2179, 367, 1517, 1258, 2426], [184, 4157, 4158, 367, 4159, 4160], [184, 182, 32, 367, 4161, 13, 4162, 956], [184, 2149, 463, 367, 41, 4163, 1011], [184, 2932, 367, 28, 41, 4164, 100, 4165], [184, 881, 367, 4166, 305, 296, 273, 76, 4167], [184, 4168, 367, 815, 4169, 4170], [466, 2344, 290, 325, 221, 476, 4171, 1957], [13, 184, 48, 4172, 249, 639, 107, 261], [15, 3092, 241, 580, 4095, 129, 460, 153, 3470], [6, 4173, 429, 28, 771, 581, 1389], [81, 1423, 320, 1293, 4174, 580, 1422], [56, 135, 268, 2967, 6, 4175, 553, 249, 2104], [48, 76, 15, 3233, 15, 241, 397, 460, 208, 1976], [510, 4176, 72, 3748, 100, 471, 891], [15, 247, 2624, 4177, 287, 4178], [61, 184, 4179, 13, 424, 56, 1793, 184, 1706], [269, 959, 1008, 158, 4012, 286, 4180, 3514], [15, 1515, 2042, 639, 6, 4181, 460, 455, 1738], [13, 1908, 641, 56, 413, 618, 97], [3406, 37, 48, 2040, 28, 1236, 342, 2111, 1239], [269, 1893, 208, 3413, 254, 68, 4182, 4183], [56, 4184, 395, 4185, 184, 349, 2874], [4186], [28, 107, 212, 416, 4187, 241, 1416, 616], [37, 4188, 303, 18, 635, 202, 580, 3829], [74, 320, 4189, 293, 28, 580, 528], [6, 1416, 581, 460, 4190, 28, 94, 3927, 41, 320], [226, 156, 722, 1819, 4191, 4192], [323, 158, 96, 783, 616, 1424, 320, 3586, 165, 4193], [3310, 13, 68, 635, 4194, 28, 475], [200, 249, 1416, 4195, 1517, 94, 3262, 678], [13, 1416, 7, 121, 1379, 962, 1102], [321, 610, 1416, 4196, 37, 41, 4197, 4198], [165, 52, 581, 337, 208, 122, 3661, 4199], [56, 68, 133, 1030, 1379, 208, 1148], [226, 568, 581, 337, 455, 969, 4200, 498], [37, 133, 4201, 583, 84, 4202, 76], [4203], [367, 14, 41, 4204, 595, 365, 3070], [1950, 15, 4205, 0, 268, 4206, 518], [464, 1480, 28, 973, 268, 68, 163, 2081, 307], [37, 4207, 2296, 1758, 100, 296, 3077], [94, 595, 777, 2912, 56, 3470, 3459], [81, 490, 107, 365, 610, 15, 3070, 4208], [15, 247, 4209, 1487, 15, 671, 376], [1991, 28, 4210, 184, 4211, 495, 15, 2580, 3244], [269, 166, 4029, 498, 37, 4212, 148], [1111, 158, 28, 2104, 13, 3413, 299, 249, 1744], [844, 490, 68, 303, 184, 226, 4213, 1516], [56, 37, 184, 30, 4214, 584, 4215, 2998], [1642, 651, 498, 2392, 28, 142, 41, 1580, 94, 2470], [94, 2149, 1395, 37, 184, 30, 97, 1758], [4216], [476, 1184, 978, 100, 433, 6, 96, 74, 370], [1223, 135, 34, 952, 2859, 324, 56, 1813], [56, 228, 4217, 1755, 1223, 1278, 518], [4178, 1548, 1911, 1355, 28, 1854], [74, 4144, 370, 608, 978, 37, 390, 2656], [56, 473, 6, 3, 165, 519, 26, 1223, 12], [105, 37, 34, 608, 143, 2050, 4218, 0, 1813], [446, 193, 165, 814, 68, 4219], [56, 6, 34, 460, 3, 4220, 4221], [446, 3589, 460, 80, 165, 15, 258, 594], [56, 165, 34, 1419, 6, 107, 367, 608, 1223, 3118], [37, 460, 446, 320, 155, 1363], [94, 300, 1355, 460, 367, 14, 3, 3318], [460, 153, 15, 2736, 241, 15, 978, 1355, 1860], [4222], [15, 3698, 4223, 100, 15, 4224, 71], [242, 1151, 28, 4225, 68, 4226, 1995], [68, 241, 293, 517, 15, 2812, 616, 4227], [100, 296, 224, 1256, 56, 4228, 4229], [234, 4230, 104, 84, 490, 476, 3586, 1998], [68, 241, 490, 446, 1687, 15, 25], [100, 133, 806, 332, 4231, 8, 1551], [4232, 37, 601, 460, 56, 4233], [670, 74, 719, 3216, 28, 2084], [84, 76, 2130, 2152, 2155], [56, 150, 184, 119, 28, 107, 178], [6, 446, 2805, 466, 53, 864, 3279], [15, 416, 3669, 100, 133, 1184, 1882], [4234, 495, 1927, 37, 3617, 56, 777, 1009], [54, 60, 15, 58, 100, 806, 10, 1837], [68, 156, 4235, 2207, 213, 4236], [107, 3657, 100, 290, 15, 241, 96, 783, 325, 60], [68, 2149, 4237, 4238, 4236], [567, 28, 133, 460, 43, 166, 153, 3836, 2836], [226, 68, 184, 301, 2874, 158, 445, 1807], [150, 184, 15, 4144, 19, 97, 158, 76, 4239], [381, 166, 325, 268, 18, 15, 4240, 1314], [1726, 184, 883, 2946, 1457, 3291, 135], [28, 1753, 96, 460, 3600, 21, 182, 4117], [43, 252, 320, 6, 4241, 321, 184, 135], [84, 76, 18, 268, 4242, 37, 2596, 78], [135, 1010, 883, 48, 460, 951, 146, 153, 185], [165, 475, 575, 506, 594, 15, 1972, 19], [4243], [490, 390, 28, 142, 120, 68, 581, 4244, 248], [3298, 1517, 15, 4245, 1416, 325, 750], [56, 498, 1517, 15, 4246, 6, 208, 4247], [68, 3303, 4248, 28, 2628, 184, 4249], [1497, 94, 4250, 114, 3814, 68, 944, 3813], [100, 41, 608, 47, 56, 2822, 28, 21, 460], [68, 156, 1492, 3233, 1416, 52, 3887, 213], [94, 4215, 6, 1416, 11, 446, 976], [13, 14, 581, 248, 153, 4251, 107, 2227], [37, 4252, 290, 56, 2344, 3645], [94, 48, 581, 2955, 580, 68, 19, 84, 427], [37, 422, 608, 391, 4253, 923], [56, 107, 3863, 606, 2040, 84, 142], [4254, 15, 4246, 56, 15, 247, 4245], [4255], [633, 81, 133, 1709, 208, 956, 184, 4256, 3287], [68, 451, 28, 4257, 339, 28, 15, 1892, 672], [146, 1480, 153, 4258, 37, 489, 100, 735, 863], [56, 4259, 37, 2387, 100, 1865], [43, 81, 6, 1189, 108, 146, 208, 3498], [355, 865, 962, 68, 184, 337], [716, 37, 48, 4260, 2909, 146, 181, 208, 2104], [56, 1517, 635, 4261, 184, 1705, 4262], [269, 133, 3270, 4263, 3122, 37, 1183, 1307], [208, 4264, 68, 2913, 56, 4265, 476, 495, 3258], [3310, 1733, 100, 589, 635, 13, 120, 146, 10], [184, 1513, 4, 37, 476, 3780, 1061], [820, 1601, 158, 37, 475, 589, 4266], [13, 584, 96, 783, 28, 616, 466, 865, 2913], [4267], [105, 3426, 4268, 584, 68, 1541], [133, 820, 519, 475, 37, 4269, 3233, 575, 1976], [13, 15, 129, 1935, 100, 581, 192, 2421], [3421, 21, 2955, 1225, 28, 580, 208, 2104], [367, 14, 41, 2624, 6, 68, 4270, 303, 208, 3498], [2267, 2036, 28, 146, 208, 135, 21, 4262], [670, 94, 133, 820, 6, 2462, 96, 581, 129, 253], [28, 3123, 21, 1706, 4271, 181, 1517, 581, 346], [325, 580, 268, 1314, 56, 68, 581, 463, 31], [2885, 4272, 6, 173, 446, 76, 581, 3228], [1992, 173, 269, 446, 919, 37, 864, 1307], [28, 419, 581, 1315, 56, 2205, 2859, 107], [6, 146, 4273, 446, 580, 158, 1243], [268, 4274, 68, 581, 463, 28, 616, 4190], [4275], [476, 416, 3907, 4276, 18, 4277, 3994], [37, 241, 6, 416, 1315, 289, 842, 4278], [15, 241, 2483, 318, 1718, 416, 455, 498, 141], [37, 2480, 100, 929, 625, 56, 100, 451], [15, 842, 133, 105, 28, 498, 528, 18, 494], [0, 179, 168, 4279, 18, 78, 4280], [15, 1761, 153, 133, 1189, 2365, 476, 494], [6, 601, 56, 1460, 2246, 28, 498, 4190], [15, 2425, 133, 460, 133, 1483, 1927, 55], [18, 519, 133, 1709, 679, 100, 1158, 289, 3172], [28, 1237, 184, 119, 56, 962, 1336], [100, 107, 748, 476, 1006, 28, 76, 2221], [1416, 2483, 4281, 4282, 193], [6, 2483, 466, 730, 249, 1517, 498, 221], [4283], [320, 370, 490, 4284, 184, 1315, 202, 15, 4285], [13, 2973, 15, 1775, 56, 4218, 146, 518], [594, 490, 4284, 146, 37, 41, 1761, 303], [13, 2973, 15, 4286, 56, 141, 133, 4000, 21, 1542], [3470, 832, 1410, 166, 6, 4287, 68, 3470, 3459], [41, 359, 651, 94, 28, 4288], [165, 490, 3426, 84, 367, 28, 74, 512], [56, 4289, 133, 1315, 76, 4290, 679, 3589], [287, 94, 4291, 490, 300, 3326, 863, 1998], [28, 12, 68, 1158, 13, 580, 84, 193, 18, 2132], [133, 719, 581, 3482, 864, 84, 4292], [56, 68, 15, 3941, 727, 581, 1184, 1315], [43, 3762, 324, 84, 107, 15, 71, 4293], [679, 460, 84, 193, 56, 4294, 433, 1695], [4295], [129, 463, 4143, 37, 4296, 2246, 109], [15, 4297, 100, 460, 15, 4274, 100, 1307], [15, 2874, 100, 2913, 15, 4298, 100, 395], [15, 349, 4299, 100, 6, 353, 3240], [120, 289, 490, 3277, 37, 581, 182, 346], [56, 133, 3270, 1021, 49, 3821, 4002, 3765], [3378, 4300, 88, 186, 4301, 4302], [96, 15, 48, 1882, 100, 108, 293, 249, 1542], [56, 4303, 184, 4304, 367, 1208, 2395, 68, 446], [156, 2890, 2392, 28, 1777, 52, 4305], [293, 4306, 249, 296, 2386, 3287, 4307], [56, 269, 28, 973, 570, 249, 4308, 307], [48, 1021, 490, 1977, 581, 94, 416, 973], [241, 633, 490, 1719, 226, 11, 289, 94, 1716], [4309], [289, 146, 41, 2253, 72, 249, 490, 142, 146, 2176], [41, 2149, 928, 100, 1970, 3475], [107, 956, 37, 4310, 3586, 28, 1363], [15, 1540, 4311, 37, 4312, 4313], [3551, 241, 269, 68, 41, 1260, 4314, 249, 1150], [1293, 192, 4315, 100, 4316, 3408], [1022, 3495, 212, 241, 4317, 2973, 18], [72, 212, 241, 4318, 249, 4319], [3708, 48, 226, 4320, 100, 2476, 1968], [6, 422, 1111, 226, 475, 323, 814, 1374], [48, 2395, 100, 395, 1173, 0, 4298], [18, 460, 465, 56, 68, 21, 4150, 1628], [184, 881, 6, 928, 289, 94, 2207, 956], [133, 1021, 15, 4321, 241, 517, 4322, 616, 3122], [4323], [1138, 133, 460, 490, 567, 0, 307, 28, 307], [367, 41, 815, 3159, 6, 2008, 455, 2030, 15, 4324], [56, 1572, 342, 43, 43, 1927, 490, 2181, 184, 151], [156, 196, 226, 490, 2025, 54, 68, 451], [490, 1572, 15, 4325, 37, 184, 2008, 4326, 4327], [490, 1572, 184, 2874, 37, 184, 2008, 493, 4328], [226, 286, 68, 90, 286, 2874, 490, 184, 575, 592], [226, 90, 56, 2874, 213, 1183, 100, 184, 1002], [13, 81, 131, 32, 490, 4329, 3767], [293, 2438, 181, 1044, 28, 498, 594], [56, 81, 490, 992, 28, 142, 296, 397, 829], [490, 592, 3426, 13, 3122, 37, 4330, 3470], [514, 104, 131, 32, 28, 1572, 2946, 28, 142], [56, 300, 133, 1021, 542, 2946, 68, 498], [4331], [667, 506, 580, 129, 56, 580, 325, 3009, 146], [165, 6, 3298, 1416, 1069, 466, 325, 142], [13, 15, 397, 129, 6, 153, 15, 247, 924], [56, 703, 451, 153, 121, 122, 4332, 100, 498], [165, 107, 15, 973, 120, 814, 129, 146, 76], [84, 2340, 28, 3339, 56, 4333, 6, 1184, 833], [13, 57, 6, 153, 4334, 56, 214], [0, 3270, 4335, 6, 208, 1444, 4129], [6, 153, 397, 108, 6, 208, 4336, 580], [28, 76, 2545, 56, 1888, 100, 353, 4337], [4279, 0, 6, 129, 1709, 0, 519, 107, 397], [56, 905, 108, 249, 495, 842, 2066], [173, 57, 129, 56, 234, 173, 129, 455, 141], [107, 589, 129, 367, 290, 4338, 770], [4339], [595, 94, 777, 41, 1610, 14, 490, 616, 1616], [186, 4340, 1456, 241, 212, 4341, 3583, 2110], [221, 237, 28, 973, 498, 105, 726, 4342], [56, 4343, 28, 3426, 140, 1662, 4344], [104, 14, 41, 4345, 4346, 595, 1009], [679, 100, 133, 2955, 490, 97, 1098, 2168], [56, 4347, 97, 6, 1761, 248, 3403], [37, 356, 4348, 56, 4349, 78], [844, 104, 221, 237, 28, 498, 68, 2467, 4350], [28, 2348, 133, 853, 56, 419, 133, 806, 48, 119], [15, 4351, 100, 156, 353, 833], [133, 1709, 28, 115, 4352, 364, 97, 3552], [13, 300, 184, 2205, 226, 76, 374, 56, 3927], [3586, 165, 15, 4353, 100, 15, 4340, 4354], [4355], [129, 153, 133, 460, 81, 184, 129, 192, 4356], [37, 15, 4333, 631, 1416, 4357, 766, 28, 409], [129, 81, 15, 9, 68, 184, 2426, 2179, 2473], [72, 68, 184, 32, 15, 1470, 100, 460, 4358, 3320], [129, 81, 184, 881, 367, 41, 4359, 2137], [37, 1115, 4360, 166, 1225, 208, 1425], [129, 81, 6, 1216, 100, 959, 241, 633, 208, 1433], [184, 2149, 337, 37, 3518, 166, 3582, 518], [13, 1, 166, 81, 94, 166, 208, 4307], [15, 1102, 37, 3473, 56, 3472, 2207, 3286], [186, 241, 184, 991, 94, 1995, 325, 135, 296, 376], [28, 24, 15, 3555, 100, 184, 247, 3240], [15, 973, 76, 2112, 100, 204, 3279], [13, 74, 15, 248, 100, 1513, 3276], [4361], [390, 100, 133, 433, 1183, 633, 165, 1005, 580], [490, 4362, 133, 4363, 6, 289, 94, 4364, 1628], [13, 104, 15, 122, 581, 30, 4365, 490, 4366], [6, 213, 94, 121, 18, 94, 3927, 460, 4367], [165, 610, 15, 2195, 3941, 94, 121, 580, 2114], [68, 74, 14, 68, 15, 973, 1416, 3490, 1332], [4368, 353, 924, 156, 719, 323, 616, 4369], [581, 1184, 1315, 68, 192, 2155], [13, 568, 1416, 4370, 94, 2149, 28, 4371], [28, 498, 581, 3228, 68, 519, 153, 655, 102], [6, 655, 6, 490, 875, 84, 107, 76, 2071], [68, 4372, 581, 4373, 2205, 1225], [156, 550, 1335, 4374, 498], [84, 3871, 580, 339, 1517, 115, 722, 4125], [4375], [133, 1707, 32, 186, 3778, 3779], [299, 28, 542, 15, 829, 100, 296, 1352], [37, 287, 3780, 575, 570, 3781], [13, 228, 2054, 56, 228, 158, 1058], [165, 1138, 146, 293, 1343, 433, 3261], [56, 1950, 146, 293, 251, 96, 146, 15, 122], [68, 296, 3782, 367, 3783, 3470], [156, 32, 268, 3784, 94, 3785, 1040, 498, 988], [226, 213, 131, 32, 94, 721, 37, 15, 520], [100, 6, 129, 346, 6, 207, 73, 293, 3244], [13, 3786, 15, 863, 241, 293, 249, 367, 685], [56, 575, 287, 122, 3202, 96, 639, 28, 148], [107, 74, 53, 962, 3787, 3470, 28, 498], [56, 107, 296, 661, 13, 1435, 3788, 166], [4376], [300, 158, 320, 3320, 100, 4377, 4378, 1470], [3310, 320, 337, 2058, 100, 1276, 4], [4379, 28, 248, 184, 247, 2075, 3138], [13, 1970, 2570, 2551, 68, 4184, 881], [56, 4380, 1021, 3093, 0, 445, 3569, 4381], [567, 4382, 184, 68, 184, 3217, 2874, 100, 973], [4383, 37, 4384, 391], [269, 1706, 3298, 37, 212, 476, 4144, 4385], [15, 241, 3426, 323, 11, 226, 4386], [13, 1237, 287, 2064, 28, 184, 100, 1092, 1128, 4387], [241, 184, 49, 638, 4388, 208, 4389], [57, 542, 184, 864, 654], [56, 4362, 581, 1321, 129, 4390], [4391], [15, 71, 6, 1343, 1654, 100, 1006, 863], [81, 490, 325, 119, 184, 112, 490, 325, 13, 1064], [94, 4358, 15, 3537, 81, 15, 4392, 424], [2656, 21, 4393, 418, 4305, 28, 4394], [13, 293, 6, 717, 158, 100, 94, 353, 1450], [107, 6, 293, 609, 158, 1977, 72, 2805], [2807, 321, 1977, 300, 639, 1768, 495, 184], [13, 158, 28, 1654, 100, 184, 1566, 3334], [88, 68, 15, 1498, 100, 133, 408, 3337], [184, 102, 153, 985, 37, 41, 192, 2187], [6, 498, 37, 353, 2434, 208, 3677], [56, 133, 794, 4395, 37, 184, 48, 2205, 1706], [241, 81, 14, 2132, 68, 184, 3540, 3701, 84, 629], [300, 15, 71, 1862, 28, 1977, 72, 28, 1768], [4396], [4397, 741, 4398, 37, 1986, 4399, 4400], [100, 6, 46, 494, 37, 241, 15, 4401, 846], [296, 4402, 3696, 325, 4403, 0, 241, 41, 60], [100, 2654, 991, 56, 4404, 4405, 445], [300, 107, 15, 621, 56, 4406, 4000, 100, 1755], [202, 80, 600, 165, 29, 4407, 3957], [6, 37, 4408, 45, 241, 26, 1223, 150], [68, 133, 397, 460, 249, 3576, 339, 4409, 100, 3596], [15, 4410, 1640, 300, 3335, 29, 30, 1470], [56, 4411, 590, 96, 29, 30, 3417, 341], [3368, 80, 274, 6, 1223, 37, 3806, 482], [68, 133, 48, 2040, 466, 4412, 28, 616, 2551], [117, 76, 34, 4413, 56, 4414, 34, 4415], [78, 28, 884, 6, 146, 165, 498, 4416], [4417], [568, 490, 249, 237, 15, 493, 100, 133, 460], [422, 777, 365, 111, 616, 490, 1846], [56, 422, 1442, 6, 4418, 2392, 28, 1529], [296, 1128, 4419, 0, 4420, 1482, 1209], [165, 81, 14, 370, 15, 635, 208, 3697], [490, 704, 6, 541, 15, 4421, 370, 517, 456], [56, 81, 14, 541, 455, 1355, 100, 337, 1202], [490, 704, 6, 370, 517, 3989, 4422], [1042, 490, 15, 19, 37, 4423, 201], [56, 4424, 133, 1242, 37, 2607, 28, 161], [6, 4425, 2482, 21, 2308, 299, 28, 4426], [56, 2637, 252, 4427, 909, 41, 4428], [94, 1246, 299, 208, 909, 49, 777, 28, 1927], [13, 4144, 246, 325, 2104, 518, 49, 499], [4429], [568, 490, 616, 1639, 15, 1323, 100, 6, 337], [15, 241, 289, 2462, 28, 1404, 133, 1021, 3765], [490, 3764, 14, 68, 1030, 100, 15, 541], [3450, 100, 252, 4430, 496, 3463], [3310, 3318, 490, 142, 292, 68, 15, 4431, 370], [81, 462, 251, 202, 296, 1435, 3470], [13, 4432, 196, 100, 6, 353, 3766], [1640, 163, 2058, 208, 68, 131, 253, 1300], [100, 241, 4029, 15, 3929, 2176], [186, 4351, 100, 133, 1892, 899], [37, 337, 2130, 490, 325, 3426, 3261], [56, 4322, 3123, 133, 4433, 820], [13, 37, 466, 3166, 951, 490, 1706, 133, 451], [490, 4434, 133, 929, 56, 131, 32, 325, 1031], [4435], [367, 14, 15, 4436, 96, 15, 4437, 2472], [464, 2942, 165, 15, 1359, 100, 184, 4193], [56, 68, 184, 2499, 4438, 422, 41, 4439, 2272], [165, 21, 1044, 6, 2482, 28, 2285, 2008], [94, 490, 230, 52, 279, 4440], [1981, 28, 3426, 15, 1359, 100, 133, 460], [56, 3891, 584, 56, 269, 107, 4061], [1572, 37, 133, 3462, 28, 4441, 6, 2468, 2633], [3310, 390, 100, 1340, 6, 343, 635, 208, 4442], [575, 1323, 498, 13, 184, 30, 4144, 346], [156, 48, 1002, 1264, 1734, 56, 832, 575, 1529], [68, 184, 4443, 4444, 28, 1307], [1433, 153, 133, 370, 1132, 184, 129, 337, 490, 4445], [56, 1140, 133, 433, 6, 4446, 466, 1922, 2913]]\n",
            "{'from': 0, 'fairest': 1, 'creatures': 2, 'we': 3, 'desire': 4, 'increase': 5, 'that': 6, 'thereby': 7, \"beauty's\": 8, 'rose': 9, 'might': 10, 'never': 11, 'die': 12, 'but': 13, 'as': 14, 'the': 15, 'riper': 16, 'should': 17, 'by': 18, 'time': 19, 'decease': 20, 'his': 21, 'tender': 22, 'heir': 23, 'bear': 24, 'memory': 25, 'thou': 26, 'contracted': 27, 'to': 28, 'thine': 29, 'own': 30, 'bright': 31, 'eyes': 32, \"feed'st\": 33, 'thy': 34, \"light's\": 35, 'flame': 36, 'with': 37, 'self-substantial': 38, 'fuel': 39, 'making': 40, 'a': 41, 'famine': 42, 'where': 43, 'abundance': 44, 'lies': 45, 'self': 46, 'foe': 47, 'sweet': 48, 'too': 49, 'cruel': 50, 'art': 51, 'now': 52, \"world's\": 53, 'fresh': 54, 'ornament': 55, 'and': 56, 'only': 57, 'herald': 58, 'gaudy': 59, 'spring': 60, 'within': 61, 'bud': 62, 'buriest': 63, 'content': 64, 'churl': 65, \"mak'st\": 66, 'waste': 67, 'in': 68, 'niggarding': 69, 'pity': 70, 'world': 71, 'or': 72, 'else': 73, 'this': 74, 'glutton': 75, 'be': 76, 'eat': 77, 'due': 78, 'grave': 79, 'thee': 80, 'when': 81, 'forty': 82, 'winters': 83, 'shall': 84, 'besiege': 85, 'brow': 86, 'dig': 87, 'deep': 88, 'trenches': 89, 'field': 90, \"youth's\": 91, 'proud': 92, 'livery': 93, 'so': 94, 'gazed': 95, 'on': 96, 'will': 97, 'tattered': 98, 'weed': 99, 'of': 100, 'small': 101, 'worth': 102, 'held': 103, 'then': 104, 'being': 105, 'asked': 106, 'all': 107, 'beauty': 108, 'treasure': 109, 'lusty': 110, 'days': 111, 'say': 112, 'sunken': 113, 'were': 114, 'an': 115, 'all-eating': 116, 'shame': 117, 'thriftless': 118, 'praise': 119, 'how': 120, 'much': 121, 'more': 122, 'deserved': 123, 'use': 124, 'if': 125, 'couldst': 126, 'answer': 127, \"'this\": 128, 'fair': 129, 'child': 130, 'mine': 131, 'sum': 132, 'my': 133, 'count': 134, 'make': 135, 'old': 136, \"excuse'\": 137, 'proving': 138, 'succession': 139, 'new': 140, 'made': 141, 'see': 142, 'blood': 143, 'warm': 144, \"feel'st\": 145, 'it': 146, 'cold': 147, 'look': 148, 'glass': 149, 'tell': 150, 'face': 151, 'viewest': 152, 'is': 153, 'form': 154, 'another': 155, 'whose': 156, 'repair': 157, 'not': 158, 'renewest': 159, 'dost': 160, 'beguile': 161, 'unbless': 162, 'some': 163, 'mother': 164, 'for': 165, 'she': 166, 'uneared': 167, 'womb': 168, 'disdains': 169, 'tillage': 170, 'husbandry': 171, 'who': 172, 'he': 173, 'fond': 174, 'tomb': 175, 'self-love': 176, 'stop': 177, 'posterity': 178, \"mother's\": 179, 'calls': 180, 'back': 181, 'lovely': 182, 'april': 183, 'her': 184, 'prime': 185, 'through': 186, 'windows': 187, 'age': 188, 'shalt': 189, 'despite': 190, 'wrinkles': 191, 'golden': 192, 'live': 193, 'remembered': 194, 'single': 195, 'image': 196, 'dies': 197, 'unthrifty': 198, 'loveliness': 199, 'why': 200, 'spend': 201, 'upon': 202, 'legacy': 203, \"nature's\": 204, 'bequest': 205, 'gives': 206, 'nothing': 207, 'doth': 208, 'lend': 209, 'frank': 210, 'lends': 211, 'those': 212, 'are': 213, 'free': 214, 'beauteous': 215, 'niggard': 216, 'abuse': 217, 'bounteous': 218, 'largess': 219, 'given': 220, 'give': 221, 'profitless': 222, 'usurer': 223, 'great': 224, 'sums': 225, 'yet': 226, 'canst': 227, 'having': 228, 'traffic': 229, 'alone': 230, 'deceive': 231, 'nature': 232, 'gone': 233, 'what': 234, 'acceptable': 235, 'audit': 236, 'leave': 237, 'unused': 238, 'must': 239, 'tombed': 240, 'which': 241, 'used': 242, 'lives': 243, \"th'\": 244, 'executor': 245, 'hours': 246, 'gentle': 247, 'work': 248, 'did': 249, 'frame': 250, 'gaze': 251, 'every': 252, 'eye': 253, 'dwell': 254, 'play': 255, 'tyrants': 256, 'very': 257, 'same': 258, 'unfair': 259, 'fairly': 260, 'excel': 261, 'never-resting': 262, 'leads': 263, 'summer': 264, 'hideous': 265, 'winter': 266, 'confounds': 267, 'him': 268, 'there': 269, 'sap': 270, 'checked': 271, 'frost': 272, 'leaves': 273, 'quite': 274, \"o'er-snowed\": 275, 'bareness': 276, \"summer's\": 277, 'distillation': 278, 'left': 279, 'liquid': 280, 'prisoner': 281, 'pent': 282, 'walls': 283, 'effect': 284, 'bereft': 285, 'nor': 286, 'no': 287, 'remembrance': 288, 'was': 289, 'flowers': 290, 'distilled': 291, 'though': 292, 'they': 293, 'meet': 294, 'leese': 295, 'their': 296, 'show': 297, 'substance': 298, 'still': 299, 'let': 300, \"winter's\": 301, 'ragged': 302, 'hand': 303, 'deface': 304, 'ere': 305, 'vial': 306, 'place': 307, 'self-killed': 308, 'forbidden': 309, 'usury': 310, 'happies': 311, 'pay': 312, 'willing': 313, 'loan': 314, \"that's\": 315, 'breed': 316, 'ten': 317, 'times': 318, 'happier': 319, 'one': 320, 'than': 321, 'refigured': 322, 'could': 323, 'death': 324, 'do': 325, 'shouldst': 326, 'depart': 327, 'leaving': 328, 'living': 329, 'self-willed': 330, \"death's\": 331, 'conquest': 332, 'worms': 333, 'lo': 334, 'orient': 335, 'gracious': 336, 'light': 337, 'lifts': 338, 'up': 339, 'burning': 340, 'head': 341, 'each': 342, 'under': 343, 'homage': 344, 'new-appearing': 345, 'sight': 346, 'serving': 347, 'looks': 348, 'sacred': 349, 'majesty': 350, 'climbed': 351, 'steep-up': 352, 'heavenly': 353, 'hill': 354, 'resembling': 355, 'strong': 356, 'youth': 357, 'middle': 358, 'mortal': 359, 'adore': 360, 'attending': 361, 'pilgrimage': 362, 'highmost': 363, 'pitch': 364, 'weary': 365, 'car': 366, 'like': 367, 'feeble': 368, 'reeleth': 369, 'day': 370, 'fore': 371, 'duteous': 372, 'converted': 373, 'low': 374, 'tract': 375, 'way': 376, 'out-going': 377, 'noon': 378, 'unlooked': 379, 'diest': 380, 'unless': 381, 'get': 382, 'son': 383, 'music': 384, 'hear': 385, \"hear'st\": 386, 'sadly': 387, 'sweets': 388, 'war': 389, 'joy': 390, 'delights': 391, \"lov'st\": 392, \"receiv'st\": 393, 'gladly': 394, 'pleasure': 395, 'annoy': 396, 'true': 397, 'concord': 398, 'well-tuned': 399, 'sounds': 400, 'unions': 401, 'married': 402, 'offend': 403, 'ear': 404, 'sweetly': 405, 'chide': 406, 'singleness': 407, 'parts': 408, 'mark': 409, 'string': 410, 'husband': 411, 'strikes': 412, 'mutual': 413, 'ordering': 414, 'sire': 415, 'happy': 416, 'pleasing': 417, 'note': 418, 'sing': 419, 'speechless': 420, 'song': 421, 'many': 422, 'seeming': 423, 'sings': 424, \"'thou\": 425, 'wilt': 426, 'prove': 427, \"none'\": 428, 'fear': 429, 'wet': 430, \"widow's\": 431, \"consum'st\": 432, 'life': 433, 'ah': 434, 'issueless': 435, 'hap': 436, 'wail': 437, 'makeless': 438, 'wife': 439, 'widow': 440, 'weep': 441, 'hast': 442, 'behind': 443, 'private': 444, 'well': 445, 'may': 446, 'keep': 447, \"children's\": 448, \"husband's\": 449, 'shape': 450, 'mind': 451, 'unthrift': 452, 'shifts': 453, 'enjoys': 454, 'hath': 455, 'end': 456, 'kept': 457, 'user': 458, 'destroys': 459, 'love': 460, 'toward': 461, 'others': 462, 'bosom': 463, 'sits': 464, 'himself': 465, 'such': 466, \"murd'rous\": 467, 'commits': 468, 'deny': 469, \"bear'st\": 470, 'any': 471, 'unprovident': 472, 'grant': 473, 'beloved': 474, 'none': 475, 'most': 476, 'evident': 477, 'possessed': 478, 'hate': 479, \"'gainst\": 480, \"stick'st\": 481, 'conspire': 482, 'seeking': 483, 'roof': 484, 'ruinate': 485, 'chief': 486, 'o': 487, 'change': 488, 'thought': 489, 'i': 490, 'fairer': 491, 'lodged': 492, 'presence': 493, 'kind': 494, 'at': 495, 'least': 496, 'kind-hearted': 497, 'me': 498, 'fast': 499, 'wane': 500, \"grow'st\": 501, 'departest': 502, 'youngly': 503, \"bestow'st\": 504, 'mayst': 505, 'call': 506, 'convertest': 507, 'herein': 508, 'wisdom': 509, 'without': 510, 'folly': 511, 'decay': 512, 'minded': 513, 'cease': 514, 'threescore': 515, 'year': 516, 'would': 517, 'away': 518, 'whom': 519, 'store': 520, 'harsh': 521, 'featureless': 522, 'rude': 523, 'barrenly': 524, 'perish': 525, 'best': 526, 'endowed': 527, 'gave': 528, 'gift': 529, 'bounty': 530, 'cherish': 531, 'carved': 532, 'seal': 533, 'meant': 534, 'print': 535, 'copy': 536, 'clock': 537, 'tells': 538, 'brave': 539, 'sunk': 540, 'night': 541, 'behold': 542, 'violet': 543, 'past': 544, 'sable': 545, 'curls': 546, 'silvered': 547, \"o'er\": 548, 'white': 549, 'lofty': 550, 'trees': 551, 'barren': 552, 'erst': 553, 'heat': 554, 'canopy': 555, 'herd': 556, 'green': 557, 'girded': 558, 'sheaves': 559, 'borne': 560, 'bier': 561, 'bristly': 562, 'beard': 563, 'question': 564, 'among': 565, 'wastes': 566, 'go': 567, 'since': 568, 'beauties': 569, 'themselves': 570, 'forsake': 571, 'grow': 572, \"time's\": 573, 'scythe': 574, 'can': 575, 'defence': 576, 'save': 577, 'takes': 578, 'hence': 579, 'you': 580, 'your': 581, 'longer': 582, 'yours': 583, 'here': 584, 'against': 585, 'coming': 586, 'prepare': 587, 'semblance': 588, 'other': 589, 'hold': 590, 'lease': 591, 'find': 592, 'determination': 593, 'again': 594, 'after': 595, \"self's\": 596, 'issue': 597, 'lets': 598, 'house': 599, 'fall': 600, 'honour': 601, 'uphold': 602, 'stormy': 603, 'gusts': 604, 'rage': 605, 'eternal': 606, 'unthrifts': 607, 'dear': 608, 'know': 609, 'had': 610, 'father': 611, 'stars': 612, 'judgement': 613, 'pluck': 614, 'methinks': 615, 'have': 616, 'astronomy': 617, 'good': 618, 'evil': 619, 'luck': 620, 'plagues': 621, 'dearths': 622, \"seasons'\": 623, 'quality': 624, 'fortune': 625, 'brief': 626, 'minutes': 627, 'pointing': 628, 'thunder': 629, 'rain': 630, 'wind': 631, 'princes': 632, 'oft': 633, 'predict': 634, 'heaven': 635, 'knowledge': 636, 'derive': 637, 'constant': 638, 'them': 639, 'read': 640, 'truth': 641, 'together': 642, 'thrive': 643, 'wouldst': 644, 'convert': 645, 'prognosticate': 646, \"truth's\": 647, 'doom': 648, 'date': 649, 'consider': 650, 'thing': 651, 'grows': 652, 'holds': 653, 'perfection': 654, 'little': 655, 'moment': 656, 'huge': 657, 'stage': 658, 'presenteth': 659, 'nought': 660, 'shows': 661, 'whereon': 662, 'secret': 663, 'influence': 664, 'comment': 665, 'perceive': 666, 'men': 667, 'plants': 668, 'cheered': 669, 'even': 670, 'self-same': 671, 'sky': 672, 'vaunt': 673, 'youthful': 674, 'height': 675, 'decrease': 676, 'wear': 677, 'state': 678, 'out': 679, 'conceit': 680, 'inconstant': 681, 'stay': 682, 'sets': 683, 'rich': 684, 'before': 685, 'wasteful': 686, 'debateth': 687, 'sullied': 688, 'engraft': 689, 'wherefore': 690, 'mightier': 691, 'bloody': 692, 'tyrant': 693, 'fortify': 694, 'means': 695, 'blessed': 696, 'rhyme': 697, 'stand': 698, 'top': 699, 'maiden': 700, 'gardens': 701, 'unset': 702, 'virtuous': 703, 'wish': 704, 'liker': 705, 'painted': 706, 'counterfeit': 707, 'lines': 708, 'pencil': 709, 'pupil': 710, 'pen': 711, 'neither': 712, 'inward': 713, 'outward': 714, 'keeps': 715, 'drawn': 716, 'skill': 717, 'believe': 718, 'verse': 719, 'come': 720, 'filled': 721, 'high': 722, 'deserts': 723, 'knows': 724, 'hides': 725, 'half': 726, 'write': 727, 'numbers': 728, 'number': 729, 'graces': 730, 'poet': 731, 'touches': 732, \"ne'er\": 733, 'touched': 734, 'earthly': 735, 'faces': 736, 'papers': 737, 'yellowed': 738, 'scorned': 739, 'less': 740, 'tongue': 741, 'rights': 742, 'termed': 743, \"poet's\": 744, 'stretched': 745, 'metre': 746, 'antique': 747, 'alive': 748, 'twice': 749, 'compare': 750, 'temperate': 751, 'rough': 752, 'winds': 753, 'shake': 754, 'darling': 755, 'buds': 756, 'short': 757, 'sometime': 758, 'hot': 759, 'shines': 760, 'often': 761, 'gold': 762, 'complexion': 763, 'dimmed': 764, 'declines': 765, 'chance': 766, 'changing': 767, 'course': 768, 'untrimmed': 769, 'fade': 770, 'lose': 771, 'possession': 772, \"ow'st\": 773, 'brag': 774, \"wand'rest\": 775, 'shade': 776, 'long': 777, 'breathe': 778, 'devouring': 779, 'blunt': 780, \"lion's\": 781, 'paws': 782, 'earth': 783, 'devour': 784, 'brood': 785, 'keen': 786, 'teeth': 787, 'fierce': 788, \"tiger's\": 789, 'jaws': 790, 'burn': 791, 'long-lived': 792, 'phoenix': 793, 'glad': 794, 'sorry': 795, 'seasons': 796, \"fleet'st\": 797, \"whate'er\": 798, 'swift-footed': 799, 'wide': 800, 'fading': 801, 'forbid': 802, 'heinous': 803, 'crime': 804, 'carve': 805, \"love's\": 806, 'draw': 807, 'untainted': 808, 'allow': 809, 'pattern': 810, 'succeeding': 811, 'worst': 812, 'wrong': 813, 'ever': 814, 'young': 815, \"woman's\": 816, 'master': 817, 'mistress': 818, 'passion': 819, 'heart': 820, 'acquainted': 821, 'shifting': 822, 'false': 823, \"women's\": 824, 'fashion': 825, 'theirs': 826, 'rolling': 827, 'gilding': 828, 'object': 829, 'whereupon': 830, 'gazeth': 831, 'man': 832, 'hue': 833, 'hues': 834, 'controlling': 835, 'steals': 836, \"men's\": 837, 'souls': 838, 'amazeth': 839, 'woman': 840, 'wert': 841, 'first': 842, 'created': 843, 'till': 844, 'wrought': 845, 'fell': 846, 'a-doting': 847, 'addition': 848, 'defeated': 849, 'adding': 850, 'purpose': 851, 'pricked': 852, 'muse': 853, 'stirred': 854, 'rehearse': 855, 'couplement': 856, 'sun': 857, 'moon': 858, \"sea's\": 859, 'gems': 860, \"april's\": 861, 'first-born': 862, 'things': 863, 'rare': 864, \"heaven's\": 865, 'air': 866, 'rondure': 867, 'hems': 868, 'truly': 869, 'candles': 870, 'fixed': 871, 'hearsay': 872, 'sell': 873, 'persuade': 874, 'am': 875, 'furrows': 876, 'expiate': 877, 'cover': 878, 'seemly': 879, 'raiment': 880, 'breast': 881, 'elder': 882, 'therefore': 883, 'thyself': 884, 'wary': 885, 'bearing': 886, 'chary': 887, 'nurse': 888, 'babe': 889, 'faring': 890, 'ill': 891, 'presume': 892, 'slain': 893, \"gav'st\": 894, 'unperfect': 895, 'actor': 896, 'put': 897, 'beside': 898, 'part': 899, 'replete': 900, \"strength's\": 901, 'weakens': 902, 'trust': 903, 'forget': 904, 'perfect': 905, 'ceremony': 906, 'rite': 907, 'strength': 908, 'seem': 909, \"o'ercharged\": 910, 'burthen': 911, 'eloquence': 912, 'dumb': 913, 'presagers': 914, 'speaking': 915, 'plead': 916, 'recompense': 917, 'expressed': 918, 'learn': 919, 'silent': 920, 'writ': 921, 'belongs': 922, 'fine': 923, 'wit': 924, 'played': 925, 'painter': 926, 'stelled': 927, 'table': 928, 'body': 929, 'wherein': 930, \"'tis\": 931, 'perspective': 932, \"painter's\": 933, 'pictured': 934, \"bosom's\": 935, 'shop': 936, 'hanging': 937, 'glazed': 938, 'turns': 939, 'done': 940, 'where-through': 941, 'peep': 942, 'therein': 943, 'cunning': 944, 'want': 945, 'grace': 946, 'favour': 947, 'public': 948, 'titles': 949, 'boast': 950, 'whilst': 951, 'triumph': 952, 'bars': 953, \"princes'\": 954, 'favourites': 955, 'spread': 956, 'marigold': 957, \"sun's\": 958, 'pride': 959, 'buried': 960, 'frown': 961, 'glory': 962, 'painful': 963, 'warrior': 964, 'famoused': 965, 'fight': 966, 'thousand': 967, 'victories': 968, 'once': 969, 'foiled': 970, 'book': 971, 'razed': 972, 'rest': 973, 'forgot': 974, 'toiled': 975, 'remove': 976, 'removed': 977, 'lord': 978, 'vassalage': 979, 'merit': 980, 'duty': 981, 'strongly': 982, 'knit': 983, 'send': 984, 'written': 985, 'embassage': 986, 'witness': 987, 'poor': 988, 'bare': 989, 'wanting': 990, 'words': 991, 'hope': 992, \"soul's\": 993, 'naked': 994, 'bestow': 995, 'whatsoever': 996, 'star': 997, 'guides': 998, 'moving': 999, 'points': 1000, 'graciously': 1001, 'aspect': 1002, 'puts': 1003, 'apparel': 1004, 'loving': 1005, 'worthy': 1006, 'respect': 1007, 'dare': 1008, 'toil': 1009, 'haste': 1010, 'bed': 1011, 'respose': 1012, 'limbs': 1013, 'travel': 1014, 'tired': 1015, 'begins': 1016, 'journey': 1017, \"body's\": 1018, \"work's\": 1019, 'expired': 1020, 'thoughts': 1021, 'far': 1022, 'abide': 1023, 'intend': 1024, 'zealous': 1025, 'drooping': 1026, 'eyelids': 1027, 'open': 1028, 'looking': 1029, 'darkness': 1030, 'blind': 1031, 'imaginary': 1032, 'presents': 1033, 'shadow': 1034, 'sightless': 1035, 'view': 1036, 'jewel': 1037, 'hung': 1038, 'ghastly': 1039, 'makes': 1040, 'black': 1041, 'thus': 1042, 'quiet': 1043, 'return': 1044, 'plight': 1045, 'debarred': 1046, 'benefit': 1047, \"day's\": 1048, 'oppression': 1049, 'eased': 1050, 'oppressed': 1051, 'enemies': 1052, \"either's\": 1053, 'reign': 1054, 'consent': 1055, 'hands': 1056, 'torture': 1057, 'complain': 1058, 'farther': 1059, 'off': 1060, 'please': 1061, 'clouds': 1062, 'blot': 1063, 'flatter': 1064, 'swart-complexioned': 1065, 'sparkling': 1066, 'twire': 1067, \"gild'st\": 1068, 'daily': 1069, 'sorrows': 1070, 'nightly': 1071, \"grief's\": 1072, 'length': 1073, 'stronger': 1074, 'disgrace': 1075, 'beweep': 1076, 'outcast': 1077, 'trouble': 1078, 'deaf': 1079, 'bootless': 1080, 'cries': 1081, 'curse': 1082, 'fate': 1083, 'wishing': 1084, 'featured': 1085, 'friends': 1086, 'desiring': 1087, \"man's\": 1088, 'scope': 1089, 'enjoy': 1090, 'contented': 1091, 'these': 1092, 'almost': 1093, 'despising': 1094, 'haply': 1095, 'think': 1096, 'lark': 1097, 'break': 1098, 'arising': 1099, 'sullen': 1100, 'hymns': 1101, 'gate': 1102, 'wealth': 1103, 'brings': 1104, 'scorn': 1105, 'kings': 1106, 'sessions': 1107, 'summon': 1108, 'sigh': 1109, 'lack': 1110, 'sought': 1111, 'woes': 1112, 'drown': 1113, 'flow': 1114, 'precious': 1115, 'hid': 1116, 'dateless': 1117, 'afresh': 1118, 'cancelled': 1119, 'woe': 1120, 'moan': 1121, 'expense': 1122, 'vanished': 1123, 'grieve': 1124, 'grievances': 1125, 'foregone': 1126, 'heavily': 1127, 'sad': 1128, 'account': 1129, 'fore-bemoaned': 1130, 'paid': 1131, 'while': 1132, 'friend': 1133, 'losses': 1134, 'restored': 1135, 'endeared': 1136, 'hearts': 1137, 'lacking': 1138, 'supposed': 1139, 'dead': 1140, 'reigns': 1141, 'holy': 1142, 'obsequious': 1143, 'tear': 1144, 'religious': 1145, \"stol'n\": 1146, 'interest': 1147, 'appear': 1148, 'hidden': 1149, 'lie': 1150, 'trophies': 1151, 'lovers': 1152, 'images': 1153, 'loved': 1154, 'survive': 1155, 'well-contented': 1156, 'bones': 1157, 'dust': 1158, 're-survey': 1159, 'deceased': 1160, 'lover': 1161, \"bett'ring\": 1162, 'outstripped': 1163, 'reserve': 1164, 'exceeded': 1165, 'vouchsafe': 1166, \"'had\": 1167, \"friend's\": 1168, 'grown': 1169, 'growing': 1170, 'dearer': 1171, 'birth': 1172, 'brought': 1173, 'march': 1174, 'ranks': 1175, 'better': 1176, 'equipage': 1177, 'died': 1178, 'poets': 1179, 'style': 1180, \"i'll\": 1181, \"love'\": 1182, 'full': 1183, 'glorious': 1184, 'morning': 1185, 'seen': 1186, 'mountain': 1187, 'tops': 1188, 'sovereign': 1189, 'kissing': 1190, 'meadows': 1191, 'pale': 1192, 'streams': 1193, 'alchemy': 1194, 'anon': 1195, 'permit': 1196, 'basest': 1197, 'ride': 1198, 'ugly': 1199, 'rack': 1200, 'celestial': 1201, 'forlorn': 1202, 'visage': 1203, 'hide': 1204, 'stealing': 1205, 'unseen': 1206, 'west': 1207, 'early': 1208, 'morn': 1209, 'shine': 1210, 'triumphant': 1211, 'splendour': 1212, 'alack': 1213, 'hour': 1214, 'region': 1215, 'cloud': 1216, 'masked': 1217, 'whit': 1218, 'disdaineth': 1219, 'suns': 1220, 'stain': 1221, 'staineth': 1222, 'didst': 1223, 'promise': 1224, 'forth': 1225, 'cloak': 1226, 'base': 1227, \"o'ertake\": 1228, 'hiding': 1229, \"brav'ry\": 1230, 'rotten': 1231, 'smoke': 1232, 'enough': 1233, 'dry': 1234, 'storm-beaten': 1235, 'salve': 1236, 'speak': 1237, 'heals': 1238, 'wound': 1239, 'cures': 1240, 'physic': 1241, 'grief': 1242, 'repent': 1243, 'loss': 1244, \"offender's\": 1245, 'sorrow': 1246, 'weak': 1247, 'relief': 1248, 'bears': 1249, \"offence's\": 1250, 'cross': 1251, 'tears': 1252, 'pearl': 1253, 'sheds': 1254, 'ransom': 1255, 'deeds': 1256, 'grieved': 1257, 'roses': 1258, 'thorns': 1259, 'silver': 1260, 'fountains': 1261, 'mud': 1262, 'eclipses': 1263, 'both': 1264, 'loathsome': 1265, 'canker': 1266, 'sweetest': 1267, 'faults': 1268, 'authorizing': 1269, 'trespass': 1270, 'corrupting': 1271, 'salving': 1272, 'amiss': 1273, 'excusing': 1274, 'sins': 1275, 'sensual': 1276, 'fault': 1277, 'bring': 1278, 'sense': 1279, 'adverse': 1280, 'party': 1281, 'advocate': 1282, 'lawful': 1283, 'plea': 1284, 'commence': 1285, 'civil': 1286, 'accessary': 1287, 'needs': 1288, 'thief': 1289, 'sourly': 1290, 'robs': 1291, 'confess': 1292, 'two': 1293, 'twain': 1294, 'although': 1295, 'our': 1296, 'undivided': 1297, 'loves': 1298, 'blots': 1299, 'remain': 1300, 'help': 1301, 'separable': 1302, 'spite': 1303, 'alter': 1304, 'sole': 1305, 'steal': 1306, 'delight': 1307, 'evermore': 1308, 'acknowledge': 1309, 'lest': 1310, 'bewailed': 1311, 'guilt': 1312, 'kindness': 1313, 'take': 1314, 'name': 1315, 'sort': 1316, 'report': 1317, 'decrepit': 1318, 'active': 1319, 'lame': 1320, \"fortune's\": 1321, 'dearest': 1322, 'comfort': 1323, 'whether': 1324, 'entitled': 1325, 'crowned': 1326, 'sit': 1327, 'engrafted': 1328, 'despised': 1329, 'sufficed': 1330, 'subject': 1331, 'invent': 1332, \"pour'st\": 1333, 'into': 1334, 'argument': 1335, 'excellent': 1336, 'vulgar': 1337, 'paper': 1338, 'thanks': 1339, 'aught': 1340, 'perusal': 1341, \"who's\": 1342, 'cannot': 1343, 'invention': 1344, 'tenth': 1345, 'nine': 1346, 'rhymers': 1347, 'invocate': 1348, 'outlive': 1349, 'slight': 1350, 'curious': 1351, 'pain': 1352, 'manners': 1353, \"is't\": 1354, 'us': 1355, 'divided': 1356, 'separation': 1357, \"deserv'st\": 1358, 'absence': 1359, 'torment': 1360, 'sour': 1361, 'leisure': 1362, 'entertain': 1363, 'teachest': 1364, 'praising': 1365, 'yea': 1366, 'hadst': 1367, 'receivest': 1368, 'blame': 1369, 'usest': 1370, 'blamed': 1371, 'deceivest': 1372, 'wilful': 1373, 'taste': 1374, 'refusest': 1375, 'forgive': 1376, 'robbery': 1377, 'poverty': 1378, 'greater': 1379, \"hate's\": 1380, 'known': 1381, 'injury': 1382, 'lascivious': 1383, 'kill': 1384, 'spites': 1385, 'foes': 1386, 'pretty': 1387, 'wrongs': 1388, 'liberty': 1389, 'absent': 1390, 'years': 1391, 'befits': 1392, 'temptation': 1393, 'follows': 1394, 'won': 1395, 'assailed': 1396, 'woos': 1397, 'prevailed': 1398, 'ay': 1399, 'mightst': 1400, 'seat': 1401, 'forbear': 1402, 'straying': 1403, 'lead': 1404, 'riot': 1405, 'forced': 1406, 'twofold': 1407, 'hers': 1408, 'tempting': 1409, 'said': 1410, 'dearly': 1411, 'wailing': 1412, 'nearly': 1413, 'offenders': 1414, 'excuse': 1415, 'ye': 1416, 'because': 1417, \"know'st\": 1418, 'sake': 1419, \"suff'ring\": 1420, 'approve': 1421, 'gain': 1422, 'losing': 1423, 'found': 1424, 'lay': 1425, \"here's\": 1426, 'flattery': 1427, 'wink': 1428, 'unrespected': 1429, 'sleep': 1430, 'dreams': 1431, 'darkly': 1432, 'dark': 1433, 'directed': 1434, 'shadows': 1435, \"shadow's\": 1436, 'clear': 1437, 'clearer': 1438, 'unseeing': 1439, 'imperfect': 1440, 'heavy': 1441, 'nights': 1442, 'dull': 1443, 'flesh': 1444, 'injurious': 1445, 'distance': 1446, 'space': 1447, 'limits': 1448, 'remote': 1449, 'matter': 1450, 'foot': 1451, 'farthest': 1452, 'nimble': 1453, 'jump': 1454, 'sea': 1455, 'land': 1456, 'soon': 1457, 'kills': 1458, 'leap': 1459, 'large': 1460, 'lengths': 1461, 'miles': 1462, 'water': 1463, 'attend': 1464, 'receiving': 1465, 'elements': 1466, 'slow': 1467, 'badges': 1468, 'purging': 1469, 'fire': 1470, 'wherever': 1471, 'present-absent': 1472, 'swift': 1473, 'motion': 1474, 'slide': 1475, 'quicker': 1476, 'embassy': 1477, 'four': 1478, 'sinks': 1479, 'down': 1480, 'melancholy': 1481, 'until': 1482, \"life's\": 1483, 'composition': 1484, 'recured': 1485, 'messengers': 1486, 'returned': 1487, 'assured': 1488, 'health': 1489, 'recounting': 1490, 'told': 1491, 'straight': 1492, 'divide': 1493, \"picture's\": 1494, 'bar': 1495, 'freedom': 1496, 'right': 1497, 'closet': 1498, 'pierced': 1499, 'crystal': 1500, 'defendant': 1501, 'says': 1502, 'appearance': 1503, 'side': 1504, 'title': 1505, 'impanelled': 1506, 'quest': 1507, 'tenants': 1508, 'verdict': 1509, 'determined': 1510, \"eye's\": 1511, 'moiety': 1512, \"heart's\": 1513, 'betwixt': 1514, 'league': 1515, 'took': 1516, 'unto': 1517, 'famished': 1518, 'sighs': 1519, 'smother': 1520, 'picture': 1521, 'feast': 1522, 'banquet': 1523, 'bids': 1524, 'guest': 1525, 'share': 1526, 'either': 1527, 'present': 1528, 'move': 1529, 'awakes': 1530, 'careful': 1531, 'trifle': 1532, 'truest': 1533, 'thrust': 1534, 'falsehood': 1535, 'sure': 1536, 'wards': 1537, 'jewels': 1538, 'trifles': 1539, 'greatest': 1540, 'care': 1541, 'prey': 1542, 'locked': 1543, 'chest': 1544, 'feel': 1545, 'closure': 1546, 'whence': 1547, 'thence': 1548, 'proves': 1549, 'thievish': 1550, 'prize': 1551, 'defects': 1552, 'cast': 1553, 'utmost': 1554, 'called': 1555, 'advised': 1556, 'respects': 1557, 'strangely': 1558, 'pass': 1559, 'scarcely': 1560, 'greet': 1561, 'reasons': 1562, 'settled': 1563, 'gravity': 1564, 'ensconce': 1565, 'desert': 1566, 'uprear': 1567, 'guard': 1568, 'laws': 1569, 'allege': 1570, 'cause': 1571, 'seek': 1572, \"travel's\": 1573, 'teach': 1574, 'case': 1575, 'repose': 1576, \"'thus\": 1577, 'measured': 1578, \"friend'\": 1579, 'beast': 1580, 'plods': 1581, 'dully': 1582, 'weight': 1583, 'instinct': 1584, 'wretch': 1585, 'rider': 1586, 'speed': 1587, 'spur': 1588, 'provoke': 1589, 'sometimes': 1590, 'anger': 1591, 'thrusts': 1592, 'answers': 1593, 'groan': 1594, 'sharp': 1595, 'spurring': 1596, 'onward': 1597, 'offence': 1598, 'bearer': 1599, 'posting': 1600, 'need': 1601, 'extremity': 1602, 'mounted': 1603, 'winged': 1604, 'horse': 1605, 'pace': 1606, \"perfect'st\": 1607, 'neigh': 1608, 'fiery': 1609, 'race': 1610, 'jade': 1611, 'going': 1612, 'went': 1613, 'wilful-slow': 1614, 'towards': 1615, 'run': 1616, 'key': 1617, 'up-locked': 1618, 'survey': 1619, 'blunting': 1620, 'point': 1621, 'seldom': 1622, 'feasts': 1623, 'solemn': 1624, 'set': 1625, 'stones': 1626, 'thinly': 1627, 'placed': 1628, 'captain': 1629, 'carcanet': 1630, 'wardrobe': 1631, 'robe': 1632, 'special': 1633, 'instant': 1634, 'special-blest': 1635, 'unfolding': 1636, 'imprisoned': 1637, 'worthiness': 1638, 'lacked': 1639, 'whereof': 1640, 'millions': 1641, 'strange': 1642, 'tend': 1643, 'describe': 1644, 'adonis': 1645, 'poorly': 1646, 'imitated': 1647, \"helen's\": 1648, 'cheek': 1649, 'grecian': 1650, 'tires': 1651, 'foison': 1652, 'external': 1653, 'deem': 1654, 'odour': 1655, 'blooms': 1656, 'dye': 1657, 'perfumed': 1658, 'tincture': 1659, 'hang': 1660, 'wantonly': 1661, 'breath': 1662, 'discloses': 1663, 'virtue': 1664, 'unwooed': 1665, 'deaths': 1666, 'odours': 1667, 'distills': 1668, 'marble': 1669, 'gilded': 1670, 'monuments': 1671, 'powerful': 1672, 'contents': 1673, 'unswept': 1674, 'stone': 1675, 'besmeared': 1676, 'sluttish': 1677, 'statues': 1678, 'overturn': 1679, 'broils': 1680, 'root': 1681, 'masonry': 1682, 'mars': 1683, 'sword': 1684, \"war's\": 1685, 'quick': 1686, 'record': 1687, 'all-oblivious': 1688, 'enmity': 1689, 'room': 1690, 'ending': 1691, 'judgment': 1692, 'arise': 1693, \"lovers'\": 1694, 'renew': 1695, 'force': 1696, 'edge': 1697, 'blunter': 1698, 'appetite': 1699, 'to-day': 1700, 'feeding': 1701, 'allayed': 1702, 'to-morrow': 1703, 'sharpened': 1704, 'former': 1705, 'fill': 1706, 'hungry': 1707, 'fulness': 1708, 'spirit': 1709, 'perpetual': 1710, 'dulness': 1711, 'interim': 1712, 'ocean': 1713, 'shore': 1714, 'banks': 1715, 'blest': 1716, 'welcome': 1717, 'thrice': 1718, 'wished': 1719, 'slave': 1720, 'services': 1721, 'require': 1722, 'world-without-end': 1723, 'watch': 1724, 'bitterness': 1725, 'bid': 1726, 'servant': 1727, 'adieu': 1728, 'jealous': 1729, 'affairs': 1730, 'suppose': 1731, 'fool': 1732, 'thinks': 1733, 'god': 1734, 'control': 1735, 'crave': 1736, 'vassal': 1737, 'bound': 1738, 'suffer': 1739, 'beck': 1740, 'patience': 1741, 'tame': 1742, 'sufferance': 1743, 'bide': 1744, 'check': 1745, 'accusing': 1746, 'list': 1747, 'charter': 1748, 'privilage': 1749, 'belong': 1750, 'pardon': 1751, 'self-doing': 1752, 'wait': 1753, 'waiting': 1754, 'hell': 1755, 'been': 1756, 'brains': 1757, 'beguiled': 1758, 'labouring': 1759, 'amis': 1760, 'second': 1761, 'backward': 1762, 'five': 1763, 'hundred': 1764, 'courses': 1765, 'character': 1766, 'composed': 1767, 'wonder': 1768, 'mended': 1769, 'revolution': 1770, 'wits': 1771, 'subjects': 1772, 'worse': 1773, 'admiring': 1774, 'waves': 1775, 'pebbled': 1776, 'hasten': 1777, 'goes': 1778, 'sequent': 1779, 'forwards': 1780, 'contend': 1781, 'nativity': 1782, 'main': 1783, 'crawls': 1784, 'maturity': 1785, 'wherewith': 1786, 'crooked': 1787, 'confound': 1788, 'transfix': 1789, 'flourish': 1790, 'delves': 1791, 'parallels': 1792, 'feeds': 1793, 'rarities': 1794, 'stands': 1795, 'mow': 1796, 'slumbers': 1797, 'broken': 1798, 'mock': 1799, \"send'st\": 1800, 'home': 1801, 'pry': 1802, 'shames': 1803, 'idle': 1804, 'tenure': 1805, 'jealousy': 1806, 'awake': 1807, 'defeat': 1808, 'watchman': 1809, 'wake': 1810, 'elsewhere': 1811, 'near': 1812, 'sin': 1813, 'possesseth': 1814, 'soul': 1815, 'remedy': 1816, 'grounded': 1817, 'define': 1818, 'worths': 1819, 'surmount': 1820, 'indeed': 1821, 'beated': 1822, 'chopt': 1823, 'tanned': 1824, 'antiquity': 1825, 'contrary': 1826, 'self-loving': 1827, 'iniquity': 1828, 'painting': 1829, 'crushed': 1830, \"o'erworn\": 1831, 'drained': 1832, 'travelled': 1833, \"age's\": 1834, 'steepy': 1835, \"he's\": 1836, 'king': 1837, 'vanishing': 1838, 'confounding': 1839, 'knife': 1840, 'cut': 1841, \"lover's\": 1842, 'defaced': 1843, 'rich-proud': 1844, 'cost': 1845, 'outworn': 1846, 'towers': 1847, 'down-rased': 1848, 'brass': 1849, 'advantage': 1850, 'kingdom': 1851, 'firm': 1852, 'soil': 1853, 'win': 1854, 'watery': 1855, 'increasing': 1856, 'interchange': 1857, 'confounded': 1858, 'ruin': 1859, 'taught': 1860, 'ruminate': 1861, 'choose': 1862, 'fears': 1863, 'boundless': 1864, 'mortality': 1865, \"o'ersways\": 1866, 'power': 1867, 'action': 1868, 'flower': 1869, 'honey': 1870, 'wrackful': 1871, 'siege': 1872, \"batt'ring\": 1873, 'rocks': 1874, 'impregnable': 1875, 'stout': 1876, 'gates': 1877, 'steel': 1878, 'decays': 1879, 'fearful': 1880, 'meditation': 1881, 'spoil': 1882, 'miracle': 1883, 'ink': 1884, 'restful': 1885, 'cry': 1886, 'beggar': 1887, 'born': 1888, 'needy': 1889, 'trimmed': 1890, 'jollity': 1891, 'purest': 1892, 'faith': 1893, 'unhappily': 1894, 'forsworn': 1895, 'shamefully': 1896, 'misplaced': 1897, 'rudely': 1898, 'strumpeted': 1899, 'wrongfully': 1900, 'disgraced': 1901, 'limping': 1902, 'sway': 1903, 'disabled': 1904, 'tongue-tied': 1905, 'authority': 1906, 'doctor-like': 1907, 'simple': 1908, 'miscalled': 1909, 'simplicity': 1910, 'captive': 1911, 'infection': 1912, 'impiety': 1913, 'achieve': 1914, 'lace': 1915, 'society': 1916, 'imitate': 1917, 'indirectly': 1918, 'bankrupt': 1919, 'beggared': 1920, 'blush': 1921, 'lively': 1922, 'veins': 1923, 'exchequer': 1924, 'gains': 1925, 'stores': 1926, 'last': 1927, 'bad': 1928, 'map': 1929, 'lived': 1930, 'bastard': 1931, 'signs': 1932, 'durst': 1933, 'inhabit': 1934, 'tresses': 1935, 'sepulchres': 1936, 'shorn': 1937, 'fleece': 1938, 'gay': 1939, \"another's\": 1940, 'robbing': 1941, 'dress': 1942, 'yore': 1943, 'mend': 1944, 'tongues': 1945, 'voice': 1946, 'uttering': 1947, 'commend': 1948, 'accents': 1949, 'seeing': 1950, 'shown': 1951, 'guess': 1952, 'measure': 1953, 'churls': 1954, 'add': 1955, 'rank': 1956, 'smell': 1957, 'weeds': 1958, 'matcheth': 1959, 'common': 1960, 'defect': 1961, \"slander's\": 1962, 'suspect': 1963, 'crow': 1964, 'flies': 1965, 'slander': 1966, 'wooed': 1967, 'vice': 1968, \"present'st\": 1969, 'pure': 1970, 'unstained': 1971, 'passed': 1972, 'ambush': 1973, 'victor': 1974, 'charged': 1975, 'tie': 1976, 'envy': 1977, 'enlarged': 1978, 'kingdoms': 1979, 'owe': 1980, 'mourn': 1981, 'surly': 1982, 'bell': 1983, 'warning': 1984, 'fled': 1985, 'vile': 1986, 'vilest': 1987, 'nay': 1988, 'line': 1989, 'remember': 1990, 'thinking': 1991, 'perhaps': 1992, 'compounded': 1993, 'clay': 1994, 'wise': 1995, 'task': 1996, 'recite': 1997, 'devise': 1998, 'willingly': 1999, 'impart': 2000, 'untrue': 2001, 'shamed': 2002, 'yellow': 2003, 'few': 2004, 'boughs': 2005, 'ruined': 2006, 'choirs': 2007, 'late': 2008, 'birds': 2009, 'sang': 2010, 'seest': 2011, 'twilight': 2012, 'sunset': 2013, 'fadeth': 2014, 'seals': 2015, 'glowing': 2016, 'ashes': 2017, 'death-bed': 2018, 'expire': 2019, 'consumed': 2020, 'nourished': 2021, \"perceiv'st\": 2022, 'arrest': 2023, 'bail': 2024, 'carry': 2025, 'memorial': 2026, 'reviewest': 2027, 'review': 2028, 'consecrate': 2029, 'lost': 2030, 'dregs': 2031, 'coward': 2032, \"wretch's\": 2033, 'contains': 2034, 'remains': 2035, 'food': 2036, 'sweet-seasoned': 2037, 'showers': 2038, 'ground': 2039, 'peace': 2040, 'strife': 2041, \"'twixt\": 2042, 'miser': 2043, 'enjoyer': 2044, 'doubting': 2045, 'filching': 2046, 'counting': 2047, 'bettered': 2048, 'feasting': 2049, 'clean': 2050, 'starved': 2051, 'possessing': 2052, 'pursuing': 2053, 'pine': 2054, 'surfeit': 2055, 'gluttoning': 2056, 'variation': 2057, 'glance': 2058, 'aside': 2059, 'new-found': 2060, 'methods': 2061, 'compounds': 2062, 'noted': 2063, 'word': 2064, 'showing': 2065, 'proceed': 2066, 'always': 2067, 'dressing': 2068, 'spending': 2069, 'already': 2070, 'spent': 2071, 'telling': 2072, 'dial': 2073, 'vacant': 2074, \"mind's\": 2075, 'imprint': 2076, 'learning': 2077, 'mouthed': 2078, 'graves': 2079, \"dial's\": 2080, 'shady': 2081, 'stealth': 2082, 'progress': 2083, 'eternity': 2084, 'contain': 2085, 'commit': 2086, 'blanks': 2087, 'children': 2088, 'nursed': 2089, 'delivered': 2090, 'brain': 2091, 'acquaintance': 2092, 'offices': 2093, 'profit': 2094, 'enrich': 2095, 'invoked': 2096, 'assistance': 2097, 'alien': 2098, 'got': 2099, 'poesy': 2100, 'disperse': 2101, 'ignorance': 2102, 'aloft': 2103, 'fly': 2104, 'added': 2105, 'feathers': 2106, \"learned's\": 2107, 'wing': 2108, 'double': 2109, 'compile': 2110, \"others'\": 2111, 'works': 2112, 'arts': 2113, 'graced': 2114, 'advance': 2115, 'aid': 2116, 'decayed': 2117, 'sick': 2118, 'deserves': 2119, 'travail': 2120, 'worthier': 2121, 'pays': 2122, 'stole': 2123, 'behaviour': 2124, 'afford': 2125, 'thank': 2126, 'owes': 2127, 'faint': 2128, 'knowing': 2129, 'thereof': 2130, 'spends': 2131, 'fame': 2132, 'humble': 2133, 'proudest': 2134, 'sail': 2135, 'saucy': 2136, 'bark': 2137, 'inferior': 2138, 'broad': 2139, 'wilfully': 2140, 'shallowest': 2141, 'afloat': 2142, 'soundless': 2143, 'wrecked': 2144, 'worthless': 2145, 'boat': 2146, 'tall': 2147, 'building': 2148, 'goodly': 2149, 'epitaph': 2150, 'forgotten': 2151, 'immortal': 2152, 'yield': 2153, 'entombed': 2154, 'monument': 2155, \"o'er-read\": 2156, 'breathers': 2157, 'breathes': 2158, 'mouths': 2159, 'attaint': 2160, \"o'erlook\": 2161, 'dedicated': 2162, 'writers': 2163, 'blessing': 2164, 'finding': 2165, 'limit': 2166, 'enforced': 2167, 'anew': 2168, 'fresher': 2169, 'stamp': 2170, 'time-bettering': 2171, 'devised': 2172, 'strained': 2173, 'rhetoric': 2174, 'sympathized': 2175, 'plain': 2176, 'true-telling': 2177, 'gross': 2178, 'cheeks': 2179, 'abused': 2180, 'saw': 2181, 'exceed': 2182, 'debt': 2183, 'slept': 2184, 'extant': 2185, 'modern': 2186, 'quill': 2187, 'silence': 2188, 'impute': 2189, 'impair': 2190, 'mute': 2191, 'confine': 2192, 'immured': 2193, 'example': 2194, 'equal': 2195, 'grew': 2196, 'lean': 2197, 'penury': 2198, 'writes': 2199, 'dignifies': 2200, 'story': 2201, 'counterpart': 2202, 'admired': 2203, 'blessings': 2204, 'praises': 2205, 'comments': 2206, 'richly': 2207, 'compiled': 2208, 'phrase': 2209, 'muses': 2210, 'filed': 2211, 'unlettered': 2212, 'clerk': 2213, 'amen': 2214, 'hymn': 2215, 'able': 2216, 'affords': 2217, 'polished': 2218, 'refined': 2219, 'hearing': 2220, 'praised': 2221, 'something': 2222, 'hindmost': 2223, 'ripe': 2224, 'inhearse': 2225, 'spirits': 2226, 'above': 2227, 'struck': 2228, 'compeers': 2229, 'giving': 2230, 'astonished': 2231, 'affable': 2232, 'familiar': 2233, 'ghost': 2234, 'gulls': 2235, 'intelligence': 2236, 'victors': 2237, 'countenance': 2238, 'enfeebled': 2239, 'farewell': 2240, 'estimate': 2241, 'releasing': 2242, 'bonds': 2243, 'determinate': 2244, 'granting': 2245, 'riches': 2246, 'deserving': 2247, 'patent': 2248, 'swerving': 2249, 'mistaking': 2250, 'misprision': 2251, 'comes': 2252, 'dream': 2253, 'waking': 2254, 'disposed': 2255, 'weakness': 2256, 'concealed': 2257, 'attainted': 2258, 'gainer': 2259, 'bending': 2260, 'injuries': 2261, 'doing': 2262, 'vantage': 2263, 'double-vantage': 2264, 'lameness': 2265, 'halt': 2266, 'desired': 2267, 'strangle': 2268, 'walks': 2269, 'profane': 2270, 'wronk': 2271, 'vow': 2272, 'debate': 2273, 'bent': 2274, 'join': 2275, 'bow': 2276, 'drop': 2277, 'after-loss': 2278, \"'scaped\": 2279, 'rearward': 2280, 'conquered': 2281, 'windy': 2282, 'rainy': 2283, 'morrow': 2284, 'linger': 2285, 'purposed': 2286, 'overthrow': 2287, 'petty': 2288, 'griefs': 2289, 'onset': 2290, 'strains': 2291, 'compared': 2292, 'garments': 2293, 'new-fangled': 2294, 'hawks': 2295, 'hounds': 2296, 'humour': 2297, 'adjunct': 2298, 'finds': 2299, 'particulars': 2300, 'general': 2301, 'richer': 2302, 'prouder': 2303, \"garments'\": 2304, 'costs': 2305, 'horses': 2306, 'wretched': 2307, 'term': 2308, 'depends': 2309, 'depend': 2310, 'vex': 2311, 'revolt': 2312, \"what's\": 2313, 'blessed-fair': 2314, 'supposing': 2315, 'deceived': 2316, 'altered': 2317, 'hatred': 2318, \"many's\": 2319, 'history': 2320, 'moods': 2321, 'frowns': 2322, 'creation': 2323, 'decree': 2324, 'workings': 2325, 'sweetness': 2326, \"eve's\": 2327, 'apple': 2328, 'hurt': 2329, 'unmoved': 2330, 'rightly': 2331, 'inherit': 2332, 'tibey': 2333, 'lords': 2334, 'owners': 2335, 'stewards': 2336, 'excellence': 2337, 'outbraves': 2338, 'dignity': 2339, 'turn': 2340, 'sourest': 2341, 'lilies': 2342, 'fester': 2343, 'fragrant': 2344, 'spot': 2345, 'budding': 2346, 'enclose': 2347, 'sport': 2348, 'dispraise': 2349, 'naming': 2350, 'blesses': 2351, 'mansion': 2352, 'vices': 2353, 'habitation': 2354, 'chose': 2355, 'veil': 2356, 'heed': 2357, 'privilege': 2358, 'hardest': 2359, 'ill-used': 2360, 'wantonness': 2361, 'resort': 2362, 'finger': 2363, 'throned': 2364, 'queen': 2365, 'esteemed': 2366, 'errors': 2367, 'truths': 2368, 'translated': 2369, 'deemed': 2370, 'lambs': 2371, 'stern': 2372, 'wolf': 2373, 'betray': 2374, 'lamb': 2375, 'translate': 2376, 'gazers': 2377, 'fleeting': 2378, 'freezings': 2379, 'felt': 2380, \"december's\": 2381, 'everywhere': 2382, 'teeming': 2383, 'autumn': 2384, 'big': 2385, 'wanton': 2386, 'burden': 2387, 'widowed': 2388, 'wombs': 2389, \"lords'\": 2390, 'abundant': 2391, 'seemed': 2392, 'orphans': 2393, 'unfathered': 2394, 'fruit': 2395, 'pleasures': 2396, 'cheer': 2397, 'dreading': 2398, 'proud-pied': 2399, 'dressed': 2400, 'trim': 2401, 'saturn': 2402, 'laughed': 2403, 'leaped': 2404, 'lays': 2405, 'different': 2406, 'lap': 2407, \"lily's\": 2408, 'vermilion': 2409, 'figures': 2410, 'forward': 2411, 'smells': 2412, 'purple': 2413, 'soft': 2414, 'dwells': 2415, 'grossly': 2416, 'dyed': 2417, 'lily': 2418, 'condemned': 2419, 'marjoram': 2420, 'hair': 2421, 'fearfully': 2422, 'blushing': 2423, 'despair': 2424, 'third': 2425, 'red': 2426, 'annexed': 2427, 'theft': 2428, 'growth': 2429, 'vengeful': 2430, 'colour': 2431, \"forget'st\": 2432, \"spend'st\": 2433, 'fury': 2434, 'darkening': 2435, 'forgetful': 2436, 'redeem': 2437, 'idly': 2438, 'esteem': 2439, 'rise': 2440, 'resty': 2441, 'wrinkle': 2442, 'graven': 2443, 'satire': 2444, 'spoils': 2445, 'faster': 2446, \"prevent'st\": 2447, 'truant': 2448, 'amends': 2449, 'neglect': 2450, 'dignified': 2451, \"'truth\": 2452, \"intermixed'\": 2453, \"for't\": 2454, 'ages': 2455, 'office': 2456, 'strengthened': 2457, 'merchandized': 2458, 'esteeming': 2459, \"owner's\": 2460, 'publish': 2461, 'wont': 2462, 'philomel': 2463, 'front': 2464, 'stops': 2465, 'pipe': 2466, 'pleasant': 2467, 'mournful': 2468, 'hush': 2469, 'wild': 2470, 'burthens': 2471, 'bough': 2472, 'appears': 2473, 'over-goes': 2474, 'dulling': 2475, 'sinful': 2476, 'striving': 2477, 'mar': 2478, 'verses': 2479, 'gifts': 2480, 'eyed': 2481, 'seems': 2482, 'three': 2483, 'forests': 2484, 'shook': 2485, \"summers'\": 2486, 'springs': 2487, 'turned': 2488, 'process': 2489, 'perfumes': 2490, 'junes': 2491, 'burned': 2492, 'figure': 2493, 'perceived': 2494, 'unbred': 2495, 'idolatry': 2496, 'idol': 2497, 'alike': 2498, 'songs': 2499, 'wondrous': 2500, 'constancy': 2501, 'confined': 2502, 'expressing': 2503, 'difference': 2504, 'varying': 2505, 'themes': 2506, 'chronicle': 2507, 'wasted': 2508, 'descriptions': 2509, 'wights': 2510, 'beautiful': 2511, 'ladies': 2512, 'knights': 2513, 'blazon': 2514, 'lip': 2515, 'prophecies': 2516, 'prefiguring': 2517, 'looked': 2518, 'divining': 2519, 'prophetic': 2520, 'dreaming': 2521, 'forfeit': 2522, 'eclipse': 2523, 'endured': 2524, 'augurs': 2525, 'presage': 2526, 'incertainties': 2527, 'crown': 2528, 'proclaims': 2529, 'olives': 2530, 'endless': 2531, 'drops': 2532, 'balmy': 2533, 'subscribes': 2534, 'insults': 2535, 'tribes': 2536, \"tyrants'\": 2537, 'crests': 2538, 'tombs': 2539, 'figured': 2540, 'register': 2541, 'express': 2542, 'boy': 2543, 'prayers': 2544, 'divine': 2545, 'hallowed': 2546, 'weighs': 2547, 'necessary': 2548, 'aye': 2549, 'page': 2550, 'bred': 2551, 'qualify': 2552, 'easy': 2553, 'ranged': 2554, 'travels': 2555, 'just': 2556, 'exchanged': 2557, 'reigned': 2558, 'frailties': 2559, 'kinds': 2560, 'preposterously': 2561, 'stained': 2562, 'universe': 2563, 'alas': 2564, 'motley': 2565, 'gored': 2566, 'sold': 2567, 'cheap': 2568, 'offences': 2569, 'affections': 2570, 'askance': 2571, 'blenches': 2572, 'essays': 2573, 'proved': 2574, 'grind': 2575, 'newer': 2576, 'proof': 2577, 'try': 2578, 'older': 2579, 'next': 2580, 'guilty': 2581, 'goddess': 2582, 'harmful': 2583, 'provide': 2584, 'breeds': 2585, 'receives': 2586, 'brand': 2587, 'subdued': 2588, \"dyer's\": 2589, 'renewed': 2590, 'patient': 2591, 'drink': 2592, 'potions': 2593, 'eisel': 2594, 'bitter': 2595, 'penance': 2596, 'correct': 2597, 'correction': 2598, 'assure': 2599, 'cure': 2600, 'impression': 2601, 'scandal': 2602, 'stamped': 2603, \"o'er-green\": 2604, 'strive': 2605, 'steeled': 2606, 'changes': 2607, 'profound': 2608, 'abysm': 2609, 'throw': 2610, 'voices': 2611, \"adder's\": 2612, 'critic': 2613, 'flatterer': 2614, 'stopped': 2615, 'dispense': 2616, 'besides': 2617, 'governs': 2618, 'about': 2619, 'function': 2620, 'partly': 2621, 'effectually': 2622, 'delivers': 2623, 'bird': 2624, 'latch': 2625, 'objects': 2626, 'vision': 2627, 'catch': 2628, \"rud'st\": 2629, 'gentlest': 2630, \"deformed'st\": 2631, 'creature': 2632, 'dove': 2633, 'shapes': 2634, 'feature': 2635, 'incapable': 2636, 'maketh': 2637, \"monarch's\": 2638, 'plague': 2639, 'saith': 2640, 'monsters': 2641, 'indigest': 2642, 'cherubins': 2643, 'resemble': 2644, 'creating': 2645, 'beams': 2646, 'assemble': 2647, 'kingly': 2648, 'drinks': 2649, 'gust': 2650, \"'greeing\": 2651, 'palate': 2652, 'cup': 2653, 'poisoned': 2654, 'lesser': 2655, 'begin': 2656, 'knew': 2657, 'reason': 2658, 'afterwards': 2659, 'reckoning': 2660, 'millioned': 2661, 'accidents': 2662, 'creep': 2663, 'vows': 2664, 'decrees': 2665, 'tan': 2666, \"sharp'st\": 2667, 'intents': 2668, 'divert': 2669, 'minds': 2670, \"alt'ring\": 2671, 'fearing': 2672, 'tyranny': 2673, \"'now\": 2674, \"best'\": 2675, 'certain': 2676, 'incertainty': 2677, 'crowning': 2678, 'marriage': 2679, 'admit': 2680, 'impediments': 2681, 'alters': 2682, 'alteration': 2683, 'bends': 2684, 'remover': 2685, 'ever-fixed': 2686, 'tempests': 2687, 'shaken': 2688, \"wand'ring\": 2689, \"worth's\": 2690, 'unknown': 2691, 'taken': 2692, 'rosy': 2693, 'lips': 2694, \"sickle's\": 2695, 'compass': 2696, 'weeks': 2697, 'error': 2698, 'accuse': 2699, 'scanted': 2700, 'repay': 2701, 'whereto': 2702, 'frequent': 2703, 'dear-purchased': 2704, 'hoisted': 2705, 'transport': 2706, 'wilfulness': 2707, 'surmise': 2708, 'accumulate': 2709, 'level': 2710, 'shoot': 2711, 'wakened': 2712, 'appeal': 2713, 'eager': 2714, 'urge': 2715, 'prevent': 2716, 'maladies': 2717, 'sicken': 2718, 'shun': 2719, 'sickness': 2720, 'purge': 2721, \"ne'er-cloying\": 2722, 'sauces': 2723, 'welfare': 2724, 'meetness': 2725, 'diseased': 2726, 'needing': 2727, 'policy': 2728, \"t'\": 2729, 'anticipate': 2730, 'ills': 2731, 'medicine': 2732, 'healthful': 2733, 'goodness': 2734, 'cured': 2735, 'lesson': 2736, 'drugs': 2737, 'poison': 2738, 'feil': 2739, 'drunk': 2740, 'siren': 2741, 'limbecks': 2742, 'foul': 2743, 'applying': 2744, 'hopes': 2745, 'committed': 2746, 'spheres': 2747, 'fitted': 2748, 'distraction': 2749, 'madding': 2750, 'fever': 2751, 'built': 2752, 'rebuked': 2753, 'unkind': 2754, 'befriends': 2755, 'transgression': 2756, 'nerves': 2757, 'hammered': 2758, 'unkindness': 2759, \"y'have\": 2760, 'weigh': 2761, 'suffered': 2762, 'deepest': 2763, 'hard': 2764, 'hits': 2765, 'tendered': 2766, 'wounded': 2767, 'bosoms': 2768, 'fits': 2769, 'becomes': 2770, 'fee': 2771, 'ransoms': 2772, 'reproach': 2773, 'feeling': 2774, 'adulterate': 2775, 'salutation': 2776, 'sportive': 2777, 'frailer': 2778, 'spies': 2779, 'wills': 2780, 'abuses': 2781, 'reckon': 2782, 'bevel': 2783, 'maintain': 2784, 'badness': 2785, 'tables': 2786, 'charactered': 2787, 'lasting': 2788, 'beyond': 2789, 'faculty': 2790, 'subsist': 2791, 'oblivion': 2792, 'missed': 2793, 'retention': 2794, 'tallies': 2795, 'score': 2796, 'bold': 2797, 'receive': 2798, 'import': 2799, 'forgetfulness': 2800, 'pyramids': 2801, 'novel': 2802, 'dressings': 2803, 'dates': 2804, 'admire': 2805, 'foist': 2806, 'rather': 2807, 'heard': 2808, 'registers': 2809, 'defy': 2810, \"wond'ring\": 2811, 'records': 2812, 'continual': 2813, 'gathered': 2814, 'builded': 2815, 'accident': 2816, 'suffers': 2817, 'smiling': 2818, 'pomp': 2819, 'falls': 2820, 'blow': 2821, 'thralled': 2822, 'discontent': 2823, 'inviting': 2824, 'heretic': 2825, 'leases': 2826, 'short-numbered': 2827, 'hugely': 2828, 'politic': 2829, 'drowns': 2830, 'fools': 2831, \"were't\": 2832, 'bore': 2833, 'extern': 2834, 'honouring': 2835, 'laid': 2836, 'bases': 2837, 'ruining': 2838, 'dwellers': 2839, 'paying': 2840, 'rent': 2841, 'compound': 2842, 'forgoing': 2843, 'savour': 2844, 'pitiful': 2845, 'thrivers': 2846, 'gazing': 2847, 'oblation': 2848, 'mixed': 2849, 'seconds': 2850, 'render': 2851, 'suborned': 2852, 'informer': 2853, 'impeached': 2854, 'fickle': 2855, 'waning': 2856, \"show'st\": 2857, 'withering': 2858, 'over': 2859, 'wrack': 2860, 'goest': 2861, 'onwards': 2862, 'minion': 2863, 'detain': 2864, 'delayed': 2865, 'answered': 2866, 'quietus': 2867, 'counted': 2868, 'successive': 2869, 'slandered': 2870, 'fairing': 2871, \"art's\": 2872, 'borrowed': 2873, 'bower': 2874, 'profaned': 2875, \"mistress'\": 2876, 'raven': 2877, 'suited': 2878, 'mourners': 2879, 'slandering': 2880, 'becoming': 2881, \"play'st\": 2882, 'wood': 2883, 'fingers': 2884, 'gently': 2885, \"sway'st\": 2886, 'wiry': 2887, 'jacks': 2888, 'kiss': 2889, 'harvest': 2890, 'reap': 2891, \"wood's\": 2892, 'boldness': 2893, 'tickled': 2894, 'situation': 2895, 'dancing': 2896, 'chips': 2897, 'walk': 2898, 'gait': 2899, 'lust': 2900, 'perjured': 2901, 'savage': 2902, 'extreme': 2903, 'enjoyed': 2904, 'sooner': 2905, 'hunted': 2906, 'hated': 2907, 'swallowed': 2908, 'bait': 2909, 'taker': 2910, 'mad': 2911, 'pursuit': 2912, 'bliss': 2913, 'proposed': 2914, 'coral': 2915, 'snow': 2916, 'breasts': 2917, 'dun': 2918, 'hairs': 2919, 'wires': 2920, 'damasked': 2921, 'reeks': 2922, 'sound': 2923, 'treads': 2924, 'belied': 2925, 'tyrannous': 2926, 'proudly': 2927, 'doting': 2928, 'err': 2929, 'swear': 2930, 'groans': 2931, 'neck': 2932, \"judgment's\": 2933, 'proceeds': 2934, 'pitying': 2935, 'disdain': 2936, 'ruth': 2937, 'grey': 2938, 'east': 2939, 'ushers': 2940, 'sober': 2941, 'mourning': 2942, 'become': 2943, 'beseem': 2944, 'suit': 2945, 'herself': 2946, 'beshrew': 2947, 'slavery': 2948, \"sweet'st\": 2949, 'harder': 2950, 'engrossed': 2951, 'forsaken': 2952, 'three-fold': 2953, 'crossed': 2954, 'prison': 2955, 'ward': 2956, \"whoe'er\": 2957, 'rigour': 2958, 'gaol': 2959, 'perforce': 2960, 'confessed': 2961, 'mortgaged': 2962, 'restore': 2963, 'covetous': 2964, 'learned': 2965, 'surety-like': 2966, 'bond': 2967, 'fist': 2968, 'bind': 2969, 'statute': 2970, \"put'st\": 2971, 'sue': 2972, 'came': 2973, 'debtor': 2974, 'whole': 2975, 'whoever': 2976, \"'will'\": 2977, 'boot': 2978, 'over-plus': 2979, 'spacious': 2980, 'acceptance': 2981, 'addeth': 2982, 'beseechers': 2983, 'admitted': 2984, 'love-suit': 2985, 'fulfil': 2986, 'receipt': 2987, 'reckoned': 2988, 'untold': 2989, \"store's\": 2990, 'corrupt': 2991, 'over-partial': 2992, 'anchored': 2993, 'bay': 2994, \"eyes'\": 2995, 'forged': 2996, 'hooks': 2997, 'tied': 2998, 'several': 2999, 'plot': 3000, 'erred': 3001, 'transferred': 3002, 'swears': 3003, 'untutored': 3004, 'unlearned': 3005, 'subtleties': 3006, 'vainly': 3007, 'simply': 3008, 'credit': 3009, 'false-speaking': 3010, 'sides': 3011, 'suppressed': 3012, 'unjust': 3013, 'habit': 3014, 'flattered': 3015, 'justify': 3016, 'slay': 3017, \"need'st\": 3018, \"o'erpressed\": 3019, 'dart': 3020, 'outright': 3021, 'rid': 3022, 'press': 3023, 'manner': 3024, 'pity-wanting': 3025, 'testy': 3026, 'news': 3027, 'physicians': 3028, 'madness': 3029, 'ill-wresting': 3030, 'slanderers': 3031, 'ears': 3032, 'believed': 3033, 'despise': 3034, 'pleased': 3035, 'dote': 3036, 'cars': 3037, \"tongue's\": 3038, 'tune': 3039, 'delighted': 3040, 'prone': 3041, 'invited': 3042, 'senses': 3043, 'dissuade': 3044, 'foolish': 3045, 'unswayed': 3046, 'likeness': 3047, 'awards': 3048, 'merits': 3049, 'reproving': 3050, 'scarlet': 3051, 'ornaments': 3052, 'sealed': 3053, 'robbed': 3054, \"beds'\": 3055, 'revenues': 3056, 'rents': 3057, 'woo': 3058, 'importune': 3059, 'deserve': 3060, 'pitied': 3061, 'self-example': 3062, 'denied': 3063, 'huswife': 3064, 'runs': 3065, 'feathered': 3066, 'broke': 3067, 'dispatch': 3068, 'neglected': 3069, 'chase': 3070, 'busy': 3071, 'follow': 3072, 'prizing': 3073, \"infant's\": 3074, \"run'st\": 3075, 'afar': 3076, 'pray': 3077, 'loud': 3078, 'crying': 3079, 'suggest': 3080, 'angel': 3081, 'worser': 3082, 'coloured': 3083, 'female': 3084, 'tempteth': 3085, 'saint': 3086, 'devil': 3087, 'wooing': 3088, 'purity': 3089, 'fiend': 3090, 'directly': 3091, 'doubt': 3092, 'breathed': 3093, \"'i\": 3094, \"hate'\": 3095, 'languished': 3096, 'woeful': 3097, 'mercy': 3098, 'chiding': 3099, 'followed': 3100, 'flown': 3101, 'threw': 3102, 'saved': 3103, 'saying': 3104, \"'not\": 3105, \"you'\": 3106, 'centre': 3107, 'rebel': 3108, 'powers': 3109, 'array': 3110, 'dearth': 3111, 'costly': 3112, 'inheritors': 3113, 'excess': 3114, 'charge': 3115, \"servant's\": 3116, 'aggravate': 3117, 'buy': 3118, 'terms': 3119, 'selling': 3120, 'dross': 3121, 'fed': 3122, 'feed': 3123, \"there's\": 3124, 'dying': 3125, 'longing': 3126, 'nurseth': 3127, 'disease': 3128, 'preserve': 3129, 'uncertain': 3130, 'sickly': 3131, 'physician': 3132, 'angry': 3133, 'prescriptions': 3134, 'desperate': 3135, 'except': 3136, 'frantic-mad': 3137, 'unrest': 3138, 'discourse': 3139, 'random': 3140, 'sworn': 3141, 'correspondence': 3142, 'censures': 3143, 'falsely': 3144, 'aright': 3145, 'denote': 3146, 'vexed': 3147, 'watching': 3148, 'marvel': 3149, 'mistake': 3150, 'sees': 3151, 'clears': 3152, \"keep'st\": 3153, 'well-seeing': 3154, 'partake': 3155, 'all-tyrant': 3156, 'hateth': 3157, \"frown'st\": 3158, 'fawn': 3159, \"lour'st\": 3160, 'revenge': 3161, 'service': 3162, 'worship': 3163, 'commanded': 3164, 'insufficiency': 3165, 'brightness': 3166, 'refuse': 3167, 'warrantise': 3168, 'exceeds': 3169, 'abhor': 3170, 'unworthiness': 3171, 'raised': 3172, 'conscience': 3173, 'cheater': 3174, 'betraying': 3175, 'nobler': 3176, 'treason': 3177, 'stays': 3178, 'rising': 3179, 'drudge': 3180, 'swearing': 3181, 'act': 3182, 'bed-vow': 3183, 'torn': 3184, 'vowing': 3185, \"oaths'\": 3186, 'breach': 3187, 'twenty': 3188, 'oaths': 3189, 'misuse': 3190, 'honest': 3191, 'enlighten': 3192, 'blindness': 3193, 'cupid': 3194, 'asleep': 3195, 'maid': 3196, \"dian's\": 3197, 'love-kindling': 3198, 'quickly': 3199, 'steep': 3200, 'valley-fountain': 3201, 'endure': 3202, 'seeting': 3203, 'bath': 3204, 'new-fired': 3205, 'trial': 3206, 'touch': 3207, 'withal': 3208, 'thither': 3209, 'hied': 3210, 'distempered': 3211, 'love-god': 3212, 'lying': 3213, 'heart-inflaming': 3214, 'nymphs': 3215, 'vowed': 3216, 'chaste': 3217, 'tripping': 3218, 'votary': 3219, 'legions': 3220, 'warmed': 3221, 'sleeping': 3222, 'virgin': 3223, 'disarmed': 3224, 'quenched': 3225, 'cool': 3226, 'discased': 3227, 'thrall': 3228, 'heats': 3229, 'cools': 3230, 'dead-doing': 3231, 'handle': 3232, 'bands': 3233, 'captives': 3234, 'trembling': 3235, \"victor's\": 3236, 'starry': 3237, 'lamping': 3238, 'deign': 3239, 'sprite': 3240, 'close-bleeding': 3241, 'rhymes': 3242, \"bath'd\": 3243, 'brook': 3244, 'helicon': 3245, 'derived': 3246, \"angel's\": 3247, 'long-lacked': 3248, 'unquiet': 3249, 'bale': 3250, 'love-pined': 3251, 'sithens': 3252, 'woxen': 3253, 'inner': 3254, 'lurkest': 3255, \"viper's\": 3256, 'succour': 3257, 'ease': 3258, 'smart': 3259, 'also': 3260, 'sustain': 3261, 'lowly': 3262, 'feet': 3263, 'meek': 3264, 'humbless': 3265, 'afflicted': 3266, 'mood': 3267, 'entreat': 3268, 'kindled': 3269, 'frail': 3270, 'baseness': 3271, 'dazed': 3272, 'amazed': 3273, 'hew': 3274, \"thought's\": 3275, 'astonishment': 3276, 'ravished': 3277, \"fancy's\": 3278, 'wonderment': 3279, 'endite': 3280, \"janus'\": 3281, 'bidding': 3282, 'dumpish': 3283, 'calling': 3284, 'cheerless': 3285, 'dight': 3286, 'wings': 3287, 'darts': 3288, 'deadly': 3289, 'timely': 3290, 'ready': 3291, 'warns': 3292, 'diverse': 3293, 'colored': 3294, 'deck': 3295, 'mantle': 3296, 'weave': 3297, 'yourself': 3298, 'wrongest': 3299, 'portly': 3300, 'unworthy': 3301, 'envied': 3302, 'close': 3303, 'implied': 3304, 'sdeigne': 3305, 'dishonor': 3306, 'threatening': 3307, 'rash': 3308, 'loosely': 3309, 'ne': 3310, 'portliness': 3311, 'honor': 3312, 'boldened': 3313, 'innocence': 3314, 'banner': 3315, 'spreads': 3316, 'defiance': 3317, 'ought': 3318, 'tried': 3319, 'spark': 3320, 'self-pleasing': 3321, 'dismayed': 3322, 'persist': 3323, 'rebellious': 3324, 'lusts': 3325, 'baser': 3326, 'firmer': 3327, 'durefull': 3328, 'oak': 3329, 'dried': 3330, 'conceive': 3331, 'kindling': 3332, 'flames': 3333, 'aspire': 3334, 'kindle': 3335, 'dints': 3336, 'entire': 3337, 'affects': 3338, 'naught': 3339, 'sever': 3340, 'taking': 3341, 'knot': 3342, 'mirror': 3343, 'mazed': 3344, 'contained': 3345, 'mighty': 3346, 'mildly': 3347, 'inspired': 3348, 'lour': 3349, 'askew': 3350, 'lightning': 3351, 'fired': 3352, 'ensample': 3353, 'viii': 3354, 'maker': 3355, 'joys': 3356, 'blinded': 3357, 'angels': 3358, 'desires': 3359, 'calm': 3360, 'storm': 3361, 'shined': 3362, 'long-while': 3363, 'lighten': 3364, \"th'image\": 3365, 'changed': 3366, 'purer': 3367, 'consume': 3368, 'lightening': 3369, 'persever': 3370, 'diamond': 3371, 'mought': 3372, 'likest': 3373, 'unrighteous': 3374, 'law': 3375, 'makest': 3376, 'tormented': 3377, 'whiles': 3378, 'lordeth': 3379, 'licentious': 3380, 'freewill': 3381, 'scorning': 3382, 'tyraness': 3383, 'massacres': 3384, 'humbled': 3385, 'vengeance': 3386, 'comptroll': 3387, 'enroll': 3388, 'laugh': 3389, 'sew': 3390, 'hostages': 3391, 'offer': 3392, 'address': 3393, 'battle': 3394, \"renew'th\": 3395, 'moved': 3396, 'respite': 3397, 'restless': 3398, 'greedily': 3399, 'intent': 3400, 'persueth': 3401, 'unpityed': 3402, 'assoyle': 3403, 'wrath': 3404, 'pacify': 3405, 'seeks': 3406, 'turmoil': 3407, 'price': 3408, 'prayer': 3409, 'surcease': 3410, 'heart-thrilling': 3411, 'truce': 3412, 'fearless': 3413, 'entrap': 3414, \"treason's\": 3415, 'train': 3416, 'wicked': 3417, 'court': 3418, 'guileful': 3419, 'eyen': 3420, 'breaking': 3421, 'thick': 3422, 'throng': 3423, \"t'abide\": 3424, 'brunt': 3425, 'myself': 3426, 'captiving': 3427, 'rigorous': 3428, 'lady': 3429, 'justice': 3430, 'xiii': 3431, 'port': 3432, 'graceth': 3433, 'rears': 3434, 'embaseth': 3435, 'temperature': 3436, 'descry': 3437, 'mild': 3438, 'awful': 3439, 'remembreth': 3440, 'climb': 3441, 'treading': 3442, 'lothsome': 3443, 'hinders': 3444, 'drossy': 3445, 'slime': 3446, 'lowliness': 3447, 'forces': 3448, \"abondon'd\": 3449, 'afraid': 3450, 'repulse': 3451, 'castles': 3452, 'needeth': 3453, 'forts': 3454, 'belay': 3455, 'haughty': 3456, \"enur'd\": 3457, 'hardy': 3458, 'assay': 3459, 'incessant': 3460, 'battery': 3461, 'plaints': 3462, 'dismay': 3463, 'engines': 3464, 'fail': 3465, 'tradefull': 3466, 'merchants': 3467, 'indias': 3468, 'treasures': 3469, 'vain': 3470, 'saphires': 3471, 'rubies': 3472, 'pearls': 3473, 'round': 3474, 'ivory': 3475, 'forhead': 3476, 'weene': 3477, 'locks': 3478, 'finest': 3479, 'sheen': 3480, 'adorned': 3481, 'virtues': 3482, 'manifold': 3483, 'unwarily': 3484, \"'stonished\": 3485, 'stood': 3486, 'amaze': 3487, 'illusion': 3488, \"look's\": 3489, 'mote': 3490, 'glancing': 3491, 'darting': 3492, 'arrows': 3493, 'beholder': 3494, 'passing': 3495, 'archers': 3496, 'closely': 3497, 'spy': 3498, 'aiming': 3499, 'arrow': 3500, 'suddenly': 3501, 'twinkle': 3502, 'damsel': 3503, 'misintended': 3504, 'hardly': 3505, 'xvii': 3506, 'portrait': 3507, 'confused': 3508, 'embase': 3509, 'colours': 3510, 'eke': 3511, 'guide': 3512, 'workmanship': 3513, 'spill': 3514, 'eye-glances': 3515, 'glide': 3516, 'charming': 3517, 'smiles': 3518, 'rob': 3519, 'pleasance': 3520, \"craftsman's\": 3521, 'thereto': 3522, 'xviii': 3523, 'wheel': 3524, 'runneth': 3525, 'drizling': 3526, 'redound': 3527, 'firmest': 3528, 'flint': 3529, 'continuance': 3530, 'dropping': 3531, 'entreaty': 3532, 'soften': 3533, 'plaint': 3534, 'laughter': 3535, 'merry': 3536, 'cuckoo': 3537, 'messenger': 3538, 'trumpet': 3539, 'shrill': 3540, 'sounded': 3541, 'garland': 3542, 'noise': 3543, 'choir': 3544, 'resounded': 3545, 'anthems': 3546, 'woods': 3547, 'echoes': 3548, 'rebounded': 3549, 'meaning': 3550, \"'mongst\": 3551, 'raise': 3552, 'precept': 3553, 'disobeys': 3554, 'message': 3555, 'pour': 3556, 'tread': 3557, 'floor': 3558, 'lion': 3559, 'reighneth': 3560, 'silly': 3561, 'lioness': 3562, 'guiltless': 3563, 'defiled': 3564, 'taketh': 3565, 'cruelness': 3566, 'blooded': 3567, 'yielded': 3568, 'tempered': 3569, 'meekness': 3570, \"t'adorn\": 3571, 'displace': 3572, \"lookers'\": 3573, 'allure': 3574, 'looser': 3575, 'stir': 3576, 'impure': 3577, 'inure': 3578, 'recure': 3579, 'smile': 3580, 'draws': 3581, 'drives': 3582, 'books': 3583, 'xxii': 3584, 'season': 3585, 'fit': 3586, 'devotion': 3587, 'inclined': 3588, 'likewise': 3589, 'temple': 3590, 'priests': 3591, \"th'author\": 3592, 'build': 3593, 'altar': 3594, 'appease': 3595, 'ire': 3596, 'sacrifice': 3597, 'godess': 3598, 'accept': 3599, 'amongst': 3600, 'relics': 3601, 'xxiii': 3602, 'penelope': 3603, \"ulysses'\": 3604, 'web': 3605, 'wooers': 3606, 'unreave': 3607, 'subtle': 3608, 'craft': 3609, \"th'importune\": 3610, 'undone': 3611, 'begun': 3612, 'spills': 3613, 'spun': 3614, \"year's\": 3615, 'rend': 3616, 'labour': 3617, \"spider's\": 3618, 'fruitless': 3619, 'xxiv': 3620, 'complement': 3621, \"maker's\": 3622, 'baleful': 3623, 'unwares': 3624, 'shiny': 3625, 'pandora': 3626, 'gods': 3627, 'council': 3628, 'agree': 3629, 'scourge': 3630, 'intreat': 3631, 'beat': 3632, 'mystery': 3633, 'unsure': 3634, 'depending': 3635, 'doubtfully': 3636, 'cruelty': 3637, 'hardened': 3638, 'wrecks': 3639, 'embrace': 3640, 'meede': 3641, 'xxvi': 3642, 'briar': 3643, 'juniper': 3644, 'eglantine': 3645, 'pricketh': 3646, 'firbloom': 3647, 'branches': 3648, 'cypress': 3649, 'rind': 3650, 'tough': 3651, 'nut': 3652, 'pill': 3653, 'broom-flower': 3654, 'moly': 3655, 'coveted': 3656, 'sorts': 3657, 'xxvii': 3658, 'sith': 3659, 'unclean': 3660, 'itself': 3661, 'shroud': 3662, 'beseen': 3663, 'doff': 3664, \"flesh's\": 3665, 'attire': 3666, 'inquire': 3667, 'mention': 3668, 'purchase': 3669, 'thankless': 3670, 'xxviii': 3671, 'laurel': 3672, 'leaf': 3673, 'relenting': 3674, 'badge': 3675, 'wearing': 3676, 'inspire': 3677, 'infusion': 3678, 'daphne': 3679, \"phoebus'\": 3680, 'thessalian': 3681, 'revengeful': 3682, 'transform': 3683, 'tree': 3684, 'chace': 3685, 'xxix': 3686, 'stubborn': 3687, 'deprave': 3688, 'disdainful': 3689, 'accounts': 3690, 'quoth': 3691, 'vanquished': 3692, 'meeds': 3693, 'therewith': 3694, \"poets'\": 3695, 'heads': 3696, 'adorn': 3697, 'famous': 3698, 'challenge': 3699, 'faithful': 3700, 'trump': 3701, 'blaze': 3702, 'bays': 3703, 'victorious': 3704, 'ice': 3705, 'dissolved': 3706, 'so-hot': 3707, 'exceeding': 3708, 'frozen': 3709, 'boiling': 3710, 'sweat': 3711, 'augmented': 3712, 'miraculous': 3713, 'melts': 3714, 'harden': 3715, 'congealed': 3716, 'senseless': 3717, 'wonderful': 3718, 'device': 3719, 'xxxi': 3720, 'depraves': 3721, 'beasts': 3722, 'dreadful': 3723, 'terror': 3724, 'warn': 3725, 'danger': 3726, 'scath': 3727, 'allurement': 3728, 'thralls': 3729, 'embrew': 3730, 'accord': 3731, 'abhored': 3732, 'xxxii': 3733, 'smith': 3734, 'fervent': 3735, 'iron': 3736, 'mollify': 3737, 'sledge': 3738, 'apply': 3739, 'fry': 3740, \"th'anvil\": 3741, 'frieseth': 3742, 'willful': 3743, 'smit': 3744, 'applied': 3745, 'xxxiii': 3746, 'empress': 3747, 'dread': 3748, 'finishing': 3749, 'faedry': 3750, 'enlarge': 3751, 'lodwick': 3752, 'aread': 3753, \"the'accomplishment\": 3754, 'sufficient': 3755, 'tedious': 3756, 'tossed': 3757, 'troublous': 3758, 'xxxiv': 3759, 'ship': 3760, 'conduct': 3761, 'whenas': 3762, 'trusty': 3763, 'wander': 3764, 'astray': 3765, 'ray': 3766, 'direct': 3767, 'overcast': 3768, 'perils': 3769, 'plast': 3770, 'helice': 3771, 'lodestar': 3772, 'cloudy': 3773, 'carefull': 3774, 'comfortless': 3775, 'pensiveness': 3776, 'xxxv': 3777, 'greedy': 3778, 'covetize': 3779, 'contentment': 3780, 'suffice': 3781, 'amazement': 3782, 'narcissus': 3783, \"starv'd\": 3784, 'plenty': 3785, 'loath': 3786, 'seemeth': 3787, 'saving': 3788, 'xxxvi': 3789, 'ruthless': 3790, 'pining': 3791, 'langor': 3792, 'aswagement': 3793, 'release': 3794, 'agreement': 3795, 'thrilling': 3796, 'augment': 3797, 'miseries': 3798, 'shewed': 3799, 'extermities': 3800, 'gained': 3801, 'slaying': 3802, 'dispise': 3803, 'maintained': 3804, 'xxxvii': 3805, 'guile': 3806, 'net': 3807, 'sly': 3808, 'cunningly': 3809, 'dresses': 3810, 'scarce': 3811, 'entangle': 3812, 'snare': 3813, 'caught': 3814, 'craftily': 3815, 'enfold': 3816, 'weaker': 3817, 'aware': 3818, 'stare': 3819, 'henceforth': 3820, 'rashly': 3821, 'entrapped': 3822, 'fondness': 3823, 'covet': 3824, 'fetters': 3825, 'xxxviii': 3826, 'arion': 3827, \"tempests'\": 3828, 'thrown': 3829, 'seas': 3830, 'harp': 3831, 'allured': 3832, 'dolphin': 3833, 'dainty': 3834, 'tempest': 3835, 'careless': 3836, 'pitty': 3837, \"blam'd\": 3838, 'spilling': 3839, 'xxxix': 3840, 'daughter': 3841, 'wonts': 3842, 'temper': 3843, 'jove': 3844, 'threats': 3845, \"thund'ring\": 3846, 'shinedst': 3847, 'sadness': 3848, 'melting': 3849, 'ran': 3850, 'revived': 3851, 'gladness': 3852, 'whylest': 3853, 'rapt': 3854, 'trance': 3855, \"sorrow's\": 3856, 'fullness': 3857, 'cheerful': 3858, 'nectar': 3859, 'ambrosial': 3860, 'meat': 3861, 'bit': 3862, 'thenceforth': 3863, 'amiable': 3864, 'liken': 3865, 'eyelid': 3866, 'sunshine': 3867, 'flit': 3868, 'spray': 3869, 'den': 3870, 'lift': 3871, 'cleared': 3872, 'forgo': 3873, \"t'increase\": 3874, 'wretches': 3875, 'piteous': 3876, 'named': 3877, 'foully': 3878, 'xlii': 3879, 'cruelly': 3880, 'tormenteth': 3881, 'extremest': 3882, 'augmenteth': 3883, 'bane': 3884, 'acquit': 3885, 'pledge': 3886, 'captived': 3887, 'start': 3888, 'adamant': 3889, 'chain': 3890, 'wandering': 3891, 'pervert': 3892, 'safe': 3893, 'assurance': 3894, 'restrain': 3895, 'abstain': 3896, 'xliii': 3897, 'choked': 3898, 'overflowing': 3899, 'gall': 3900, 'restraint': 3901, 'stupid': 3902, 'stock': 3903, 'secretly': 3904, 'humility': 3905, 'love-learned': 3906, 'letters': 3907, \"hearts'\": 3908, 'spell': 3909, 'construe': 3910, 'xliv': 3911, 'renowned': 3912, 'noble': 3913, 'peers': 3914, 'greece': 3915, 'orpheus': 3916, 'whilest': 3917, 'passions': 3918, 'warried': 3919, 'stint': 3920, 'aslake': 3921, 'tuneless': 3922, \"foes'\": 3923, 'despight': 3924, 'settle': 3925, 'malice': 3926, 'mean': 3927, 'shew': 3928, 'idea': 3929, 'immortally': 3930, 'deformed': 3931, 'visnomy': 3932, 'darkened': 3933, 'xlvi': 3934, \"abode's\": 3935, 'prefixed': 3936, 'wend': 3937, 'storms': 3938, 'sent': 3939, 'obey': 3940, 'heavens': 3941, 'lower': 3942, 'aswage': 3943, 'sorely': 3944, 'xlvii': 3945, 'guilefull': 3946, 'trains': 3947, 'fish': 3948, 'baits': 3949, 'flattering': 3950, 'tempt': 3951, 'charm': 3952, 'xlviii': 3953, 'innocent': 3954, 'avenge': 3955, 'understand': 3956, 'hire': 3957, 'heretics': 3958, 'ordained': 3959, 'heresy': 3960, \"master's\": 3961, 'unjustly': 3962, 'pained': 3963, 'contrained': 3964, 'utter': 3965, 'anguish': 3966, 'complained': 3967, 'requite': 3968, 'xlix': 3969, 'mightiest': 3970, 'imperious': 3971, 'bend': 3972, \"th'utmost\": 3973, 'cruelties': 3974, 'cockatrices': 3975, 'footstool': 3976, 'merciful': 3977, 'regard': 3978, 'languishing': 3979, 'malady': 3980, 'leach': 3981, 'medicines': 3982, 'priefe': 3983, 'discovery': 3984, 'rules': 3985, 'members': 3986, 'cordials': 3987, 'langour': 3988, 'shortly': 3989, \"physicians'\": 3990, 'reveal': 3991, 'heal': 3992, 'untrained': 3993, 'trade': 3994, 'hardness': 3995, 'excellect': 3996, 'assayed': 3997, \"t'achieve\": 3998, 'steadfast': 3999, 'pains': 4000, 'homeward': 4001, 'led': 4002, 'despoiled': 4003, 'warlike': 4004, 'arms': 4005, 'knowen': 4006, 'shield': 4007, 'solitary': 4008, 'exiled': 4009, 'longwhile': 4010, 'languor': 4011, 'approach': 4012, 'solace': 4013, 'sudden': 4014, 'dumps': 4015, 'dreary': 4016, 'worlds': 4017, 'mead': 4018, 'liii': 4019, 'panther': 4020, 'spotted': 4021, 'fray': 4022, 'bush': 4023, 'thm': 4024, 'enbrew': 4025, 'instrument': 4026, 'theatre': 4027, 'spectator': 4028, 'beholding': 4029, 'pageants': 4030, 'disguising': 4031, 'diversely': 4032, 'troubled': 4033, 'occasion': 4034, 'mask': 4035, 'mirth': 4036, 'comedy': 4037, 'flits': 4038, 'tragedy': 4039, 'rues': 4040, 'mocks': 4041, 'laughs': 4042, 'hardens': 4043, 'mould': 4044, 'freeze': 4045, 'element': 4046, 'likened': 4047, 'tiger': 4048, 'greediness': 4049, 'hunts': 4050, 'felly': 4051, 'oppress': 4052, 'pityless': 4053, 'prostrate': 4054, 'beats': 4055, 'obstinate': 4056, 'rock': 4057, 'amidst': 4058, 'raging': 4059, 'floods': 4060, 'desolate': 4061, 'wreck': 4062, 'goods': 4063, 'destroy': 4064, 'lvii': 4065, 'ended': 4066, 'sore': 4067, 'wounds': 4068, 'jot': 4069, 'launched': 4070, 'shot': 4071, 'sharply': 4072, 'spare': 4073, 'stoures': 4074, 'wouds': 4075, 'lviii': 4076, \"th'assurance\": 4077, 'reposeth': 4078, 'scorneth': 4079, 'soonest': 4080, 'supposeth': 4081, 'unstayed': 4082, 'bubble': 4083, 'blown': 4084, 'changeful': 4085, 'preyed': 4086, \"glory's\": 4087, 'faileth': 4088, 'trusting': 4089, 'standeth': 4090, 'highest': 4091, 'stair': 4092, 'lowest': 4093, 'endurence': 4094, 'misdeem': 4095, 'feared': 4096, 'steady': 4097, 'weather': 4098, 'grudging': 4099, 'favor': 4100, 'skilled': 4101, 'planet': 4102, 'sundry': 4103, \"circle's\": 4104, 'voyage': 4105, 'fulfilled': 4106, 'three-score': 4107, 'sphere': 4108, 'began': 4109, 'outwent': 4110, 'languishment': 4111, 'ways': 4112, 'ensuing': 4113, 'bounds': 4114, \"t'accuse\": 4115, 'divinely': 4116, 'crew': 4117, 'saints': 4118, 'upbrought': 4119, 'blossom': 4120, 'beam': 4121, 'forms': 4122, 'worshipped': 4123, \"lov'd\": 4124, 'degree': 4125, 'lxii': 4126, 'compassed': 4127, 'betokening': 4128, 'ensue': 4129, 'amend': 4130, 'forepast': 4131, 'eschew': 4132, 'freshly': 4133, 'glooming': 4134, 'gladsome': 4135, 'blend': 4136, 'calms': 4137, 'poem': 4138, 'lxiii': 4139, 'heretofore': 4140, 'dangerous': 4141, 'arrive': 4142, 'fraught': 4143, 'joyous': 4144, 'safety': 4145, 'sufficeth': 4146, 'deprive': 4147, 'lxiv': 4148, 'smelled': 4149, 'garden': 4150, 'odors': 4151, 'around': 4152, 'damsels': 4153, 'bowers': 4154, 'gillyflowers': 4155, 'ruddy': 4156, 'snowy': 4157, 'brows': 4158, 'budded': 4159, 'bellamores': 4160, 'pinks': 4161, 'newly': 4162, 'strawberry': 4163, 'bunch': 4164, 'columbines': 4165, 'lillies': 4166, 'shed': 4167, 'nipples': 4168, 'blossomed': 4169, 'jasmines': 4170, 'odorous': 4171, 'odor': 4172, 'fondly': 4173, 'liberties': 4174, 'bondage': 4175, 'constraint': 4176, 'feels': 4177, 'captivity': 4178, 'cage': 4179, 'discord': 4180, 'loyal': 4181, 'brazen': 4182, 'tower': 4183, 'spotless': 4184, 'builds': 4185, 'lxvi': 4186, 'blissing': 4187, 'plenteous': 4188, 'disparagement': 4189, 'lent': 4190, 'surpassing': 4191, 'paragon': 4192, 'mate': 4193, 'matchable': 4194, 'stoop': 4195, 'sorted': 4196, \"prince's\": 4197, 'peer': 4198, 'dilate': 4199, 'enlumined': 4200, 'reflex': 4201, 'increased': 4202, 'lxvii': 4203, 'huntsman': 4204, 'game': 4205, 'escaped': 4206, 'panting': 4207, 'forsook': 4208, 'deer': 4209, 'quench': 4210, 'thirst': 4211, 'milder': 4212, 'half-trembling': 4213, 'goodwill': 4214, 'firmly': 4215, 'lxviii': 4216, 'harrowed': 4217, 'washed': 4218, 'felicity': 4219, 'weighing': 4220, 'worthily': 4221, 'lxix': 4222, 'warriors': 4223, 'antick': 4224, 'erect': 4225, 'stately': 4226, 'enrolled': 4227, 'valorous': 4228, 'emprize': 4229, 'trophy': 4230, 'peerless': 4231, \"adorn'd\": 4232, 'chastity': 4233, 'gotten': 4234, 'coat-armor': 4235, 'displayed': 4236, 'colors': 4237, 'gloriously': 4238, 'staid': 4239, 'forelock': 4240, 'misseth': 4241, 'amearst': 4242, 'lxxi': 4243, 'drawen': 4244, 'bee': 4245, 'spider': 4246, 'lurk': 4247, 'await': 4248, 'unaware': 4249, 'youself': 4250, 'woven': 4251, 'woodbine': 4252, 'bedecked': 4253, 'between': 4254, 'lxxii': 4255, 'bolder': 4256, 'mount': 4257, 'weighed': 4258, 'clogged': 4259, \"pleasure's\": 4260, 'forgets': 4261, 'flight': 4262, 'fancy': 4263, 'bathe': 4264, 'mantleth': 4265, 'happiness': 4266, 'lxxiii': 4267, 'captured': 4268, 'servile': 4269, \"one's\": 4270, 'flys': 4271, 'encage': 4272, 'hereafter': 4273, 'lodging': 4274, 'lxxiv': 4275, \"fram'd\": 4276, 'skillful': 4277, 'designed': 4278, \"deriv'd\": 4279, 'descent': 4280, 'elizabeths': 4281, 'forever': 4282, 'lxxv': 4283, 'wrote': 4284, 'strand': 4285, 'tide': 4286, 'doest': 4287, 'immortalize': 4288, 'eek': 4289, 'wiped': 4290, 'quod': 4291, 'eternize': 4292, 'subdue': 4293, 'later': 4294, 'lxxvi': 4295, \"virtue's\": 4296, 'nest': 4297, 'paradise': 4298, 'harbour': 4299, 'diving': 4300, 'amorous': 4301, 'insight': 4302, 'twixt': 4303, 'paps': 4304, 'apace': 4305, 'loosly': 4306, 'display': 4307, 'boldly': 4308, 'lxxvii': 4309, 'juncats': 4310, 'prince': 4311, 'pompous': 4312, 'royalty': 4313, 'dish': 4314, 'apples': 4315, 'unvalued': 4316, 'hercules': 4317, 'atalanta': 4318, 'entice': 4319, 'void': 4320, 'guests': 4321, 'thereon': 4322, 'lxxviii': 4323, 'hind': 4324, 'fields': 4325, 'footing': 4326, 'signed': 4327, 'decked': 4328, 'thereunto': 4329, 'fancies': 4330, 'lxxix': 4331, 'prayed': 4332, 'loose': 4333, 'permanent': 4334, 'corruption': 4335, 'argue': 4336, 'seed': 4337, 'untimely': 4338, 'lxxx': 4339, 'faery': 4340, 'six': 4341, 'fordone': 4342, 'gather': 4343, 'awhile': 4344, 'steed': 4345, 'refreshed': 4346, 'stoutly': 4347, 'endeavor': 4348, 'attention': 4349, 'mew': 4350, 'contemplation': 4351, 'higher': 4352, 'handmaid': 4353, 'queene': 4354, 'lxxxi': 4355, 'heares': 4356, 'waving': 4357, 'does': 4358, 'rich-laden': 4359, 'merchandise': 4360, 'lxxxii': 4361, 'bless': 4362, 'lot': 4363, 'lucky': 4364, 'mishap': 4365, 'rue': 4366, 'debased': 4367, 'soom': 4368, 'enchased': 4369, 'deigned': 4370, 'relent': 4371, 'setting': 4372, 'immoral': 4373, 'uplifting': 4374, 'lxxxiii': 4375, 'lxxxiv': 4376, 'filthy': 4377, 'lustfull': 4378, 'attempt': 4379, 'modest': 4380, 'sprites': 4381, 'visit': 4382, 'accompanied': 4383, 'angelic': 4384, 'sights': 4385, 'attain': 4386, 'plights': 4387, 'stiffness': 4388, 'constrain': 4389, 'election': 4390, 'lxxxv': 4391, 'mavis': 4392, 'witless': 4393, 'clatter': 4394, 'mouth': 4395, 'lxxxvi': 4396, 'venemous': 4397, 'tipped': 4398, \"adders'\": 4399, 'sting': 4400, 'furies': 4401, 'snaky': 4402, 'comb': 4403, 'spiteful': 4404, 'speeches': 4405, 'horrid': 4406, 'accursed': 4407, 'false-forged': 4408, 'coals': 4409, 'sparks': 4410, 'catching': 4411, 'breaches': 4412, 'meed': 4413, 'mischief': 4414, 'reward': 4415, 'prepared': 4416, 'lxxxvii': 4417, 'slowly': 4418, 'protract': 4419, 'evening': 4420, 'noyous': 4421, 'reascend': 4422, 'expectation': 4423, 'fain': 4424, 'further': 4425, 'extend': 4426, 'minute': 4427, 'mile': 4428, 'lxxxviii': 4429, \"danger's\": 4430, 'clearest': 4431, \"th'only\": 4432, 'love-afamished': 4433, 'starve': 4434, 'lxxxix': 4435, 'culver': 4436, 'bared': 4437, 'sends': 4438, 'wishful': 4439, 'disconsolate': 4440, 'match': 4441, 'hove': 4442, 'unspotted': 4443, 'pleasauns': 4444, 'miss': 4445, 'wants': 4446}\n"
          ],
          "name": "stdout"
        }
      ]
    },
    {
      "cell_type": "code",
      "metadata": {
        "id": "VNBKzpEXbaSD",
        "colab": {
          "base_uri": "https://localhost:8080/"
        },
        "outputId": "374abbff-70f9-428a-e250-34c82a0df8f4"
      },
      "source": [
        "HMM = unsupervised_HMM(ids_lst, 10, 100)\n",
        "emissions, states = HMM.generate_emission(200)\n"
      ],
      "execution_count": null,
      "outputs": [
        {
          "output_type": "stream",
          "text": [
            "Iteration: 10\n",
            "Iteration: 20\n",
            "Iteration: 30\n",
            "Iteration: 40\n",
            "Iteration: 50\n",
            "Iteration: 60\n",
            "Iteration: 70\n",
            "Iteration: 80\n",
            "Iteration: 90\n",
            "Iteration: 100\n"
          ],
          "name": "stdout"
        }
      ]
    },
    {
      "cell_type": "code",
      "metadata": {
        "id": "hQxrLO8duvRT",
        "colab": {
          "base_uri": "https://localhost:8080/"
        },
        "outputId": "558db4a7-e1b5-48ff-8cc4-5e3c86a76427"
      },
      "source": [
        "# print(HMM.generate_emission(10))\n",
        "\n",
        "line_count = 10\n",
        "line_string = \"\"\n",
        "num_lines = 0\n",
        "capitalize_words = [\"i\", \"o\"]\n",
        "for e in emissions: \n",
        "  word = reverse_word_ids[e]\n",
        "  if word in syllable_dict:\n",
        "    syllable = syllable_dict[word]\n",
        "    if word in capitalize_words:\n",
        "      word =word.capitalize()\n",
        "    if line_count - syllable == 0:\n",
        "      line_string += word\n",
        "      num_lines += 1\n",
        "      if (num_lines % 4 == 0 or num_lines == 14): \n",
        "        print(line_string + \".\" )\n",
        "        print()\n",
        "      else:\n",
        "        print(line_string + \",\")\n",
        "      line_string = \"\"\n",
        "      line_count = 10\n",
        "    elif line_count - syllable > 0:\n",
        "      if line_count == 10:\n",
        "        word = word.capitalize()\n",
        "      line_count -= syllable\n",
        "      line_string += word + \" \"\n",
        "      # print(line_string)\n",
        "    \n",
        "  if num_lines == 14:\n",
        "    break\n",
        "   \n",
        "  \n",
        "\n"
      ],
      "execution_count": null,
      "outputs": [
        {
          "output_type": "stream",
          "text": [
            "Me and can do thy rest and so not like,\n",
            "Respects endure my one or know which head,\n",
            "Doth his mak'st babe my meditation thy,\n",
            "Him do thou thou was term for delayed the.\n",
            "\n",
            "Horse one summer's and quicker was that own,\n",
            "Fire do that self since motion great progress,\n",
            "Can my the to to of are none love thou,\n",
            "Thy thunder her in canst beshrew subsist.\n",
            "\n",
            "Will triumph appeal praise young thy show make,\n",
            "Wing love was a self rearward doth your a,\n",
            "Glass greater beauty wit one my self-loving,\n",
            "No to most of I unrespected is.\n",
            "\n",
            "Thy soft evil then her not and in the,\n",
            "Up straight to my censures tresses the a.\n",
            "\n"
          ],
          "name": "stdout"
        }
      ]
    },
    {
      "cell_type": "markdown",
      "metadata": {
        "id": "MneW4k8U5kXm"
      },
      "source": [
        "## HMM with Rhyme"
      ]
    },
    {
      "cell_type": "code",
      "metadata": {
        "id": "je53IRTovjvX"
      },
      "source": [
        "sonnets = []\n",
        "sonnet = []\n",
        "file = urllib.request.urlopen(url)  \n",
        "for line in file:\n",
        "  line = line.decode(\"utf-8\").strip()\n",
        "  line = re.sub(r\"[^\\w\\d'\\s\\-]+\",'', line).lower()\n",
        "  if len(line) <= 3:\n",
        "    if len(sonnet) == 14:\n",
        "      sonnets.append(sonnet)\n",
        "    sonnet = []\n",
        "    continue\n",
        "  sonnet.append(line)\n",
        "print(sonnets)"
      ],
      "execution_count": null,
      "outputs": []
    },
    {
      "cell_type": "markdown",
      "metadata": {
        "id": "wfygxJB4N8TT"
      },
      "source": [
        "We create a function add_rhyming that takes in two words, first and second, and by default, found_set = None. The function adds two words to a set in the rhyming dictionary and creates a new set if necessary. "
      ]
    },
    {
      "cell_type": "code",
      "metadata": {
        "id": "2XOz_3Vyvrx_"
      },
      "source": [
        "rhyming_dict = []\n",
        "def add_rhyming(first, second, found_set):\n",
        "  for rhyming_set in rhyming_dict:\n",
        "    if first in rhyming_set:\n",
        "      if found_set == None:\n",
        "        rhyming_set.add(second)\n",
        "        found_set = rhyming_set\n",
        "      else:\n",
        "        rhyming_dict.remove(rhyming_set)\n",
        "        found_set.update(rhyming_set)\n",
        "        break\n",
        "    elif second in rhyming_set:\n",
        "      if found_set == None:\n",
        "        rhyming_set.add(first)\n",
        "        found_set = rhyming_set\n",
        "      else:\n",
        "        rhyming_dict.remove(rhyming_set)\n",
        "        found_set.update(rhyming_set)\n",
        "        break\n",
        "  if found_set == None:\n",
        "    rhyming_dict.append({first, second})"
      ],
      "execution_count": null,
      "outputs": []
    },
    {
      "cell_type": "markdown",
      "metadata": {
        "id": "j9VxDC6NbAiW"
      },
      "source": [
        "The first_lines array contains the lines of the sonnet that have a corresponding rhyming line after. We remove sets in the rhyming dictionary that have only 1 rhyming element (i.e. the word does not have a word that rhymes with it). "
      ]
    },
    {
      "cell_type": "code",
      "metadata": {
        "id": "BeaCQPz6vvmI"
      },
      "source": [
        "first_lines = [0, 1, 4, 5, 8, 9]\n",
        "for sonnet in sonnets:\n",
        "  for i in first_lines:\n",
        "    first = sonnet[i].split(\" \")[-1]\n",
        "    second = sonnet[i + 2].split(\" \")[-1]\n",
        "    add_rhyming(first, second, None)\n",
        "  add_rhyming(sonnet[12].split(\" \")[-1], sonnet[13].split(\" \")[-1], None)\n",
        "\n",
        "for rhyming_set in rhyming_dict:\n",
        "  if len(rhyming_set) == 1:\n",
        "    rhyming_dict.remove(rhyming_set)\n",
        "\n",
        "for word in rhyming_dict[0].copy():\n",
        "    if len(word) == 1:\n",
        "      rhyming_dict[0].remove(word)\n",
        "\n"
      ],
      "execution_count": null,
      "outputs": []
    },
    {
      "cell_type": "markdown",
      "metadata": {
        "id": "iN2PGX1-blVn"
      },
      "source": [
        "We also have some helper functions for generating the rhyming scheme. generate_rhyming_word takes in a word and a line of the poem, and modifies the last word of the line to rhyme with the provided word. has_rhyming_word checks if the word is in the rhyming dictionary. update_rhyming_word takes in the last_word and modifies the last word if the last word is not initially in the rhyming dictionary."
      ]
    },
    {
      "cell_type": "code",
      "metadata": {
        "id": "LDsa1X1NvzMU"
      },
      "source": [
        "# rhyming helper functions\n",
        "\n",
        "def generate_rhyming_word(word, line_string):\n",
        "  line_string_split = line_string.split(\" \")\n",
        "  for rhyming_set in rhyming_dict:\n",
        "    result = word\n",
        "    if word in rhyming_set:\n",
        "      while (result == word):\n",
        "        result = random.choice(tuple(rhyming_set))\n",
        "      line_string_split[-1] = result\n",
        "      # print(line_string_split)\n",
        "      return ' '.join(word for word in line_string_split)\n",
        "\n",
        "def has_rhyming_word(word):\n",
        "  for rhyming_set in rhyming_dict:\n",
        "    if word in rhyming_set:\n",
        "      return True\n",
        "  return False\n",
        "\n",
        "def update_last_word(line_string):\n",
        "  line_string_split = line_string.split(\" \")\n",
        "  rhyming_set = random.choice(rhyming_dict)\n",
        "  rhyming_word = random.choice(tuple(rhyming_set))\n",
        "  line_string_split[-1] = rhyming_word\n",
        "  return ' '.join(word for word in line_string_split)"
      ],
      "execution_count": null,
      "outputs": []
    },
    {
      "cell_type": "code",
      "metadata": {
        "id": "wMhBJq_lwebm"
      },
      "source": [
        "emissions, states = HMM.generate_emission(200)"
      ],
      "execution_count": null,
      "outputs": []
    },
    {
      "cell_type": "code",
      "metadata": {
        "colab": {
          "base_uri": "https://localhost:8080/"
        },
        "id": "rc21uVnWwI_P",
        "outputId": "18cbea22-c46f-4532-b7f4-ca9367b8553a"
      },
      "source": [
        "# generate poem with rhyme\n",
        "\n",
        "last_words = []\n",
        "line_count = 10\n",
        "line_string = \"\"\n",
        "num_lines = 0\n",
        "capitalize_words = [\"i\", \"o\"]\n",
        "for e in emissions: \n",
        "  word = reverse_word_ids[e]\n",
        "  if word in syllable_dict:\n",
        "    syllable = syllable_dict[word]\n",
        "    if word in capitalize_words:\n",
        "      word =word.capitalize()\n",
        "    if line_count - syllable == 0:\n",
        "      line_string += word\n",
        "      num_lines += 1\n",
        "      if (num_lines % 4 == 0 or num_lines == 14): \n",
        "        if num_lines % 4 == 0:\n",
        "          line_string = generate_rhyming_word(last_words[-2], line_string)\n",
        "        if num_lines == 14:\n",
        "          line_string = generate_rhyming_word(last_words[-1], line_string)\n",
        "        print(line_string + \".\" )\n",
        "        print()\n",
        "        last_words.append(line_string.split(\" \")[-1])\n",
        "      else:\n",
        "        # print(num_lines)\n",
        "        if num_lines % 4 != 3:\n",
        "          if not has_rhyming_word(line_string.split(\" \")[-1]):\n",
        "            line_string = update_last_word(line_string)\n",
        "        if num_lines % 4 == 3:\n",
        "          line_string = generate_rhyming_word(last_words[-2], line_string)\n",
        "        # print(num_lines)\n",
        "        print(line_string + \",\")\n",
        "        last_words.append(line_string.split(\" \")[-1])\n",
        "      line_string = \"\"\n",
        "      line_count = 10\n",
        "    elif line_count - syllable > 0:\n",
        "      if line_count == 10:\n",
        "        word = word.capitalize()\n",
        "      line_count -= syllable\n",
        "      line_string += word + \" \"\n",
        "      # print(line_string)\n",
        "    \n",
        "  if num_lines == 14:\n",
        "    break\n",
        "\n"
      ],
      "execution_count": null,
      "outputs": [
        {
          "output_type": "stream",
          "text": [
            "And divine the gently in set the prime,\n",
            "Course heavy mourners your thee and is write,\n",
            "The welcome thee and day can which wrong time,\n",
            "Fire pluck hanging know is I by fight.\n",
            "\n",
            "With because part thy rest of increase extreme,\n",
            "Must my glory worth not be son and by,\n",
            "Then releasing thy sins to her face dream,\n",
            "We yet hath pride love's may would batt'ring die.\n",
            "\n",
            "Attaint with sour thoughts for my memory,\n",
            "The mine own for her nor so doth his bright,\n",
            "Mark plead with resemble I with and decree,\n",
            "Looks in frame own is bereft that you write.\n",
            "\n",
            "More thee vile other wilt should the stars more,\n",
            "Queen 'greeing complain annoy lord shore.\n",
            "\n"
          ],
          "name": "stdout"
        }
      ]
    },
    {
      "cell_type": "markdown",
      "metadata": {
        "id": "kw7ml_DzA3iK"
      },
      "source": [
        "## Haiku"
      ]
    },
    {
      "cell_type": "code",
      "metadata": {
        "id": "BAy4XqSBGTkk"
      },
      "source": [
        "emissions, states = HMM.generate_emission(25)"
      ],
      "execution_count": null,
      "outputs": []
    },
    {
      "cell_type": "code",
      "metadata": {
        "colab": {
          "base_uri": "https://localhost:8080/"
        },
        "id": "D5JVUO0-A2z-",
        "outputId": "1b47243c-bf52-4f15-a37e-b48aadaab51a"
      },
      "source": [
        "# stores the syllable for each line\n",
        "line_counts = [5, 7, 5] \n",
        "line_string = \"\"\n",
        "num_lines = 0\n",
        "capitalize_words = [\"i\", \"o\"]\n",
        "for e in emissions: \n",
        "  word = reverse_word_ids[e]\n",
        "  if word in syllable_dict:\n",
        "    syllable = syllable_dict[word]\n",
        "    if word in capitalize_words:\n",
        "      word =word.capitalize()\n",
        " \n",
        "    if line_counts[num_lines] - syllable == 0:\n",
        "      line_string += word\n",
        "      print(line_string)\n",
        "      print()\n",
        "      num_lines += 1\n",
        "      line_string = \"\"\n",
        "      if num_lines == 2:\n",
        "        line_count = 7\n",
        "      elif num_lines == 3:\n",
        "        line_count = 5\n",
        "    elif line_count - syllable > 0:\n",
        "      num = line_counts[num_lines] - syllable\n",
        "      line_counts[num_lines] = num\n",
        "      line_string += word + \" \"\n",
        "\n",
        "  if num_lines == 3:\n",
        "    break"
      ],
      "execution_count": null,
      "outputs": [
        {
          "output_type": "stream",
          "text": [
            "life when not king hast\n",
            "\n",
            "when play nor bosom devised\n",
            "\n",
            "decayed the saint by\n",
            "\n"
          ],
          "name": "stdout"
        }
      ]
    },
    {
      "cell_type": "markdown",
      "metadata": {
        "id": "FZ-lct_GGAXy"
      },
      "source": [
        "## Petrarchan Sonnet "
      ]
    },
    {
      "cell_type": "code",
      "metadata": {
        "id": "zCXTy5FVGX-V"
      },
      "source": [
        "emissions, states = HMM.generate_emission(1000)"
      ],
      "execution_count": null,
      "outputs": []
    },
    {
      "cell_type": "code",
      "metadata": {
        "id": "5T0nIbXfQPgi"
      },
      "source": [
        "# check to see that word has at least 4 rhyming words\n",
        "def has_rhyming_word_4(word):\n",
        "  for rhyming_set in rhyming_dict:\n",
        "    if word in rhyming_set and len(rhyming_set) >= 4:\n",
        "      return True\n",
        "  return False"
      ],
      "execution_count": null,
      "outputs": []
    },
    {
      "cell_type": "code",
      "metadata": {
        "id": "_122-maDFlu0",
        "colab": {
          "base_uri": "https://localhost:8080/"
        },
        "outputId": "3e19ae1b-2ba5-45e3-eb55-f36779cd1685"
      },
      "source": [
        "last_words = []\n",
        "line_count = 10\n",
        "# store the line numbers for the rhymes \n",
        "a_lines = [4, 5, 8]\n",
        "b_lines = [3, 6, 7]\n",
        "c_lines = [11, 13]\n",
        "d_lines = [12, 14]\n",
        "line_string = \"\"\n",
        "num_lines = 0\n",
        "capitalize_words = [\"i\", \"o\"]\n",
        "for e in emissions: \n",
        "  word = reverse_word_ids[e]\n",
        "  # make sure word has corresponding syllable and at least 4 rhyming words \n",
        "  if word in syllable_dict and has_rhyming_word_4(word):\n",
        "    syllable = syllable_dict[word]\n",
        "    if word in capitalize_words:\n",
        "      word =word.capitalize()\n",
        "    if line_count - syllable == 0:\n",
        "      line_string += word\n",
        "      num_lines += 1\n",
        "      if num_lines in a_lines:\n",
        "          line_string = generate_rhyming_word(last_words[0], line_string)\n",
        "      if num_lines in b_lines:\n",
        "        line_string = generate_rhyming_word(last_words[1], line_string)\n",
        "      if num_lines in c_lines:\n",
        "        line_string = generate_rhyming_word(last_words[2], line_string)\n",
        "      if num_lines in d_lines:\n",
        "        line_string = generate_rhyming_word(last_words[3], line_string)\n",
        "      if (num_lines % 4 == 0 or num_lines == 14): \n",
        "        print(line_string + \".\")\n",
        "        if (num_lines % 8 == 0):\n",
        "          print()\n",
        "      else:\n",
        "        print(line_string + \",\")\n",
        "      if (num_lines == 1 or num_lines == 2 or num_lines == 9 or num_lines == 10):\n",
        "        last_words.append(line_string.split(\" \")[-1])\n",
        "      line_string = \"\"\n",
        "      line_count = 10\n",
        "    elif line_count - syllable > 0:\n",
        "      if line_count == 10:\n",
        "        word = word.capitalize()\n",
        "      line_count -= syllable\n",
        "      line_string += word + \" \"\n",
        "    \n",
        "  if num_lines == 14:\n",
        "    break"
      ],
      "execution_count": null,
      "outputs": [
        {
          "output_type": "stream",
          "text": [
            "Fair thee light will are sing lost age it thee,\n",
            "Upon see fight I by away fair by,\n",
            "It one fiend day by knife why love it lie,\n",
            "It pain it true prove are eyes bright lost fortify.\n",
            "Me I made upon upon shame love majesty,\n",
            "Best time say love thine ye show his love idolatry,\n",
            "Were everywhere it is bold last are alchemy,\n",
            "Bide sight love I me art go case me i.\n",
            "\n",
            "Me be see prove is I rent I days not,\n",
            "Day hold crime is by find time is his thee,\n",
            "Part pen no guest this fight say fair fire forgot,\n",
            "Book make you appear I on leisure free.\n",
            "Again fly me will friend due gay rare plot,\n",
            "Pain look wide make pen then those I on why.\n"
          ],
          "name": "stdout"
        }
      ]
    },
    {
      "cell_type": "markdown",
      "metadata": {
        "id": "RuGEMViCcuoi"
      },
      "source": [
        "## Limerick"
      ]
    },
    {
      "cell_type": "code",
      "metadata": {
        "id": "dPhJRU57cuEK"
      },
      "source": [
        "rhyming_dict2 = rhyming_dict.copy()\n",
        "for rhyming_set in rhyming_dict2.copy():\n",
        "  if len(rhyming_set) == 2:\n",
        "    rhyming_dict2.remove(rhyming_set)"
      ],
      "execution_count": null,
      "outputs": []
    },
    {
      "cell_type": "code",
      "metadata": {
        "id": "58n80caTc9L9"
      },
      "source": [
        "# modified rhyming helper functions\n",
        "def generate_rhyming_word2(word1, word2, line_string):\n",
        "  line_string_split = line_string.split(\" \")\n",
        "  for rhyming_set in rhyming_dict2:\n",
        "    result = word1\n",
        "    if word1 in rhyming_set:\n",
        "      while (result == word1 or result == word2):\n",
        "        result = random.choice(tuple(rhyming_set))\n",
        "      line_string_split[-1] = result\n",
        "      # print(line_string_split)\n",
        "      return ' '.join(word for word in line_string_split)\n",
        "\n",
        "def has_rhyming_word2(word):\n",
        "  for rhyming_set in rhyming_dict2:\n",
        "    if word in rhyming_set:\n",
        "      return True\n",
        "  return False\n",
        "\n",
        "def update_last_word2(line_string):\n",
        "  line_string_split = line_string.split(\" \")\n",
        "  rhyming_set = random.choice(rhyming_dict2)\n",
        "  rhyming_word = random.choice(tuple(rhyming_set))\n",
        "  line_string_split[-1] = rhyming_word\n",
        "  return ' '.join(word for word in line_string_split)"
      ],
      "execution_count": null,
      "outputs": []
    },
    {
      "cell_type": "code",
      "metadata": {
        "colab": {
          "base_uri": "https://localhost:8080/"
        },
        "id": "Shkyxe4Hc9e6",
        "outputId": "5f16c745-e078-411e-879d-196511d99f1a"
      },
      "source": [
        "# HMM = unsupervised_HMM(ids_lst, 10, 50)"
      ],
      "execution_count": null,
      "outputs": [
        {
          "output_type": "stream",
          "text": [
            "Iteration: 10\n",
            "Iteration: 20\n",
            "Iteration: 30\n",
            "Iteration: 40\n",
            "Iteration: 50\n"
          ],
          "name": "stdout"
        }
      ]
    },
    {
      "cell_type": "code",
      "metadata": {
        "colab": {
          "base_uri": "https://localhost:8080/"
        },
        "id": "SM-G32uLc9wk",
        "outputId": "872f4573-78d2-41b8-bb7c-3cc2cad52d4d"
      },
      "source": [
        "last_words = []\n",
        "line_count = 10\n",
        "line_string = \"\"\n",
        "num_lines = 0\n",
        "capitalize_words = [\"i\", \"o\"]\n",
        "for e in emissions: \n",
        "  word = reverse_word_ids[e]\n",
        "  if word in syllable_dict:\n",
        "    syllable = syllable_dict[word]\n",
        "    if word in capitalize_words:\n",
        "      word =word.capitalize()\n",
        "    if line_count - syllable == 0:\n",
        "      line_string += word\n",
        "      num_lines += 1\n",
        "      if (num_lines == 5 or num_lines == 2): \n",
        "        if num_lines == 2:\n",
        "          line_string = generate_rhyming_word(last_words[0], line_string)\n",
        "        if num_lines == 5:\n",
        "          line_string = generate_rhyming_word2(last_words[0], last_words[1], line_string)\n",
        "        print(line_string + \".\" )\n",
        "        print()\n",
        "        last_words.append(line_string.split(\" \")[-1])\n",
        "      else:\n",
        "        # print(num_lines)\n",
        "        if num_lines == 1 or num_lines == 3:\n",
        "          if not has_rhyming_word2(line_string.split(\" \")[-1]):\n",
        "            line_string = update_last_word2(line_string)\n",
        "        if num_lines == 4:\n",
        "          line_string = generate_rhyming_word(last_words[-1], line_string)\n",
        "        # print(num_lines)\n",
        "        print(line_string + \",\")\n",
        "        last_words.append(line_string.split(\" \")[-1])\n",
        "      line_string = \"\"\n",
        "      line_count = 10\n",
        "    elif line_count - syllable > 0:\n",
        "      if line_count == 10:\n",
        "        word = word.capitalize()\n",
        "      line_count -= syllable\n",
        "      line_string += word + \" \"\n",
        "      # print(line_string)\n",
        "    \n",
        "  if num_lines == 5:\n",
        "    break"
      ],
      "execution_count": null,
      "outputs": [
        {
          "output_type": "stream",
          "text": [
            "Doth my dearest fair in things female none,\n",
            "The slave than soon as their physic of on.\n",
            "\n",
            "Light all of we golden will with and brow,\n",
            "Cruel are and sing at thy constant mow,\n",
            "Of lost my devised of to sweet age stone.\n",
            "\n"
          ],
          "name": "stdout"
        }
      ]
    },
    {
      "cell_type": "markdown",
      "metadata": {
        "id": "n7QM58T8fI3l"
      },
      "source": [
        "## Recurrent Neural Network\n",
        "\n"
      ]
    },
    {
      "cell_type": "markdown",
      "metadata": {
        "id": "E96-M79hfqqw"
      },
      "source": [
        "Here, we divide the training data into sequences of length 40. "
      ]
    },
    {
      "cell_type": "code",
      "metadata": {
        "id": "7j93QsflfUOu"
      },
      "source": [
        "file = urllib.request.urlopen(url)\n",
        "sequences = []\n",
        "next_char = []\n",
        "seq_len = 40\n",
        "text_block = \"\"\n",
        "\n",
        "# Concatenate lines of file into one string\n",
        "for line in file: \n",
        "  line = line.decode(\"utf-8\").strip().lower()\n",
        "  if len(line) > 3:\n",
        "    text_block += line + \"\\n\"\n",
        "\n",
        "# Divides string into sequences of length seq_len\n",
        "for ind in range(0, len(text_block) - seq_len):\n",
        "  sequences.append(text_block[ind:ind+seq_len])\n",
        "  next_char.append(text_block[ind+seq_len])"
      ],
      "execution_count": null,
      "outputs": []
    },
    {
      "cell_type": "markdown",
      "metadata": {
        "id": "jH2_cI4mhlRq"
      },
      "source": [
        "Next, we assign each unique character present in the dataset an ID, which corresponds to the index of the character in the prediction numpy array. We process each sequence such that the neural network is able to train on it. Each sequence is converted to a numpy array that has indices corresponding to the character indices. Each of these indices contains the frequency of the character in the sequence."
      ]
    },
    {
      "cell_type": "code",
      "metadata": {
        "id": "sZ5RwoECfY7L"
      },
      "source": [
        "# Finds unique characters present in data \n",
        "characters = set()\n",
        "for seq in sequences:\n",
        "    characters |= set(seq)\n",
        "characters = sorted(list(characters))\n",
        "char_id = {}\n",
        "id = 0\n",
        "\n",
        "# Assign each character an id\n",
        "for c in characters: \n",
        "  char_id[c] = id\n",
        "  id += 1\n",
        "rev_char_id = {}\n",
        "for key in char_id: \n",
        "  rev_char_id[char_id[key]] = key\n",
        "\n",
        "# Converts the character sequences into numpy array\n",
        "x = np.zeros((len(sequences), 40, len(characters)))\n",
        "y = np.zeros((len(sequences), len(characters)))\n",
        "for i in range(len(sequences)):\n",
        "  seq = sequences[i]\n",
        "  for j in range(len(sequences[i])):\n",
        "    x[i, j, char_id[seq[j]]] += 1\n",
        "  y[i, char_id[next_char[i]]] += 1"
      ],
      "execution_count": null,
      "outputs": []
    },
    {
      "cell_type": "markdown",
      "metadata": {
        "id": "7JrGsN6Vh9kS"
      },
      "source": [
        "For the neural network model, we use a single LSTM layer with 200 units followed by a Softmax output layer. We use categorical cross entropy to measure loss. The model is trained over 20 epochs with a batch size of 128. "
      ]
    },
    {
      "cell_type": "code",
      "metadata": {
        "id": "xNqJFAtdfbeV"
      },
      "source": [
        "# Sets up the model\n",
        "model = keras.Sequential(\n",
        "    [\n",
        "        keras.Input(shape=(seq_len, len(characters))),\n",
        "        layers.LSTM(200),\n",
        "        layers.Dense(len(characters), activation=\"softmax\"),\n",
        "    ]\n",
        ")\n",
        "optimizer = keras.optimizers.RMSprop(learning_rate=0.01)\n",
        "model.compile(loss=\"categorical_crossentropy\", optimizer=optimizer)"
      ],
      "execution_count": null,
      "outputs": []
    },
    {
      "cell_type": "code",
      "metadata": {
        "colab": {
          "base_uri": "https://localhost:8080/"
        },
        "id": "OyxtRPCEfdoi",
        "outputId": "66eb5d84-1e7b-4258-f3a3-36de67471ad7"
      },
      "source": [
        "# Trains the model\n",
        "epochs = 20\n",
        "batch_size = 128\n",
        "\n",
        "for epoch in range(epochs):\n",
        "    model.fit(x, y, batch_size=batch_size, epochs=1)"
      ],
      "execution_count": null,
      "outputs": [
        {
          "output_type": "stream",
          "text": [
            "732/732 [==============================] - 8s 6ms/step - loss: 2.4182\n",
            "732/732 [==============================] - 5s 6ms/step - loss: 1.6184\n",
            "732/732 [==============================] - 5s 6ms/step - loss: 1.4977\n",
            "732/732 [==============================] - 4s 6ms/step - loss: 1.4227\n",
            "732/732 [==============================] - 4s 6ms/step - loss: 1.3696\n",
            "732/732 [==============================] - 4s 6ms/step - loss: 1.3257\n",
            "732/732 [==============================] - 5s 6ms/step - loss: 1.2941\n",
            "732/732 [==============================] - 4s 6ms/step - loss: 1.2641\n",
            "732/732 [==============================] - 5s 7ms/step - loss: 1.2386\n",
            "732/732 [==============================] - 5s 6ms/step - loss: 1.2157\n",
            "732/732 [==============================] - 5s 6ms/step - loss: 1.1989\n",
            "732/732 [==============================] - 4s 6ms/step - loss: 1.1821\n",
            "732/732 [==============================] - 5s 6ms/step - loss: 1.1693\n",
            "732/732 [==============================] - 5s 6ms/step - loss: 1.1534\n",
            "732/732 [==============================] - 5s 6ms/step - loss: 1.1412\n",
            "732/732 [==============================] - 5s 6ms/step - loss: 1.1295\n",
            "732/732 [==============================] - 5s 6ms/step - loss: 1.1155\n",
            "732/732 [==============================] - 5s 6ms/step - loss: 1.1040\n",
            "732/732 [==============================] - 5s 6ms/step - loss: 1.0929\n",
            "732/732 [==============================] - 5s 6ms/step - loss: 1.0825\n"
          ],
          "name": "stdout"
        }
      ]
    },
    {
      "cell_type": "markdown",
      "metadata": {
        "id": "FS2ohKKhi21U"
      },
      "source": [
        "The following functions are used to generate a sonnet. The `sample` function takes in the temperature to control the variance of the prediction. The `generate_sonnet_nn` function uses the trained model to produce a poem with the given number of lines. The `format_sonnet` function takes in the sequence generated by `generate_sonnet_nn` and returns a formatted version of it, by adding proper spacing and capitalization."
      ]
    },
    {
      "cell_type": "code",
      "metadata": {
        "id": "4YPW_qyafgtb"
      },
      "source": [
        "def sample(preds, temperature=1.0):\n",
        "    # helper function to sample an index from a probability array \n",
        "    # source: https://keras.io/examples/generative/lstm_character_level_text_generation/\n",
        "    preds = np.asarray(preds).astype(\"float64\")\n",
        "    preds = np.log(preds) / temperature\n",
        "    exp_preds = np.exp(preds)\n",
        "    preds = exp_preds / np.sum(exp_preds)\n",
        "    probas = np.random.multinomial(1, preds, 1)\n",
        "    return np.argmax(probas)"
      ],
      "execution_count": null,
      "outputs": []
    },
    {
      "cell_type": "code",
      "metadata": {
        "id": "Dqdz5hbhfjMJ"
      },
      "source": [
        "def generate_sonnet_nn(seed, temp, num_lines):\n",
        "  n_seed = seed[:]\n",
        "  generated = \"\"\n",
        "  curr_lines = 0\n",
        "  while curr_lines < num_lines:\n",
        "      # Converts current seed into prediction array \n",
        "      x_pred = np.zeros((1, 40, len(characters)))\n",
        "      for i in range(len(n_seed)):\n",
        "        x_pred[0, i, char_id[n_seed[i]]] += 1\n",
        "      \n",
        "      # Use model to predict next character in sequence\n",
        "      preds = model.predict(x_pred, verbose=0)[0]\n",
        "      next_index = sample(preds, temp)\n",
        "      next_char = rev_char_id[next_index]\n",
        "\n",
        "      # Increment the number of lines \n",
        "      if next_char == '\\n':\n",
        "        curr_lines += 1\n",
        "\n",
        "      # Update next sequence to use for prediction \n",
        "      n_seed = n_seed[1:] + next_char\n",
        "      generated += next_char\n",
        "  return generated"
      ],
      "execution_count": null,
      "outputs": []
    },
    {
      "cell_type": "code",
      "metadata": {
        "id": "LpDyp7F_flAY"
      },
      "source": [
        "def format_sonnet(seq):\n",
        "  # Divide sequence based on lines\n",
        "  lines = seq.split(\"\\n\")\n",
        "  capitalize_words = [\"i\", \"o\"]\n",
        "  for i in range(len(lines)):\n",
        "    # Capitalize first word in each line\n",
        "    lines[i] = lines[i].capitalize()\n",
        "\n",
        "    # Add spacing between quatrains\n",
        "    if (i + 1) % 4 == 0 or i + 1 == 14:\n",
        "      lines[i] += \"\\n\"\n",
        "\n",
        "    # Divide each line by words\n",
        "    words = lines[i].split(\" \")\n",
        "    for j in range(len(words)):\n",
        "      # Capitalize word if it is in the list of words to capitalize\n",
        "      if words[j] in capitalize_words: \n",
        "        words[j] = words[j].upper()\n",
        "    lines[i] = \" \".join(words)\n",
        "  return \"\\n\".join(lines)"
      ],
      "execution_count": null,
      "outputs": []
    },
    {
      "cell_type": "markdown",
      "metadata": {
        "id": "jls6fRmRkDBJ"
      },
      "source": [
        "The following code prints the generated sonnets for temperature levels of 0.25, 0.75, and 1.5. "
      ]
    },
    {
      "cell_type": "code",
      "metadata": {
        "colab": {
          "base_uri": "https://localhost:8080/"
        },
        "id": "kqWoYIJxfnKM",
        "outputId": "2f688ee3-ddb4-4551-b5a0-468b9cdbe59a"
      },
      "source": [
        "init = \"shall i compare thee to a summer's day?\\n\"\n",
        "for temp in [0.25, 0.75, 1.5]:\n",
        "  print(\"Temperature: \" + str(temp))\n",
        "  seq = generate_sonnet_nn(init, temp, 14)\n",
        "  print(format_sonnet(seq))"
      ],
      "execution_count": null,
      "outputs": [
        {
          "output_type": "stream",
          "text": [
            "Temperature: 0.25\n",
            "Who hath beauty of the world's eye and me,\n",
            "That thou art the bounteous beauty shall bear,\n",
            "And that thou art all thou that the thought,\n",
            "Which have that which it was not beauty best,\n",
            "\n",
            "The book of the dear love that thou art form and thee,\n",
            "And that thou shalt be thy progured thy name:\n",
            "But thou art as the world's field may still,\n",
            "To make him the world's argument the fire,\n",
            "\n",
            "And then the world with thee that which you\n",
            "Doth my heart thou art brightness worth be still,\n",
            "To make him the world with thee that thou dost love,\n",
            "That thou art that shall for the world,\n",
            "\n",
            "And then the strong her thought I see thee,\n",
            "Who heaven thee that thou art that love thee,\n",
            "\n",
            "\n",
            "Temperature: 0.75\n",
            "Or whether shall not thou pride the pain.\n",
            "You or me as a leagh an eansware thence.\n",
            "Then delf remain of contraly,\n",
            "And thou there both randows as his proove,\n",
            "\n",
            "That that live to breeds to mine own still,\n",
            "But that you desired fience of thine, here\n",
            "Where I have I pride, when thou that all see,\n",
            "Nam they did prove thee to thee, that enough thee,\n",
            "\n",
            "I till thy love say say spend'ry kind,\n",
            "The one didrongs with that leaves and sight.\n",
            "My self bressed of many a throur'st come,\n",
            "Nor no fair for eyes and thence, thy sight,\n",
            "\n",
            "And sconts of thee, wiso then the had eyes apoving troumh,\n",
            "And wear their chargely still with my due.\n",
            "\n",
            "\n",
            "Temperature: 1.5\n",
            "Afregeflation heighurgs fhave tteif m-riy,\n",
            "Thine of thine wasy being  loy o'er prays,\n",
            "Against thehivall hath powerfulns wanch'st my might:\n",
            "Ilongs you ?ebutluespjoks in you, that keep's youpooties might?\n",
            "\n",
            "Ti'ial 'ti ti?led the book to despised,\n",
            "Give the prouter youth, and truly mayst mine gast,\n",
            "Yut even still not yet, yet reived shalling agite,\n",
            "(to time, scinal enhorh namb lamptre-day?\n",
            "\n",
            "Whom kiscon yisly chroffy?,\n",
            "But bir-lovangy drankles know of brow,\n",
            "Before the ruition efpepirappiperse.\n",
            "Let your thaluste encus: alargeothers give,\n",
            "\n",
            "To fadking heat tovenan's 'tisty, jluds,\n",
            "For you withhed, iuldqquir tponame timebly,\n",
            "\n",
            "\n"
          ],
          "name": "stdout"
        }
      ]
    },
    {
      "cell_type": "code",
      "metadata": {
        "id": "JxoCjmi4JDXr"
      },
      "source": [
        "# Visualization\n",
        "\n",
        "########################################\n",
        "# CS/CNS/EE 155 2018\n",
        "# Problem Set 6\n",
        "#\n",
        "# Author:       Andrew Kang\n",
        "# Description:  Set 6 HMM helper\n",
        "########################################\n",
        "\n",
        "import re\n",
        "import numpy as np\n",
        "import matplotlib.pyplot as plt\n",
        "from wordcloud import WordCloud\n",
        "from matplotlib import animation\n",
        "from matplotlib.animation import FuncAnimation\n",
        "\n",
        "\n",
        "####################\n",
        "# WORDCLOUD FUNCTIONS\n",
        "####################\n",
        "\n",
        "def mask():\n",
        "    # Parameters.\n",
        "    r = 128\n",
        "    d = 2 * r + 1\n",
        "\n",
        "    # Get points in a circle.\n",
        "    y, x = np.ogrid[-r:d-r, -r:d-r]\n",
        "    circle = (x**2 + y**2 <= r**2)\n",
        "\n",
        "    # Create mask.\n",
        "    mask = 255 * np.ones((d, d), dtype=np.uint8)\n",
        "    mask[circle] = 0\n",
        "\n",
        "    return mask\n",
        "\n",
        "def text_to_wordcloud(text, max_words=50, title='', show=True):\n",
        "    plt.close('all')\n",
        "\n",
        "    # Generate a wordcloud image.\n",
        "    wordcloud = WordCloud(random_state=0,\n",
        "                          max_words=max_words,\n",
        "                          background_color='white',\n",
        "                          mask=mask()).generate(text)\n",
        "\n",
        "    # Show the image.\n",
        "    if show:\n",
        "        plt.imshow(wordcloud, interpolation='bilinear')\n",
        "        plt.axis('off')\n",
        "        plt.title(title, fontsize=24)\n",
        "        plt.show()\n",
        "\n",
        "    return wordcloud\n",
        "\n",
        "def states_to_wordclouds(hmm, obs_map, max_words=50, show=True):\n",
        "    # Initialize.\n",
        "    M = 100000\n",
        "    n_states = len(hmm.A)\n",
        "    obs_map_r = obs_map_reverser(obs_map)\n",
        "    wordclouds = []\n",
        "\n",
        "    # Generate a large emission.\n",
        "    emission, states = hmm.generate_emission(M)\n",
        "\n",
        "    # For each state, get a list of observations that have been emitted\n",
        "    # from that state.\n",
        "    obs_count = []\n",
        "    for i in range(n_states):\n",
        "        obs_lst = np.array(emission)[np.where(np.array(states) == i)[0]]\n",
        "        obs_count.append(obs_lst)\n",
        "\n",
        "    # For each state, convert it into a wordcloud.\n",
        "    for i in range(n_states):\n",
        "        obs_lst = obs_count[i]\n",
        "        sentence = [obs_map_r[j] for j in obs_lst]\n",
        "        sentence_str = ' '.join(sentence)\n",
        "\n",
        "        wordclouds.append(text_to_wordcloud(sentence_str, max_words=max_words, title='State %d' % i, show=show))\n",
        "\n",
        "    return wordclouds\n",
        "\n",
        "\n",
        "####################\n",
        "# HMM FUNCTIONS\n",
        "####################\n",
        "\n",
        "def parse_observations(text):\n",
        "    # Convert text to dataset.\n",
        "    lines = [line.split() for line in text.split('\\n') if line.split()]\n",
        "\n",
        "    obs_counter = 0\n",
        "    obs = []\n",
        "    obs_map = {}\n",
        "\n",
        "    for line in lines:\n",
        "        obs_elem = []\n",
        "        \n",
        "        for word in line:\n",
        "            word = re.sub(r'[^\\w]', '', word).lower()\n",
        "            if word not in obs_map:\n",
        "                # Add unique words to the observations map.\n",
        "                obs_map[word] = obs_counter\n",
        "                obs_counter += 1\n",
        "            \n",
        "            # Add the encoded word.\n",
        "            obs_elem.append(obs_map[word])\n",
        "        \n",
        "        # Add the encoded sequence.\n",
        "        obs.append(obs_elem)\n",
        "\n",
        "    return obs, obs_map\n",
        "\n",
        "def obs_map_reverser(obs_map):\n",
        "    obs_map_r = {}\n",
        "\n",
        "    for key in obs_map:\n",
        "        obs_map_r[obs_map[key]] = key\n",
        "\n",
        "    return obs_map_r\n",
        "\n",
        "def sample_sentence(hmm, obs_map, n_words=100):\n",
        "    # Get reverse map.\n",
        "    obs_map_r = obs_map_reverser(obs_map)\n",
        "\n",
        "    # Sample and convert sentence.\n",
        "    emission, states = hmm.generate_emission(n_words)\n",
        "    sentence = [obs_map_r[i] for i in emission]\n",
        "\n",
        "    return ' '.join(sentence).capitalize() + '...'\n",
        "\n",
        "\n",
        "####################\n",
        "# HMM VISUALIZATION FUNCTIONS\n",
        "####################\n",
        "\n",
        "def visualize_sparsities(hmm, O_max_cols=50, O_vmax=0.1):\n",
        "    plt.close('all')\n",
        "    plt.set_cmap('viridis')\n",
        "\n",
        "    # Visualize sparsity of A.\n",
        "    plt.imshow(hmm.A, vmax=1.0)\n",
        "    plt.colorbar()\n",
        "    plt.title('Sparsity of A matrix')\n",
        "    plt.show()\n",
        "\n",
        "    # Visualize sparsity of O.\n",
        "    plt.imshow(np.array(hmm.O)[:, :O_max_cols], vmax=O_vmax, aspect='auto')\n",
        "    plt.colorbar()\n",
        "    plt.title('Sparsity of O matrix')\n",
        "    plt.show()\n",
        "\n"
      ],
      "execution_count": null,
      "outputs": []
    },
    {
      "cell_type": "code",
      "metadata": {
        "id": "k9Cw2FXoKDmg",
        "colab": {
          "base_uri": "https://localhost:8080/",
          "height": 545
        },
        "outputId": "16aadee0-01f2-4e70-cf18-905232351a04"
      },
      "source": [
        "visualize_sparsities(HMM, O_max_cols=50)"
      ],
      "execution_count": null,
      "outputs": [
        {
          "output_type": "display_data",
          "data": {
            "image/png": "[encoded data removed]",
            "text/plain": [
              "<Figure size 432x288 with 2 Axes>"
            ]
          },
          "metadata": {
            "tags": [],
            "needs_background": "light"
          }
        },
        {
          "output_type": "display_data",
          "data": {
            "image/png": "[encoded data removed]",
            "text/plain": [
              "<Figure size 432x288 with 2 Axes>"
            ]
          },
          "metadata": {
            "tags": [],
            "needs_background": "light"
          }
        }
      ]
    },
    {
      "cell_type": "code",
      "metadata": {
        "id": "oNY087ET4Uf0",
        "colab": {
          "base_uri": "https://localhost:8080/"
        },
        "outputId": "b03cf20d-92c3-46f6-8d46-4af1da72291a"
      },
      "source": [
        "for n in range(0, 10):\n",
        "  O_matrix = np.array(HMM.O[n])\n",
        "  ind = np.argpartition(O_matrix, -10)[-10:]\n",
        "  words = \"\"\n",
        "  print(\"State \" + str(n) + \":\")\n",
        "  for i in ind:\n",
        "    words += reverse_word_ids[i] + \" \"\n",
        "  print(words)"
      ],
      "execution_count": null,
      "outputs": [
        {
          "output_type": "stream",
          "text": [
            "State 0:\n",
            "for to when she that is in i all thou \n",
            "State 1:\n",
            "not your in my their be i thy it the \n",
            "State 2:\n",
            "what so when or and as that but do which \n",
            "State 3:\n",
            "him no her you love to thee me a the \n",
            "State 4:\n",
            "so yet when o but for then if that and \n",
            "State 5:\n",
            "in thou will heart and that i or is were \n",
            "State 6:\n",
            "your that so his of my thy with her mine \n",
            "State 7:\n",
            "sweet that doth is but to for in and with \n",
            "State 8:\n",
            "fair it self own eyes which love her heart the \n",
            "State 9:\n",
            "will from of do on not doth can in to \n"
          ],
          "name": "stdout"
        }
      ]
    },
    {
      "cell_type": "code",
      "metadata": {
        "id": "eCcBsgg4hWxs"
      },
      "source": [
        "states_to_wordclouds(HMM, word_ids)"
      ],
      "execution_count": null,
      "outputs": []
    }
  ]
}